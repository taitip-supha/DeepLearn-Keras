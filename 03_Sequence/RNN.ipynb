{
  "nbformat": 4,
  "nbformat_minor": 0,
  "metadata": {
    "colab": {
      "name": "W08_RNN1.ipynb",
      "provenance": [],
      "collapsed_sections": [
        "IOWH50jwPmJP",
        "nRQzZYC8h2-2",
        "AZarlInYiQIH",
        "_vlMHDxmh3eg",
        "cjWmzM1HPAEh",
        "BcqCckcEh31X",
        "GIjoeDI7Wi-i",
        "IDUAQkA6h4Fj",
        "UOj9savt91Y0",
        "XutHJeZ1MKzT",
        "pHaCl0ERPKy8",
        "XXJyaEuuR2vl",
        "nWWVMWHjS7pE"
      ],
      "toc_visible": true,
      "background_execution": "on",
      "mount_file_id": "1XsuxnIvvuwoYF-ZZfKNcEkF_9L-WB41-",
      "authorship_tag": "ABX9TyOELJuvs1WuC82pndrNTdjq",
      "include_colab_link": true
    },
    "kernelspec": {
      "name": "python3",
      "display_name": "Python 3"
    },
    "language_info": {
      "name": "python"
    },
    "accelerator": "GPU"
  },
  "cells": [
    {
      "cell_type": "markdown",
      "metadata": {
        "id": "view-in-github",
        "colab_type": "text"
      },
      "source": [
        "<a href=\"https://colab.research.google.com/github/taitip-supha/DeepLearn-Keras/blob/main/03_Sequence/RNN.ipynb\" target=\"_parent\"><img src=\"https://colab.research.google.com/assets/colab-badge.svg\" alt=\"Open In Colab\"/></a>"
      ]
    },
    {
      "cell_type": "markdown",
      "source": [
        "# 0. Prepar the Enviroment"
      ],
      "metadata": {
        "id": "IOWH50jwPmJP"
      }
    },
    {
      "cell_type": "code",
      "source": [
        "# List all NVIDIA GPUs as avaiable in this computer (or colub's session)\n",
        "!nvidia-smi -L"
      ],
      "metadata": {
        "colab": {
          "base_uri": "https://localhost:8080/"
        },
        "id": "D06BOUquRcO3",
        "outputId": "807b321f-1e44-4b9e-fe32-231dcd9ee24b"
      },
      "execution_count": null,
      "outputs": [
        {
          "output_type": "stream",
          "name": "stdout",
          "text": [
            "GPU 0: Tesla V100-SXM2-16GB (UUID: GPU-6acfbb78-cd9c-7879-e3c2-b269d971277c)\n"
          ]
        }
      ]
    },
    {
      "cell_type": "code",
      "source": [
        "#Import package\n",
        "import sys,os,time,datetime\n",
        "import numpy as np\n",
        "import matplotlib.pyplot as plt\n",
        "import tensorflow as tf"
      ],
      "metadata": {
        "id": "eVJEQaCmWoS9"
      },
      "execution_count": null,
      "outputs": []
    },
    {
      "cell_type": "code",
      "source": [
        "%matplotlib inline\n",
        "print(f\"Python {sys.version}\")\n",
        "print(f\"NumPy {np.__version__}\")\n",
        "print(f\"tf.keras.backend.image_data_format() = {tf.keras.backend.image_data_format()}\")\n",
        "gpus = tf.config.list_physical_devices('GPU')\n",
        "print(f\"Tensorflow detected : {len(gpus)} GPU(s)\")\n",
        "for i,gpu in enumerate(gpus):\n",
        "  print(f\" GPU No. {i} : Name = {gpu.name} , Type = {gpu.device_type}\")\n"
      ],
      "metadata": {
        "colab": {
          "base_uri": "https://localhost:8080/"
        },
        "id": "yhlSpBLWX-QG",
        "outputId": "e7204910-2572-4c81-b87c-ad0d91f57101"
      },
      "execution_count": null,
      "outputs": [
        {
          "output_type": "stream",
          "name": "stdout",
          "text": [
            "Python 3.7.13 (default, Mar 16 2022, 17:37:17) \n",
            "[GCC 7.5.0]\n",
            "NumPy 1.21.5\n",
            "tf.keras.backend.image_data_format() = channels_last\n",
            "Tensorflow detected : 1 GPU(s)\n",
            " GPU No. 0 : Name = /physical_device:GPU:0 , Type = GPU\n"
          ]
        }
      ]
    },
    {
      "cell_type": "code",
      "source": [
        "#Set fixed seeding values for reproducability during experiments\n",
        "#to guarantee reproducability, make sure valuesfor any randomize poperation are all set\n",
        "np.random.seed(1234)\n",
        "tf.random.set_seed(5678)"
      ],
      "metadata": {
        "id": "co7T4MtgjBcF"
      },
      "execution_count": null,
      "outputs": []
    },
    {
      "cell_type": "markdown",
      "source": [
        "# Ex1 Guess the next number (Simple RNN)\n",
        "we use RNN to predict number of sequence of x_n = x_n-1 +2"
      ],
      "metadata": {
        "id": "nRQzZYC8h2-2"
      }
    },
    {
      "cell_type": "markdown",
      "source": [
        "## 1.1) Create the simple 1-layer RNN model"
      ],
      "metadata": {
        "id": "AZarlInYiQIH"
      }
    },
    {
      "cell_type": "code",
      "source": [
        "my_rnn = tf.keras.models.Sequential()\n",
        "\n",
        "#batch_size=None, time_steps=None, input_dim=1\n",
        "#output from this layer is (batch_size,units) which equals to (batch_size,20)\n",
        "my_rnn.add(tf.keras.layers.SimpleRNN(units=20, input_shape=(None,1)))\n",
        "\n",
        "# Use the default 'linear activation'\n",
        "my_rnn.add(tf.keras.layers.Dense(1))\n",
        "\n",
        "my_rnn.summary()"
      ],
      "metadata": {
        "colab": {
          "base_uri": "https://localhost:8080/"
        },
        "id": "vJxJTizojnDo",
        "outputId": "4d974aa9-a83d-465b-b96c-f5fd4ae01b75"
      },
      "execution_count": null,
      "outputs": [
        {
          "output_type": "stream",
          "name": "stdout",
          "text": [
            "Model: \"sequential_1\"\n",
            "_________________________________________________________________\n",
            " Layer (type)                Output Shape              Param #   \n",
            "=================================================================\n",
            " simple_rnn_1 (SimpleRNN)    (None, 20)                440       \n",
            "                                                                 \n",
            " dense_1 (Dense)             (None, 1)                 21        \n",
            "                                                                 \n",
            "=================================================================\n",
            "Total params: 461\n",
            "Trainable params: 461\n",
            "Non-trainable params: 0\n",
            "_________________________________________________________________\n"
          ]
        }
      ]
    },
    {
      "cell_type": "markdown",
      "source": [
        "## 1.2) Create Train/val/test set using TimeseriesGenerator"
      ],
      "metadata": {
        "id": "f5KM_dZ-iZa2"
      }
    },
    {
      "cell_type": "code",
      "source": [
        "n_data = 200 #Number of genarate data\n",
        "\n",
        "#TimeseriesGenerator\n",
        "sampling_rate = 2     #for 2 consecutive numbers, sample only one\n",
        "n_input_timesteps = 5 #How many timestep for the input sequence\n",
        "\n",
        "dataset = np.array([ i for i in range(n_data*-sampling_rate, n_data*sampling_rate)])\n",
        "\n",
        "gen_dataset = tf.keras.preprocessing.sequence.TimeseriesGenerator( dataset, dataset, length=sampling_rate*n_input_timesteps, batch_size=n_data, sampling_rate=sampling_rate)\n",
        "\n",
        "x, y = gen_dataset[0]"
      ],
      "metadata": {
        "id": "kV3cIKB2k9vR"
      },
      "execution_count": null,
      "outputs": []
    },
    {
      "cell_type": "code",
      "source": [
        "#Preview the first five rows and the last five rows\n",
        "print(f\"x-shape:{x.shape}, y-shape:{y.shape}\")\n",
        "for i in range(5):\n",
        "  print(f\"{i} : {x[i]} , {y[i]}\")\n",
        "for i in range(-1, -6, -1):\n",
        "  print(f\"{i} : {x[i]} , {y[i]}\")"
      ],
      "metadata": {
        "colab": {
          "base_uri": "https://localhost:8080/"
        },
        "id": "R4TkmkJ3k94A",
        "outputId": "b4dac656-b44d-48a9-b875-2dc8222954c5"
      },
      "execution_count": null,
      "outputs": [
        {
          "output_type": "stream",
          "name": "stdout",
          "text": [
            "x-shape:(200, 5), y-shape:(200,)\n",
            "0 : [-400 -398 -396 -394 -392] , -390\n",
            "1 : [-399 -397 -395 -393 -391] , -389\n",
            "2 : [-398 -396 -394 -392 -390] , -388\n",
            "3 : [-397 -395 -393 -391 -389] , -387\n",
            "4 : [-396 -394 -392 -390 -388] , -386\n",
            "-1 : [-201 -199 -197 -195 -193] , -191\n",
            "-2 : [-202 -200 -198 -196 -194] , -192\n",
            "-3 : [-203 -201 -199 -197 -195] , -193\n",
            "-4 : [-204 -202 -200 -198 -196] , -194\n",
            "-5 : [-205 -203 -201 -199 -197] , -195\n"
          ]
        }
      ]
    },
    {
      "cell_type": "code",
      "source": [
        "#Shuffle the data (before splitting it in to train/val/test sets later inthe next cell)\n",
        "\n",
        "#Shuffle the data\n",
        "seed=1337\n",
        "rng = np.random.RandomState(seed)\n",
        "rng.shuffle(x)\n",
        "\n",
        "rng = np.random.RandomState(seed)\n",
        "rng.shuffle(y)\n",
        "\n",
        "# Preview the first five rows of data\n",
        "print(f\"x-shape:{x.shape}, y-shape:{y.shape}\")\n",
        "for i in range(5):\n",
        "  print(f\"{i} : {x[i]} , {y[i]}\")\n",
        "for i in range(-1, -6, -1):\n",
        "  print(f\"{i} : {x[i]} , {y[i]}\")"
      ],
      "metadata": {
        "colab": {
          "base_uri": "https://localhost:8080/"
        },
        "id": "0v2keczepAjC",
        "outputId": "69652a7f-cb8c-46ac-ab62-05cabfb22dcc"
      },
      "execution_count": null,
      "outputs": [
        {
          "output_type": "stream",
          "name": "stdout",
          "text": [
            "x-shape:(200, 5), y-shape:(200,)\n",
            "0 : [-371 -369 -367 -365 -363] , -361\n",
            "1 : [-283 -281 -279 -277 -275] , -273\n",
            "2 : [-331 -329 -327 -325 -323] , -321\n",
            "3 : [-226 -224 -222 -220 -218] , -216\n",
            "4 : [-303 -301 -299 -297 -295] , -293\n",
            "-1 : [-249 -247 -245 -243 -241] , -239\n",
            "-2 : [-211 -209 -207 -205 -203] , -201\n",
            "-3 : [-308 -306 -304 -302 -300] , -298\n",
            "-4 : [-233 -231 -229 -227 -225] , -223\n",
            "-5 : [-204 -202 -200 -198 -196] , -194\n"
          ]
        }
      ]
    },
    {
      "cell_type": "code",
      "source": [
        "n_train = int(n_data * 0.8)       # Split 80% to train set\n",
        "n_test = int(n_data * 0.1)        # Split 10% to test set\n",
        "n_val = n_data -n_train -n_test   # 10% to validate set\n",
        "\n",
        "x_train, y_train = x[:n_train] , y[:n_train] \n",
        "x_val, y_val = x[n_train:n_train+n_val], y[n_train:n_train+n_val]\n",
        "x_test, y_test = x[n_train+n_val:], y[n_train+n_val:]\n",
        "\n",
        "print(\"\\n===== Train data =====\")\n",
        "print(f\"x_train-shape:{x_train.shape}, y_train-shape:{y_train.shape}\")\n",
        "for i in range(5):\n",
        "  print(f\"{i} : {x_train[i]} , {y_train[i]}\")\n",
        "\n",
        "print(\"\\n===== Validation data =====\")\n",
        "print(f\"x_val-shape:{x_val.shape}, y_val-shape:{y_val.shape}\")\n",
        "for i in range(5):\n",
        "  print(f\"{i} : {x_val[i]} , {y_val[i]}\")\n",
        "\n",
        "print(\"\\n===== Test data =====\")\n",
        "print(f\"x_test-shape:{x_test.shape}, y_test-shape:{y_test.shape}\")\n",
        "for i in range(5):\n",
        "  print(f\"{i} : {x_test[i]} , {y_test[i]}\")"
      ],
      "metadata": {
        "colab": {
          "base_uri": "https://localhost:8080/"
        },
        "id": "eMMLw64xp_Zz",
        "outputId": "d6e9fba4-79d6-4f98-ef88-b40e59b97297"
      },
      "execution_count": null,
      "outputs": [
        {
          "output_type": "stream",
          "name": "stdout",
          "text": [
            "\n",
            "===== Train data =====\n",
            "x_train-shape:(160, 5), y_train-shape:(160,)\n",
            "0 : [-371 -369 -367 -365 -363] , -361\n",
            "1 : [-283 -281 -279 -277 -275] , -273\n",
            "2 : [-331 -329 -327 -325 -323] , -321\n",
            "3 : [-226 -224 -222 -220 -218] , -216\n",
            "4 : [-303 -301 -299 -297 -295] , -293\n",
            "\n",
            "===== Validation data =====\n",
            "x_val-shape:(20, 5), y_val-shape:(20,)\n",
            "0 : [-324 -322 -320 -318 -316] , -314\n",
            "1 : [-263 -261 -259 -257 -255] , -253\n",
            "2 : [-230 -228 -226 -224 -222] , -220\n",
            "3 : [-278 -276 -274 -272 -270] , -268\n",
            "4 : [-329 -327 -325 -323 -321] , -319\n",
            "\n",
            "===== Test data =====\n",
            "x_test-shape:(20, 5), y_test-shape:(20,)\n",
            "0 : [-394 -392 -390 -388 -386] , -384\n",
            "1 : [-307 -305 -303 -301 -299] , -297\n",
            "2 : [-373 -371 -369 -367 -365] , -363\n",
            "3 : [-271 -269 -267 -265 -263] , -261\n",
            "4 : [-248 -246 -244 -242 -240] , -238\n"
          ]
        }
      ]
    },
    {
      "cell_type": "code",
      "source": [
        "#Normalize the data\n",
        "from sklearn.preprocessing import MinMaxScaler\n",
        "\n",
        "# Min-Max scaling to normalize the data to range [0, 1]\n",
        "#.fit_transfrom expects 2D input\n",
        "minmax_norm = MinMaxScaler().fit(x_train.reshape(-1,1))\n",
        "print(f\"Dataset min-max: {minmax_norm.data_min_}, {minmax_norm.data_max_}\")\n",
        "\n",
        "x_train_norm = minmax_norm.transform( x_train.reshape(-1,1)).reshape(-1,5)\n",
        "y_train_norm = minmax_norm.transform( y_train.reshape(-1,1)).reshape(-1)\n",
        "\n",
        "x_val_norm = minmax_norm.transform( x_val.reshape(-1,1)).reshape(-1,5)\n",
        "y_val_norm = minmax_norm.transform( y_val.reshape(-1,1)).reshape(-1)\n",
        "\n",
        "x_test_norm = minmax_norm.transform( x_test.reshape(-1,1)).reshape(-1,5)\n",
        "y_test_norm = minmax_norm.transform( y_test.reshape(-1,1)).reshape(-1)\n"
      ],
      "metadata": {
        "colab": {
          "base_uri": "https://localhost:8080/"
        },
        "id": "bRWIFMGytPHb",
        "outputId": "b8ff60ae-e12e-48f7-91aa-4e0d7fb1af85"
      },
      "execution_count": null,
      "outputs": [
        {
          "output_type": "stream",
          "name": "stdout",
          "text": [
            "Dataset min-max: [-400.], [-193.]\n"
          ]
        }
      ]
    },
    {
      "cell_type": "code",
      "source": [
        "#Format the data into (batch_size, time_step, input_dim) as required by the SimpleRNN layer\n",
        "print(\"\\n===== Train data after normalization =====\")\n",
        "print(f\"x_train_norm:{x_train_norm.shape}, y_train_norm:{y_train_norm.shape}\")\n",
        "for i in range(5):\n",
        "  print(f\"{i} : {x_train_norm[i]} , {y_train_norm[i]}\")\n",
        "\n",
        "print(\"\\n===== Validation data after normalization =====\")\n",
        "print(f\"x_val_norm:{x_val_norm.shape}, y_val_norm:{y_val_norm.shape}\")\n",
        "for i in range(5):\n",
        "  print(f\"{i} : {x_val_norm[i]} , {y_val_norm[i]}\")\n",
        "\n",
        "print(\"\\n===== Test data after normalization =====\")\n",
        "print(f\"x_test_norm:{x_test_norm.shape}, y_test_norm:{y_test_norm.shape}\")\n",
        "for i in range(5):\n",
        "  print(f\"{i} : {x_test_norm[i]} , {y_test_norm[i]}\")\n"
      ],
      "metadata": {
        "colab": {
          "base_uri": "https://localhost:8080/"
        },
        "id": "tj9023bxtWcR",
        "outputId": "e3a508ea-359d-4813-d7e3-9ff29775135c"
      },
      "execution_count": null,
      "outputs": [
        {
          "output_type": "stream",
          "name": "stdout",
          "text": [
            "\n",
            "===== Train data after normalization =====\n",
            "x_train_norm:(160, 5), y_train_norm:(160,)\n",
            "0 : [0.14009662 0.14975845 0.15942029 0.16908213 0.17874396] , 0.18840579710144922\n",
            "1 : [0.56521739 0.57487923 0.58454106 0.5942029  0.60386473] , 0.6135265700483092\n",
            "2 : [0.33333333 0.34299517 0.352657   0.36231884 0.37198068] , 0.3816425120772946\n",
            "3 : [0.84057971 0.85024155 0.85990338 0.86956522 0.87922705] , 0.8888888888888888\n",
            "4 : [0.46859903 0.47826087 0.48792271 0.49758454 0.50724638] , 0.5169082125603865\n",
            "\n",
            "===== Validation data after normalization =====\n",
            "x_val_norm:(20, 5), y_val_norm:(20,)\n",
            "0 : [0.36714976 0.37681159 0.38647343 0.39613527 0.4057971 ] , 0.4154589371980677\n",
            "1 : [0.66183575 0.67149758 0.68115942 0.69082126 0.70048309] , 0.7101449275362319\n",
            "2 : [0.82125604 0.83091787 0.84057971 0.85024155 0.85990338] , 0.8695652173913042\n",
            "3 : [0.58937198 0.59903382 0.60869565 0.61835749 0.62801932] , 0.6376811594202898\n",
            "4 : [0.34299517 0.352657   0.36231884 0.37198068 0.38164251] , 0.3913043478260869\n",
            "\n",
            "===== Test data after normalization =====\n",
            "x_test_norm:(20, 5), y_test_norm:(20,)\n",
            "0 : [0.02898551 0.03864734 0.04830918 0.05797101 0.06763285] , 0.07729468599033829\n",
            "1 : [0.44927536 0.4589372  0.46859903 0.47826087 0.48792271] , 0.4975845410628019\n",
            "2 : [0.13043478 0.14009662 0.14975845 0.15942029 0.16908213] , 0.1787439613526569\n",
            "3 : [0.62318841 0.63285024 0.64251208 0.65217391 0.66183575] , 0.6714975845410627\n",
            "4 : [0.73429952 0.74396135 0.75362319 0.76328502 0.77294686] , 0.7826086956521738\n"
          ]
        }
      ]
    },
    {
      "cell_type": "code",
      "source": [
        "# Add the third dimension of input_dim=1\n",
        "x_train_norm  = x_train_norm[..., np.newaxis]\n",
        "x_val_norm    = x_val_norm[..., np.newaxis]\n",
        "x_test_norm   = x_test_norm[..., np.newaxis]\n",
        "\n",
        "print(\"\\nDimension after changed:\")\n",
        "print(f\"x_train_norm : {x_train_norm.shape}\")\n",
        "print(f\"x_val_norm : {x_val_norm.shape}\")\n",
        "print(f\"x_test_norm : {x_test_norm.shape}\")"
      ],
      "metadata": {
        "colab": {
          "base_uri": "https://localhost:8080/"
        },
        "id": "uGGjNDY6yjyM",
        "outputId": "c95537f1-cc0e-4bf7-a8fe-3153f1954004"
      },
      "execution_count": null,
      "outputs": [
        {
          "output_type": "stream",
          "name": "stdout",
          "text": [
            "\n",
            "Dimension after changed:\n",
            "x_train_norm : (160, 5, 1)\n",
            "x_val_norm : (20, 5, 1)\n",
            "x_test_norm : (20, 5, 1)\n"
          ]
        }
      ]
    },
    {
      "cell_type": "code",
      "source": [
        "#Covert everything  to the defalt of float32\n",
        "\n",
        "x_train_norm = x_train_norm.astype(np.float32)\n",
        "y_train_norm = y_train_norm.astype(np.float32)\n",
        "x_val_norm = x_val_norm.astype(np.float32)\n",
        "y_val_norm = y_val_norm.astype(np.float32)\n",
        "x_test_norm = x_test_norm.astype(np.float32)\n",
        "y_test_norm = y_test_norm.astype(np.float32)"
      ],
      "metadata": {
        "id": "0jWQi7WH08sR"
      },
      "execution_count": null,
      "outputs": []
    },
    {
      "cell_type": "markdown",
      "source": [
        "## 1.3) Compile and Train the model"
      ],
      "metadata": {
        "id": "sIDxMRcJit24"
      }
    },
    {
      "cell_type": "code",
      "source": [
        "adam = tf.keras.optimizers.Adam(learning_rate=0.001)\n",
        "\n",
        "# For regression, the loss can be used as the evaluation metric as well\n",
        "my_rnn.compile(loss='mse', optimizer=adam, metrics=[])\n",
        "\n",
        "checkpoint_filepath = \"RNN_ex1_bestmodel_epoch{epoch:03d}.hdf5\"\n",
        "\n",
        "model_checkpoint_callback = tf.keras.callbacks.ModelCheckpoint(filepath=checkpoint_filepath,\n",
        "                                                               save_weights_only=False,\n",
        "                                                               monitor='val_loss',\n",
        "                                                               mode='min',\n",
        "                                                               save_best_only=True)"
      ],
      "metadata": {
        "id": "R8dRTwd51rGx"
      },
      "execution_count": null,
      "outputs": []
    },
    {
      "cell_type": "code",
      "source": [
        "hist = my_rnn.fit(x_train_norm, y_train_norm,\n",
        "                  validation_data=(x_val_norm, y_val_norm),\n",
        "                  batch_size=64, epochs=300,\n",
        "                  callbacks=[model_checkpoint_callback])"
      ],
      "metadata": {
        "colab": {
          "base_uri": "https://localhost:8080/"
        },
        "id": "8kVDDhY11rKD",
        "outputId": "e8aa0eed-2328-46b8-ce90-6f9fe9f27d11"
      },
      "execution_count": null,
      "outputs": [
        {
          "output_type": "stream",
          "name": "stdout",
          "text": [
            "Epoch 1/300\n",
            "3/3 [==============================] - 3s 126ms/step - loss: 0.9185 - val_loss: 0.6980\n",
            "Epoch 2/300\n",
            "3/3 [==============================] - 0s 27ms/step - loss: 0.6467 - val_loss: 0.4703\n",
            "Epoch 3/300\n",
            "3/3 [==============================] - 0s 29ms/step - loss: 0.4360 - val_loss: 0.2980\n",
            "Epoch 4/300\n",
            "3/3 [==============================] - 0s 25ms/step - loss: 0.2759 - val_loss: 0.1753\n",
            "Epoch 5/300\n",
            "3/3 [==============================] - 0s 26ms/step - loss: 0.1648 - val_loss: 0.0950\n",
            "Epoch 6/300\n",
            "3/3 [==============================] - 0s 26ms/step - loss: 0.0916 - val_loss: 0.0505\n",
            "Epoch 7/300\n",
            "3/3 [==============================] - 0s 24ms/step - loss: 0.0509 - val_loss: 0.0332\n",
            "Epoch 8/300\n",
            "3/3 [==============================] - 0s 24ms/step - loss: 0.0361 - val_loss: 0.0332\n",
            "Epoch 9/300\n",
            "3/3 [==============================] - 0s 16ms/step - loss: 0.0351 - val_loss: 0.0402\n",
            "Epoch 10/300\n",
            "3/3 [==============================] - 0s 20ms/step - loss: 0.0395 - val_loss: 0.0461\n",
            "Epoch 11/300\n",
            "3/3 [==============================] - 0s 19ms/step - loss: 0.0424 - val_loss: 0.0466\n",
            "Epoch 12/300\n",
            "3/3 [==============================] - 0s 17ms/step - loss: 0.0409 - val_loss: 0.0421\n",
            "Epoch 13/300\n",
            "3/3 [==============================] - 0s 16ms/step - loss: 0.0359 - val_loss: 0.0348\n",
            "Epoch 14/300\n",
            "3/3 [==============================] - 0s 32ms/step - loss: 0.0294 - val_loss: 0.0277\n",
            "Epoch 15/300\n",
            "3/3 [==============================] - 0s 27ms/step - loss: 0.0235 - val_loss: 0.0224\n",
            "Epoch 16/300\n",
            "3/3 [==============================] - 0s 25ms/step - loss: 0.0197 - val_loss: 0.0190\n",
            "Epoch 17/300\n",
            "3/3 [==============================] - 0s 25ms/step - loss: 0.0178 - val_loss: 0.0171\n",
            "Epoch 18/300\n",
            "3/3 [==============================] - 0s 25ms/step - loss: 0.0167 - val_loss: 0.0160\n",
            "Epoch 19/300\n",
            "3/3 [==============================] - 0s 25ms/step - loss: 0.0161 - val_loss: 0.0153\n",
            "Epoch 20/300\n",
            "3/3 [==============================] - 0s 26ms/step - loss: 0.0154 - val_loss: 0.0144\n",
            "Epoch 21/300\n",
            "3/3 [==============================] - 0s 26ms/step - loss: 0.0143 - val_loss: 0.0135\n",
            "Epoch 22/300\n",
            "3/3 [==============================] - 0s 26ms/step - loss: 0.0132 - val_loss: 0.0126\n",
            "Epoch 23/300\n",
            "3/3 [==============================] - 0s 34ms/step - loss: 0.0120 - val_loss: 0.0118\n",
            "Epoch 24/300\n",
            "3/3 [==============================] - 0s 26ms/step - loss: 0.0109 - val_loss: 0.0112\n",
            "Epoch 25/300\n",
            "3/3 [==============================] - 0s 25ms/step - loss: 0.0100 - val_loss: 0.0107\n",
            "Epoch 26/300\n",
            "3/3 [==============================] - 0s 27ms/step - loss: 0.0092 - val_loss: 0.0103\n",
            "Epoch 27/300\n",
            "3/3 [==============================] - 0s 26ms/step - loss: 0.0087 - val_loss: 0.0099\n",
            "Epoch 28/300\n",
            "3/3 [==============================] - 0s 30ms/step - loss: 0.0081 - val_loss: 0.0095\n",
            "Epoch 29/300\n",
            "3/3 [==============================] - 0s 26ms/step - loss: 0.0076 - val_loss: 0.0090\n",
            "Epoch 30/300\n",
            "3/3 [==============================] - 0s 26ms/step - loss: 0.0071 - val_loss: 0.0085\n",
            "Epoch 31/300\n",
            "3/3 [==============================] - 0s 26ms/step - loss: 0.0067 - val_loss: 0.0080\n",
            "Epoch 32/300\n",
            "3/3 [==============================] - 0s 25ms/step - loss: 0.0063 - val_loss: 0.0075\n",
            "Epoch 33/300\n",
            "3/3 [==============================] - 0s 29ms/step - loss: 0.0060 - val_loss: 0.0070\n",
            "Epoch 34/300\n",
            "3/3 [==============================] - 0s 26ms/step - loss: 0.0057 - val_loss: 0.0067\n",
            "Epoch 35/300\n",
            "3/3 [==============================] - 0s 26ms/step - loss: 0.0055 - val_loss: 0.0064\n",
            "Epoch 36/300\n",
            "3/3 [==============================] - 0s 26ms/step - loss: 0.0053 - val_loss: 0.0061\n",
            "Epoch 37/300\n",
            "3/3 [==============================] - 0s 26ms/step - loss: 0.0051 - val_loss: 0.0059\n",
            "Epoch 38/300\n",
            "3/3 [==============================] - 0s 24ms/step - loss: 0.0049 - val_loss: 0.0058\n",
            "Epoch 39/300\n",
            "3/3 [==============================] - 0s 24ms/step - loss: 0.0048 - val_loss: 0.0056\n",
            "Epoch 40/300\n",
            "3/3 [==============================] - 0s 27ms/step - loss: 0.0047 - val_loss: 0.0055\n",
            "Epoch 41/300\n",
            "3/3 [==============================] - 0s 24ms/step - loss: 0.0046 - val_loss: 0.0054\n",
            "Epoch 42/300\n",
            "3/3 [==============================] - 0s 24ms/step - loss: 0.0045 - val_loss: 0.0053\n",
            "Epoch 43/300\n",
            "3/3 [==============================] - 0s 27ms/step - loss: 0.0044 - val_loss: 0.0051\n",
            "Epoch 44/300\n",
            "3/3 [==============================] - 0s 30ms/step - loss: 0.0044 - val_loss: 0.0050\n",
            "Epoch 45/300\n",
            "3/3 [==============================] - 0s 27ms/step - loss: 0.0043 - val_loss: 0.0050\n",
            "Epoch 46/300\n",
            "3/3 [==============================] - 0s 29ms/step - loss: 0.0042 - val_loss: 0.0049\n",
            "Epoch 47/300\n",
            "3/3 [==============================] - 0s 28ms/step - loss: 0.0042 - val_loss: 0.0047\n",
            "Epoch 48/300\n",
            "3/3 [==============================] - 0s 28ms/step - loss: 0.0041 - val_loss: 0.0046\n",
            "Epoch 49/300\n",
            "3/3 [==============================] - 0s 28ms/step - loss: 0.0041 - val_loss: 0.0046\n",
            "Epoch 50/300\n",
            "3/3 [==============================] - 0s 26ms/step - loss: 0.0041 - val_loss: 0.0045\n",
            "Epoch 51/300\n",
            "3/3 [==============================] - 0s 24ms/step - loss: 0.0040 - val_loss: 0.0045\n",
            "Epoch 52/300\n",
            "3/3 [==============================] - 0s 24ms/step - loss: 0.0040 - val_loss: 0.0044\n",
            "Epoch 53/300\n",
            "3/3 [==============================] - 0s 27ms/step - loss: 0.0039 - val_loss: 0.0044\n",
            "Epoch 54/300\n",
            "3/3 [==============================] - 0s 25ms/step - loss: 0.0039 - val_loss: 0.0043\n",
            "Epoch 55/300\n",
            "3/3 [==============================] - 0s 25ms/step - loss: 0.0039 - val_loss: 0.0043\n",
            "Epoch 56/300\n",
            "3/3 [==============================] - 0s 35ms/step - loss: 0.0038 - val_loss: 0.0043\n",
            "Epoch 57/300\n",
            "3/3 [==============================] - 0s 25ms/step - loss: 0.0038 - val_loss: 0.0043\n",
            "Epoch 58/300\n",
            "3/3 [==============================] - 0s 29ms/step - loss: 0.0038 - val_loss: 0.0042\n",
            "Epoch 59/300\n",
            "3/3 [==============================] - 0s 26ms/step - loss: 0.0037 - val_loss: 0.0042\n",
            "Epoch 60/300\n",
            "3/3 [==============================] - 0s 27ms/step - loss: 0.0037 - val_loss: 0.0041\n",
            "Epoch 61/300\n",
            "3/3 [==============================] - 0s 28ms/step - loss: 0.0036 - val_loss: 0.0040\n",
            "Epoch 62/300\n",
            "3/3 [==============================] - 0s 26ms/step - loss: 0.0036 - val_loss: 0.0040\n",
            "Epoch 63/300\n",
            "3/3 [==============================] - 0s 30ms/step - loss: 0.0036 - val_loss: 0.0039\n",
            "Epoch 64/300\n",
            "3/3 [==============================] - 0s 28ms/step - loss: 0.0035 - val_loss: 0.0039\n",
            "Epoch 65/300\n",
            "3/3 [==============================] - 0s 25ms/step - loss: 0.0035 - val_loss: 0.0039\n",
            "Epoch 66/300\n",
            "3/3 [==============================] - 0s 19ms/step - loss: 0.0035 - val_loss: 0.0039\n",
            "Epoch 67/300\n",
            "3/3 [==============================] - 0s 25ms/step - loss: 0.0034 - val_loss: 0.0038\n",
            "Epoch 68/300\n",
            "3/3 [==============================] - 0s 25ms/step - loss: 0.0034 - val_loss: 0.0038\n",
            "Epoch 69/300\n",
            "3/3 [==============================] - 0s 27ms/step - loss: 0.0034 - val_loss: 0.0038\n",
            "Epoch 70/300\n",
            "3/3 [==============================] - 0s 25ms/step - loss: 0.0033 - val_loss: 0.0038\n",
            "Epoch 71/300\n",
            "3/3 [==============================] - 0s 25ms/step - loss: 0.0033 - val_loss: 0.0037\n",
            "Epoch 72/300\n",
            "3/3 [==============================] - 0s 26ms/step - loss: 0.0033 - val_loss: 0.0037\n",
            "Epoch 73/300\n",
            "3/3 [==============================] - 0s 30ms/step - loss: 0.0032 - val_loss: 0.0036\n",
            "Epoch 74/300\n",
            "3/3 [==============================] - 0s 37ms/step - loss: 0.0032 - val_loss: 0.0036\n",
            "Epoch 75/300\n",
            "3/3 [==============================] - 0s 29ms/step - loss: 0.0032 - val_loss: 0.0035\n",
            "Epoch 76/300\n",
            "3/3 [==============================] - 0s 30ms/step - loss: 0.0031 - val_loss: 0.0035\n",
            "Epoch 77/300\n",
            "3/3 [==============================] - 0s 27ms/step - loss: 0.0031 - val_loss: 0.0034\n",
            "Epoch 78/300\n",
            "3/3 [==============================] - 0s 27ms/step - loss: 0.0031 - val_loss: 0.0034\n",
            "Epoch 79/300\n",
            "3/3 [==============================] - 0s 27ms/step - loss: 0.0030 - val_loss: 0.0033\n",
            "Epoch 80/300\n",
            "3/3 [==============================] - 0s 26ms/step - loss: 0.0030 - val_loss: 0.0033\n",
            "Epoch 81/300\n",
            "3/3 [==============================] - 0s 26ms/step - loss: 0.0030 - val_loss: 0.0033\n",
            "Epoch 82/300\n",
            "3/3 [==============================] - 0s 27ms/step - loss: 0.0029 - val_loss: 0.0033\n",
            "Epoch 83/300\n",
            "3/3 [==============================] - 0s 28ms/step - loss: 0.0029 - val_loss: 0.0033\n",
            "Epoch 84/300\n",
            "3/3 [==============================] - 0s 26ms/step - loss: 0.0029 - val_loss: 0.0033\n",
            "Epoch 85/300\n",
            "3/3 [==============================] - 0s 26ms/step - loss: 0.0029 - val_loss: 0.0032\n",
            "Epoch 86/300\n",
            "3/3 [==============================] - 0s 26ms/step - loss: 0.0028 - val_loss: 0.0031\n",
            "Epoch 87/300\n",
            "3/3 [==============================] - 0s 27ms/step - loss: 0.0028 - val_loss: 0.0031\n",
            "Epoch 88/300\n",
            "3/3 [==============================] - 0s 18ms/step - loss: 0.0028 - val_loss: 0.0031\n",
            "Epoch 89/300\n",
            "3/3 [==============================] - 0s 18ms/step - loss: 0.0027 - val_loss: 0.0031\n",
            "Epoch 90/300\n",
            "3/3 [==============================] - 0s 19ms/step - loss: 0.0027 - val_loss: 0.0031\n",
            "Epoch 91/300\n",
            "3/3 [==============================] - 0s 25ms/step - loss: 0.0027 - val_loss: 0.0030\n",
            "Epoch 92/300\n",
            "3/3 [==============================] - 0s 25ms/step - loss: 0.0027 - val_loss: 0.0030\n",
            "Epoch 93/300\n",
            "3/3 [==============================] - 0s 25ms/step - loss: 0.0026 - val_loss: 0.0029\n",
            "Epoch 94/300\n",
            "3/3 [==============================] - 0s 25ms/step - loss: 0.0026 - val_loss: 0.0029\n",
            "Epoch 95/300\n",
            "3/3 [==============================] - 0s 28ms/step - loss: 0.0026 - val_loss: 0.0028\n",
            "Epoch 96/300\n",
            "3/3 [==============================] - 0s 26ms/step - loss: 0.0026 - val_loss: 0.0028\n",
            "Epoch 97/300\n",
            "3/3 [==============================] - 0s 27ms/step - loss: 0.0025 - val_loss: 0.0028\n",
            "Epoch 98/300\n",
            "3/3 [==============================] - 0s 26ms/step - loss: 0.0025 - val_loss: 0.0028\n",
            "Epoch 99/300\n",
            "3/3 [==============================] - 0s 26ms/step - loss: 0.0025 - val_loss: 0.0028\n",
            "Epoch 100/300\n",
            "3/3 [==============================] - 0s 25ms/step - loss: 0.0025 - val_loss: 0.0027\n",
            "Epoch 101/300\n",
            "3/3 [==============================] - 0s 24ms/step - loss: 0.0024 - val_loss: 0.0027\n",
            "Epoch 102/300\n",
            "3/3 [==============================] - 0s 28ms/step - loss: 0.0024 - val_loss: 0.0027\n",
            "Epoch 103/300\n",
            "3/3 [==============================] - 0s 34ms/step - loss: 0.0024 - val_loss: 0.0026\n",
            "Epoch 104/300\n",
            "3/3 [==============================] - 0s 27ms/step - loss: 0.0024 - val_loss: 0.0026\n",
            "Epoch 105/300\n",
            "3/3 [==============================] - 0s 30ms/step - loss: 0.0023 - val_loss: 0.0026\n",
            "Epoch 106/300\n",
            "3/3 [==============================] - 0s 26ms/step - loss: 0.0023 - val_loss: 0.0026\n",
            "Epoch 107/300\n",
            "3/3 [==============================] - 0s 30ms/step - loss: 0.0023 - val_loss: 0.0026\n",
            "Epoch 108/300\n",
            "3/3 [==============================] - 0s 26ms/step - loss: 0.0023 - val_loss: 0.0025\n",
            "Epoch 109/300\n",
            "3/3 [==============================] - 0s 26ms/step - loss: 0.0023 - val_loss: 0.0025\n",
            "Epoch 110/300\n",
            "3/3 [==============================] - 0s 27ms/step - loss: 0.0022 - val_loss: 0.0025\n",
            "Epoch 111/300\n",
            "3/3 [==============================] - 0s 28ms/step - loss: 0.0022 - val_loss: 0.0025\n",
            "Epoch 112/300\n",
            "3/3 [==============================] - 0s 27ms/step - loss: 0.0022 - val_loss: 0.0024\n",
            "Epoch 113/300\n",
            "3/3 [==============================] - 0s 26ms/step - loss: 0.0022 - val_loss: 0.0024\n",
            "Epoch 114/300\n",
            "3/3 [==============================] - 0s 29ms/step - loss: 0.0021 - val_loss: 0.0024\n",
            "Epoch 115/300\n",
            "3/3 [==============================] - 0s 25ms/step - loss: 0.0021 - val_loss: 0.0024\n",
            "Epoch 116/300\n",
            "3/3 [==============================] - 0s 27ms/step - loss: 0.0021 - val_loss: 0.0023\n",
            "Epoch 117/300\n",
            "3/3 [==============================] - 0s 30ms/step - loss: 0.0021 - val_loss: 0.0023\n",
            "Epoch 118/300\n",
            "3/3 [==============================] - 0s 22ms/step - loss: 0.0021 - val_loss: 0.0023\n",
            "Epoch 119/300\n",
            "3/3 [==============================] - 0s 19ms/step - loss: 0.0020 - val_loss: 0.0023\n",
            "Epoch 120/300\n",
            "3/3 [==============================] - 0s 41ms/step - loss: 0.0020 - val_loss: 0.0023\n",
            "Epoch 121/300\n",
            "3/3 [==============================] - 0s 28ms/step - loss: 0.0020 - val_loss: 0.0023\n",
            "Epoch 122/300\n",
            "3/3 [==============================] - 0s 26ms/step - loss: 0.0020 - val_loss: 0.0022\n",
            "Epoch 123/300\n",
            "3/3 [==============================] - 0s 26ms/step - loss: 0.0020 - val_loss: 0.0022\n",
            "Epoch 124/300\n",
            "3/3 [==============================] - 0s 27ms/step - loss: 0.0020 - val_loss: 0.0022\n",
            "Epoch 125/300\n",
            "3/3 [==============================] - 0s 26ms/step - loss: 0.0019 - val_loss: 0.0021\n",
            "Epoch 126/300\n",
            "3/3 [==============================] - 0s 25ms/step - loss: 0.0019 - val_loss: 0.0021\n",
            "Epoch 127/300\n",
            "3/3 [==============================] - 0s 31ms/step - loss: 0.0019 - val_loss: 0.0021\n",
            "Epoch 128/300\n",
            "3/3 [==============================] - 0s 17ms/step - loss: 0.0019 - val_loss: 0.0021\n",
            "Epoch 129/300\n",
            "3/3 [==============================] - 0s 25ms/step - loss: 0.0019 - val_loss: 0.0021\n",
            "Epoch 130/300\n",
            "3/3 [==============================] - 0s 26ms/step - loss: 0.0018 - val_loss: 0.0020\n",
            "Epoch 131/300\n",
            "3/3 [==============================] - 0s 25ms/step - loss: 0.0018 - val_loss: 0.0020\n",
            "Epoch 132/300\n",
            "3/3 [==============================] - 0s 25ms/step - loss: 0.0018 - val_loss: 0.0020\n",
            "Epoch 133/300\n",
            "3/3 [==============================] - 0s 28ms/step - loss: 0.0018 - val_loss: 0.0020\n",
            "Epoch 134/300\n",
            "3/3 [==============================] - 0s 27ms/step - loss: 0.0018 - val_loss: 0.0020\n",
            "Epoch 135/300\n",
            "3/3 [==============================] - 0s 25ms/step - loss: 0.0018 - val_loss: 0.0020\n",
            "Epoch 136/300\n",
            "3/3 [==============================] - 0s 25ms/step - loss: 0.0017 - val_loss: 0.0020\n",
            "Epoch 137/300\n",
            "3/3 [==============================] - 0s 29ms/step - loss: 0.0017 - val_loss: 0.0019\n",
            "Epoch 138/300\n",
            "3/3 [==============================] - 0s 27ms/step - loss: 0.0017 - val_loss: 0.0019\n",
            "Epoch 139/300\n",
            "3/3 [==============================] - 0s 28ms/step - loss: 0.0017 - val_loss: 0.0019\n",
            "Epoch 140/300\n",
            "3/3 [==============================] - 0s 28ms/step - loss: 0.0017 - val_loss: 0.0019\n",
            "Epoch 141/300\n",
            "3/3 [==============================] - 0s 28ms/step - loss: 0.0017 - val_loss: 0.0019\n",
            "Epoch 142/300\n",
            "3/3 [==============================] - 0s 22ms/step - loss: 0.0017 - val_loss: 0.0019\n",
            "Epoch 143/300\n",
            "3/3 [==============================] - 0s 27ms/step - loss: 0.0016 - val_loss: 0.0018\n",
            "Epoch 144/300\n",
            "3/3 [==============================] - 0s 27ms/step - loss: 0.0016 - val_loss: 0.0018\n",
            "Epoch 145/300\n",
            "3/3 [==============================] - 0s 27ms/step - loss: 0.0016 - val_loss: 0.0018\n",
            "Epoch 146/300\n",
            "3/3 [==============================] - 0s 27ms/step - loss: 0.0016 - val_loss: 0.0018\n",
            "Epoch 147/300\n",
            "3/3 [==============================] - 0s 31ms/step - loss: 0.0016 - val_loss: 0.0017\n",
            "Epoch 148/300\n",
            "3/3 [==============================] - 0s 30ms/step - loss: 0.0016 - val_loss: 0.0017\n",
            "Epoch 149/300\n",
            "3/3 [==============================] - 0s 19ms/step - loss: 0.0015 - val_loss: 0.0018\n",
            "Epoch 150/300\n",
            "3/3 [==============================] - 0s 19ms/step - loss: 0.0015 - val_loss: 0.0018\n",
            "Epoch 151/300\n",
            "3/3 [==============================] - 0s 27ms/step - loss: 0.0015 - val_loss: 0.0017\n",
            "Epoch 152/300\n",
            "3/3 [==============================] - 0s 26ms/step - loss: 0.0015 - val_loss: 0.0017\n",
            "Epoch 153/300\n",
            "3/3 [==============================] - 0s 27ms/step - loss: 0.0015 - val_loss: 0.0017\n",
            "Epoch 154/300\n",
            "3/3 [==============================] - 0s 26ms/step - loss: 0.0015 - val_loss: 0.0016\n",
            "Epoch 155/300\n",
            "3/3 [==============================] - 0s 26ms/step - loss: 0.0015 - val_loss: 0.0016\n",
            "Epoch 156/300\n",
            "3/3 [==============================] - 0s 20ms/step - loss: 0.0015 - val_loss: 0.0016\n",
            "Epoch 157/300\n",
            "3/3 [==============================] - 0s 20ms/step - loss: 0.0014 - val_loss: 0.0016\n",
            "Epoch 158/300\n",
            "3/3 [==============================] - 0s 18ms/step - loss: 0.0014 - val_loss: 0.0016\n",
            "Epoch 159/300\n",
            "3/3 [==============================] - 0s 17ms/step - loss: 0.0014 - val_loss: 0.0016\n",
            "Epoch 160/300\n",
            "3/3 [==============================] - 0s 25ms/step - loss: 0.0014 - val_loss: 0.0016\n",
            "Epoch 161/300\n",
            "3/3 [==============================] - 0s 26ms/step - loss: 0.0014 - val_loss: 0.0016\n",
            "Epoch 162/300\n",
            "3/3 [==============================] - 0s 26ms/step - loss: 0.0014 - val_loss: 0.0016\n",
            "Epoch 163/300\n",
            "3/3 [==============================] - 0s 31ms/step - loss: 0.0014 - val_loss: 0.0016\n",
            "Epoch 164/300\n",
            "3/3 [==============================] - 0s 28ms/step - loss: 0.0014 - val_loss: 0.0015\n",
            "Epoch 165/300\n",
            "3/3 [==============================] - 0s 26ms/step - loss: 0.0014 - val_loss: 0.0015\n",
            "Epoch 166/300\n",
            "3/3 [==============================] - 0s 26ms/step - loss: 0.0013 - val_loss: 0.0015\n",
            "Epoch 167/300\n",
            "3/3 [==============================] - 0s 29ms/step - loss: 0.0013 - val_loss: 0.0015\n",
            "Epoch 168/300\n",
            "3/3 [==============================] - 0s 27ms/step - loss: 0.0013 - val_loss: 0.0015\n",
            "Epoch 169/300\n",
            "3/3 [==============================] - 0s 25ms/step - loss: 0.0013 - val_loss: 0.0014\n",
            "Epoch 170/300\n",
            "3/3 [==============================] - 0s 26ms/step - loss: 0.0013 - val_loss: 0.0014\n",
            "Epoch 171/300\n",
            "3/3 [==============================] - 0s 25ms/step - loss: 0.0013 - val_loss: 0.0014\n",
            "Epoch 172/300\n",
            "3/3 [==============================] - 0s 27ms/step - loss: 0.0013 - val_loss: 0.0014\n",
            "Epoch 173/300\n",
            "3/3 [==============================] - 0s 26ms/step - loss: 0.0013 - val_loss: 0.0014\n",
            "Epoch 174/300\n",
            "3/3 [==============================] - 0s 27ms/step - loss: 0.0012 - val_loss: 0.0014\n",
            "Epoch 175/300\n",
            "3/3 [==============================] - 0s 27ms/step - loss: 0.0012 - val_loss: 0.0014\n",
            "Epoch 176/300\n",
            "3/3 [==============================] - 0s 26ms/step - loss: 0.0012 - val_loss: 0.0014\n",
            "Epoch 177/300\n",
            "3/3 [==============================] - 0s 18ms/step - loss: 0.0012 - val_loss: 0.0014\n",
            "Epoch 178/300\n",
            "3/3 [==============================] - 0s 26ms/step - loss: 0.0012 - val_loss: 0.0014\n",
            "Epoch 179/300\n",
            "3/3 [==============================] - 0s 30ms/step - loss: 0.0012 - val_loss: 0.0014\n",
            "Epoch 180/300\n",
            "3/3 [==============================] - 0s 29ms/step - loss: 0.0012 - val_loss: 0.0013\n",
            "Epoch 181/300\n",
            "3/3 [==============================] - 0s 27ms/step - loss: 0.0012 - val_loss: 0.0013\n",
            "Epoch 182/300\n",
            "3/3 [==============================] - 0s 26ms/step - loss: 0.0012 - val_loss: 0.0013\n",
            "Epoch 183/300\n",
            "3/3 [==============================] - 0s 17ms/step - loss: 0.0012 - val_loss: 0.0013\n",
            "Epoch 184/300\n",
            "3/3 [==============================] - 0s 17ms/step - loss: 0.0011 - val_loss: 0.0013\n",
            "Epoch 185/300\n",
            "3/3 [==============================] - 0s 21ms/step - loss: 0.0011 - val_loss: 0.0013\n",
            "Epoch 186/300\n",
            "3/3 [==============================] - 0s 20ms/step - loss: 0.0011 - val_loss: 0.0013\n",
            "Epoch 187/300\n",
            "3/3 [==============================] - 0s 26ms/step - loss: 0.0011 - val_loss: 0.0013\n",
            "Epoch 188/300\n",
            "3/3 [==============================] - 0s 27ms/step - loss: 0.0011 - val_loss: 0.0012\n",
            "Epoch 189/300\n",
            "3/3 [==============================] - 0s 26ms/step - loss: 0.0011 - val_loss: 0.0012\n",
            "Epoch 190/300\n",
            "3/3 [==============================] - 0s 26ms/step - loss: 0.0011 - val_loss: 0.0012\n",
            "Epoch 191/300\n",
            "3/3 [==============================] - 0s 18ms/step - loss: 0.0011 - val_loss: 0.0012\n",
            "Epoch 192/300\n",
            "3/3 [==============================] - 0s 20ms/step - loss: 0.0011 - val_loss: 0.0012\n",
            "Epoch 193/300\n",
            "3/3 [==============================] - 0s 20ms/step - loss: 0.0011 - val_loss: 0.0012\n",
            "Epoch 194/300\n",
            "3/3 [==============================] - 0s 31ms/step - loss: 0.0011 - val_loss: 0.0012\n",
            "Epoch 195/300\n",
            "3/3 [==============================] - 0s 27ms/step - loss: 0.0010 - val_loss: 0.0012\n",
            "Epoch 196/300\n",
            "3/3 [==============================] - 0s 32ms/step - loss: 0.0010 - val_loss: 0.0011\n",
            "Epoch 197/300\n",
            "3/3 [==============================] - 0s 27ms/step - loss: 0.0010 - val_loss: 0.0011\n",
            "Epoch 198/300\n",
            "3/3 [==============================] - 0s 30ms/step - loss: 0.0010 - val_loss: 0.0011\n",
            "Epoch 199/300\n",
            "3/3 [==============================] - 0s 26ms/step - loss: 0.0010 - val_loss: 0.0011\n",
            "Epoch 200/300\n",
            "3/3 [==============================] - 0s 21ms/step - loss: 0.0010 - val_loss: 0.0011\n",
            "Epoch 201/300\n",
            "3/3 [==============================] - 0s 26ms/step - loss: 9.9778e-04 - val_loss: 0.0011\n",
            "Epoch 202/300\n",
            "3/3 [==============================] - 0s 17ms/step - loss: 9.8970e-04 - val_loss: 0.0011\n",
            "Epoch 203/300\n",
            "3/3 [==============================] - 0s 26ms/step - loss: 9.8133e-04 - val_loss: 0.0011\n",
            "Epoch 204/300\n",
            "3/3 [==============================] - 0s 26ms/step - loss: 9.7394e-04 - val_loss: 0.0011\n",
            "Epoch 205/300\n",
            "3/3 [==============================] - 0s 25ms/step - loss: 9.6887e-04 - val_loss: 0.0011\n",
            "Epoch 206/300\n",
            "3/3 [==============================] - 0s 26ms/step - loss: 9.5864e-04 - val_loss: 0.0011\n",
            "Epoch 207/300\n",
            "3/3 [==============================] - 0s 25ms/step - loss: 9.5111e-04 - val_loss: 0.0011\n",
            "Epoch 208/300\n",
            "3/3 [==============================] - 0s 30ms/step - loss: 9.4528e-04 - val_loss: 0.0011\n",
            "Epoch 209/300\n",
            "3/3 [==============================] - 0s 31ms/step - loss: 9.3647e-04 - val_loss: 0.0011\n",
            "Epoch 210/300\n",
            "3/3 [==============================] - 0s 27ms/step - loss: 9.2897e-04 - val_loss: 0.0010\n",
            "Epoch 211/300\n",
            "3/3 [==============================] - 0s 26ms/step - loss: 9.2316e-04 - val_loss: 0.0010\n",
            "Epoch 212/300\n",
            "3/3 [==============================] - 0s 25ms/step - loss: 9.1873e-04 - val_loss: 0.0010\n",
            "Epoch 213/300\n",
            "3/3 [==============================] - 0s 37ms/step - loss: 9.1064e-04 - val_loss: 0.0010\n",
            "Epoch 214/300\n",
            "3/3 [==============================] - 0s 17ms/step - loss: 8.9973e-04 - val_loss: 0.0010\n",
            "Epoch 215/300\n",
            "3/3 [==============================] - 0s 18ms/step - loss: 8.9212e-04 - val_loss: 0.0010\n",
            "Epoch 216/300\n",
            "3/3 [==============================] - 0s 17ms/step - loss: 8.8710e-04 - val_loss: 0.0010\n",
            "Epoch 217/300\n",
            "3/3 [==============================] - 0s 27ms/step - loss: 8.8217e-04 - val_loss: 0.0010\n",
            "Epoch 218/300\n",
            "3/3 [==============================] - 0s 25ms/step - loss: 8.7554e-04 - val_loss: 9.8265e-04\n",
            "Epoch 219/300\n",
            "3/3 [==============================] - 0s 26ms/step - loss: 8.6558e-04 - val_loss: 9.7323e-04\n",
            "Epoch 220/300\n",
            "3/3 [==============================] - 0s 25ms/step - loss: 8.5917e-04 - val_loss: 9.6046e-04\n",
            "Epoch 221/300\n",
            "3/3 [==============================] - 0s 27ms/step - loss: 8.5254e-04 - val_loss: 9.5264e-04\n",
            "Epoch 222/300\n",
            "3/3 [==============================] - 0s 37ms/step - loss: 8.4817e-04 - val_loss: 9.4436e-04\n",
            "Epoch 223/300\n",
            "3/3 [==============================] - 0s 29ms/step - loss: 8.4042e-04 - val_loss: 9.2771e-04\n",
            "Epoch 224/300\n",
            "3/3 [==============================] - 0s 20ms/step - loss: 8.3234e-04 - val_loss: 9.2890e-04\n",
            "Epoch 225/300\n",
            "3/3 [==============================] - 0s 19ms/step - loss: 8.2815e-04 - val_loss: 9.3791e-04\n",
            "Epoch 226/300\n",
            "3/3 [==============================] - 0s 19ms/step - loss: 8.2000e-04 - val_loss: 9.2821e-04\n",
            "Epoch 227/300\n",
            "3/3 [==============================] - 0s 29ms/step - loss: 8.1416e-04 - val_loss: 9.2094e-04\n",
            "Epoch 228/300\n",
            "3/3 [==============================] - 0s 29ms/step - loss: 8.0674e-04 - val_loss: 9.1813e-04\n",
            "Epoch 229/300\n",
            "3/3 [==============================] - 0s 25ms/step - loss: 8.0125e-04 - val_loss: 9.1219e-04\n",
            "Epoch 230/300\n",
            "3/3 [==============================] - 0s 26ms/step - loss: 8.0070e-04 - val_loss: 9.0381e-04\n",
            "Epoch 231/300\n",
            "3/3 [==============================] - 0s 26ms/step - loss: 7.9635e-04 - val_loss: 9.2131e-04\n",
            "Epoch 232/300\n",
            "3/3 [==============================] - 0s 28ms/step - loss: 7.8663e-04 - val_loss: 8.9390e-04\n",
            "Epoch 233/300\n",
            "3/3 [==============================] - 0s 24ms/step - loss: 7.7509e-04 - val_loss: 8.6116e-04\n",
            "Epoch 234/300\n",
            "3/3 [==============================] - 0s 28ms/step - loss: 7.7277e-04 - val_loss: 8.3481e-04\n",
            "Epoch 235/300\n",
            "3/3 [==============================] - 0s 25ms/step - loss: 7.7477e-04 - val_loss: 8.3269e-04\n",
            "Epoch 236/300\n",
            "3/3 [==============================] - 0s 17ms/step - loss: 7.7201e-04 - val_loss: 8.4754e-04\n",
            "Epoch 237/300\n",
            "3/3 [==============================] - 0s 20ms/step - loss: 7.5189e-04 - val_loss: 8.5440e-04\n",
            "Epoch 238/300\n",
            "3/3 [==============================] - 0s 22ms/step - loss: 7.4787e-04 - val_loss: 8.6061e-04\n",
            "Epoch 239/300\n",
            "3/3 [==============================] - 0s 62ms/step - loss: 7.4542e-04 - val_loss: 8.5084e-04\n",
            "Epoch 240/300\n",
            "3/3 [==============================] - 0s 47ms/step - loss: 7.3950e-04 - val_loss: 8.4781e-04\n",
            "Epoch 241/300\n",
            "3/3 [==============================] - 0s 46ms/step - loss: 7.3280e-04 - val_loss: 8.2207e-04\n",
            "Epoch 242/300\n",
            "3/3 [==============================] - 0s 46ms/step - loss: 7.2416e-04 - val_loss: 8.0154e-04\n",
            "Epoch 243/300\n",
            "3/3 [==============================] - 0s 45ms/step - loss: 7.3394e-04 - val_loss: 7.8430e-04\n",
            "Epoch 244/300\n",
            "3/3 [==============================] - 0s 27ms/step - loss: 7.1622e-04 - val_loss: 7.9617e-04\n",
            "Epoch 245/300\n",
            "3/3 [==============================] - 0s 32ms/step - loss: 7.1040e-04 - val_loss: 8.1974e-04\n",
            "Epoch 246/300\n",
            "3/3 [==============================] - 0s 27ms/step - loss: 7.1303e-04 - val_loss: 8.2610e-04\n",
            "Epoch 247/300\n",
            "3/3 [==============================] - 0s 29ms/step - loss: 7.0208e-04 - val_loss: 7.9399e-04\n",
            "Epoch 248/300\n",
            "3/3 [==============================] - 0s 43ms/step - loss: 7.0082e-04 - val_loss: 7.5798e-04\n",
            "Epoch 249/300\n",
            "3/3 [==============================] - 0s 50ms/step - loss: 6.9674e-04 - val_loss: 7.5250e-04\n",
            "Epoch 250/300\n",
            "3/3 [==============================] - 0s 30ms/step - loss: 6.8899e-04 - val_loss: 7.5980e-04\n",
            "Epoch 251/300\n",
            "3/3 [==============================] - 0s 28ms/step - loss: 6.8054e-04 - val_loss: 7.7430e-04\n",
            "Epoch 252/300\n",
            "3/3 [==============================] - 0s 33ms/step - loss: 6.7443e-04 - val_loss: 7.6811e-04\n",
            "Epoch 253/300\n",
            "3/3 [==============================] - 0s 44ms/step - loss: 6.6758e-04 - val_loss: 7.4892e-04\n",
            "Epoch 254/300\n",
            "3/3 [==============================] - 0s 43ms/step - loss: 6.6244e-04 - val_loss: 7.3482e-04\n",
            "Epoch 255/300\n",
            "3/3 [==============================] - 0s 37ms/step - loss: 6.6386e-04 - val_loss: 7.2612e-04\n",
            "Epoch 256/300\n",
            "3/3 [==============================] - 0s 44ms/step - loss: 6.5532e-04 - val_loss: 7.4328e-04\n",
            "Epoch 257/300\n",
            "3/3 [==============================] - 0s 33ms/step - loss: 6.5000e-04 - val_loss: 7.5091e-04\n",
            "Epoch 258/300\n",
            "3/3 [==============================] - 0s 45ms/step - loss: 6.4602e-04 - val_loss: 7.4075e-04\n",
            "Epoch 259/300\n",
            "3/3 [==============================] - 0s 30ms/step - loss: 6.4027e-04 - val_loss: 7.2481e-04\n",
            "Epoch 260/300\n",
            "3/3 [==============================] - 0s 29ms/step - loss: 6.3832e-04 - val_loss: 7.1004e-04\n",
            "Epoch 261/300\n",
            "3/3 [==============================] - 0s 17ms/step - loss: 6.2877e-04 - val_loss: 7.1089e-04\n",
            "Epoch 262/300\n",
            "3/3 [==============================] - 0s 18ms/step - loss: 6.2641e-04 - val_loss: 7.1314e-04\n",
            "Epoch 263/300\n",
            "3/3 [==============================] - 0s 30ms/step - loss: 6.2146e-04 - val_loss: 7.0193e-04\n",
            "Epoch 264/300\n",
            "3/3 [==============================] - 0s 55ms/step - loss: 6.1562e-04 - val_loss: 6.8108e-04\n",
            "Epoch 265/300\n",
            "3/3 [==============================] - 0s 38ms/step - loss: 6.1863e-04 - val_loss: 6.6447e-04\n",
            "Epoch 266/300\n",
            "3/3 [==============================] - 0s 53ms/step - loss: 6.1192e-04 - val_loss: 6.6834e-04\n",
            "Epoch 267/300\n",
            "3/3 [==============================] - 0s 68ms/step - loss: 6.0564e-04 - val_loss: 6.7905e-04\n",
            "Epoch 268/300\n",
            "3/3 [==============================] - 0s 27ms/step - loss: 5.9811e-04 - val_loss: 6.7900e-04\n",
            "Epoch 269/300\n",
            "3/3 [==============================] - 0s 32ms/step - loss: 5.9492e-04 - val_loss: 6.7133e-04\n",
            "Epoch 270/300\n",
            "3/3 [==============================] - 0s 77ms/step - loss: 5.8968e-04 - val_loss: 6.5525e-04\n",
            "Epoch 271/300\n",
            "3/3 [==============================] - 0s 81ms/step - loss: 5.8753e-04 - val_loss: 6.5158e-04\n",
            "Epoch 272/300\n",
            "3/3 [==============================] - 0s 27ms/step - loss: 5.8069e-04 - val_loss: 6.4172e-04\n",
            "Epoch 273/300\n",
            "3/3 [==============================] - 0s 19ms/step - loss: 5.7983e-04 - val_loss: 6.4191e-04\n",
            "Epoch 274/300\n",
            "3/3 [==============================] - 0s 74ms/step - loss: 5.7355e-04 - val_loss: 6.3532e-04\n",
            "Epoch 275/300\n",
            "3/3 [==============================] - 0s 21ms/step - loss: 5.6991e-04 - val_loss: 6.3675e-04\n",
            "Epoch 276/300\n",
            "3/3 [==============================] - 0s 18ms/step - loss: 5.6443e-04 - val_loss: 6.5571e-04\n",
            "Epoch 277/300\n",
            "3/3 [==============================] - 0s 23ms/step - loss: 5.6422e-04 - val_loss: 6.5295e-04\n",
            "Epoch 278/300\n",
            "3/3 [==============================] - 0s 32ms/step - loss: 5.5685e-04 - val_loss: 6.2739e-04\n",
            "Epoch 279/300\n",
            "3/3 [==============================] - 0s 77ms/step - loss: 5.5369e-04 - val_loss: 6.1026e-04\n",
            "Epoch 280/300\n",
            "3/3 [==============================] - 0s 66ms/step - loss: 5.5252e-04 - val_loss: 6.0730e-04\n",
            "Epoch 281/300\n",
            "3/3 [==============================] - 0s 19ms/step - loss: 5.4152e-04 - val_loss: 6.2149e-04\n",
            "Epoch 282/300\n",
            "3/3 [==============================] - 0s 19ms/step - loss: 5.4032e-04 - val_loss: 6.3683e-04\n",
            "Epoch 283/300\n",
            "3/3 [==============================] - 0s 18ms/step - loss: 5.4224e-04 - val_loss: 6.2243e-04\n",
            "Epoch 284/300\n",
            "3/3 [==============================] - 0s 44ms/step - loss: 5.3200e-04 - val_loss: 5.9129e-04\n",
            "Epoch 285/300\n",
            "3/3 [==============================] - 0s 41ms/step - loss: 5.2933e-04 - val_loss: 5.7270e-04\n",
            "Epoch 286/300\n",
            "3/3 [==============================] - 0s 70ms/step - loss: 5.3256e-04 - val_loss: 5.7152e-04\n",
            "Epoch 287/300\n",
            "3/3 [==============================] - 0s 18ms/step - loss: 5.2257e-04 - val_loss: 5.8550e-04\n",
            "Epoch 288/300\n",
            "3/3 [==============================] - 0s 27ms/step - loss: 5.1847e-04 - val_loss: 6.0354e-04\n",
            "Epoch 289/300\n",
            "3/3 [==============================] - 0s 20ms/step - loss: 5.1721e-04 - val_loss: 5.9238e-04\n",
            "Epoch 290/300\n",
            "3/3 [==============================] - 0s 29ms/step - loss: 5.1203e-04 - val_loss: 5.7751e-04\n",
            "Epoch 291/300\n",
            "3/3 [==============================] - 0s 41ms/step - loss: 5.0543e-04 - val_loss: 5.6778e-04\n",
            "Epoch 292/300\n",
            "3/3 [==============================] - 0s 26ms/step - loss: 5.0134e-04 - val_loss: 5.5938e-04\n",
            "Epoch 293/300\n",
            "3/3 [==============================] - 0s 27ms/step - loss: 5.0242e-04 - val_loss: 5.4877e-04\n",
            "Epoch 294/300\n",
            "3/3 [==============================] - 0s 27ms/step - loss: 4.9394e-04 - val_loss: 5.5922e-04\n",
            "Epoch 295/300\n",
            "3/3 [==============================] - 0s 60ms/step - loss: 4.9187e-04 - val_loss: 5.6724e-04\n",
            "Epoch 296/300\n",
            "3/3 [==============================] - 0s 49ms/step - loss: 4.8850e-04 - val_loss: 5.5111e-04\n",
            "Epoch 297/300\n",
            "3/3 [==============================] - 0s 30ms/step - loss: 4.8160e-04 - val_loss: 5.3273e-04\n",
            "Epoch 298/300\n",
            "3/3 [==============================] - 0s 27ms/step - loss: 4.8299e-04 - val_loss: 5.2442e-04\n",
            "Epoch 299/300\n",
            "3/3 [==============================] - 0s 20ms/step - loss: 4.8012e-04 - val_loss: 5.3031e-04\n",
            "Epoch 300/300\n",
            "3/3 [==============================] - 0s 34ms/step - loss: 4.7343e-04 - val_loss: 5.4611e-04\n"
          ]
        }
      ]
    },
    {
      "cell_type": "code",
      "source": [
        ""
      ],
      "metadata": {
        "id": "rfn1vpTR1rNN"
      },
      "execution_count": null,
      "outputs": []
    },
    {
      "cell_type": "markdown",
      "source": [
        "## 1.4) Evaluate the model"
      ],
      "metadata": {
        "id": "uMKbLoTIizkh"
      }
    },
    {
      "cell_type": "code",
      "source": [
        "# Load the model from the best epoch (minimum val_loss)\n",
        "bestmodel_file = max([ f for f in os.listdir(\".\") if f.startswith('RNN_ex1_bestmodel_') and f.endswith(\".hdf5\")])\n",
        "print( f\"The best model : {bestmodel_file}\")"
      ],
      "metadata": {
        "colab": {
          "base_uri": "https://localhost:8080/"
        },
        "id": "bhzBF-gS1pBL",
        "outputId": "5b20983a-f36f-4dbb-902e-c7c58c61d49f"
      },
      "execution_count": null,
      "outputs": [
        {
          "output_type": "stream",
          "name": "stdout",
          "text": [
            "The best model : RNN_ex1_bestmodel_epoch298.hdf5\n"
          ]
        }
      ]
    },
    {
      "cell_type": "code",
      "source": [
        "my_rnn_best = tf.keras.models.load_model(bestmodel_file, compile=True)"
      ],
      "metadata": {
        "id": "IdjYUdoV1pcP"
      },
      "execution_count": null,
      "outputs": []
    },
    {
      "cell_type": "code",
      "source": [
        "#Evaluate the model from last epoch\n",
        "score = my_rnn.evaluate(x_test_norm, y_test_norm, verbose=0)\n",
        "if hasattr(score,'__len__'):\n",
        "  print(f\"Test results (model from the last epoch) :{[(my_rnn.metrics_names[i],score[i]) for i in range(len(score))]}\")\n",
        "else :\n",
        "   print(f\"Test results (model from the last epoch) :{[(my_rnn.metrics_names[0],score)]}\")"
      ],
      "metadata": {
        "colab": {
          "base_uri": "https://localhost:8080/"
        },
        "id": "Eq6Cg_GI1pjg",
        "outputId": "7ace2e14-5c73-49ae-8a4e-5c99f4d07adb"
      },
      "execution_count": null,
      "outputs": [
        {
          "output_type": "stream",
          "name": "stdout",
          "text": [
            "Test results (model from the last epoch) :[('loss', 0.0007443480426445603)]\n"
          ]
        }
      ]
    },
    {
      "cell_type": "code",
      "source": [
        "#Evaluate the model from best epoch\n",
        "score = my_rnn_best.evaluate(x_test_norm, y_test_norm, verbose=0)\n",
        "if hasattr(score,'__len__'):\n",
        "  print(f\"Test results (model from the last epoch) :{[(my_rnn_best.metrics_names[i],score[i]) for i in range(len(score))]}\")\n",
        "else :\n",
        "   print(f\"Test results (model from the last epoch) :{[(my_rnn_best.metrics_names[0],score)]}\")"
      ],
      "metadata": {
        "colab": {
          "base_uri": "https://localhost:8080/"
        },
        "id": "6WlJJp_i71ab",
        "outputId": "bec94c21-008f-422e-e5c3-e96b2e309f94"
      },
      "execution_count": null,
      "outputs": [
        {
          "output_type": "stream",
          "name": "stdout",
          "text": [
            "Test results (model from the last epoch) :[('loss', 0.0007851850241422653)]\n"
          ]
        }
      ]
    },
    {
      "cell_type": "markdown",
      "source": [
        "## 1.5) Inference"
      ],
      "metadata": {
        "id": "o7_2kXsIi5Fn"
      }
    },
    {
      "cell_type": "code",
      "source": [
        "y1_test_predict = my_rnn.predict(x_test_norm)\n",
        "y2_test_predict = my_rnn_best.predict(x_test_norm)\n",
        "\n",
        "# Denormalize to raw value\n",
        "y1_inv = minmax_norm.inverse_transform(y1_test_predict)\n",
        "y2_inv = minmax_norm.inverse_transform(y2_test_predict)"
      ],
      "metadata": {
        "id": "Po2QsRI28BQY"
      },
      "execution_count": null,
      "outputs": []
    },
    {
      "cell_type": "code",
      "source": [
        "for i in range(10):\n",
        "  print(f\"x_test[{i}] = {x_test[i].reshape(1,-1)}, y_test[{i}] = {y_test[i]}, predict--> last_epoch({np.around(y1_inv[i])}) best_epoch({np.around(y2_inv[i])})\")"
      ],
      "metadata": {
        "colab": {
          "base_uri": "https://localhost:8080/"
        },
        "id": "OeU5rt728BWM",
        "outputId": "d78833ed-02ba-4e1b-ac21-b06c5b035fec"
      },
      "execution_count": null,
      "outputs": [
        {
          "output_type": "stream",
          "name": "stdout",
          "text": [
            "x_test[0] = [[-394 -392 -390 -388 -386]], y_test[0] = -384, predict--> last_epoch([-390.]) best_epoch([-390.])\n",
            "x_test[1] = [[-307 -305 -303 -301 -299]], y_test[1] = -297, predict--> last_epoch([-292.]) best_epoch([-292.])\n",
            "x_test[2] = [[-373 -371 -369 -367 -365]], y_test[2] = -363, predict--> last_epoch([-365.]) best_epoch([-366.])\n",
            "x_test[3] = [[-271 -269 -267 -265 -263]], y_test[3] = -261, predict--> last_epoch([-257.]) best_epoch([-258.])\n",
            "x_test[4] = [[-248 -246 -244 -242 -240]], y_test[4] = -238, predict--> last_epoch([-237.]) best_epoch([-238.])\n",
            "x_test[5] = [[-377 -375 -373 -371 -369]], y_test[5] = -367, predict--> last_epoch([-370.]) best_epoch([-370.])\n",
            "x_test[6] = [[-206 -204 -202 -200 -198]], y_test[6] = -196, predict--> last_epoch([-207.]) best_epoch([-207.])\n",
            "x_test[7] = [[-218 -216 -214 -212 -210]], y_test[7] = -208, predict--> last_epoch([-215.]) best_epoch([-215.])\n",
            "x_test[8] = [[-266 -264 -262 -260 -258]], y_test[8] = -256, predict--> last_epoch([-252.]) best_epoch([-253.])\n",
            "x_test[9] = [[-391 -389 -387 -385 -383]], y_test[9] = -381, predict--> last_epoch([-386.]) best_epoch([-387.])\n"
          ]
        }
      ]
    },
    {
      "cell_type": "markdown",
      "source": [
        "# Ex2 Guess the next number(Stacked RNN)"
      ],
      "metadata": {
        "id": "_vlMHDxmh3eg"
      }
    },
    {
      "cell_type": "markdown",
      "source": [
        "## 2.1 Create the deep RNN model"
      ],
      "metadata": {
        "id": "a0FfRqzBOsDK"
      }
    },
    {
      "cell_type": "code",
      "source": [
        "ex2_rnn = tf.keras.models.Sequential()\n",
        "\n",
        "# batch_size=None, time_steps=None, input_dim=1\n",
        "ex2_rnn.add( tf.keras.layers.SimpleRNN(units=20, input_shape=(None,1), return_sequences=True) ) # RNN Layer 1st\n",
        "ex2_rnn.add( tf.keras.layers.SimpleRNN(units=20, return_sequences=True) ) #RNN Layer 2nd\n",
        "ex2_rnn.add( tf.keras.layers.SimpleRNN(units=10) ) #RNN layer 3\n",
        "\n",
        "#Use the defult 'linear activation'\n",
        "ex2_rnn.add( tf.keras.layers.Dense(1))\n",
        "\n",
        "ex2_rnn.summary()"
      ],
      "metadata": {
        "colab": {
          "base_uri": "https://localhost:8080/"
        },
        "id": "Cl8CI95DOlAf",
        "outputId": "96f5e973-f9d3-41a1-8ffc-b56164a35c9c"
      },
      "execution_count": null,
      "outputs": [
        {
          "output_type": "stream",
          "name": "stdout",
          "text": [
            "Model: \"sequential_3\"\n",
            "_________________________________________________________________\n",
            " Layer (type)                Output Shape              Param #   \n",
            "=================================================================\n",
            " simple_rnn_2 (SimpleRNN)    (None, None, 20)          440       \n",
            "                                                                 \n",
            " simple_rnn_3 (SimpleRNN)    (None, None, 20)          820       \n",
            "                                                                 \n",
            " simple_rnn_4 (SimpleRNN)    (None, 10)                310       \n",
            "                                                                 \n",
            " dense_2 (Dense)             (None, 1)                 11        \n",
            "                                                                 \n",
            "=================================================================\n",
            "Total params: 1,581\n",
            "Trainable params: 1,581\n",
            "Non-trainable params: 0\n",
            "_________________________________________________________________\n"
          ]
        }
      ]
    },
    {
      "cell_type": "markdown",
      "source": [
        "## 2.2 Create Train/val/test set using TimeseriesGenerator"
      ],
      "metadata": {
        "id": "dWLGK3GIO53m"
      }
    },
    {
      "cell_type": "code",
      "source": [
        "n_data = 200 #Number of genarate data\n",
        "\n",
        "#TimeseriesGenerator\n",
        "sampling_rate = 2     #for 2 consecutive numbers, sample only one\n",
        "n_input_timesteps = 5 #How many timestep for the input sequence\n",
        "\n",
        "dataset = np.array([ i for i in range(n_data*-sampling_rate, n_data*sampling_rate)])\n",
        "\n",
        "gen_dataset = tf.keras.preprocessing.sequence.TimeseriesGenerator( dataset, dataset, length=sampling_rate*n_input_timesteps, batch_size=n_data, sampling_rate=sampling_rate)\n",
        "\n",
        "x, y = gen_dataset[0]"
      ],
      "metadata": {
        "id": "iydiCUbNO53m"
      },
      "execution_count": null,
      "outputs": []
    },
    {
      "cell_type": "code",
      "source": [
        "#Preview the first five rows and the last five rows\n",
        "print(f\"x-shape:{x.shape}, y-shape:{y.shape}\")\n",
        "for i in range(5):\n",
        "  print(f\"{i} : {x[i]} , {y[i]}\")\n",
        "for i in range(-1, -6, -1):\n",
        "  print(f\"{i} : {x[i]} , {y[i]}\")"
      ],
      "metadata": {
        "colab": {
          "base_uri": "https://localhost:8080/"
        },
        "outputId": "d5253d98-7cec-441a-86f6-520a2e2f0c12",
        "id": "6-bfpyqZO53n"
      },
      "execution_count": null,
      "outputs": [
        {
          "output_type": "stream",
          "name": "stdout",
          "text": [
            "x-shape:(200, 5), y-shape:(200,)\n",
            "0 : [-400 -398 -396 -394 -392] , -390\n",
            "1 : [-399 -397 -395 -393 -391] , -389\n",
            "2 : [-398 -396 -394 -392 -390] , -388\n",
            "3 : [-397 -395 -393 -391 -389] , -387\n",
            "4 : [-396 -394 -392 -390 -388] , -386\n",
            "-1 : [-201 -199 -197 -195 -193] , -191\n",
            "-2 : [-202 -200 -198 -196 -194] , -192\n",
            "-3 : [-203 -201 -199 -197 -195] , -193\n",
            "-4 : [-204 -202 -200 -198 -196] , -194\n",
            "-5 : [-205 -203 -201 -199 -197] , -195\n"
          ]
        }
      ]
    },
    {
      "cell_type": "code",
      "source": [
        "#Shuffle the data (before splitting it in to train/val/test sets later inthe next cell)\n",
        "\n",
        "#Shuffle the data\n",
        "seed=1337\n",
        "rng = np.random.RandomState(seed)\n",
        "rng.shuffle(x)\n",
        "\n",
        "rng = np.random.RandomState(seed)\n",
        "rng.shuffle(y)\n",
        "\n",
        "# Preview the first five rows of data\n",
        "print(f\"x-shape:{x.shape}, y-shape:{y.shape}\")\n",
        "for i in range(5):\n",
        "  print(f\"{i} : {x[i]} , {y[i]}\")\n",
        "for i in range(-1, -6, -1):\n",
        "  print(f\"{i} : {x[i]} , {y[i]}\")"
      ],
      "metadata": {
        "colab": {
          "base_uri": "https://localhost:8080/"
        },
        "outputId": "bd2c4c4c-07bc-48a5-a309-337226cee7a7",
        "id": "AOjL2uL2O53n"
      },
      "execution_count": null,
      "outputs": [
        {
          "output_type": "stream",
          "name": "stdout",
          "text": [
            "x-shape:(200, 5), y-shape:(200,)\n",
            "0 : [-371 -369 -367 -365 -363] , -361\n",
            "1 : [-283 -281 -279 -277 -275] , -273\n",
            "2 : [-331 -329 -327 -325 -323] , -321\n",
            "3 : [-226 -224 -222 -220 -218] , -216\n",
            "4 : [-303 -301 -299 -297 -295] , -293\n",
            "-1 : [-249 -247 -245 -243 -241] , -239\n",
            "-2 : [-211 -209 -207 -205 -203] , -201\n",
            "-3 : [-308 -306 -304 -302 -300] , -298\n",
            "-4 : [-233 -231 -229 -227 -225] , -223\n",
            "-5 : [-204 -202 -200 -198 -196] , -194\n"
          ]
        }
      ]
    },
    {
      "cell_type": "code",
      "source": [
        "n_train = int(n_data * 0.8)       # Split 80% to train set\n",
        "n_test = int(n_data * 0.1)        # Split 10% to test set\n",
        "n_val = n_data -n_train -n_test   # 10% to validate set\n",
        "\n",
        "x_train, y_train = x[:n_train] , y[:n_train] \n",
        "x_val, y_val = x[n_train:n_train+n_val], y[n_train:n_train+n_val]\n",
        "x_test, y_test = x[n_train+n_val:], y[n_train+n_val:]\n",
        "\n",
        "print(\"\\n===== Train data =====\")\n",
        "print(f\"x_train-shape:{x_train.shape}, y_train-shape:{y_train.shape}\")\n",
        "for i in range(5):\n",
        "  print(f\"{i} : {x_train[i]} , {y_train[i]}\")\n",
        "\n",
        "print(\"\\n===== Validation data =====\")\n",
        "print(f\"x_val-shape:{x_val.shape}, y_val-shape:{y_val.shape}\")\n",
        "for i in range(5):\n",
        "  print(f\"{i} : {x_val[i]} , {y_val[i]}\")\n",
        "\n",
        "print(\"\\n===== Test data =====\")\n",
        "print(f\"x_test-shape:{x_test.shape}, y_test-shape:{y_test.shape}\")\n",
        "for i in range(5):\n",
        "  print(f\"{i} : {x_test[i]} , {y_test[i]}\")"
      ],
      "metadata": {
        "colab": {
          "base_uri": "https://localhost:8080/"
        },
        "outputId": "1dd46dde-22f9-4ffd-c78e-dec9d450c8b0",
        "id": "en7K3urRO53n"
      },
      "execution_count": null,
      "outputs": [
        {
          "output_type": "stream",
          "name": "stdout",
          "text": [
            "\n",
            "===== Train data =====\n",
            "x_train-shape:(160, 5), y_train-shape:(160,)\n",
            "0 : [-371 -369 -367 -365 -363] , -361\n",
            "1 : [-283 -281 -279 -277 -275] , -273\n",
            "2 : [-331 -329 -327 -325 -323] , -321\n",
            "3 : [-226 -224 -222 -220 -218] , -216\n",
            "4 : [-303 -301 -299 -297 -295] , -293\n",
            "\n",
            "===== Validation data =====\n",
            "x_val-shape:(20, 5), y_val-shape:(20,)\n",
            "0 : [-324 -322 -320 -318 -316] , -314\n",
            "1 : [-263 -261 -259 -257 -255] , -253\n",
            "2 : [-230 -228 -226 -224 -222] , -220\n",
            "3 : [-278 -276 -274 -272 -270] , -268\n",
            "4 : [-329 -327 -325 -323 -321] , -319\n",
            "\n",
            "===== Test data =====\n",
            "x_test-shape:(20, 5), y_test-shape:(20,)\n",
            "0 : [-394 -392 -390 -388 -386] , -384\n",
            "1 : [-307 -305 -303 -301 -299] , -297\n",
            "2 : [-373 -371 -369 -367 -365] , -363\n",
            "3 : [-271 -269 -267 -265 -263] , -261\n",
            "4 : [-248 -246 -244 -242 -240] , -238\n"
          ]
        }
      ]
    },
    {
      "cell_type": "code",
      "source": [
        "#Normalize the data\n",
        "from sklearn.preprocessing import MinMaxScaler\n",
        "\n",
        "# Min-Max scaling to normalize the data to range [0, 1]\n",
        "#.fit_transfrom expects 2D input\n",
        "minmax_norm = MinMaxScaler().fit(x_train.reshape(-1,1))\n",
        "print(f\"Dataset min-max: {minmax_norm.data_min_}, {minmax_norm.data_max_}\")\n",
        "\n",
        "x_train_norm = minmax_norm.transform( x_train.reshape(-1,1)).reshape(-1,5)\n",
        "y_train_norm = minmax_norm.transform( y_train.reshape(-1,1)).reshape(-1)\n",
        "\n",
        "x_val_norm = minmax_norm.transform( x_val.reshape(-1,1)).reshape(-1,5)\n",
        "y_val_norm = minmax_norm.transform( y_val.reshape(-1,1)).reshape(-1)\n",
        "\n",
        "x_test_norm = minmax_norm.transform( x_test.reshape(-1,1)).reshape(-1,5)\n",
        "y_test_norm = minmax_norm.transform( y_test.reshape(-1,1)).reshape(-1)\n"
      ],
      "metadata": {
        "colab": {
          "base_uri": "https://localhost:8080/"
        },
        "outputId": "742d3ed4-fb36-4b4d-c868-938e92856b60",
        "id": "kFbIo1weO53n"
      },
      "execution_count": null,
      "outputs": [
        {
          "output_type": "stream",
          "name": "stdout",
          "text": [
            "Dataset min-max: [-400.], [-193.]\n"
          ]
        }
      ]
    },
    {
      "cell_type": "code",
      "source": [
        "#Format the data into (batch_size, time_step, input_dim) as required by the SimpleRNN layer\n",
        "print(\"\\n===== Train data after normalization =====\")\n",
        "print(f\"x_train_norm:{x_train_norm.shape}, y_train_norm:{y_train_norm.shape}\")\n",
        "for i in range(5):\n",
        "  print(f\"{i} : {x_train_norm[i]} , {y_train_norm[i]}\")\n",
        "\n",
        "print(\"\\n===== Validation data after normalization =====\")\n",
        "print(f\"x_val_norm:{x_val_norm.shape}, y_val_norm:{y_val_norm.shape}\")\n",
        "for i in range(5):\n",
        "  print(f\"{i} : {x_val_norm[i]} , {y_val_norm[i]}\")\n",
        "\n",
        "print(\"\\n===== Test data after normalization =====\")\n",
        "print(f\"x_test_norm:{x_test_norm.shape}, y_test_norm:{y_test_norm.shape}\")\n",
        "for i in range(5):\n",
        "  print(f\"{i} : {x_test_norm[i]} , {y_test_norm[i]}\")\n"
      ],
      "metadata": {
        "colab": {
          "base_uri": "https://localhost:8080/"
        },
        "outputId": "c42d2447-dcaf-46d9-ec9a-885961dfc84b",
        "id": "ymV3p3yxO53n"
      },
      "execution_count": null,
      "outputs": [
        {
          "output_type": "stream",
          "name": "stdout",
          "text": [
            "\n",
            "===== Train data after normalization =====\n",
            "x_train_norm:(160, 5), y_train_norm:(160,)\n",
            "0 : [0.14009662 0.14975845 0.15942029 0.16908213 0.17874396] , 0.18840579710144922\n",
            "1 : [0.56521739 0.57487923 0.58454106 0.5942029  0.60386473] , 0.6135265700483092\n",
            "2 : [0.33333333 0.34299517 0.352657   0.36231884 0.37198068] , 0.3816425120772946\n",
            "3 : [0.84057971 0.85024155 0.85990338 0.86956522 0.87922705] , 0.8888888888888888\n",
            "4 : [0.46859903 0.47826087 0.48792271 0.49758454 0.50724638] , 0.5169082125603865\n",
            "\n",
            "===== Validation data after normalization =====\n",
            "x_val_norm:(20, 5), y_val_norm:(20,)\n",
            "0 : [0.36714976 0.37681159 0.38647343 0.39613527 0.4057971 ] , 0.4154589371980677\n",
            "1 : [0.66183575 0.67149758 0.68115942 0.69082126 0.70048309] , 0.7101449275362319\n",
            "2 : [0.82125604 0.83091787 0.84057971 0.85024155 0.85990338] , 0.8695652173913042\n",
            "3 : [0.58937198 0.59903382 0.60869565 0.61835749 0.62801932] , 0.6376811594202898\n",
            "4 : [0.34299517 0.352657   0.36231884 0.37198068 0.38164251] , 0.3913043478260869\n",
            "\n",
            "===== Test data after normalization =====\n",
            "x_test_norm:(20, 5), y_test_norm:(20,)\n",
            "0 : [0.02898551 0.03864734 0.04830918 0.05797101 0.06763285] , 0.07729468599033829\n",
            "1 : [0.44927536 0.4589372  0.46859903 0.47826087 0.48792271] , 0.4975845410628019\n",
            "2 : [0.13043478 0.14009662 0.14975845 0.15942029 0.16908213] , 0.1787439613526569\n",
            "3 : [0.62318841 0.63285024 0.64251208 0.65217391 0.66183575] , 0.6714975845410627\n",
            "4 : [0.73429952 0.74396135 0.75362319 0.76328502 0.77294686] , 0.7826086956521738\n"
          ]
        }
      ]
    },
    {
      "cell_type": "code",
      "source": [
        "# Add the third dimension of input_dim=1\n",
        "x_train_norm  = x_train_norm[..., np.newaxis]\n",
        "x_val_norm    = x_val_norm[..., np.newaxis]\n",
        "x_test_norm   = x_test_norm[..., np.newaxis]\n",
        "\n",
        "print(\"\\nDimension after changed:\")\n",
        "print(f\"x_train_norm : {x_train_norm.shape}\")\n",
        "print(f\"x_val_norm : {x_val_norm.shape}\")\n",
        "print(f\"x_test_norm : {x_test_norm.shape}\")"
      ],
      "metadata": {
        "colab": {
          "base_uri": "https://localhost:8080/"
        },
        "outputId": "19512af0-4d7b-4849-eb4f-51e456a7b2cc",
        "id": "GBgxNEPcO53n"
      },
      "execution_count": null,
      "outputs": [
        {
          "output_type": "stream",
          "name": "stdout",
          "text": [
            "\n",
            "Dimension after changed:\n",
            "x_train_norm : (160, 5, 1)\n",
            "x_val_norm : (20, 5, 1)\n",
            "x_test_norm : (20, 5, 1)\n"
          ]
        }
      ]
    },
    {
      "cell_type": "code",
      "source": [
        "#Covert everything  to the defalt of float32\n",
        "\n",
        "x_train_norm = x_train_norm.astype(np.float32)\n",
        "y_train_norm = y_train_norm.astype(np.float32)\n",
        "x_val_norm = x_val_norm.astype(np.float32)\n",
        "y_val_norm = y_val_norm.astype(np.float32)\n",
        "x_test_norm = x_test_norm.astype(np.float32)\n",
        "y_test_norm = y_test_norm.astype(np.float32)"
      ],
      "metadata": {
        "id": "O7ajoOkEO53n"
      },
      "execution_count": null,
      "outputs": []
    },
    {
      "cell_type": "markdown",
      "source": [
        "## 2.3 Compile and train the model"
      ],
      "metadata": {
        "id": "cjWmzM1HPAEh"
      }
    },
    {
      "cell_type": "code",
      "source": [
        "adam = tf.keras.optimizers.Adam(learning_rate=0.001)\n",
        "\n",
        "# For regression, the loss can be used as the evaluation metric as well\n",
        "ex2_rnn.compile(loss='mse', optimizer=adam, metrics=[])\n",
        "\n",
        "checkpoint_filepath = \"RNN_ex2_bestmodel_epoch{epoch:03d}.hdf5\"\n",
        "\n",
        "model_checkpoint_callback = tf.keras.callbacks.ModelCheckpoint(filepath=checkpoint_filepath,\n",
        "                                                               save_weights_only=False,\n",
        "                                                               monitor='val_loss',\n",
        "                                                               mode='min',\n",
        "                                                               save_best_only=True)"
      ],
      "metadata": {
        "id": "oIfBe91ORb4O"
      },
      "execution_count": null,
      "outputs": []
    },
    {
      "cell_type": "code",
      "source": [
        "hist_ex2 = ex2_rnn.fit(x_train_norm, y_train_norm,\n",
        "                  validation_data=(x_val_norm, y_val_norm),\n",
        "                  batch_size=64, epochs=300,\n",
        "                  callbacks=[model_checkpoint_callback])"
      ],
      "metadata": {
        "id": "aATQ_kuCRb4O"
      },
      "execution_count": null,
      "outputs": []
    },
    {
      "cell_type": "code",
      "source": [
        "#Plot training and validation loss values\n",
        "plt.figure(figsize=(15,5))\n",
        "plt.plot( hist_ex2.history['loss'])\n",
        "plt.plot( hist_ex2.history['val_loss'])\n",
        "plt.title('Model loss mean squared error')\n",
        "plt.ylabel('Loss')\n",
        "plt.xlabel('Epoch')\n",
        "plt.legend(['train','val'], loc='upper right')\n",
        "plt.show()"
      ],
      "metadata": {
        "colab": {
          "base_uri": "https://localhost:8080/"
        },
        "id": "IZC4lL9sSruI",
        "outputId": "ec1803df-af93-45e4-e46a-6d589de565d3"
      },
      "execution_count": null,
      "outputs": [
        {
          "output_type": "display_data",
          "data": {
            "text/plain": [
              "<Figure size 1080x360 with 1 Axes>"
            ],
            "image/png": "[encoded data removed]"
          },
          "metadata": {
            "needs_background": "light"
          }
        }
      ]
    },
    {
      "cell_type": "markdown",
      "source": [
        "## 2.4 Evaluate the model"
      ],
      "metadata": {
        "id": "RBEvAlGPPANY"
      }
    },
    {
      "cell_type": "code",
      "source": [
        "# Load the model from the best epoch (minimum val_loss)\n",
        "bestmodel_file = max([ f for f in os.listdir(\".\") if f.startswith('RNN_ex2_bestmodel_') and f.endswith(\".hdf5\")])\n",
        "print( f\"The best model : {bestmodel_file}\")"
      ],
      "metadata": {
        "colab": {
          "base_uri": "https://localhost:8080/"
        },
        "outputId": "17060038-cafa-4826-ffe2-0908b8f2aa9f",
        "id": "Bh9SpiSDRuzt"
      },
      "execution_count": null,
      "outputs": [
        {
          "output_type": "stream",
          "name": "stdout",
          "text": [
            "The best model : RNN_ex2_bestmodel_epoch225.hdf5\n"
          ]
        }
      ]
    },
    {
      "cell_type": "code",
      "source": [
        "ex2_rnn_best = tf.keras.models.load_model(bestmodel_file, compile=True)"
      ],
      "metadata": {
        "id": "oywsLkq6Ruzu"
      },
      "execution_count": null,
      "outputs": []
    },
    {
      "cell_type": "code",
      "source": [
        "#Evaluate the model from last epoch\n",
        "score = ex2_rnn.evaluate(x_test_norm, y_test_norm, verbose=0)\n",
        "if hasattr(score,'__len__'):\n",
        "  print(f\"Test results (model from the last epoch) :{[(ex2_rnn.metrics_names[i],score[i]) for i in range(len(score))]}\")\n",
        "else :\n",
        "   print(f\"Test results (model from the last epoch) :{[(ex2_rnn.metrics_names[0],score)]}\")"
      ],
      "metadata": {
        "colab": {
          "base_uri": "https://localhost:8080/"
        },
        "outputId": "6302cb5f-b1c0-4c6d-e136-520c873ba3d8",
        "id": "gUt7ng_qRuzu"
      },
      "execution_count": null,
      "outputs": [
        {
          "output_type": "stream",
          "name": "stdout",
          "text": [
            "Test results (model from the last epoch) :[('loss', 0.00022981673828326166)]\n"
          ]
        }
      ]
    },
    {
      "cell_type": "code",
      "source": [
        "#Evaluate the model from best epoch\n",
        "score = ex2_rnn_best.evaluate(x_test_norm, y_test_norm, verbose=0)\n",
        "if hasattr(score,'__len__'):\n",
        "  print(f\"Test results (model from the best epoch) :{[(ex2_rnn_best.metrics_names[i],score[i]) for i in range(len(score))]}\")\n",
        "else :\n",
        "   print(f\"Test results (model from the best epoch) :{[(ex2_rnn_best.metrics_names[0],score)]}\")"
      ],
      "metadata": {
        "colab": {
          "base_uri": "https://localhost:8080/"
        },
        "outputId": "ee5ac852-1ce7-4539-92fa-efc23e0505f1",
        "id": "F4zHCQDORuzu"
      },
      "execution_count": null,
      "outputs": [
        {
          "output_type": "stream",
          "name": "stdout",
          "text": [
            "Test results (model from the last epoch) :[('loss', 1.4474404679276631e-06)]\n"
          ]
        }
      ]
    },
    {
      "cell_type": "markdown",
      "source": [
        "## 2.5 Inference"
      ],
      "metadata": {
        "id": "ZAOqynAFPNwP"
      }
    },
    {
      "cell_type": "code",
      "source": [
        "y1_test_predict = ex2_rnn.predict(x_test_norm)\n",
        "y2_test_predict = ex2_rnn_best.predict(x_test_norm)\n",
        "\n",
        "# Denormalize to raw value\n",
        "y1_inv = minmax_norm.inverse_transform(y1_test_predict)\n",
        "y2_inv = minmax_norm.inverse_transform(y2_test_predict)"
      ],
      "metadata": {
        "id": "WmmIWYJSRx_O"
      },
      "execution_count": null,
      "outputs": []
    },
    {
      "cell_type": "code",
      "source": [
        "for i in range(10):\n",
        "  print(f\"x_test[{i}] = {x_test[i].reshape(1,-1)}, y_test[{i}] = {y_test[i]}, predict--> last_epoch({np.around(y1_inv[i])}) best_epoch({np.around(y2_inv[i])})\")"
      ],
      "metadata": {
        "colab": {
          "base_uri": "https://localhost:8080/"
        },
        "outputId": "bc0716cc-0c3e-43af-d8d7-4a8f65f1debb",
        "id": "O2rFTqv_Rx_P"
      },
      "execution_count": null,
      "outputs": [
        {
          "output_type": "stream",
          "name": "stdout",
          "text": [
            "x_test[0] = [[-394 -392 -390 -388 -386]], y_test[0] = -384, predict--> last_epoch([-385.]) best_epoch([-384.])\n",
            "x_test[1] = [[-307 -305 -303 -301 -299]], y_test[1] = -297, predict--> last_epoch([-300.]) best_epoch([-297.])\n",
            "x_test[2] = [[-373 -371 -369 -367 -365]], y_test[2] = -363, predict--> last_epoch([-365.]) best_epoch([-363.])\n",
            "x_test[3] = [[-271 -269 -267 -265 -263]], y_test[3] = -261, predict--> last_epoch([-264.]) best_epoch([-261.])\n",
            "x_test[4] = [[-248 -246 -244 -242 -240]], y_test[4] = -238, predict--> last_epoch([-241.]) best_epoch([-238.])\n",
            "x_test[5] = [[-377 -375 -373 -371 -369]], y_test[5] = -367, predict--> last_epoch([-369.]) best_epoch([-367.])\n",
            "x_test[6] = [[-206 -204 -202 -200 -198]], y_test[6] = -196, predict--> last_epoch([-200.]) best_epoch([-196.])\n",
            "x_test[7] = [[-218 -216 -214 -212 -210]], y_test[7] = -208, predict--> last_epoch([-211.]) best_epoch([-208.])\n",
            "x_test[8] = [[-266 -264 -262 -260 -258]], y_test[8] = -256, predict--> last_epoch([-259.]) best_epoch([-256.])\n",
            "x_test[9] = [[-391 -389 -387 -385 -383]], y_test[9] = -381, predict--> last_epoch([-383.]) best_epoch([-381.])\n"
          ]
        }
      ]
    },
    {
      "cell_type": "markdown",
      "source": [
        "## 2.6 Save to Drive"
      ],
      "metadata": {
        "id": "23qGgoQHTwoZ"
      }
    },
    {
      "cell_type": "code",
      "source": [
        "#Save file best model to google drive\n",
        "to_path = f\"/content/drive/MyDrive/Colab Notebooks/BADS7604_DL/data/{bestmodel_file}\"\n",
        "print(f\"from : {bestmodel_file}\")\n",
        "print(f\"to : {to_path}\")\n",
        "os.system(f\"cp '{bestmodel_file}' '{to_path}'\")"
      ],
      "metadata": {
        "colab": {
          "base_uri": "https://localhost:8080/"
        },
        "id": "blFGuTlqT15p",
        "outputId": "d12fe337-34c9-4912-9507-752c69b933d2"
      },
      "execution_count": null,
      "outputs": [
        {
          "output_type": "stream",
          "name": "stdout",
          "text": [
            "from : RNN_ex2_bestmodel_epoch225.hdf5\n",
            "to : /content/drive/MyDrive/Colab Notebooks/BADS7604_DL/data/RNN_ex2_bestmodel_epoch225.hdf5\n"
          ]
        },
        {
          "output_type": "execute_result",
          "data": {
            "text/plain": [
              "0"
            ]
          },
          "metadata": {},
          "execution_count": 28
        }
      ]
    },
    {
      "cell_type": "code",
      "source": [
        "#Save last epoch to google drive\n",
        "to_path = f\"/content/drive/MyDrive/Colab Notebooks/BADS7604_DL/data/RNN_ex2_last_epoch.hdf5\"\n",
        "ex2_rnn.save(to_path)"
      ],
      "metadata": {
        "id": "sQjdRp9eVenX"
      },
      "execution_count": null,
      "outputs": []
    },
    {
      "cell_type": "markdown",
      "source": [
        "# Ex3 Guess the next three number ( Apple from ex2)"
      ],
      "metadata": {
        "id": "BcqCckcEh31X"
      }
    },
    {
      "cell_type": "markdown",
      "source": [
        "*   Reuse the model of prediction the next number from example 2. Append one predicted number to input sequence, and feed the appended sequence back to the model to make another prediction repeatedly.\n",
        "*   Becareful, denomalize and normalize y properly before appending it to the end of the x input sequence.\n",
        "\n"
      ],
      "metadata": {
        "id": "GgqLj3ycXZqv"
      }
    },
    {
      "cell_type": "markdown",
      "source": [
        "## 3.1 Create Train/val/test set using TimeseriesGenerator"
      ],
      "metadata": {
        "id": "0nRPetjHZnqi"
      }
    },
    {
      "cell_type": "code",
      "source": [
        "n_data = 200 #Number of genarate data\n",
        "\n",
        "#TimeseriesGenerator\n",
        "sampling_rate = 2     #for 2 consecutive numbers, sample only one\n",
        "n_input_timesteps = 5 #How many timestep for the input sequence\n",
        "\n",
        "dataset = np.array([ i for i in range(n_data*-sampling_rate, n_data*sampling_rate)])\n",
        "\n",
        "gen_dataset = tf.keras.preprocessing.sequence.TimeseriesGenerator( dataset, dataset, length=sampling_rate*n_input_timesteps, batch_size=n_data, sampling_rate=sampling_rate)\n",
        "\n",
        "x, y = gen_dataset[0]"
      ],
      "metadata": {
        "id": "dWsfubhdZnqi"
      },
      "execution_count": null,
      "outputs": []
    },
    {
      "cell_type": "code",
      "source": [
        "#Preview the first five rows and the last five rows\n",
        "print(f\"x-shape:{x.shape}, y-shape:{y.shape}\")\n",
        "for i in range(5):\n",
        "  print(f\"{i} : {x[i]} , {y[i]}\")\n",
        "for i in range(-1, -6, -1):\n",
        "  print(f\"{i} : {x[i]} , {y[i]}\")"
      ],
      "metadata": {
        "colab": {
          "base_uri": "https://localhost:8080/"
        },
        "outputId": "d5253d98-7cec-441a-86f6-520a2e2f0c12",
        "id": "t97JG1qyZnqj"
      },
      "execution_count": null,
      "outputs": [
        {
          "output_type": "stream",
          "name": "stdout",
          "text": [
            "x-shape:(200, 5), y-shape:(200,)\n",
            "0 : [-400 -398 -396 -394 -392] , -390\n",
            "1 : [-399 -397 -395 -393 -391] , -389\n",
            "2 : [-398 -396 -394 -392 -390] , -388\n",
            "3 : [-397 -395 -393 -391 -389] , -387\n",
            "4 : [-396 -394 -392 -390 -388] , -386\n",
            "-1 : [-201 -199 -197 -195 -193] , -191\n",
            "-2 : [-202 -200 -198 -196 -194] , -192\n",
            "-3 : [-203 -201 -199 -197 -195] , -193\n",
            "-4 : [-204 -202 -200 -198 -196] , -194\n",
            "-5 : [-205 -203 -201 -199 -197] , -195\n"
          ]
        }
      ]
    },
    {
      "cell_type": "code",
      "source": [
        "#Shuffle the data (before splitting it in to train/val/test sets later inthe next cell)\n",
        "\n",
        "#Shuffle the data\n",
        "seed=1337\n",
        "rng = np.random.RandomState(seed)\n",
        "rng.shuffle(x)\n",
        "\n",
        "rng = np.random.RandomState(seed)\n",
        "rng.shuffle(y)\n",
        "\n",
        "# Preview the first five rows of data\n",
        "print(f\"x-shape:{x.shape}, y-shape:{y.shape}\")\n",
        "for i in range(5):\n",
        "  print(f\"{i} : {x[i]} , {y[i]}\")\n",
        "for i in range(-1, -6, -1):\n",
        "  print(f\"{i} : {x[i]} , {y[i]}\")"
      ],
      "metadata": {
        "colab": {
          "base_uri": "https://localhost:8080/"
        },
        "outputId": "bd2c4c4c-07bc-48a5-a309-337226cee7a7",
        "id": "3eSZIzkZZnqj"
      },
      "execution_count": null,
      "outputs": [
        {
          "output_type": "stream",
          "name": "stdout",
          "text": [
            "x-shape:(200, 5), y-shape:(200,)\n",
            "0 : [-371 -369 -367 -365 -363] , -361\n",
            "1 : [-283 -281 -279 -277 -275] , -273\n",
            "2 : [-331 -329 -327 -325 -323] , -321\n",
            "3 : [-226 -224 -222 -220 -218] , -216\n",
            "4 : [-303 -301 -299 -297 -295] , -293\n",
            "-1 : [-249 -247 -245 -243 -241] , -239\n",
            "-2 : [-211 -209 -207 -205 -203] , -201\n",
            "-3 : [-308 -306 -304 -302 -300] , -298\n",
            "-4 : [-233 -231 -229 -227 -225] , -223\n",
            "-5 : [-204 -202 -200 -198 -196] , -194\n"
          ]
        }
      ]
    },
    {
      "cell_type": "code",
      "source": [
        "n_train = int(n_data * 0.8)       # Split 80% to train set\n",
        "n_test = int(n_data * 0.1)        # Split 10% to test set\n",
        "n_val = n_data -n_train -n_test   # 10% to validate set\n",
        "\n",
        "x_train, y_train = x[:n_train] , y[:n_train] \n",
        "x_val, y_val = x[n_train:n_train+n_val], y[n_train:n_train+n_val]\n",
        "x_test, y_test = x[n_train+n_val:], y[n_train+n_val:]\n",
        "\n",
        "print(\"\\n===== Train data =====\")\n",
        "print(f\"x_train-shape:{x_train.shape}, y_train-shape:{y_train.shape}\")\n",
        "for i in range(5):\n",
        "  print(f\"{i} : {x_train[i]} , {y_train[i]}\")\n",
        "\n",
        "print(\"\\n===== Validation data =====\")\n",
        "print(f\"x_val-shape:{x_val.shape}, y_val-shape:{y_val.shape}\")\n",
        "for i in range(5):\n",
        "  print(f\"{i} : {x_val[i]} , {y_val[i]}\")\n",
        "\n",
        "print(\"\\n===== Test data =====\")\n",
        "print(f\"x_test-shape:{x_test.shape}, y_test-shape:{y_test.shape}\")\n",
        "for i in range(5):\n",
        "  print(f\"{i} : {x_test[i]} , {y_test[i]}\")"
      ],
      "metadata": {
        "colab": {
          "base_uri": "https://localhost:8080/"
        },
        "outputId": "1dd46dde-22f9-4ffd-c78e-dec9d450c8b0",
        "id": "mb1u3bI9Znqj"
      },
      "execution_count": null,
      "outputs": [
        {
          "output_type": "stream",
          "name": "stdout",
          "text": [
            "\n",
            "===== Train data =====\n",
            "x_train-shape:(160, 5), y_train-shape:(160,)\n",
            "0 : [-371 -369 -367 -365 -363] , -361\n",
            "1 : [-283 -281 -279 -277 -275] , -273\n",
            "2 : [-331 -329 -327 -325 -323] , -321\n",
            "3 : [-226 -224 -222 -220 -218] , -216\n",
            "4 : [-303 -301 -299 -297 -295] , -293\n",
            "\n",
            "===== Validation data =====\n",
            "x_val-shape:(20, 5), y_val-shape:(20,)\n",
            "0 : [-324 -322 -320 -318 -316] , -314\n",
            "1 : [-263 -261 -259 -257 -255] , -253\n",
            "2 : [-230 -228 -226 -224 -222] , -220\n",
            "3 : [-278 -276 -274 -272 -270] , -268\n",
            "4 : [-329 -327 -325 -323 -321] , -319\n",
            "\n",
            "===== Test data =====\n",
            "x_test-shape:(20, 5), y_test-shape:(20,)\n",
            "0 : [-394 -392 -390 -388 -386] , -384\n",
            "1 : [-307 -305 -303 -301 -299] , -297\n",
            "2 : [-373 -371 -369 -367 -365] , -363\n",
            "3 : [-271 -269 -267 -265 -263] , -261\n",
            "4 : [-248 -246 -244 -242 -240] , -238\n"
          ]
        }
      ]
    },
    {
      "cell_type": "code",
      "source": [
        "#Normalize the data\n",
        "from sklearn.preprocessing import MinMaxScaler\n",
        "\n",
        "# Min-Max scaling to normalize the data to range [0, 1]\n",
        "#.fit_transfrom expects 2D input\n",
        "minmax_norm = MinMaxScaler().fit(x_train.reshape(-1,1))\n",
        "print(f\"Dataset min-max: {minmax_norm.data_min_}, {minmax_norm.data_max_}\")\n",
        "\n",
        "x_train_norm = minmax_norm.transform( x_train.reshape(-1,1)).reshape(-1,5)\n",
        "y_train_norm = minmax_norm.transform( y_train.reshape(-1,1)).reshape(-1)\n",
        "\n",
        "x_val_norm = minmax_norm.transform( x_val.reshape(-1,1)).reshape(-1,5)\n",
        "y_val_norm = minmax_norm.transform( y_val.reshape(-1,1)).reshape(-1)\n",
        "\n",
        "x_test_norm = minmax_norm.transform( x_test.reshape(-1,1)).reshape(-1,5)\n",
        "y_test_norm = minmax_norm.transform( y_test.reshape(-1,1)).reshape(-1)\n"
      ],
      "metadata": {
        "colab": {
          "base_uri": "https://localhost:8080/"
        },
        "outputId": "742d3ed4-fb36-4b4d-c868-938e92856b60",
        "id": "turr4j2OZnqj"
      },
      "execution_count": null,
      "outputs": [
        {
          "output_type": "stream",
          "name": "stdout",
          "text": [
            "Dataset min-max: [-400.], [-193.]\n"
          ]
        }
      ]
    },
    {
      "cell_type": "code",
      "source": [
        "#Format the data into (batch_size, time_step, input_dim) as required by the SimpleRNN layer\n",
        "print(\"\\n===== Train data after normalization =====\")\n",
        "print(f\"x_train_norm:{x_train_norm.shape}, y_train_norm:{y_train_norm.shape}\")\n",
        "for i in range(5):\n",
        "  print(f\"{i} : {x_train_norm[i]} , {y_train_norm[i]}\")\n",
        "\n",
        "print(\"\\n===== Validation data after normalization =====\")\n",
        "print(f\"x_val_norm:{x_val_norm.shape}, y_val_norm:{y_val_norm.shape}\")\n",
        "for i in range(5):\n",
        "  print(f\"{i} : {x_val_norm[i]} , {y_val_norm[i]}\")\n",
        "\n",
        "print(\"\\n===== Test data after normalization =====\")\n",
        "print(f\"x_test_norm:{x_test_norm.shape}, y_test_norm:{y_test_norm.shape}\")\n",
        "for i in range(5):\n",
        "  print(f\"{i} : {x_test_norm[i]} , {y_test_norm[i]}\")\n"
      ],
      "metadata": {
        "colab": {
          "base_uri": "https://localhost:8080/"
        },
        "outputId": "c42d2447-dcaf-46d9-ec9a-885961dfc84b",
        "id": "uxdwk4GHZnqj"
      },
      "execution_count": null,
      "outputs": [
        {
          "output_type": "stream",
          "name": "stdout",
          "text": [
            "\n",
            "===== Train data after normalization =====\n",
            "x_train_norm:(160, 5), y_train_norm:(160,)\n",
            "0 : [0.14009662 0.14975845 0.15942029 0.16908213 0.17874396] , 0.18840579710144922\n",
            "1 : [0.56521739 0.57487923 0.58454106 0.5942029  0.60386473] , 0.6135265700483092\n",
            "2 : [0.33333333 0.34299517 0.352657   0.36231884 0.37198068] , 0.3816425120772946\n",
            "3 : [0.84057971 0.85024155 0.85990338 0.86956522 0.87922705] , 0.8888888888888888\n",
            "4 : [0.46859903 0.47826087 0.48792271 0.49758454 0.50724638] , 0.5169082125603865\n",
            "\n",
            "===== Validation data after normalization =====\n",
            "x_val_norm:(20, 5), y_val_norm:(20,)\n",
            "0 : [0.36714976 0.37681159 0.38647343 0.39613527 0.4057971 ] , 0.4154589371980677\n",
            "1 : [0.66183575 0.67149758 0.68115942 0.69082126 0.70048309] , 0.7101449275362319\n",
            "2 : [0.82125604 0.83091787 0.84057971 0.85024155 0.85990338] , 0.8695652173913042\n",
            "3 : [0.58937198 0.59903382 0.60869565 0.61835749 0.62801932] , 0.6376811594202898\n",
            "4 : [0.34299517 0.352657   0.36231884 0.37198068 0.38164251] , 0.3913043478260869\n",
            "\n",
            "===== Test data after normalization =====\n",
            "x_test_norm:(20, 5), y_test_norm:(20,)\n",
            "0 : [0.02898551 0.03864734 0.04830918 0.05797101 0.06763285] , 0.07729468599033829\n",
            "1 : [0.44927536 0.4589372  0.46859903 0.47826087 0.48792271] , 0.4975845410628019\n",
            "2 : [0.13043478 0.14009662 0.14975845 0.15942029 0.16908213] , 0.1787439613526569\n",
            "3 : [0.62318841 0.63285024 0.64251208 0.65217391 0.66183575] , 0.6714975845410627\n",
            "4 : [0.73429952 0.74396135 0.75362319 0.76328502 0.77294686] , 0.7826086956521738\n"
          ]
        }
      ]
    },
    {
      "cell_type": "code",
      "source": [
        "# Add the third dimension of input_dim=1\n",
        "x_train_norm  = x_train_norm[..., np.newaxis]\n",
        "x_val_norm    = x_val_norm[..., np.newaxis]\n",
        "x_test_norm   = x_test_norm[..., np.newaxis]\n",
        "\n",
        "print(\"\\nDimension after changed:\")\n",
        "print(f\"x_train_norm : {x_train_norm.shape}\")\n",
        "print(f\"x_val_norm : {x_val_norm.shape}\")\n",
        "print(f\"x_test_norm : {x_test_norm.shape}\")"
      ],
      "metadata": {
        "colab": {
          "base_uri": "https://localhost:8080/"
        },
        "outputId": "19512af0-4d7b-4849-eb4f-51e456a7b2cc",
        "id": "L6gaSOTnZnqj"
      },
      "execution_count": null,
      "outputs": [
        {
          "output_type": "stream",
          "name": "stdout",
          "text": [
            "\n",
            "Dimension after changed:\n",
            "x_train_norm : (160, 5, 1)\n",
            "x_val_norm : (20, 5, 1)\n",
            "x_test_norm : (20, 5, 1)\n"
          ]
        }
      ]
    },
    {
      "cell_type": "code",
      "source": [
        "#Covert everything  to the defalt of float32\n",
        "\n",
        "x_train_norm = x_train_norm.astype(np.float32)\n",
        "y_train_norm = y_train_norm.astype(np.float32)\n",
        "x_val_norm = x_val_norm.astype(np.float32)\n",
        "y_val_norm = y_val_norm.astype(np.float32)\n",
        "x_test_norm = x_test_norm.astype(np.float32)\n",
        "y_test_norm = y_test_norm.astype(np.float32)"
      ],
      "metadata": {
        "id": "0vJqwEEWZnqk"
      },
      "execution_count": null,
      "outputs": []
    },
    {
      "cell_type": "markdown",
      "source": [
        "## 3.2 load model form ex2"
      ],
      "metadata": {
        "id": "GIjoeDI7Wi-i"
      }
    },
    {
      "cell_type": "code",
      "source": [
        "bestmodel_file = \"RNN_ex2_bestmodel_epoch225.hdf5\"\n",
        "lastepoch_file = \"RNN_ex2_last_epoch.hdf5\"\n",
        "ex2_rnn_best = tf.keras.models.load_model(f\"/content/drive/MyDrive/Colab Notebooks/BADS7604_DL/data/{bestmodel_file}\", compile=True)\n",
        "ex2_rnn_last = tf.keras.models.load_model(f\"/content/drive/MyDrive/Colab Notebooks/BADS7604_DL/data/{lastepoch_file}\", compile=True)"
      ],
      "metadata": {
        "id": "3SZEEhdxOlfw"
      },
      "execution_count": null,
      "outputs": []
    },
    {
      "cell_type": "markdown",
      "source": [
        "## 3.3 Inferene"
      ],
      "metadata": {
        "id": "2gxG1CLZYeDd"
      }
    },
    {
      "cell_type": "code",
      "source": [
        "# how many steps ahead to predict numbers\n",
        "n_steps = 3"
      ],
      "metadata": {
        "id": "TVmS9TtkYu8z"
      },
      "execution_count": null,
      "outputs": []
    },
    {
      "cell_type": "code",
      "source": [
        "# Show resuts for the first 20 data in test set\n",
        "for i in range(20):\n",
        "  x_norm = np.copy(x_test_norm[i]).reshape(1,-1,1)\n",
        "\n",
        "  #Predict n_steps ahead\n",
        "  for step in range(n_steps):\n",
        "    y_pred_norm = ex2_rnn_best.predict(x_norm)\n",
        "    #Concatenate y_pred_norm to the end of x_norm\n",
        "    x_norm = np.concatenate( [x_norm, y_pred_norm.reshape(1,1,1)], axis=1)\n",
        "\n",
        "  # Denormailze\n",
        "  x = minmax_norm.inverse_transform(x_norm.reshape(1,-1))\n",
        "  print(f\"x_test[{i}] = {x_test[i]}, Predicted-{np.around(x[0,-n_steps:])}\")\n",
        "\n"
      ],
      "metadata": {
        "colab": {
          "base_uri": "https://localhost:8080/"
        },
        "id": "4y3XntgSYu_7",
        "outputId": "b69818f9-d182-462a-dc0f-a17ab7bebc20"
      },
      "execution_count": null,
      "outputs": [
        {
          "output_type": "stream",
          "name": "stdout",
          "text": [
            "x_test[0] = [-394 -392 -390 -388 -386], Predicted-[-384. -392. -379.]\n",
            "x_test[1] = [-307 -305 -303 -301 -299], Predicted-[-297. -368. -243.]\n",
            "x_test[2] = [-373 -371 -369 -367 -365], Predicted-[-363. -400. -335.]\n",
            "x_test[3] = [-271 -269 -267 -265 -263], Predicted-[-261. -346. -214.]\n",
            "x_test[4] = [-248 -246 -244 -242 -240], Predicted-[-238. -334. -198.]\n",
            "x_test[5] = [-377 -375 -373 -371 -369], Predicted-[-367. -399. -343.]\n",
            "x_test[6] = [-206 -204 -202 -200 -198], Predicted-[-196. -316. -173.]\n",
            "x_test[7] = [-218 -216 -214 -212 -210], Predicted-[-208. -320. -180.]\n",
            "x_test[8] = [-266 -264 -262 -260 -258], Predicted-[-256. -343. -211.]\n",
            "x_test[9] = [-391 -389 -387 -385 -383], Predicted-[-381. -394. -372.]\n",
            "x_test[10] = [-328 -326 -324 -322 -320], Predicted-[-318. -382. -265.]\n",
            "x_test[11] = [-316 -314 -312 -310 -308], Predicted-[-306. -374. -252.]\n",
            "x_test[12] = [-318 -316 -314 -312 -310], Predicted-[-308. -376. -254.]\n",
            "x_test[13] = [-286 -284 -282 -280 -278], Predicted-[-276. -355. -226.]\n",
            "x_test[14] = [-310 -308 -306 -304 -302], Predicted-[-300. -370. -246.]\n",
            "x_test[15] = [-204 -202 -200 -198 -196], Predicted-[-195. -315. -172.]\n",
            "x_test[16] = [-233 -231 -229 -227 -225], Predicted-[-223. -327. -189.]\n",
            "x_test[17] = [-308 -306 -304 -302 -300], Predicted-[-298. -369. -244.]\n",
            "x_test[18] = [-211 -209 -207 -205 -203], Predicted-[-201. -318. -176.]\n",
            "x_test[19] = [-249 -247 -245 -243 -241], Predicted-[-239. -334. -199.]\n"
          ]
        }
      ]
    },
    {
      "cell_type": "markdown",
      "source": [
        "# Ex4 Guess the next three number ( output = 3)"
      ],
      "metadata": {
        "id": "IDUAQkA6h4Fj"
      }
    },
    {
      "cell_type": "markdown",
      "source": [
        "## 4.1 Create the deep RNN model"
      ],
      "metadata": {
        "id": "9SXQosAgfieD"
      }
    },
    {
      "cell_type": "code",
      "source": [
        "ex4_rnn = tf.keras.models.Sequential()\n",
        "# batch_size=None, time_steps=None, input_dim=1\n",
        "ex4_rnn.add( tf.keras.layers.SimpleRNN(units=20, input_shape=(None,1), return_sequences=True) ) # RNN Layer 1st\n",
        "ex4_rnn.add( tf.keras.layers.SimpleRNN(units=20, return_sequences=True) ) #RNN Layer 2nd\n",
        "ex4_rnn.add( tf.keras.layers.SimpleRNN(units=10) ) #RNN layer 3\n",
        "#Use the defult 'linear activation'\n",
        "ex4_rnn.add( tf.keras.layers.Dense(3))\n",
        "\n",
        "ex4_rnn.summary()"
      ],
      "metadata": {
        "colab": {
          "base_uri": "https://localhost:8080/"
        },
        "outputId": "8a095cdc-5bc5-465b-f948-7c36aaeb7cf0",
        "id": "SluZICu7fieE"
      },
      "execution_count": null,
      "outputs": [
        {
          "output_type": "stream",
          "name": "stdout",
          "text": [
            "Model: \"sequential\"\n",
            "_________________________________________________________________\n",
            " Layer (type)                Output Shape              Param #   \n",
            "=================================================================\n",
            " simple_rnn (SimpleRNN)      (None, None, 20)          440       \n",
            "                                                                 \n",
            " simple_rnn_1 (SimpleRNN)    (None, None, 20)          820       \n",
            "                                                                 \n",
            " simple_rnn_2 (SimpleRNN)    (None, 10)                310       \n",
            "                                                                 \n",
            " dense (Dense)               (None, 3)                 33        \n",
            "                                                                 \n",
            "=================================================================\n",
            "Total params: 1,603\n",
            "Trainable params: 1,603\n",
            "Non-trainable params: 0\n",
            "_________________________________________________________________\n"
          ]
        }
      ]
    },
    {
      "cell_type": "markdown",
      "source": [
        "## 4.2 Prepare data with three-step output"
      ],
      "metadata": {
        "id": "q8q3jOmtfieF"
      }
    },
    {
      "cell_type": "code",
      "source": [
        "n_data = 2000 #Number of genarate data\n",
        "\n",
        "#TimeseriesGenerator\n",
        "sampling_rate = 2     #for 2 consecutive numbers, sample only one\n",
        "n_input_timesteps = 5 #How many timestep for the input sequence\n",
        "\n",
        "dataset = np.array([ i for i in range(n_data*-sampling_rate, n_data*sampling_rate)])\n",
        "\n",
        "gen_dataset = tf.keras.preprocessing.sequence.TimeseriesGenerator( dataset, dataset, length=sampling_rate*n_input_timesteps, batch_size=n_data, sampling_rate=sampling_rate)\n",
        "\n",
        "x, y = gen_dataset[0]"
      ],
      "metadata": {
        "id": "vYTBf-xhfieF"
      },
      "execution_count": null,
      "outputs": []
    },
    {
      "cell_type": "code",
      "source": [
        "#Preview the first five rows and the last five rows\n",
        "print(f\"x-shape:{x.shape}, y-shape:{y.shape}\")\n",
        "for i in range(5):\n",
        "  print(f\"{i} : {x[i]} , {y[i]}\")\n",
        "for i in range(-1, -6, -1):\n",
        "  print(f\"{i} : {x[i]} , {y[i]}\")"
      ],
      "metadata": {
        "colab": {
          "base_uri": "https://localhost:8080/"
        },
        "outputId": "70b5ac49-3a1e-4c02-de03-01b7e806d6ae",
        "id": "UhmSze-SfieF"
      },
      "execution_count": null,
      "outputs": [
        {
          "output_type": "stream",
          "name": "stdout",
          "text": [
            "x-shape:(2000, 5), y-shape:(2000,)\n",
            "0 : [-4000 -3998 -3996 -3994 -3992] , -3990\n",
            "1 : [-3999 -3997 -3995 -3993 -3991] , -3989\n",
            "2 : [-3998 -3996 -3994 -3992 -3990] , -3988\n",
            "3 : [-3997 -3995 -3993 -3991 -3989] , -3987\n",
            "4 : [-3996 -3994 -3992 -3990 -3988] , -3986\n",
            "-1 : [-2001 -1999 -1997 -1995 -1993] , -1991\n",
            "-2 : [-2002 -2000 -1998 -1996 -1994] , -1992\n",
            "-3 : [-2003 -2001 -1999 -1997 -1995] , -1993\n",
            "-4 : [-2004 -2002 -2000 -1998 -1996] , -1994\n",
            "-5 : [-2005 -2003 -2001 -1999 -1997] , -1995\n"
          ]
        }
      ]
    },
    {
      "cell_type": "code",
      "source": [
        "#Shuffle the data (before splitting it in to train/val/test sets later inthe next cell)\n",
        "\n",
        "#Shuffle the data\n",
        "seed=1337\n",
        "rng = np.random.RandomState(seed)\n",
        "rng.shuffle(x)\n",
        "\n",
        "rng = np.random.RandomState(seed)\n",
        "rng.shuffle(y)\n",
        "\n",
        "# Preview the first five rows of data\n",
        "print(f\"x-shape:{x.shape}, y-shape:{y.shape}\")\n",
        "for i in range(5):\n",
        "  print(f\"{i} : {x[i]} , {y[i]}\")\n",
        "for i in range(-1, -6, -1):\n",
        "  print(f\"{i} : {x[i]} , {y[i]}\")"
      ],
      "metadata": {
        "colab": {
          "base_uri": "https://localhost:8080/"
        },
        "outputId": "95e9f720-27db-4841-8910-6e07fb3b0768",
        "id": "K4AFEibvfieF"
      },
      "execution_count": null,
      "outputs": [
        {
          "output_type": "stream",
          "name": "stdout",
          "text": [
            "x-shape:(2000, 5), y-shape:(2000,)\n",
            "0 : [-3033 -3031 -3029 -3027 -3025] , -3023\n",
            "1 : [-3372 -3370 -3368 -3366 -3364] , -3362\n",
            "2 : [-3423 -3421 -3419 -3417 -3415] , -3413\n",
            "3 : [-3911 -3909 -3907 -3905 -3903] , -3901\n",
            "4 : [-2829 -2827 -2825 -2823 -2821] , -2819\n",
            "-1 : [-2825 -2823 -2821 -2819 -2817] , -2815\n",
            "-2 : [-3811 -3809 -3807 -3805 -3803] , -3801\n",
            "-3 : [-3140 -3138 -3136 -3134 -3132] , -3130\n",
            "-4 : [-2744 -2742 -2740 -2738 -2736] , -2734\n",
            "-5 : [-2809 -2807 -2805 -2803 -2801] , -2799\n"
          ]
        }
      ]
    },
    {
      "cell_type": "code",
      "source": [
        "n_train = int(n_data * 0.8)       # Split 80% to train set\n",
        "n_test = int(n_data * 0.1)        # Split 10% to test set\n",
        "n_val = n_data -n_train -n_test   # 10% to validate set\n",
        "\n",
        "x_train, y_train = x[:n_train] , y[:n_train] \n",
        "x_val, y_val = x[n_train:n_train+n_val], y[n_train:n_train+n_val]\n",
        "x_test, y_test = x[n_train+n_val:], y[n_train+n_val:]\n",
        "\n",
        "print(\"\\n===== Train data =====\")\n",
        "print(f\"x_train-shape:{x_train.shape}, y_train-shape:{y_train.shape}\")\n",
        "for i in range(5):\n",
        "  print(f\"{i} : {x_train[i]} , {y_train[i]}\")\n",
        "\n",
        "print(\"\\n===== Validation data =====\")\n",
        "print(f\"x_val-shape:{x_val.shape}, y_val-shape:{y_val.shape}\")\n",
        "for i in range(5):\n",
        "  print(f\"{i} : {x_val[i]} , {y_val[i]}\")\n",
        "\n",
        "print(\"\\n===== Test data =====\")\n",
        "print(f\"x_test-shape:{x_test.shape}, y_test-shape:{y_test.shape}\")\n",
        "for i in range(5):\n",
        "  print(f\"{i} : {x_test[i]} , {y_test[i]}\")"
      ],
      "metadata": {
        "colab": {
          "base_uri": "https://localhost:8080/"
        },
        "outputId": "445af537-bab4-4842-c81a-4b68c3b44de5",
        "id": "9WQ0N7glfieF"
      },
      "execution_count": null,
      "outputs": [
        {
          "output_type": "stream",
          "name": "stdout",
          "text": [
            "\n",
            "===== Train data =====\n",
            "x_train-shape:(1600, 5), y_train-shape:(1600,)\n",
            "0 : [-3033 -3031 -3029 -3027 -3025] , -3023\n",
            "1 : [-3372 -3370 -3368 -3366 -3364] , -3362\n",
            "2 : [-3423 -3421 -3419 -3417 -3415] , -3413\n",
            "3 : [-3911 -3909 -3907 -3905 -3903] , -3901\n",
            "4 : [-2829 -2827 -2825 -2823 -2821] , -2819\n",
            "\n",
            "===== Validation data =====\n",
            "x_val-shape:(200, 5), y_val-shape:(200,)\n",
            "0 : [-3200 -3198 -3196 -3194 -3192] , -3190\n",
            "1 : [-3488 -3486 -3484 -3482 -3480] , -3478\n",
            "2 : [-2285 -2283 -2281 -2279 -2277] , -2275\n",
            "3 : [-3846 -3844 -3842 -3840 -3838] , -3836\n",
            "4 : [-2724 -2722 -2720 -2718 -2716] , -2714\n",
            "\n",
            "===== Test data =====\n",
            "x_test-shape:(200, 5), y_test-shape:(200,)\n",
            "0 : [-2126 -2124 -2122 -2120 -2118] , -2116\n",
            "1 : [-3343 -3341 -3339 -3337 -3335] , -3333\n",
            "2 : [-3710 -3708 -3706 -3704 -3702] , -3700\n",
            "3 : [-3995 -3993 -3991 -3989 -3987] , -3985\n",
            "4 : [-2885 -2883 -2881 -2879 -2877] , -2875\n"
          ]
        }
      ]
    },
    {
      "cell_type": "markdown",
      "source": [
        "Instead of one-step outputs (x[i] = [2,4,6,8,10], yi[12] but model request x[i] = [2,4,6,8,10], yi[12,14,16] "
      ],
      "metadata": {
        "id": "QTvLgp61gnqr"
      }
    },
    {
      "cell_type": "code",
      "source": [
        "#Create three array\n",
        "y_train_temp = np.zeros( (y_train.shape[0],3), dtype=np.float32)\n",
        "y_test_temp = np.zeros( (y_test.shape[0],3), dtype=np.float32)\n",
        "y_val_temp = np.zeros( (y_val.shape[0],3), dtype=np.float32)\n",
        "\n",
        "#Copy original value to vector\n",
        "y_train_temp[:,0] = y_train[:]\n",
        "y_test_temp[:,0] = y_test[:]\n",
        "y_val_temp[:,0] = y_val[:]"
      ],
      "metadata": {
        "id": "UnsB9ZPPhK7l"
      },
      "execution_count": null,
      "outputs": []
    },
    {
      "cell_type": "code",
      "source": [
        "# Compute values for the 1stand 2nd columns of each array\n",
        "for i in range(2):\n",
        "  y_train_temp[:,i+1] = y_train_temp[:,i] +2\n",
        "  y_test_temp[:,i+1] = y_test_temp[:,i] +2\n",
        "  y_val_temp[:,i+1] = y_val_temp[:,i] +2"
      ],
      "metadata": {
        "id": "rlHaa5HKdZAd"
      },
      "execution_count": null,
      "outputs": []
    },
    {
      "cell_type": "code",
      "source": [
        "# Preview Before-After result\n",
        "print(f\"\\n========== y_train ==========\")\n",
        "print(f\"Shape before:{y_train.shape} after:{y_train_temp.shape}\")\n",
        "print(f\"Example befor : {y_train[0]} , after ; {y_train_temp[0]}\")\n",
        "\n",
        "print(f\"\\n========== y_test ==========\")\n",
        "print(f\"Shape before:{y_test.shape} after:{y_test_temp.shape}\")\n",
        "print(f\"Example befor : {y_test[0]} , after ; {y_test_temp[0]}\")\n",
        "\n",
        "print(f\"\\n========== y_val ==========\")\n",
        "print(f\"Shape before:{y_val.shape} after:{y_val_temp.shape}\")\n",
        "print(f\"Example befor : {y_val[0]} , after ; {y_val_temp[0]}\")"
      ],
      "metadata": {
        "colab": {
          "base_uri": "https://localhost:8080/"
        },
        "id": "oTYGgi4Be4d2",
        "outputId": "18bcfe90-bf3e-4c73-8190-d3265b55ce6e"
      },
      "execution_count": null,
      "outputs": [
        {
          "output_type": "stream",
          "name": "stdout",
          "text": [
            "\n",
            "========== y_train ==========\n",
            "Shape before:(1600,) after:(1600, 3)\n",
            "Example befor : -3023 , after ; [-3023. -3021. -3019.]\n",
            "\n",
            "========== y_test ==========\n",
            "Shape before:(200,) after:(200, 3)\n",
            "Example befor : -2116 , after ; [-2116. -2114. -2112.]\n",
            "\n",
            "========== y_val ==========\n",
            "Shape before:(200,) after:(200, 3)\n",
            "Example befor : -3190 , after ; [-3190. -3188. -3186.]\n"
          ]
        }
      ]
    },
    {
      "cell_type": "code",
      "source": [
        "#Reassign the new array shape to original y_train y_test y_val\n",
        "y_train = y_train_temp\n",
        "y_test = y_test_temp\n",
        "y_val = y_val_temp"
      ],
      "metadata": {
        "id": "OKq_-wrRjQHy"
      },
      "execution_count": null,
      "outputs": []
    },
    {
      "cell_type": "code",
      "source": [
        "#Normalize the data\n",
        "from sklearn.preprocessing import MinMaxScaler\n",
        "\n",
        "# Min-Max scaling to normalize the data to range [0, 1]\n",
        "#.fit_transfrom expects 2D input\n",
        "minmax_norm = MinMaxScaler().fit(x_train.reshape(-1,1))\n",
        "print(f\"Dataset min-max: {minmax_norm.data_min_}, {minmax_norm.data_max_}\")\n",
        "\n",
        "x_train_norm = minmax_norm.transform( x_train.reshape(-1,1)).reshape(-1,5)\n",
        "y_train_norm = minmax_norm.transform( y_train.reshape(-1,1)).reshape(-1,3)\n",
        "\n",
        "x_val_norm = minmax_norm.transform( x_val.reshape(-1,1)).reshape(-1,5)\n",
        "y_val_norm = minmax_norm.transform( y_val.reshape(-1,1)).reshape(-1,3)\n",
        "\n",
        "x_test_norm = minmax_norm.transform( x_test.reshape(-1,1)).reshape(-1,5)\n",
        "y_test_norm = minmax_norm.transform( y_test.reshape(-1,1)).reshape(-1,3)\n"
      ],
      "metadata": {
        "colab": {
          "base_uri": "https://localhost:8080/"
        },
        "outputId": "730546b4-45b2-4267-bc33-c892dcba04c7",
        "id": "w5-0FdLRfieF"
      },
      "execution_count": null,
      "outputs": [
        {
          "output_type": "stream",
          "name": "stdout",
          "text": [
            "Dataset min-max: [-4000.], [-1993.]\n"
          ]
        }
      ]
    },
    {
      "cell_type": "code",
      "source": [
        "#Format the data into (batch_size, time_step, input_dim) as required by the SimpleRNN layer\n",
        "print(\"\\n===== Train data after normalization =====\")\n",
        "print(f\"x_train_norm:{x_train_norm.shape}, y_train_norm:{y_train_norm.shape}\")\n",
        "for i in range(5):\n",
        "  print(f\"{i} : {x_train_norm[i]} , {y_train_norm[i]}\")\n",
        "\n",
        "print(\"\\n===== Validation data after normalization =====\")\n",
        "print(f\"x_val_norm:{x_val_norm.shape}, y_val_norm:{y_val_norm.shape}\")\n",
        "for i in range(5):\n",
        "  print(f\"{i} : {x_val_norm[i]} , {y_val_norm[i]}\")\n",
        "\n",
        "print(\"\\n===== Test data after normalization =====\")\n",
        "print(f\"x_test_norm:{x_test_norm.shape}, y_test_norm:{y_test_norm.shape}\")\n",
        "for i in range(5):\n",
        "  print(f\"{i} : {x_test_norm[i]} , {y_test_norm[i]}\")\n"
      ],
      "metadata": {
        "colab": {
          "base_uri": "https://localhost:8080/"
        },
        "outputId": "78f8766a-d4a4-40d5-edf8-9e3076122277",
        "id": "btteXfSPfieG"
      },
      "execution_count": null,
      "outputs": [
        {
          "output_type": "stream",
          "name": "stdout",
          "text": [
            "\n",
            "===== Train data after normalization =====\n",
            "x_train_norm:(1600, 5), y_train_norm:(1600, 3)\n",
            "0 : [0.48181365 0.48281016 0.48380668 0.48480319 0.4857997 ] , [0.4867962  0.48779267 0.48878926]\n",
            "1 : [0.31290483 0.31390135 0.31489786 0.31589437 0.31689088] , [0.31788737 0.31888396 0.31988043]\n",
            "2 : [0.28749377 0.28849028 0.2894868  0.29048331 0.29147982] , [0.29247636 0.29347283 0.2944693 ]\n",
            "3 : [0.04434479 0.04534131 0.04633782 0.04733433 0.04833084] , [0.04932732 0.05032391 0.05132038]\n",
            "4 : [0.5834579  0.58445441 0.58545092 0.58644743 0.58744395] , [0.5884405  0.58943695 0.5904334 ]\n",
            "\n",
            "===== Validation data after normalization =====\n",
            "x_val_norm:(200, 5), y_val_norm:(200, 3)\n",
            "0 : [0.39860488 0.3996014  0.40059791 0.40159442 0.40259093] , [0.4035874  0.404584   0.40558046]\n",
            "1 : [0.25510713 0.25610364 0.25710015 0.25809666 0.25909317] , [0.2600897  0.26108617 0.26208276]\n",
            "2 : [0.85450922 0.85550573 0.85650224 0.85749875 0.85849527] , [0.85949177 0.86048824 0.8614848 ]\n",
            "3 : [0.07673144 0.07772795 0.07872446 0.07972098 0.08071749] , [0.08171398 0.08271057 0.08370704]\n",
            "4 : [0.63577479 0.6367713  0.63776781 0.63876432 0.63976084] , [0.6407574  0.64175385 0.6427503 ]\n",
            "\n",
            "===== Test data after normalization =====\n",
            "x_test_norm:(200, 5), y_test_norm:(200, 3)\n",
            "0 : [0.93373194 0.93472845 0.93572496 0.93672147 0.93771799] , [0.93871444 0.93971103 0.9407075 ]\n",
            "1 : [0.32735426 0.32835077 0.32934728 0.3303438  0.33134031] , [0.33233684 0.3333333  0.33432978]\n",
            "2 : [0.14449427 0.14549078 0.14648729 0.14748381 0.14848032] , [0.14947683 0.1504733  0.15146989]\n",
            "3 : [0.00249128 0.00348779 0.0044843  0.00548082 0.00647733] , [0.00747389 0.00847036 0.00946683]\n",
            "4 : [0.55555556 0.55655207 0.55754858 0.55854509 0.5595416 ] , [0.5605381 0.5615346 0.5625312]\n"
          ]
        }
      ]
    },
    {
      "cell_type": "code",
      "source": [
        "# Add the third dimension of input_dim=1\n",
        "x_train_norm  = x_train_norm[..., np.newaxis]\n",
        "x_val_norm    = x_val_norm[..., np.newaxis]\n",
        "x_test_norm   = x_test_norm[..., np.newaxis]\n",
        "\n",
        "print(\"\\nDimension after changed:\")\n",
        "print(f\"x_train_norm : {x_train_norm.shape}\")\n",
        "print(f\"x_val_norm : {x_val_norm.shape}\")\n",
        "print(f\"x_test_norm : {x_test_norm.shape}\")"
      ],
      "metadata": {
        "colab": {
          "base_uri": "https://localhost:8080/"
        },
        "outputId": "b212805d-ab7d-4023-c8af-bb1dbedf3b0f",
        "id": "1GFv0NAGfieG"
      },
      "execution_count": null,
      "outputs": [
        {
          "output_type": "stream",
          "name": "stdout",
          "text": [
            "\n",
            "Dimension after changed:\n",
            "x_train_norm : (1600, 5, 1)\n",
            "x_val_norm : (200, 5, 1)\n",
            "x_test_norm : (200, 5, 1)\n"
          ]
        }
      ]
    },
    {
      "cell_type": "code",
      "source": [
        "#Covert everything  to the defalt of float32\n",
        "\n",
        "x_train_norm = x_train_norm.astype(np.float32)\n",
        "y_train_norm = y_train_norm.astype(np.float32)\n",
        "x_val_norm = x_val_norm.astype(np.float32)\n",
        "y_val_norm = y_val_norm.astype(np.float32)\n",
        "x_test_norm = x_test_norm.astype(np.float32)\n",
        "y_test_norm = y_test_norm.astype(np.float32)"
      ],
      "metadata": {
        "id": "aOf1U0ddfieG"
      },
      "execution_count": null,
      "outputs": []
    },
    {
      "cell_type": "markdown",
      "source": [
        "## 4.3 Compile and train the model"
      ],
      "metadata": {
        "id": "KMt3v9LIfieG"
      }
    },
    {
      "cell_type": "code",
      "source": [
        "adam = tf.keras.optimizers.Adam(learning_rate=0.001)\n",
        "\n",
        "# For regression, the loss can be used as the evaluation metric as well\n",
        "ex4_rnn.compile(loss='mse', optimizer=adam, metrics=[])\n",
        "\n",
        "checkpoint_filepath = \"RNN_ex4_bestmodel_epoch{epoch:03d}.hdf5\"\n",
        "\n",
        "model_checkpoint_callback = tf.keras.callbacks.ModelCheckpoint(filepath=checkpoint_filepath,\n",
        "                                                               save_weights_only=False,\n",
        "                                                               monitor='val_loss',\n",
        "                                                               mode='min',\n",
        "                                                               save_best_only=True)"
      ],
      "metadata": {
        "id": "vt3EZs_ofieG"
      },
      "execution_count": null,
      "outputs": []
    },
    {
      "cell_type": "code",
      "source": [
        "hist_ex4 = ex4_rnn.fit(x_train_norm, y_train_norm,\n",
        "                  validation_data=(x_val_norm, y_val_norm),\n",
        "                  batch_size=64, epochs=300,\n",
        "                  callbacks=[model_checkpoint_callback])"
      ],
      "metadata": {
        "colab": {
          "base_uri": "https://localhost:8080/"
        },
        "id": "n546CkIgfieG",
        "outputId": "75bfb92d-d182-4740-ac5f-c9d0a70dd05d"
      },
      "execution_count": null,
      "outputs": [
        {
          "output_type": "stream",
          "name": "stdout",
          "text": [
            "Epoch 1/300\n",
            "25/25 [==============================] - 5s 34ms/step - loss: 0.1498 - val_loss: 0.0173\n",
            "Epoch 2/300\n",
            "25/25 [==============================] - 0s 12ms/step - loss: 0.0169 - val_loss: 0.0090\n",
            "Epoch 3/300\n",
            "25/25 [==============================] - 0s 12ms/step - loss: 0.0085 - val_loss: 0.0051\n",
            "Epoch 4/300\n",
            "25/25 [==============================] - 0s 13ms/step - loss: 0.0057 - val_loss: 0.0038\n",
            "Epoch 5/300\n",
            "25/25 [==============================] - 0s 12ms/step - loss: 0.0043 - val_loss: 0.0029\n",
            "Epoch 6/300\n",
            "25/25 [==============================] - 0s 12ms/step - loss: 0.0033 - val_loss: 0.0022\n",
            "Epoch 7/300\n",
            "25/25 [==============================] - 0s 13ms/step - loss: 0.0025 - val_loss: 0.0017\n",
            "Epoch 8/300\n",
            "25/25 [==============================] - 0s 12ms/step - loss: 0.0020 - val_loss: 0.0014\n",
            "Epoch 9/300\n",
            "25/25 [==============================] - 0s 12ms/step - loss: 0.0015 - val_loss: 0.0011\n",
            "Epoch 10/300\n",
            "25/25 [==============================] - 0s 12ms/step - loss: 0.0012 - val_loss: 8.4898e-04\n",
            "Epoch 11/300\n",
            "25/25 [==============================] - 0s 12ms/step - loss: 9.4492e-04 - val_loss: 7.8544e-04\n",
            "Epoch 12/300\n",
            "25/25 [==============================] - 0s 12ms/step - loss: 7.4969e-04 - val_loss: 5.3399e-04\n",
            "Epoch 13/300\n",
            "25/25 [==============================] - 0s 12ms/step - loss: 5.7119e-04 - val_loss: 4.2122e-04\n",
            "Epoch 14/300\n",
            "25/25 [==============================] - 0s 12ms/step - loss: 4.4508e-04 - val_loss: 3.3140e-04\n",
            "Epoch 15/300\n",
            "25/25 [==============================] - 0s 12ms/step - loss: 3.5424e-04 - val_loss: 3.0129e-04\n",
            "Epoch 16/300\n",
            "25/25 [==============================] - 0s 12ms/step - loss: 2.8787e-04 - val_loss: 2.1999e-04\n",
            "Epoch 17/300\n",
            "25/25 [==============================] - 0s 12ms/step - loss: 2.3424e-04 - val_loss: 1.8337e-04\n",
            "Epoch 18/300\n",
            "25/25 [==============================] - 0s 12ms/step - loss: 1.9734e-04 - val_loss: 1.7502e-04\n",
            "Epoch 19/300\n",
            "25/25 [==============================] - 0s 12ms/step - loss: 1.7566e-04 - val_loss: 1.4547e-04\n",
            "Epoch 20/300\n",
            "25/25 [==============================] - 0s 12ms/step - loss: 1.5143e-04 - val_loss: 1.3124e-04\n",
            "Epoch 21/300\n",
            "25/25 [==============================] - 0s 12ms/step - loss: 1.3518e-04 - val_loss: 1.2746e-04\n",
            "Epoch 22/300\n",
            "25/25 [==============================] - 0s 12ms/step - loss: 1.2598e-04 - val_loss: 1.1507e-04\n",
            "Epoch 23/300\n",
            "25/25 [==============================] - 0s 12ms/step - loss: 1.1767e-04 - val_loss: 1.0460e-04\n",
            "Epoch 24/300\n",
            "25/25 [==============================] - 0s 12ms/step - loss: 1.1350e-04 - val_loss: 1.0026e-04\n",
            "Epoch 25/300\n",
            "25/25 [==============================] - 0s 12ms/step - loss: 1.0521e-04 - val_loss: 9.8397e-05\n",
            "Epoch 26/300\n",
            "25/25 [==============================] - 0s 12ms/step - loss: 1.0210e-04 - val_loss: 8.5685e-05\n",
            "Epoch 27/300\n",
            "25/25 [==============================] - 0s 11ms/step - loss: 9.8710e-05 - val_loss: 9.3501e-05\n",
            "Epoch 28/300\n",
            "25/25 [==============================] - 0s 13ms/step - loss: 9.6903e-05 - val_loss: 8.3885e-05\n",
            "Epoch 29/300\n",
            "25/25 [==============================] - 0s 12ms/step - loss: 8.9581e-05 - val_loss: 8.0544e-05\n",
            "Epoch 30/300\n",
            "25/25 [==============================] - 0s 12ms/step - loss: 8.3988e-05 - val_loss: 7.4983e-05\n",
            "Epoch 31/300\n",
            "25/25 [==============================] - 0s 12ms/step - loss: 8.0754e-05 - val_loss: 7.2939e-05\n",
            "Epoch 32/300\n",
            "25/25 [==============================] - 0s 12ms/step - loss: 7.8333e-05 - val_loss: 7.0389e-05\n",
            "Epoch 33/300\n",
            "25/25 [==============================] - 0s 12ms/step - loss: 7.4388e-05 - val_loss: 6.4068e-05\n",
            "Epoch 34/300\n",
            "25/25 [==============================] - 0s 12ms/step - loss: 7.2817e-05 - val_loss: 6.2582e-05\n",
            "Epoch 35/300\n",
            "25/25 [==============================] - 0s 13ms/step - loss: 7.0207e-05 - val_loss: 6.1101e-05\n",
            "Epoch 36/300\n",
            "25/25 [==============================] - 0s 11ms/step - loss: 6.6365e-05 - val_loss: 6.2845e-05\n",
            "Epoch 37/300\n",
            "25/25 [==============================] - 0s 11ms/step - loss: 6.5110e-05 - val_loss: 5.3501e-05\n",
            "Epoch 38/300\n",
            "25/25 [==============================] - 0s 11ms/step - loss: 6.1942e-05 - val_loss: 6.6373e-05\n",
            "Epoch 39/300\n",
            "25/25 [==============================] - 0s 12ms/step - loss: 6.2357e-05 - val_loss: 5.2024e-05\n",
            "Epoch 40/300\n",
            "25/25 [==============================] - 0s 12ms/step - loss: 5.7105e-05 - val_loss: 5.0248e-05\n",
            "Epoch 41/300\n",
            "25/25 [==============================] - 0s 12ms/step - loss: 5.3762e-05 - val_loss: 4.8679e-05\n",
            "Epoch 42/300\n",
            "25/25 [==============================] - 0s 12ms/step - loss: 5.0549e-05 - val_loss: 4.4625e-05\n",
            "Epoch 43/300\n",
            "25/25 [==============================] - 0s 12ms/step - loss: 4.8417e-05 - val_loss: 4.2924e-05\n",
            "Epoch 44/300\n",
            "25/25 [==============================] - 0s 10ms/step - loss: 4.7380e-05 - val_loss: 4.3124e-05\n",
            "Epoch 45/300\n",
            "25/25 [==============================] - 0s 12ms/step - loss: 4.8179e-05 - val_loss: 3.9245e-05\n",
            "Epoch 46/300\n",
            "25/25 [==============================] - 0s 12ms/step - loss: 4.4325e-05 - val_loss: 3.8021e-05\n",
            "Epoch 47/300\n",
            "25/25 [==============================] - 0s 12ms/step - loss: 4.1530e-05 - val_loss: 3.3136e-05\n",
            "Epoch 48/300\n",
            "25/25 [==============================] - 0s 11ms/step - loss: 4.1848e-05 - val_loss: 3.7757e-05\n",
            "Epoch 49/300\n",
            "25/25 [==============================] - 0s 11ms/step - loss: 3.9827e-05 - val_loss: 3.8251e-05\n",
            "Epoch 50/300\n",
            "25/25 [==============================] - 0s 12ms/step - loss: 3.7295e-05 - val_loss: 3.1918e-05\n",
            "Epoch 51/300\n",
            "25/25 [==============================] - 0s 11ms/step - loss: 3.5602e-05 - val_loss: 3.3878e-05\n",
            "Epoch 52/300\n",
            "25/25 [==============================] - 0s 12ms/step - loss: 3.4625e-05 - val_loss: 3.0827e-05\n",
            "Epoch 53/300\n",
            "25/25 [==============================] - 0s 11ms/step - loss: 3.5246e-05 - val_loss: 3.8991e-05\n",
            "Epoch 54/300\n",
            "25/25 [==============================] - 0s 12ms/step - loss: 3.2192e-05 - val_loss: 2.6198e-05\n",
            "Epoch 55/300\n",
            "25/25 [==============================] - 0s 11ms/step - loss: 3.0226e-05 - val_loss: 2.6222e-05\n",
            "Epoch 56/300\n",
            "25/25 [==============================] - 0s 11ms/step - loss: 2.9348e-05 - val_loss: 2.6539e-05\n",
            "Epoch 57/300\n",
            "25/25 [==============================] - 0s 12ms/step - loss: 2.5687e-05 - val_loss: 2.2224e-05\n",
            "Epoch 58/300\n",
            "25/25 [==============================] - 0s 12ms/step - loss: 2.4965e-05 - val_loss: 2.1419e-05\n",
            "Epoch 59/300\n",
            "25/25 [==============================] - 0s 12ms/step - loss: 2.4718e-05 - val_loss: 2.1064e-05\n",
            "Epoch 60/300\n",
            "25/25 [==============================] - 0s 12ms/step - loss: 2.2670e-05 - val_loss: 1.8815e-05\n",
            "Epoch 61/300\n",
            "25/25 [==============================] - 0s 11ms/step - loss: 2.2656e-05 - val_loss: 2.1773e-05\n",
            "Epoch 62/300\n",
            "25/25 [==============================] - 0s 10ms/step - loss: 2.1901e-05 - val_loss: 2.2241e-05\n",
            "Epoch 63/300\n",
            "25/25 [==============================] - 0s 11ms/step - loss: 2.2673e-05 - val_loss: 2.4648e-05\n",
            "Epoch 64/300\n",
            "25/25 [==============================] - 0s 11ms/step - loss: 2.1229e-05 - val_loss: 1.9049e-05\n",
            "Epoch 65/300\n",
            "25/25 [==============================] - 0s 12ms/step - loss: 1.9468e-05 - val_loss: 1.4886e-05\n",
            "Epoch 66/300\n",
            "25/25 [==============================] - 0s 12ms/step - loss: 1.7348e-05 - val_loss: 1.4523e-05\n",
            "Epoch 67/300\n",
            "25/25 [==============================] - 0s 11ms/step - loss: 1.7430e-05 - val_loss: 1.6203e-05\n",
            "Epoch 68/300\n",
            "25/25 [==============================] - 0s 11ms/step - loss: 1.7071e-05 - val_loss: 2.2819e-05\n",
            "Epoch 69/300\n",
            "25/25 [==============================] - 0s 12ms/step - loss: 1.5539e-05 - val_loss: 1.3597e-05\n",
            "Epoch 70/300\n",
            "25/25 [==============================] - 0s 12ms/step - loss: 1.5046e-05 - val_loss: 1.2514e-05\n",
            "Epoch 71/300\n",
            "25/25 [==============================] - 0s 11ms/step - loss: 1.5128e-05 - val_loss: 1.2315e-05\n",
            "Epoch 72/300\n",
            "25/25 [==============================] - 0s 12ms/step - loss: 1.3938e-05 - val_loss: 1.0994e-05\n",
            "Epoch 73/300\n",
            "25/25 [==============================] - 0s 10ms/step - loss: 1.2654e-05 - val_loss: 1.1180e-05\n",
            "Epoch 74/300\n",
            "25/25 [==============================] - 0s 12ms/step - loss: 1.2555e-05 - val_loss: 1.0592e-05\n",
            "Epoch 75/300\n",
            "25/25 [==============================] - 0s 12ms/step - loss: 1.1991e-05 - val_loss: 1.0256e-05\n",
            "Epoch 76/300\n",
            "25/25 [==============================] - 0s 12ms/step - loss: 1.1300e-05 - val_loss: 9.4330e-06\n",
            "Epoch 77/300\n",
            "25/25 [==============================] - 0s 11ms/step - loss: 1.0635e-05 - val_loss: 9.9435e-06\n",
            "Epoch 78/300\n",
            "25/25 [==============================] - 0s 11ms/step - loss: 1.0945e-05 - val_loss: 9.8801e-06\n",
            "Epoch 79/300\n",
            "25/25 [==============================] - 0s 12ms/step - loss: 1.0008e-05 - val_loss: 8.0552e-06\n",
            "Epoch 80/300\n",
            "25/25 [==============================] - 0s 11ms/step - loss: 9.5176e-06 - val_loss: 1.0451e-05\n",
            "Epoch 81/300\n",
            "25/25 [==============================] - 0s 12ms/step - loss: 9.8288e-06 - val_loss: 8.1618e-06\n",
            "Epoch 82/300\n",
            "25/25 [==============================] - 0s 12ms/step - loss: 8.8473e-06 - val_loss: 7.7545e-06\n",
            "Epoch 83/300\n",
            "25/25 [==============================] - 0s 11ms/step - loss: 8.5662e-06 - val_loss: 8.0905e-06\n",
            "Epoch 84/300\n",
            "25/25 [==============================] - 0s 12ms/step - loss: 8.0318e-06 - val_loss: 6.7649e-06\n",
            "Epoch 85/300\n",
            "25/25 [==============================] - 0s 11ms/step - loss: 7.8880e-06 - val_loss: 7.2743e-06\n",
            "Epoch 86/300\n",
            "25/25 [==============================] - 0s 11ms/step - loss: 8.1868e-06 - val_loss: 7.1080e-06\n",
            "Epoch 87/300\n",
            "25/25 [==============================] - 0s 11ms/step - loss: 8.2129e-06 - val_loss: 6.4712e-06\n",
            "Epoch 88/300\n",
            "25/25 [==============================] - 0s 11ms/step - loss: 7.4770e-06 - val_loss: 7.7143e-06\n",
            "Epoch 89/300\n",
            "25/25 [==============================] - 0s 12ms/step - loss: 7.9687e-06 - val_loss: 6.1294e-06\n",
            "Epoch 90/300\n",
            "25/25 [==============================] - 0s 11ms/step - loss: 6.9801e-06 - val_loss: 5.8507e-06\n",
            "Epoch 91/300\n",
            "25/25 [==============================] - 0s 10ms/step - loss: 6.1356e-06 - val_loss: 8.3875e-06\n",
            "Epoch 92/300\n",
            "25/25 [==============================] - 0s 11ms/step - loss: 6.9731e-06 - val_loss: 8.3689e-06\n",
            "Epoch 93/300\n",
            "25/25 [==============================] - 0s 12ms/step - loss: 6.6918e-06 - val_loss: 4.7873e-06\n",
            "Epoch 94/300\n",
            "25/25 [==============================] - 0s 12ms/step - loss: 5.6781e-06 - val_loss: 4.5006e-06\n",
            "Epoch 95/300\n",
            "25/25 [==============================] - 0s 11ms/step - loss: 6.4241e-06 - val_loss: 6.6887e-06\n",
            "Epoch 96/300\n",
            "25/25 [==============================] - 0s 11ms/step - loss: 6.1602e-06 - val_loss: 4.6872e-06\n",
            "Epoch 97/300\n",
            "25/25 [==============================] - 0s 11ms/step - loss: 5.6085e-06 - val_loss: 5.8326e-06\n",
            "Epoch 98/300\n",
            "25/25 [==============================] - 0s 11ms/step - loss: 5.3577e-06 - val_loss: 4.5136e-06\n",
            "Epoch 99/300\n",
            "25/25 [==============================] - 0s 11ms/step - loss: 5.5416e-06 - val_loss: 4.7728e-06\n",
            "Epoch 100/300\n",
            "25/25 [==============================] - 0s 12ms/step - loss: 4.8438e-06 - val_loss: 4.1829e-06\n",
            "Epoch 101/300\n",
            "25/25 [==============================] - 0s 12ms/step - loss: 4.7548e-06 - val_loss: 3.9020e-06\n",
            "Epoch 102/300\n",
            "25/25 [==============================] - 0s 11ms/step - loss: 5.2949e-06 - val_loss: 5.6333e-06\n",
            "Epoch 103/300\n",
            "25/25 [==============================] - 0s 11ms/step - loss: 4.8510e-06 - val_loss: 5.4357e-06\n",
            "Epoch 104/300\n",
            "25/25 [==============================] - 0s 11ms/step - loss: 5.4934e-06 - val_loss: 4.0266e-06\n",
            "Epoch 105/300\n",
            "25/25 [==============================] - 0s 11ms/step - loss: 4.4451e-06 - val_loss: 4.4913e-06\n",
            "Epoch 106/300\n",
            "25/25 [==============================] - 0s 12ms/step - loss: 4.5275e-06 - val_loss: 3.6628e-06\n",
            "Epoch 107/300\n",
            "25/25 [==============================] - 0s 11ms/step - loss: 4.7967e-06 - val_loss: 4.9771e-06\n",
            "Epoch 108/300\n",
            "25/25 [==============================] - 0s 11ms/step - loss: 5.4298e-06 - val_loss: 4.3463e-06\n",
            "Epoch 109/300\n",
            "25/25 [==============================] - 0s 11ms/step - loss: 4.3476e-06 - val_loss: 3.2971e-06\n",
            "Epoch 110/300\n",
            "25/25 [==============================] - 0s 12ms/step - loss: 4.2998e-06 - val_loss: 3.1966e-06\n",
            "Epoch 111/300\n",
            "25/25 [==============================] - 0s 10ms/step - loss: 3.8460e-06 - val_loss: 9.3317e-06\n",
            "Epoch 112/300\n",
            "25/25 [==============================] - 0s 10ms/step - loss: 4.8939e-06 - val_loss: 3.9200e-06\n",
            "Epoch 113/300\n",
            "25/25 [==============================] - 0s 12ms/step - loss: 4.1528e-06 - val_loss: 3.1466e-06\n",
            "Epoch 114/300\n",
            "25/25 [==============================] - 0s 12ms/step - loss: 3.5325e-06 - val_loss: 2.7224e-06\n",
            "Epoch 115/300\n",
            "25/25 [==============================] - 0s 10ms/step - loss: 3.6651e-06 - val_loss: 2.8541e-06\n",
            "Epoch 116/300\n",
            "25/25 [==============================] - 0s 10ms/step - loss: 3.6753e-06 - val_loss: 3.6105e-06\n",
            "Epoch 117/300\n",
            "25/25 [==============================] - 0s 11ms/step - loss: 3.7314e-06 - val_loss: 3.5409e-06\n",
            "Epoch 118/300\n",
            "25/25 [==============================] - 0s 11ms/step - loss: 3.9382e-06 - val_loss: 2.8514e-06\n",
            "Epoch 119/300\n",
            "25/25 [==============================] - 0s 11ms/step - loss: 3.5915e-06 - val_loss: 2.5982e-06\n",
            "Epoch 120/300\n",
            "25/25 [==============================] - 0s 12ms/step - loss: 3.1325e-06 - val_loss: 2.4897e-06\n",
            "Epoch 121/300\n",
            "25/25 [==============================] - 0s 11ms/step - loss: 3.2173e-06 - val_loss: 3.1520e-06\n",
            "Epoch 122/300\n",
            "25/25 [==============================] - 0s 11ms/step - loss: 3.3682e-06 - val_loss: 2.7889e-06\n",
            "Epoch 123/300\n",
            "25/25 [==============================] - 0s 11ms/step - loss: 3.3445e-06 - val_loss: 2.6296e-06\n",
            "Epoch 124/300\n",
            "25/25 [==============================] - 0s 11ms/step - loss: 4.4686e-06 - val_loss: 3.6572e-06\n",
            "Epoch 125/300\n",
            "25/25 [==============================] - 0s 11ms/step - loss: 3.4989e-06 - val_loss: 3.2178e-06\n",
            "Epoch 126/300\n",
            "25/25 [==============================] - 0s 11ms/step - loss: 5.0559e-06 - val_loss: 4.3774e-06\n",
            "Epoch 127/300\n",
            "25/25 [==============================] - 0s 10ms/step - loss: 3.8141e-06 - val_loss: 4.9581e-06\n",
            "Epoch 128/300\n",
            "25/25 [==============================] - 0s 10ms/step - loss: 4.0325e-06 - val_loss: 2.5419e-06\n",
            "Epoch 129/300\n",
            "25/25 [==============================] - 0s 12ms/step - loss: 2.8084e-06 - val_loss: 2.1284e-06\n",
            "Epoch 130/300\n",
            "25/25 [==============================] - 0s 12ms/step - loss: 3.3025e-06 - val_loss: 2.0794e-06\n",
            "Epoch 131/300\n",
            "25/25 [==============================] - 0s 11ms/step - loss: 4.0875e-06 - val_loss: 2.5043e-06\n",
            "Epoch 132/300\n",
            "25/25 [==============================] - 0s 11ms/step - loss: 4.1356e-06 - val_loss: 2.7135e-06\n",
            "Epoch 133/300\n",
            "25/25 [==============================] - 0s 11ms/step - loss: 5.2075e-06 - val_loss: 2.5831e-06\n",
            "Epoch 134/300\n",
            "25/25 [==============================] - 0s 11ms/step - loss: 3.9769e-06 - val_loss: 5.0543e-06\n",
            "Epoch 135/300\n",
            "25/25 [==============================] - 0s 11ms/step - loss: 3.6978e-06 - val_loss: 2.9466e-06\n",
            "Epoch 136/300\n",
            "25/25 [==============================] - 0s 11ms/step - loss: 2.9559e-06 - val_loss: 2.5269e-06\n",
            "Epoch 137/300\n",
            "25/25 [==============================] - 0s 11ms/step - loss: 3.0530e-06 - val_loss: 2.1989e-06\n",
            "Epoch 138/300\n",
            "25/25 [==============================] - 0s 11ms/step - loss: 5.2034e-06 - val_loss: 3.0728e-06\n",
            "Epoch 139/300\n",
            "25/25 [==============================] - 0s 11ms/step - loss: 2.9334e-06 - val_loss: 2.9634e-06\n",
            "Epoch 140/300\n",
            "25/25 [==============================] - 0s 10ms/step - loss: 4.7549e-06 - val_loss: 5.3877e-06\n",
            "Epoch 141/300\n",
            "25/25 [==============================] - 0s 11ms/step - loss: 3.4160e-06 - val_loss: 3.0664e-06\n",
            "Epoch 142/300\n",
            "25/25 [==============================] - 0s 11ms/step - loss: 3.8127e-06 - val_loss: 3.2340e-06\n",
            "Epoch 143/300\n",
            "25/25 [==============================] - 0s 11ms/step - loss: 2.7525e-06 - val_loss: 3.0047e-06\n",
            "Epoch 144/300\n",
            "25/25 [==============================] - 0s 11ms/step - loss: 6.1815e-06 - val_loss: 2.8638e-06\n",
            "Epoch 145/300\n",
            "25/25 [==============================] - 0s 11ms/step - loss: 3.6262e-06 - val_loss: 3.6022e-06\n",
            "Epoch 146/300\n",
            "25/25 [==============================] - 0s 11ms/step - loss: 3.6854e-06 - val_loss: 2.2297e-06\n",
            "Epoch 147/300\n",
            "25/25 [==============================] - 0s 12ms/step - loss: 3.3448e-06 - val_loss: 4.4382e-06\n",
            "Epoch 148/300\n",
            "25/25 [==============================] - 0s 10ms/step - loss: 3.3588e-06 - val_loss: 3.9499e-06\n",
            "Epoch 149/300\n",
            "25/25 [==============================] - 0s 11ms/step - loss: 3.0217e-06 - val_loss: 2.0995e-06\n",
            "Epoch 150/300\n",
            "25/25 [==============================] - 0s 11ms/step - loss: 2.8901e-06 - val_loss: 2.2403e-06\n",
            "Epoch 151/300\n",
            "25/25 [==============================] - 0s 12ms/step - loss: 3.1323e-06 - val_loss: 1.6546e-06\n",
            "Epoch 152/300\n",
            "25/25 [==============================] - 0s 11ms/step - loss: 3.6513e-05 - val_loss: 4.0317e-05\n",
            "Epoch 153/300\n",
            "25/25 [==============================] - 0s 11ms/step - loss: 2.1756e-05 - val_loss: 3.4984e-06\n",
            "Epoch 154/300\n",
            "25/25 [==============================] - 0s 11ms/step - loss: 3.5730e-06 - val_loss: 3.0637e-06\n",
            "Epoch 155/300\n",
            "25/25 [==============================] - 0s 10ms/step - loss: 2.4597e-06 - val_loss: 5.5521e-06\n",
            "Epoch 156/300\n",
            "25/25 [==============================] - 0s 11ms/step - loss: 3.8682e-06 - val_loss: 5.9766e-06\n",
            "Epoch 157/300\n",
            "25/25 [==============================] - 0s 11ms/step - loss: 4.4237e-06 - val_loss: 1.8746e-06\n",
            "Epoch 158/300\n",
            "25/25 [==============================] - 0s 11ms/step - loss: 4.6398e-06 - val_loss: 9.8823e-06\n",
            "Epoch 159/300\n",
            "25/25 [==============================] - 0s 11ms/step - loss: 5.1501e-06 - val_loss: 3.0733e-06\n",
            "Epoch 160/300\n",
            "25/25 [==============================] - 0s 10ms/step - loss: 1.4157e-05 - val_loss: 4.8062e-05\n",
            "Epoch 161/300\n",
            "25/25 [==============================] - 0s 11ms/step - loss: 1.9708e-05 - val_loss: 4.1417e-06\n",
            "Epoch 162/300\n",
            "25/25 [==============================] - 0s 11ms/step - loss: 1.6397e-05 - val_loss: 1.5031e-05\n",
            "Epoch 163/300\n",
            "25/25 [==============================] - 0s 11ms/step - loss: 8.4077e-06 - val_loss: 9.0405e-06\n",
            "Epoch 164/300\n",
            "25/25 [==============================] - 0s 11ms/step - loss: 2.4885e-05 - val_loss: 1.7353e-05\n",
            "Epoch 165/300\n",
            "25/25 [==============================] - 0s 11ms/step - loss: 1.2914e-05 - val_loss: 8.0457e-06\n",
            "Epoch 166/300\n",
            "25/25 [==============================] - 0s 11ms/step - loss: 3.4375e-06 - val_loss: 2.9131e-06\n",
            "Epoch 167/300\n",
            "25/25 [==============================] - 0s 11ms/step - loss: 1.1163e-05 - val_loss: 6.4762e-06\n",
            "Epoch 168/300\n",
            "25/25 [==============================] - 0s 11ms/step - loss: 1.1943e-05 - val_loss: 2.8082e-06\n",
            "Epoch 169/300\n",
            "25/25 [==============================] - 0s 11ms/step - loss: 2.9638e-06 - val_loss: 2.5364e-06\n",
            "Epoch 170/300\n",
            "25/25 [==============================] - 0s 10ms/step - loss: 1.4703e-05 - val_loss: 2.3105e-05\n",
            "Epoch 171/300\n",
            "25/25 [==============================] - 0s 11ms/step - loss: 1.2618e-05 - val_loss: 1.7008e-05\n",
            "Epoch 172/300\n",
            "25/25 [==============================] - 0s 11ms/step - loss: 1.5540e-05 - val_loss: 5.2399e-06\n",
            "Epoch 173/300\n",
            "25/25 [==============================] - 0s 11ms/step - loss: 3.9929e-06 - val_loss: 4.8494e-06\n",
            "Epoch 174/300\n",
            "25/25 [==============================] - 0s 11ms/step - loss: 3.1182e-05 - val_loss: 1.6414e-05\n",
            "Epoch 175/300\n",
            "25/25 [==============================] - 0s 11ms/step - loss: 9.1051e-06 - val_loss: 1.4610e-05\n",
            "Epoch 176/300\n",
            "25/25 [==============================] - 0s 11ms/step - loss: 1.7472e-05 - val_loss: 3.3467e-06\n",
            "Epoch 177/300\n",
            "25/25 [==============================] - 0s 11ms/step - loss: 8.0762e-06 - val_loss: 6.4027e-06\n",
            "Epoch 178/300\n",
            "25/25 [==============================] - 0s 11ms/step - loss: 4.5824e-06 - val_loss: 7.6151e-06\n",
            "Epoch 179/300\n",
            "25/25 [==============================] - 0s 11ms/step - loss: 9.5715e-06 - val_loss: 2.5199e-05\n",
            "Epoch 180/300\n",
            "25/25 [==============================] - 0s 12ms/step - loss: 1.1487e-05 - val_loss: 1.4271e-06\n",
            "Epoch 181/300\n",
            "25/25 [==============================] - 0s 12ms/step - loss: 5.2930e-06 - val_loss: 6.7253e-06\n",
            "Epoch 182/300\n",
            "25/25 [==============================] - 0s 11ms/step - loss: 1.6072e-05 - val_loss: 3.3925e-06\n",
            "Epoch 183/300\n",
            "25/25 [==============================] - 0s 11ms/step - loss: 5.2184e-06 - val_loss: 5.0848e-06\n",
            "Epoch 184/300\n",
            "25/25 [==============================] - 0s 11ms/step - loss: 5.4119e-06 - val_loss: 4.7449e-06\n",
            "Epoch 185/300\n",
            "25/25 [==============================] - 0s 11ms/step - loss: 1.4049e-05 - val_loss: 6.5682e-05\n",
            "Epoch 186/300\n",
            "25/25 [==============================] - 0s 10ms/step - loss: 4.1715e-05 - val_loss: 2.4280e-05\n",
            "Epoch 187/300\n",
            "25/25 [==============================] - 0s 11ms/step - loss: 3.1205e-05 - val_loss: 1.3425e-05\n",
            "Epoch 188/300\n",
            "25/25 [==============================] - 0s 10ms/step - loss: 7.5667e-06 - val_loss: 1.7935e-06\n",
            "Epoch 189/300\n",
            "25/25 [==============================] - 0s 11ms/step - loss: 2.2560e-06 - val_loss: 4.0849e-06\n",
            "Epoch 190/300\n",
            "25/25 [==============================] - 0s 11ms/step - loss: 4.4401e-06 - val_loss: 2.7800e-06\n",
            "Epoch 191/300\n",
            "25/25 [==============================] - 0s 10ms/step - loss: 6.3847e-06 - val_loss: 1.7201e-06\n",
            "Epoch 192/300\n",
            "25/25 [==============================] - 0s 12ms/step - loss: 1.2617e-05 - val_loss: 2.0222e-05\n",
            "Epoch 193/300\n",
            "25/25 [==============================] - 0s 11ms/step - loss: 5.9920e-05 - val_loss: 5.4315e-05\n",
            "Epoch 194/300\n",
            "25/25 [==============================] - 0s 11ms/step - loss: 4.1252e-05 - val_loss: 6.1367e-06\n",
            "Epoch 195/300\n",
            "25/25 [==============================] - 0s 11ms/step - loss: 2.8544e-05 - val_loss: 3.2174e-06\n",
            "Epoch 196/300\n",
            "25/25 [==============================] - 0s 11ms/step - loss: 6.3115e-06 - val_loss: 5.1473e-06\n",
            "Epoch 197/300\n",
            "25/25 [==============================] - 0s 10ms/step - loss: 3.8628e-06 - val_loss: 2.0668e-06\n",
            "Epoch 198/300\n",
            "25/25 [==============================] - 0s 11ms/step - loss: 3.4732e-06 - val_loss: 3.4553e-06\n",
            "Epoch 199/300\n",
            "25/25 [==============================] - 0s 11ms/step - loss: 5.9432e-06 - val_loss: 1.7506e-05\n",
            "Epoch 200/300\n",
            "25/25 [==============================] - 0s 11ms/step - loss: 9.4932e-06 - val_loss: 2.6830e-06\n",
            "Epoch 201/300\n",
            "25/25 [==============================] - 0s 10ms/step - loss: 8.9029e-06 - val_loss: 2.4250e-05\n",
            "Epoch 202/300\n",
            "25/25 [==============================] - 0s 11ms/step - loss: 3.1910e-05 - val_loss: 1.0530e-05\n",
            "Epoch 203/300\n",
            "25/25 [==============================] - 0s 11ms/step - loss: 2.5299e-05 - val_loss: 5.2624e-06\n",
            "Epoch 204/300\n",
            "25/25 [==============================] - 0s 11ms/step - loss: 2.9229e-05 - val_loss: 2.6333e-05\n",
            "Epoch 205/300\n",
            "25/25 [==============================] - 0s 11ms/step - loss: 2.6638e-05 - val_loss: 5.3541e-05\n",
            "Epoch 206/300\n",
            "25/25 [==============================] - 0s 10ms/step - loss: 1.1264e-05 - val_loss: 1.2138e-05\n",
            "Epoch 207/300\n",
            "25/25 [==============================] - 0s 11ms/step - loss: 7.2937e-06 - val_loss: 4.6606e-06\n",
            "Epoch 208/300\n",
            "25/25 [==============================] - 0s 11ms/step - loss: 3.9210e-06 - val_loss: 4.3270e-06\n",
            "Epoch 209/300\n",
            "25/25 [==============================] - 0s 11ms/step - loss: 1.4516e-05 - val_loss: 3.9953e-05\n",
            "Epoch 210/300\n",
            "25/25 [==============================] - 0s 11ms/step - loss: 1.5704e-05 - val_loss: 1.6814e-05\n",
            "Epoch 211/300\n",
            "25/25 [==============================] - 0s 11ms/step - loss: 1.6054e-05 - val_loss: 1.0793e-05\n",
            "Epoch 212/300\n",
            "25/25 [==============================] - 0s 11ms/step - loss: 6.1759e-06 - val_loss: 3.7484e-06\n",
            "Epoch 213/300\n",
            "25/25 [==============================] - 0s 11ms/step - loss: 4.0371e-06 - val_loss: 1.2023e-05\n",
            "Epoch 214/300\n",
            "25/25 [==============================] - 0s 11ms/step - loss: 2.1881e-05 - val_loss: 1.1470e-04\n",
            "Epoch 215/300\n",
            "25/25 [==============================] - 0s 11ms/step - loss: 4.5923e-05 - val_loss: 1.1325e-05\n",
            "Epoch 216/300\n",
            "25/25 [==============================] - 0s 11ms/step - loss: 1.0157e-05 - val_loss: 1.4585e-05\n",
            "Epoch 217/300\n",
            "25/25 [==============================] - 0s 10ms/step - loss: 1.3825e-05 - val_loss: 2.4648e-05\n",
            "Epoch 218/300\n",
            "25/25 [==============================] - 0s 11ms/step - loss: 1.1829e-05 - val_loss: 6.0560e-06\n",
            "Epoch 219/300\n",
            "25/25 [==============================] - 0s 11ms/step - loss: 8.9287e-06 - val_loss: 1.1593e-05\n",
            "Epoch 220/300\n",
            "25/25 [==============================] - 0s 12ms/step - loss: 1.7678e-05 - val_loss: 1.3016e-06\n",
            "Epoch 221/300\n",
            "25/25 [==============================] - 0s 11ms/step - loss: 4.4478e-06 - val_loss: 4.6617e-06\n",
            "Epoch 222/300\n",
            "25/25 [==============================] - 0s 11ms/step - loss: 5.2915e-06 - val_loss: 1.7234e-06\n",
            "Epoch 223/300\n",
            "25/25 [==============================] - 0s 12ms/step - loss: 2.0850e-06 - val_loss: 1.1465e-06\n",
            "Epoch 224/300\n",
            "25/25 [==============================] - 0s 11ms/step - loss: 3.4417e-06 - val_loss: 2.9094e-06\n",
            "Epoch 225/300\n",
            "25/25 [==============================] - 0s 11ms/step - loss: 3.3910e-06 - val_loss: 4.1775e-06\n",
            "Epoch 226/300\n",
            "25/25 [==============================] - 0s 11ms/step - loss: 5.2753e-06 - val_loss: 1.3007e-06\n",
            "Epoch 227/300\n",
            "25/25 [==============================] - 0s 11ms/step - loss: 9.2589e-06 - val_loss: 4.5730e-06\n",
            "Epoch 228/300\n",
            "25/25 [==============================] - 0s 11ms/step - loss: 5.5125e-06 - val_loss: 6.2320e-06\n",
            "Epoch 229/300\n",
            "25/25 [==============================] - 0s 11ms/step - loss: 1.0852e-05 - val_loss: 1.2637e-06\n",
            "Epoch 230/300\n",
            "25/25 [==============================] - 0s 11ms/step - loss: 5.4252e-06 - val_loss: 6.5649e-06\n",
            "Epoch 231/300\n",
            "25/25 [==============================] - 0s 11ms/step - loss: 9.2928e-06 - val_loss: 4.5205e-06\n",
            "Epoch 232/300\n",
            "25/25 [==============================] - 0s 11ms/step - loss: 1.1295e-05 - val_loss: 1.1156e-05\n",
            "Epoch 233/300\n",
            "25/25 [==============================] - 0s 11ms/step - loss: 4.5940e-05 - val_loss: 3.9433e-05\n",
            "Epoch 234/300\n",
            "25/25 [==============================] - 0s 11ms/step - loss: 1.8141e-05 - val_loss: 3.6691e-06\n",
            "Epoch 235/300\n",
            "25/25 [==============================] - 0s 11ms/step - loss: 7.3745e-06 - val_loss: 2.0496e-05\n",
            "Epoch 236/300\n",
            "25/25 [==============================] - 0s 11ms/step - loss: 6.7213e-05 - val_loss: 1.7668e-05\n",
            "Epoch 237/300\n",
            "25/25 [==============================] - 0s 11ms/step - loss: 1.4152e-05 - val_loss: 4.5691e-06\n",
            "Epoch 238/300\n",
            "25/25 [==============================] - 0s 11ms/step - loss: 6.0885e-06 - val_loss: 1.9465e-06\n",
            "Epoch 239/300\n",
            "25/25 [==============================] - 0s 11ms/step - loss: 8.5202e-06 - val_loss: 5.4327e-06\n",
            "Epoch 240/300\n",
            "25/25 [==============================] - 0s 11ms/step - loss: 3.0036e-05 - val_loss: 2.2547e-04\n",
            "Epoch 241/300\n",
            "25/25 [==============================] - 0s 11ms/step - loss: 5.5980e-05 - val_loss: 9.0830e-06\n",
            "Epoch 242/300\n",
            "25/25 [==============================] - 0s 10ms/step - loss: 1.1763e-05 - val_loss: 2.7151e-06\n",
            "Epoch 243/300\n",
            "25/25 [==============================] - 0s 10ms/step - loss: 4.8168e-06 - val_loss: 8.0721e-06\n",
            "Epoch 244/300\n",
            "25/25 [==============================] - 0s 10ms/step - loss: 9.4640e-06 - val_loss: 4.1242e-06\n",
            "Epoch 245/300\n",
            "25/25 [==============================] - 0s 11ms/step - loss: 9.3897e-06 - val_loss: 5.0195e-06\n",
            "Epoch 246/300\n",
            "25/25 [==============================] - 0s 11ms/step - loss: 7.2223e-06 - val_loss: 3.9051e-06\n",
            "Epoch 247/300\n",
            "25/25 [==============================] - 0s 11ms/step - loss: 6.7527e-06 - val_loss: 4.3456e-06\n",
            "Epoch 248/300\n",
            "25/25 [==============================] - 0s 11ms/step - loss: 1.6577e-05 - val_loss: 7.3085e-05\n",
            "Epoch 249/300\n",
            "25/25 [==============================] - 0s 11ms/step - loss: 3.6508e-05 - val_loss: 5.9258e-06\n",
            "Epoch 250/300\n",
            "25/25 [==============================] - 0s 11ms/step - loss: 3.9037e-06 - val_loss: 1.1196e-06\n",
            "Epoch 251/300\n",
            "25/25 [==============================] - 0s 11ms/step - loss: 6.6887e-06 - val_loss: 1.2068e-06\n",
            "Epoch 252/300\n",
            "25/25 [==============================] - 0s 11ms/step - loss: 7.3006e-06 - val_loss: 2.6953e-06\n",
            "Epoch 253/300\n",
            "25/25 [==============================] - 0s 11ms/step - loss: 1.9195e-06 - val_loss: 1.3150e-06\n",
            "Epoch 254/300\n",
            "25/25 [==============================] - 0s 10ms/step - loss: 2.0163e-06 - val_loss: 5.1719e-06\n",
            "Epoch 255/300\n",
            "25/25 [==============================] - 0s 11ms/step - loss: 3.1191e-06 - val_loss: 2.0393e-06\n",
            "Epoch 256/300\n",
            "25/25 [==============================] - 0s 12ms/step - loss: 5.5210e-06 - val_loss: 1.1125e-06\n",
            "Epoch 257/300\n",
            "25/25 [==============================] - 0s 11ms/step - loss: 1.0503e-05 - val_loss: 3.2489e-05\n",
            "Epoch 258/300\n",
            "25/25 [==============================] - 0s 11ms/step - loss: 4.2684e-05 - val_loss: 4.9853e-05\n",
            "Epoch 259/300\n",
            "25/25 [==============================] - 0s 11ms/step - loss: 2.7861e-05 - val_loss: 2.8200e-06\n",
            "Epoch 260/300\n",
            "25/25 [==============================] - 0s 11ms/step - loss: 3.3075e-06 - val_loss: 6.7369e-06\n",
            "Epoch 261/300\n",
            "25/25 [==============================] - 0s 11ms/step - loss: 2.7062e-05 - val_loss: 2.3985e-05\n",
            "Epoch 262/300\n",
            "25/25 [==============================] - 0s 11ms/step - loss: 1.1490e-05 - val_loss: 6.8044e-06\n",
            "Epoch 263/300\n",
            "25/25 [==============================] - 0s 11ms/step - loss: 1.1536e-05 - val_loss: 5.6000e-06\n",
            "Epoch 264/300\n",
            "25/25 [==============================] - 0s 11ms/step - loss: 8.0239e-06 - val_loss: 2.1506e-06\n",
            "Epoch 265/300\n",
            "25/25 [==============================] - 0s 11ms/step - loss: 5.5903e-06 - val_loss: 9.1274e-06\n",
            "Epoch 266/300\n",
            "25/25 [==============================] - 0s 12ms/step - loss: 5.6045e-06 - val_loss: 7.9169e-07\n",
            "Epoch 267/300\n",
            "25/25 [==============================] - 0s 11ms/step - loss: 1.9529e-06 - val_loss: 2.4135e-06\n",
            "Epoch 268/300\n",
            "25/25 [==============================] - 0s 10ms/step - loss: 4.7636e-06 - val_loss: 2.1866e-06\n",
            "Epoch 269/300\n",
            "25/25 [==============================] - 0s 11ms/step - loss: 4.1280e-06 - val_loss: 5.2779e-06\n",
            "Epoch 270/300\n",
            "25/25 [==============================] - 0s 11ms/step - loss: 9.7261e-06 - val_loss: 1.0051e-05\n",
            "Epoch 271/300\n",
            "25/25 [==============================] - 0s 11ms/step - loss: 7.4345e-06 - val_loss: 9.9801e-06\n",
            "Epoch 272/300\n",
            "25/25 [==============================] - 0s 10ms/step - loss: 1.0588e-05 - val_loss: 1.2191e-05\n",
            "Epoch 273/300\n",
            "25/25 [==============================] - 0s 10ms/step - loss: 1.5887e-05 - val_loss: 9.2316e-06\n",
            "Epoch 274/300\n",
            "25/25 [==============================] - 0s 11ms/step - loss: 1.7112e-05 - val_loss: 1.0386e-05\n",
            "Epoch 275/300\n",
            "25/25 [==============================] - 0s 11ms/step - loss: 3.4497e-05 - val_loss: 1.5047e-05\n",
            "Epoch 276/300\n",
            "25/25 [==============================] - 0s 11ms/step - loss: 1.9632e-05 - val_loss: 2.3854e-05\n",
            "Epoch 277/300\n",
            "25/25 [==============================] - 0s 11ms/step - loss: 1.9349e-05 - val_loss: 8.8011e-06\n",
            "Epoch 278/300\n",
            "25/25 [==============================] - 0s 11ms/step - loss: 1.4548e-05 - val_loss: 1.0025e-05\n",
            "Epoch 279/300\n",
            "25/25 [==============================] - 0s 11ms/step - loss: 1.4516e-05 - val_loss: 1.8534e-05\n",
            "Epoch 280/300\n",
            "25/25 [==============================] - 0s 10ms/step - loss: 1.0202e-05 - val_loss: 2.0100e-05\n",
            "Epoch 281/300\n",
            "25/25 [==============================] - 0s 11ms/step - loss: 1.2042e-05 - val_loss: 2.6404e-06\n",
            "Epoch 282/300\n",
            "25/25 [==============================] - 0s 12ms/step - loss: 1.1814e-05 - val_loss: 1.1090e-05\n",
            "Epoch 283/300\n",
            "25/25 [==============================] - 0s 11ms/step - loss: 3.9555e-05 - val_loss: 3.0870e-05\n",
            "Epoch 284/300\n",
            "25/25 [==============================] - 0s 11ms/step - loss: 2.3039e-05 - val_loss: 7.3283e-06\n",
            "Epoch 285/300\n",
            "25/25 [==============================] - 0s 11ms/step - loss: 5.9900e-06 - val_loss: 2.3051e-06\n",
            "Epoch 286/300\n",
            "25/25 [==============================] - 0s 11ms/step - loss: 5.9151e-06 - val_loss: 1.1635e-05\n",
            "Epoch 287/300\n",
            "25/25 [==============================] - 0s 11ms/step - loss: 4.3372e-06 - val_loss: 5.4039e-06\n",
            "Epoch 288/300\n",
            "25/25 [==============================] - 0s 11ms/step - loss: 4.3187e-06 - val_loss: 3.8735e-06\n",
            "Epoch 289/300\n",
            "25/25 [==============================] - 0s 11ms/step - loss: 5.2832e-06 - val_loss: 1.0416e-05\n",
            "Epoch 290/300\n",
            "25/25 [==============================] - 0s 11ms/step - loss: 1.0665e-05 - val_loss: 8.4429e-06\n",
            "Epoch 291/300\n",
            "25/25 [==============================] - 0s 11ms/step - loss: 3.2906e-06 - val_loss: 2.8510e-06\n",
            "Epoch 292/300\n",
            "25/25 [==============================] - 0s 11ms/step - loss: 4.5426e-06 - val_loss: 1.3160e-05\n",
            "Epoch 293/300\n",
            "25/25 [==============================] - 0s 11ms/step - loss: 5.8459e-06 - val_loss: 6.2292e-06\n",
            "Epoch 294/300\n",
            "25/25 [==============================] - 0s 10ms/step - loss: 7.7802e-06 - val_loss: 8.6904e-07\n",
            "Epoch 295/300\n",
            "25/25 [==============================] - 0s 10ms/step - loss: 1.8847e-06 - val_loss: 1.3946e-06\n",
            "Epoch 296/300\n",
            "25/25 [==============================] - 0s 11ms/step - loss: 2.1165e-06 - val_loss: 1.8778e-06\n",
            "Epoch 297/300\n",
            "25/25 [==============================] - 0s 11ms/step - loss: 9.4219e-06 - val_loss: 1.4963e-05\n",
            "Epoch 298/300\n",
            "25/25 [==============================] - 0s 11ms/step - loss: 3.0417e-05 - val_loss: 6.4189e-06\n",
            "Epoch 299/300\n",
            "25/25 [==============================] - 0s 11ms/step - loss: 7.9980e-06 - val_loss: 3.8626e-05\n",
            "Epoch 300/300\n",
            "25/25 [==============================] - 0s 11ms/step - loss: 1.1566e-05 - val_loss: 4.5719e-06\n"
          ]
        }
      ]
    },
    {
      "cell_type": "code",
      "source": [
        "#Plot training and validation loss values\n",
        "plt.figure(figsize=(15,5))\n",
        "plt.plot( hist_ex4.history['loss'])\n",
        "plt.plot( hist_ex4.history['val_loss'])\n",
        "plt.title('Model loss mean squared error')\n",
        "plt.ylabel('Loss')\n",
        "plt.xlabel('Epoch')\n",
        "plt.legend(['train','val'], loc='upper right')\n",
        "plt.show()"
      ],
      "metadata": {
        "colab": {
          "base_uri": "https://localhost:8080/",
          "height": 350
        },
        "outputId": "482029bc-2f0f-402b-936e-bc598755f604",
        "id": "qnVYqj0UfieH"
      },
      "execution_count": null,
      "outputs": [
        {
          "output_type": "display_data",
          "data": {
            "text/plain": [
              "<Figure size 1080x360 with 1 Axes>"
            ],
            "image/png": "[encoded data removed]"
          },
          "metadata": {
            "needs_background": "light"
          }
        }
      ]
    },
    {
      "cell_type": "markdown",
      "source": [
        "## 4.4 Evaluate the model"
      ],
      "metadata": {
        "id": "ZvmnRWI2fieH"
      }
    },
    {
      "cell_type": "code",
      "source": [
        "# Load the model from the best epoch (minimum val_loss)\n",
        "bestmodel_file = max([ f for f in os.listdir(\".\") if f.startswith('RNN_ex4_bestmodel_') and f.endswith(\".hdf5\")])\n",
        "print( f\"The best model : {bestmodel_file}\")"
      ],
      "metadata": {
        "colab": {
          "base_uri": "https://localhost:8080/"
        },
        "outputId": "d29731ec-1e6f-4c3c-c329-7e112a35910e",
        "id": "MaGJQz0tfieH"
      },
      "execution_count": null,
      "outputs": [
        {
          "output_type": "stream",
          "name": "stdout",
          "text": [
            "The best model : RNN_ex4_bestmodel_epoch266.hdf5\n"
          ]
        }
      ]
    },
    {
      "cell_type": "code",
      "source": [
        "ex4_rnn_best = tf.keras.models.load_model(bestmodel_file, compile=True)"
      ],
      "metadata": {
        "id": "7PhAmlt-fieH"
      },
      "execution_count": null,
      "outputs": []
    },
    {
      "cell_type": "code",
      "source": [
        "#Evaluate the model from last epoch\n",
        "score = ex4_rnn.evaluate(x_test_norm, y_test_norm, verbose=0)\n",
        "if hasattr(score,'__len__'):\n",
        "  print(f\"Test results (model from the last epoch) :{[(ex4_rnn.metrics_names[i],score[i]) for i in range(len(score))]}\")\n",
        "else :\n",
        "   print(f\"Test results (model from the last epoch) :{[(ex4_rnn.metrics_names[0],score)]}\")"
      ],
      "metadata": {
        "colab": {
          "base_uri": "https://localhost:8080/"
        },
        "outputId": "01db4898-fc11-4861-c0a1-b505f919952f",
        "id": "r2iCbpmwfieH"
      },
      "execution_count": null,
      "outputs": [
        {
          "output_type": "stream",
          "name": "stdout",
          "text": [
            "Test results (model from the last epoch) :[('loss', 4.817316494154511e-06)]\n"
          ]
        }
      ]
    },
    {
      "cell_type": "code",
      "source": [
        "#Evaluate the model from best epoch\n",
        "score = ex4_rnn_best.evaluate(x_test_norm, y_test_norm, verbose=0)\n",
        "if hasattr(score,'__len__'):\n",
        "  print(f\"Test results (model from the best epoch) :{[(ex4_rnn_best.metrics_names[i],score[i]) for i in range(len(score))]}\")\n",
        "else :\n",
        "   print(f\"Test results (model from the best epoch) :{[(ex4_rnn_best.metrics_names[0],score)]}\")"
      ],
      "metadata": {
        "colab": {
          "base_uri": "https://localhost:8080/"
        },
        "outputId": "647bdcc7-02f5-43cc-8e46-cc95fcc63379",
        "id": "A8_nn9XSfieH"
      },
      "execution_count": null,
      "outputs": [
        {
          "output_type": "stream",
          "name": "stdout",
          "text": [
            "Test results (model from the best epoch) :[('loss', 9.596348036211566e-07)]\n"
          ]
        }
      ]
    },
    {
      "cell_type": "markdown",
      "source": [
        "## 4.5 Inference"
      ],
      "metadata": {
        "id": "UkOsFO7PfieH"
      }
    },
    {
      "cell_type": "code",
      "source": [
        "y1_test_predict = ex4_rnn.predict(x_test_norm)\n",
        "y2_test_predict = ex4_rnn_best.predict(x_test_norm)\n",
        "\n",
        "# Denormalize to raw value\n",
        "y1_inv = minmax_norm.inverse_transform(y1_test_predict)\n",
        "y2_inv = minmax_norm.inverse_transform(y2_test_predict)"
      ],
      "metadata": {
        "id": "ImN8fZb_fieH"
      },
      "execution_count": null,
      "outputs": []
    },
    {
      "cell_type": "code",
      "source": [
        "for i in range(10):\n",
        "  print(f\"x_test[{i}] = {x_test[i].reshape(1,-1)}, y_test[{i}] = {y_test[i]}, predict--> last_epoch({np.around(y1_inv[i])}) best_epoch({np.around(y2_inv[i])})\")"
      ],
      "metadata": {
        "colab": {
          "base_uri": "https://localhost:8080/"
        },
        "outputId": "aad7359c-e534-4ac2-c055-68dba77a1012",
        "id": "PxSHVe6vfieH"
      },
      "execution_count": null,
      "outputs": [
        {
          "output_type": "stream",
          "name": "stdout",
          "text": [
            "x_test[0] = [[-2126 -2124 -2122 -2120 -2118]], y_test[0] = [-2116. -2114. -2112.], predict--> last_epoch([-2111. -2117. -2110.]) best_epoch([-2117. -2116. -2112.])\n",
            "x_test[1] = [[-3343 -3341 -3339 -3337 -3335]], y_test[1] = [-3333. -3331. -3329.], predict--> last_epoch([-3326. -3333. -3326.]) best_epoch([-3332. -3332. -3326.])\n",
            "x_test[2] = [[-3710 -3708 -3706 -3704 -3702]], y_test[2] = [-3700. -3698. -3696.], predict--> last_epoch([-3695. -3699. -3697.]) best_epoch([-3701. -3697. -3698.])\n",
            "x_test[3] = [[-3995 -3993 -3991 -3989 -3987]], y_test[3] = [-3985. -3983. -3981.], predict--> last_epoch([-3977. -3985. -3973.]) best_epoch([-3983. -3987. -3975.])\n",
            "x_test[4] = [[-2885 -2883 -2881 -2879 -2877]], y_test[4] = [-2875. -2873. -2871.], predict--> last_epoch([-2870. -2877. -2871.]) best_epoch([-2875. -2876. -2871.])\n",
            "x_test[5] = [[-2148 -2146 -2144 -2142 -2140]], y_test[5] = [-2138. -2136. -2134.], predict--> last_epoch([-2132. -2139. -2132.]) best_epoch([-2138. -2137. -2134.])\n",
            "x_test[6] = [[-3022 -3020 -3018 -3016 -3014]], y_test[6] = [-3012. -3010. -3008.], predict--> last_epoch([-3005. -3015. -3005.]) best_epoch([-3011. -3012. -3007.])\n",
            "x_test[7] = [[-2034 -2032 -2030 -2028 -2026]], y_test[7] = [-2024. -2022. -2020.], predict--> last_epoch([-2023. -2030. -2020.]) best_epoch([-2027. -2029. -2020.])\n",
            "x_test[8] = [[-3707 -3705 -3703 -3701 -3699]], y_test[8] = [-3697. -3695. -3693.], predict--> last_epoch([-3691. -3696. -3695.]) best_epoch([-3699. -3694. -3695.])\n",
            "x_test[9] = [[-3232 -3230 -3228 -3226 -3224]], y_test[9] = [-3222. -3220. -3218.], predict--> last_epoch([-3216. -3223. -3215.]) best_epoch([-3221. -3221. -3215.])\n"
          ]
        }
      ]
    },
    {
      "cell_type": "markdown",
      "source": [
        "# Ex5 Guess the next three number (containing output in each step)"
      ],
      "metadata": {
        "id": "QVOjbXHYh4Zl"
      }
    },
    {
      "cell_type": "markdown",
      "source": [
        "## 5.1 Create the deep RNN model"
      ],
      "metadata": {
        "id": "j9miBmUflvCW"
      }
    },
    {
      "cell_type": "code",
      "source": [
        "ex5_rnn = tf.keras.models.Sequential()\n",
        "\n",
        "# batch_size=None, time_steps=None, input_dim=1\n",
        "# >> output of RNN is (batch_size, units)=(batch_size,10)\n",
        "ex5_rnn.add( tf.keras.layers.SimpleRNN(units=20, input_shape=(None,1), return_sequences=True) ) # RNN Layer 1st\n",
        "ex5_rnn.add( tf.keras.layers.SimpleRNN(units=20, return_sequences=True) ) #RNN Layer 2nd\n",
        "ex5_rnn.add( tf.keras.layers.SimpleRNN(units=10, return_sequences=True) ) #RNN layer 3 /output prediction of all time step\n",
        "#Use the defult 'linear activation'\n",
        "ex5_rnn.add( tf.keras.layers.TimeDistributed( tf.keras.layers.Dense(3) ) )\n",
        "\n",
        "ex5_rnn.summary()"
      ],
      "metadata": {
        "colab": {
          "base_uri": "https://localhost:8080/"
        },
        "id": "-sN4kEJznbbH",
        "outputId": "0b20ff28-3631-4714-ecb8-35a1bd41adb0"
      },
      "execution_count": null,
      "outputs": [
        {
          "output_type": "stream",
          "name": "stdout",
          "text": [
            "Model: \"sequential_1\"\n",
            "_________________________________________________________________\n",
            " Layer (type)                Output Shape              Param #   \n",
            "=================================================================\n",
            " simple_rnn_3 (SimpleRNN)    (None, None, 20)          440       \n",
            "                                                                 \n",
            " simple_rnn_4 (SimpleRNN)    (None, None, 20)          820       \n",
            "                                                                 \n",
            " simple_rnn_5 (SimpleRNN)    (None, None, 10)          310       \n",
            "                                                                 \n",
            " time_distributed (TimeDistr  (None, None, 3)          33        \n",
            " ibuted)                                                         \n",
            "                                                                 \n",
            "=================================================================\n",
            "Total params: 1,603\n",
            "Trainable params: 1,603\n",
            "Non-trainable params: 0\n",
            "_________________________________________________________________\n"
          ]
        }
      ]
    },
    {
      "cell_type": "markdown",
      "source": [
        "## 5.2 Prepare data with three-step outputs for all time step"
      ],
      "metadata": {
        "id": "O7rP2DS5lvWN"
      }
    },
    {
      "cell_type": "code",
      "source": [
        "n_data = 2000 #Number of genarate data\n",
        "\n",
        "#TimeseriesGenerator\n",
        "sampling_rate = 2     #for 2 consecutive numbers, sample only one\n",
        "n_input_timesteps = 5 #How many timestep for the input sequence\n",
        "\n",
        "dataset = np.array([ i for i in range(n_data*-sampling_rate, n_data*sampling_rate)])\n",
        "\n",
        "gen_dataset = tf.keras.preprocessing.sequence.TimeseriesGenerator( dataset, dataset, length=sampling_rate*n_input_timesteps, batch_size=n_data, sampling_rate=sampling_rate)\n",
        "\n",
        "x, y = gen_dataset[0]"
      ],
      "metadata": {
        "id": "R3Xi1Po_p63s"
      },
      "execution_count": null,
      "outputs": []
    },
    {
      "cell_type": "code",
      "source": [
        "#Preview the first five rows and the last five rows\n",
        "print(f\"x-shape:{x.shape}, y-shape:{y.shape}\")\n",
        "for i in range(5):\n",
        "  print(f\"{i} : {x[i]} , {y[i]}\")\n",
        "for i in range(-1, -6, -1):\n",
        "  print(f\"{i} : {x[i]} , {y[i]}\")"
      ],
      "metadata": {
        "colab": {
          "base_uri": "https://localhost:8080/"
        },
        "outputId": "3fe74002-1e35-4ee5-d414-44534eafcd2a",
        "id": "xwX62tcrp63s"
      },
      "execution_count": null,
      "outputs": [
        {
          "output_type": "stream",
          "name": "stdout",
          "text": [
            "x-shape:(2000, 5), y-shape:(2000,)\n",
            "0 : [-4000 -3998 -3996 -3994 -3992] , -3990\n",
            "1 : [-3999 -3997 -3995 -3993 -3991] , -3989\n",
            "2 : [-3998 -3996 -3994 -3992 -3990] , -3988\n",
            "3 : [-3997 -3995 -3993 -3991 -3989] , -3987\n",
            "4 : [-3996 -3994 -3992 -3990 -3988] , -3986\n",
            "-1 : [-2001 -1999 -1997 -1995 -1993] , -1991\n",
            "-2 : [-2002 -2000 -1998 -1996 -1994] , -1992\n",
            "-3 : [-2003 -2001 -1999 -1997 -1995] , -1993\n",
            "-4 : [-2004 -2002 -2000 -1998 -1996] , -1994\n",
            "-5 : [-2005 -2003 -2001 -1999 -1997] , -1995\n"
          ]
        }
      ]
    },
    {
      "cell_type": "code",
      "source": [
        "#Shuffle the data (before splitting it in to train/val/test sets later inthe next cell)\n",
        "\n",
        "#Shuffle the data\n",
        "seed=1337\n",
        "rng = np.random.RandomState(seed)\n",
        "rng.shuffle(x)\n",
        "\n",
        "rng = np.random.RandomState(seed)\n",
        "rng.shuffle(y)\n",
        "\n",
        "# Preview the first five rows of data\n",
        "print(f\"x-shape:{x.shape}, y-shape:{y.shape}\")\n",
        "for i in range(5):\n",
        "  print(f\"{i} : {x[i]} , {y[i]}\")\n",
        "for i in range(-1, -6, -1):\n",
        "  print(f\"{i} : {x[i]} , {y[i]}\")"
      ],
      "metadata": {
        "colab": {
          "base_uri": "https://localhost:8080/"
        },
        "outputId": "a5d1007a-71fb-47ce-f6a7-7ff7c21c9035",
        "id": "IAxr_Qhqp63t"
      },
      "execution_count": null,
      "outputs": [
        {
          "output_type": "stream",
          "name": "stdout",
          "text": [
            "x-shape:(2000, 5), y-shape:(2000,)\n",
            "0 : [-3033 -3031 -3029 -3027 -3025] , -3023\n",
            "1 : [-3372 -3370 -3368 -3366 -3364] , -3362\n",
            "2 : [-3423 -3421 -3419 -3417 -3415] , -3413\n",
            "3 : [-3911 -3909 -3907 -3905 -3903] , -3901\n",
            "4 : [-2829 -2827 -2825 -2823 -2821] , -2819\n",
            "-1 : [-2825 -2823 -2821 -2819 -2817] , -2815\n",
            "-2 : [-3811 -3809 -3807 -3805 -3803] , -3801\n",
            "-3 : [-3140 -3138 -3136 -3134 -3132] , -3130\n",
            "-4 : [-2744 -2742 -2740 -2738 -2736] , -2734\n",
            "-5 : [-2809 -2807 -2805 -2803 -2801] , -2799\n"
          ]
        }
      ]
    },
    {
      "cell_type": "code",
      "source": [
        "n_train = int(n_data * 0.8)       # Split 80% to train set\n",
        "n_test = int(n_data * 0.1)        # Split 10% to test set\n",
        "n_val = n_data -n_train -n_test   # 10% to validate set\n",
        "\n",
        "x_train, y_train = x[:n_train] , y[:n_train] \n",
        "x_val, y_val = x[n_train:n_train+n_val], y[n_train:n_train+n_val]\n",
        "x_test, y_test = x[n_train+n_val:], y[n_train+n_val:]\n",
        "\n",
        "print(\"\\n===== Train data =====\")\n",
        "print(f\"x_train-shape:{x_train.shape}, y_train-shape:{y_train.shape}\")\n",
        "for i in range(5):\n",
        "  print(f\"{i} : {x_train[i]} , {y_train[i]}\")\n",
        "\n",
        "print(\"\\n===== Validation data =====\")\n",
        "print(f\"x_val-shape:{x_val.shape}, y_val-shape:{y_val.shape}\")\n",
        "for i in range(5):\n",
        "  print(f\"{i} : {x_val[i]} , {y_val[i]}\")\n",
        "\n",
        "print(\"\\n===== Test data =====\")\n",
        "print(f\"x_test-shape:{x_test.shape}, y_test-shape:{y_test.shape}\")\n",
        "for i in range(5):\n",
        "  print(f\"{i} : {x_test[i]} , {y_test[i]}\")"
      ],
      "metadata": {
        "colab": {
          "base_uri": "https://localhost:8080/"
        },
        "outputId": "d8354908-fa5e-43eb-95bf-c425b7dd81bd",
        "id": "_NzZ3irSp63t"
      },
      "execution_count": null,
      "outputs": [
        {
          "output_type": "stream",
          "name": "stdout",
          "text": [
            "\n",
            "===== Train data =====\n",
            "x_train-shape:(1600, 5), y_train-shape:(1600,)\n",
            "0 : [-3033 -3031 -3029 -3027 -3025] , -3023\n",
            "1 : [-3372 -3370 -3368 -3366 -3364] , -3362\n",
            "2 : [-3423 -3421 -3419 -3417 -3415] , -3413\n",
            "3 : [-3911 -3909 -3907 -3905 -3903] , -3901\n",
            "4 : [-2829 -2827 -2825 -2823 -2821] , -2819\n",
            "\n",
            "===== Validation data =====\n",
            "x_val-shape:(200, 5), y_val-shape:(200,)\n",
            "0 : [-3200 -3198 -3196 -3194 -3192] , -3190\n",
            "1 : [-3488 -3486 -3484 -3482 -3480] , -3478\n",
            "2 : [-2285 -2283 -2281 -2279 -2277] , -2275\n",
            "3 : [-3846 -3844 -3842 -3840 -3838] , -3836\n",
            "4 : [-2724 -2722 -2720 -2718 -2716] , -2714\n",
            "\n",
            "===== Test data =====\n",
            "x_test-shape:(200, 5), y_test-shape:(200,)\n",
            "0 : [-2126 -2124 -2122 -2120 -2118] , -2116\n",
            "1 : [-3343 -3341 -3339 -3337 -3335] , -3333\n",
            "2 : [-3710 -3708 -3706 -3704 -3702] , -3700\n",
            "3 : [-3995 -3993 -3991 -3989 -3987] , -3985\n",
            "4 : [-2885 -2883 -2881 -2879 -2877] , -2875\n"
          ]
        }
      ]
    },
    {
      "cell_type": "markdown",
      "source": [
        "Instead of one-step outputs (x[i] = [2,4,6,8,10], yi[12] \n",
        "</br> but model request \n",
        "</br> x[i] = [2,4,6,8,10] \n",
        "</br> y[i] = [[4,6,8],[6,8,10],[8,10,12],[10,12,14],[12,14,16]]"
      ],
      "metadata": {
        "id": "ZLEXDKqKp63t"
      }
    },
    {
      "cell_type": "code",
      "source": [
        "#Create three array each input's time_steps=5, output_dim=3\n",
        "n_output_timesteps = 3\n",
        "y_train_temp = np.zeros( (y_train.shape[0], n_input_timesteps, n_output_timesteps), dtype=np.float32)\n",
        "y_test_temp = np.zeros( (y_test.shape[0], n_input_timesteps, n_output_timesteps), dtype=np.float32)\n",
        "y_val_temp = np.zeros( (y_val.shape[0], n_input_timesteps, n_output_timesteps), dtype=np.float32)\n",
        "\n",
        "#Fill the three new arrays with the first predicted numbers (for the last time step only)\n",
        "y_train_temp[:,-1,0] = y_train[:]\n",
        "y_test_temp[:,-1,0]  = y_test[:]\n",
        "y_val_temp[:,-1,0]   = y_val[:]\n",
        "\n",
        "print(f\"Example data : \\n{y_train_temp[0]}\")\n"
      ],
      "metadata": {
        "colab": {
          "base_uri": "https://localhost:8080/"
        },
        "id": "QRL_2qMNp63t",
        "outputId": "71fcac03-5ce9-4cec-b9b1-ed0c4391e0e4"
      },
      "execution_count": null,
      "outputs": [
        {
          "output_type": "stream",
          "name": "stdout",
          "text": [
            "Example data : \n",
            "[[    0.     0.     0.]\n",
            " [    0.     0.     0.]\n",
            " [    0.     0.     0.]\n",
            " [    0.     0.     0.]\n",
            " [-3023.     0.     0.]]\n"
          ]
        }
      ]
    },
    {
      "cell_type": "code",
      "source": [
        "# For the last time step only,fill in tje second, third\n",
        "for i in range(1,n_output_timesteps):\n",
        "  y_train_temp[:,-1,i] = y_train_temp[:,-1,i-1] +2\n",
        "  y_test_temp[:,-1,i]  = y_test_temp[:,-1,i-1] +2\n",
        "  y_val_temp[:,-1,i]   = y_val_temp[:,-1,i-1] +2\n",
        "\n",
        "print(f\"Example data :\\n {y_train_temp[0]}\")"
      ],
      "metadata": {
        "colab": {
          "base_uri": "https://localhost:8080/"
        },
        "id": "etWb4jx6p63t",
        "outputId": "fbe40e24-2933-4d1f-c33b-e7cd7e8e3635"
      },
      "execution_count": null,
      "outputs": [
        {
          "output_type": "stream",
          "name": "stdout",
          "text": [
            "Example data :\n",
            " [[    0.     0.     0.]\n",
            " [    0.     0.     0.]\n",
            " [    0.     0.     0.]\n",
            " [    0.     0.     0.]\n",
            " [-3023. -3021. -3019.]]\n"
          ]
        }
      ]
    },
    {
      "cell_type": "code",
      "source": [
        "# For the remaining non-last time step, fill in values by referring to thire next timestep\n",
        "for tm in range(n_input_timesteps-2,-1,-1):\n",
        "  y_train_temp[:, tm, :] = y_train_temp[:, tm+1, :]-2\n",
        "  y_test_temp[:, tm, :]  = y_test_temp[:, tm+1, :]-2\n",
        "  y_val_temp[:, tm, :]   = y_val_temp[:, tm+1, :]-2\n",
        "\n",
        "print(f\"Example data :\\n {y_train_temp[0]}\")"
      ],
      "metadata": {
        "colab": {
          "base_uri": "https://localhost:8080/"
        },
        "id": "TsNf4QOAvR4V",
        "outputId": "246c7e98-8dd5-4327-bd35-b53acc1d0948"
      },
      "execution_count": null,
      "outputs": [
        {
          "output_type": "stream",
          "name": "stdout",
          "text": [
            "Example data :\n",
            " [[-3031. -3029. -3027.]\n",
            " [-3029. -3027. -3025.]\n",
            " [-3027. -3025. -3023.]\n",
            " [-3025. -3023. -3021.]\n",
            " [-3023. -3021. -3019.]]\n"
          ]
        }
      ]
    },
    {
      "cell_type": "code",
      "source": [
        "# Preview Before-After result\n",
        "print(f\"\\n========== y_train ==========\")\n",
        "print(f\"Shape before:{y_train.shape} after:{y_train_temp.shape}\")\n",
        "print(f\"Example \\nbefor : {y_train[0]} , \\nafter ; \\n{y_train_temp[0]}\")\n",
        "\n",
        "print(f\"\\n========== y_test ==========\")\n",
        "print(f\"Shape before:{y_test.shape} after:{y_test_temp.shape}\")\n",
        "print(f\"Example \\nbefor : {y_test[0]} , \\nafter : \\n{y_test_temp[0]}\")\n",
        "\n",
        "print(f\"\\n========== y_val ==========\")\n",
        "print(f\"Shape before:{y_val.shape} after:{y_val_temp.shape}\")\n",
        "print(f\"Example \\nbefor : {y_val[0]} , \\nafter ; \\n{y_val_temp[0]}\")"
      ],
      "metadata": {
        "colab": {
          "base_uri": "https://localhost:8080/"
        },
        "outputId": "038a50a3-e2a3-4f5a-b692-f400402257fa",
        "id": "EVVWpJuGp63t"
      },
      "execution_count": null,
      "outputs": [
        {
          "output_type": "stream",
          "name": "stdout",
          "text": [
            "\n",
            "========== y_train ==========\n",
            "Shape before:(1600,) after:(1600, 5, 3)\n",
            "Example \n",
            "befor : -3023 , \n",
            "after ; \n",
            "[[-3031. -3029. -3027.]\n",
            " [-3029. -3027. -3025.]\n",
            " [-3027. -3025. -3023.]\n",
            " [-3025. -3023. -3021.]\n",
            " [-3023. -3021. -3019.]]\n",
            "\n",
            "========== y_test ==========\n",
            "Shape before:(200,) after:(200, 5, 3)\n",
            "Example \n",
            "befor : -2116 , \n",
            "after : \n",
            "[[-2124. -2122. -2120.]\n",
            " [-2122. -2120. -2118.]\n",
            " [-2120. -2118. -2116.]\n",
            " [-2118. -2116. -2114.]\n",
            " [-2116. -2114. -2112.]]\n",
            "\n",
            "========== y_val ==========\n",
            "Shape before:(200,) after:(200, 5, 3)\n",
            "Example \n",
            "befor : -3190 , \n",
            "after ; \n",
            "[[-3198. -3196. -3194.]\n",
            " [-3196. -3194. -3192.]\n",
            " [-3194. -3192. -3190.]\n",
            " [-3192. -3190. -3188.]\n",
            " [-3190. -3188. -3186.]]\n"
          ]
        }
      ]
    },
    {
      "cell_type": "code",
      "source": [
        "#Reassign the new array shape to original y_train y_test y_val\n",
        "y_train = y_train_temp\n",
        "y_test = y_test_temp\n",
        "y_val = y_val_temp"
      ],
      "metadata": {
        "id": "i_D5-cUvp63t"
      },
      "execution_count": null,
      "outputs": []
    },
    {
      "cell_type": "code",
      "source": [
        "#Normalize the data\n",
        "from sklearn.preprocessing import MinMaxScaler\n",
        "\n",
        "# Min-Max scaling to normalize the data to range [0, 1]\n",
        "#.fit_transfrom expects 2D input\n",
        "minmax_norm = MinMaxScaler().fit(x_train.reshape(-1,1))\n",
        "print(f\"Dataset min-max: {minmax_norm.data_min_}, {minmax_norm.data_max_}\")\n",
        "\n",
        "x_train_norm = minmax_norm.transform( x_train.reshape(-1,1)).reshape(-1,5)\n",
        "y_train_norm = minmax_norm.transform( y_train.reshape(-1,1)).reshape(y_train.shape)\n",
        "\n",
        "x_val_norm = minmax_norm.transform( x_val.reshape(-1,1)).reshape(-1,5)\n",
        "y_val_norm = minmax_norm.transform( y_val.reshape(-1,1)).reshape(y_val.shape)\n",
        "\n",
        "x_test_norm = minmax_norm.transform( x_test.reshape(-1,1)).reshape(-1,5)\n",
        "y_test_norm = minmax_norm.transform( y_test.reshape(-1,1)).reshape(y_test.shape)\n"
      ],
      "metadata": {
        "colab": {
          "base_uri": "https://localhost:8080/"
        },
        "outputId": "8227a56b-769c-4b02-b6ff-83834d9427b6",
        "id": "IG80vnBqp63t"
      },
      "execution_count": null,
      "outputs": [
        {
          "output_type": "stream",
          "name": "stdout",
          "text": [
            "Dataset min-max: [-4000.], [-1993.]\n"
          ]
        }
      ]
    },
    {
      "cell_type": "code",
      "source": [
        "#Format the data into (batch_size, time_step, input_dim) as required by the SimpleRNN layer\n",
        "print(\"\\n===== Train data after normalization =====\")\n",
        "print(f\"x_train_norm:{x_train_norm.shape}, y_train_norm:{y_train_norm.shape}\")\n",
        "for i in range(5):\n",
        "  print(f\"{i} : {x_train_norm[i]} , {y_train_norm[i]}\")\n",
        "\n",
        "print(\"\\n===== Validation data after normalization =====\")\n",
        "print(f\"x_val_norm:{x_val_norm.shape}, y_val_norm:{y_val_norm.shape}\")\n",
        "for i in range(5):\n",
        "  print(f\"{i} : {x_val_norm[i]} , {y_val_norm[i]}\")\n",
        "\n",
        "print(\"\\n===== Test data after normalization =====\")\n",
        "print(f\"x_test_norm:{x_test_norm.shape}, y_test_norm:{y_test_norm.shape}\")\n",
        "for i in range(5):\n",
        "  print(f\"{i} : {x_test_norm[i]} , {y_test_norm[i]}\")\n"
      ],
      "metadata": {
        "colab": {
          "base_uri": "https://localhost:8080/"
        },
        "outputId": "024a1301-1eee-4f38-b1e8-698d5061a783",
        "id": "c_n5J9kzp63t"
      },
      "execution_count": null,
      "outputs": [
        {
          "output_type": "stream",
          "name": "stdout",
          "text": [
            "\n",
            "===== Train data after normalization =====\n",
            "x_train_norm:(1600, 5), y_train_norm:(1600, 5, 3)\n",
            "0 : [0.48181365 0.48281016 0.48380668 0.48480319 0.4857997 ] , [[0.4828102  0.48380667 0.48480314]\n",
            " [0.48380667 0.48480314 0.48579973]\n",
            " [0.48480314 0.48579973 0.4867962 ]\n",
            " [0.48579973 0.4867962  0.48779267]\n",
            " [0.4867962  0.48779267 0.48878926]]\n",
            "1 : [0.31290483 0.31390135 0.31489786 0.31589437 0.31689088] , [[0.31390136 0.31489784 0.3158943 ]\n",
            " [0.31489784 0.3158943  0.3168909 ]\n",
            " [0.3158943  0.3168909  0.31788737]\n",
            " [0.3168909  0.31788737 0.31888396]\n",
            " [0.31788737 0.31888396 0.31988043]]\n",
            "2 : [0.28749377 0.28849028 0.2894868  0.29048331 0.29147982] , [[0.28849024 0.28948683 0.2904833 ]\n",
            " [0.28948683 0.2904833  0.29147977]\n",
            " [0.2904833  0.29147977 0.29247636]\n",
            " [0.29147977 0.29247636 0.29347283]\n",
            " [0.29247636 0.29347283 0.2944693 ]]\n",
            "3 : [0.04434479 0.04534131 0.04633782 0.04733433 0.04833084] , [[0.04534132 0.04633779 0.04733438]\n",
            " [0.04633779 0.04733438 0.04833085]\n",
            " [0.04733438 0.04833085 0.04932732]\n",
            " [0.04833085 0.04932732 0.05032391]\n",
            " [0.04932732 0.05032391 0.05132038]]\n",
            "4 : [0.5834579  0.58445441 0.58545092 0.58644743 0.58744395] , [[0.58445436 0.58545095 0.5864474 ]\n",
            " [0.58545095 0.5864474  0.5874439 ]\n",
            " [0.5864474  0.5874439  0.5884405 ]\n",
            " [0.5874439  0.5884405  0.58943695]\n",
            " [0.5884405  0.58943695 0.5904334 ]]\n",
            "\n",
            "===== Validation data after normalization =====\n",
            "x_val_norm:(200, 5), y_val_norm:(200, 5, 3)\n",
            "0 : [0.39860488 0.3996014  0.40059791 0.40159442 0.40259093] , [[0.3996014  0.40059787 0.40159446]\n",
            " [0.40059787 0.40159446 0.40259093]\n",
            " [0.40159446 0.40259093 0.4035874 ]\n",
            " [0.40259093 0.4035874  0.404584  ]\n",
            " [0.4035874  0.404584   0.40558046]]\n",
            "1 : [0.25510713 0.25610364 0.25710015 0.25809666 0.25909317] , [[0.25610358 0.25710016 0.25809664]\n",
            " [0.25710016 0.25809664 0.25909323]\n",
            " [0.25809664 0.25909323 0.2600897 ]\n",
            " [0.25909323 0.2600897  0.26108617]\n",
            " [0.2600897  0.26108617 0.26208276]]\n",
            "2 : [0.85450922 0.85550573 0.85650224 0.85749875 0.85849527] , [[0.85550576 0.85650223 0.8574987 ]\n",
            " [0.85650223 0.8574987  0.8584953 ]\n",
            " [0.8574987  0.8584953  0.85949177]\n",
            " [0.8584953  0.85949177 0.86048824]\n",
            " [0.85949177 0.86048824 0.8614848 ]]\n",
            "3 : [0.07673144 0.07772795 0.07872446 0.07972098 0.08071749] , [[0.07772798 0.07872445 0.07972092]\n",
            " [0.07872445 0.07972092 0.08071751]\n",
            " [0.07972092 0.08071751 0.08171398]\n",
            " [0.08071751 0.08171398 0.08271057]\n",
            " [0.08171398 0.08271057 0.08370704]]\n",
            "4 : [0.63577479 0.6367713  0.63776781 0.63876432 0.63976084] , [[0.63677126 0.63776785 0.6387643 ]\n",
            " [0.63776785 0.6387643  0.6397608 ]\n",
            " [0.6387643  0.6397608  0.6407574 ]\n",
            " [0.6397608  0.6407574  0.64175385]\n",
            " [0.6407574  0.64175385 0.6427503 ]]\n",
            "\n",
            "===== Test data after normalization =====\n",
            "x_test_norm:(200, 5), y_test_norm:(200, 5, 3)\n",
            "0 : [0.93373194 0.93472845 0.93572496 0.93672147 0.93771799] , [[0.93472844 0.9357249  0.9367215 ]\n",
            " [0.9357249  0.9367215  0.937718  ]\n",
            " [0.9367215  0.937718   0.93871444]\n",
            " [0.937718   0.93871444 0.93971103]\n",
            " [0.93871444 0.93971103 0.9407075 ]]\n",
            "1 : [0.32735426 0.32835077 0.32934728 0.3303438  0.33134031] , [[0.32835072 0.3293473  0.33034378]\n",
            " [0.3293473  0.33034378 0.33134025]\n",
            " [0.33034378 0.33134025 0.33233684]\n",
            " [0.33134025 0.33233684 0.3333333 ]\n",
            " [0.33233684 0.3333333  0.33432978]]\n",
            "2 : [0.14449427 0.14549078 0.14648729 0.14748381 0.14848032] , [[0.14549083 0.1464873  0.14748377]\n",
            " [0.1464873  0.14748377 0.14848036]\n",
            " [0.14748377 0.14848036 0.14947683]\n",
            " [0.14848036 0.14947683 0.1504733 ]\n",
            " [0.14947683 0.1504733  0.15146989]]\n",
            "3 : [0.00249128 0.00348779 0.0044843  0.00548082 0.00647733] , [[0.00348777 0.00448436 0.00548083]\n",
            " [0.00448436 0.00548083 0.0064773 ]\n",
            " [0.00548083 0.0064773  0.00747389]\n",
            " [0.0064773  0.00747389 0.00847036]\n",
            " [0.00747389 0.00847036 0.00946683]]\n",
            "4 : [0.55555556 0.55655207 0.55754858 0.55854509 0.5595416 ] , [[0.5565521  0.5575486  0.55854505]\n",
            " [0.5575486  0.55854505 0.55954164]\n",
            " [0.55854505 0.55954164 0.5605381 ]\n",
            " [0.55954164 0.5605381  0.5615346 ]\n",
            " [0.5605381  0.5615346  0.5625312 ]]\n"
          ]
        }
      ]
    },
    {
      "cell_type": "code",
      "source": [
        "# Add the third dimension of input_dim=1\n",
        "x_train_norm  = x_train_norm[..., np.newaxis]\n",
        "x_val_norm    = x_val_norm[..., np.newaxis]\n",
        "x_test_norm   = x_test_norm[..., np.newaxis]\n",
        "\n",
        "print(\"\\nDimension after changed:\")\n",
        "print(f\"x_train_norm : {x_train_norm.shape}\")\n",
        "print(f\"x_val_norm : {x_val_norm.shape}\")\n",
        "print(f\"x_test_norm : {x_test_norm.shape}\")"
      ],
      "metadata": {
        "colab": {
          "base_uri": "https://localhost:8080/"
        },
        "outputId": "aee2bf1f-4390-469c-f084-2b820e7532cf",
        "id": "r4L4cc_Pp63t"
      },
      "execution_count": null,
      "outputs": [
        {
          "output_type": "stream",
          "name": "stdout",
          "text": [
            "\n",
            "Dimension after changed:\n",
            "x_train_norm : (1600, 5, 1)\n",
            "x_val_norm : (200, 5, 1)\n",
            "x_test_norm : (200, 5, 1)\n"
          ]
        }
      ]
    },
    {
      "cell_type": "code",
      "source": [
        "#Covert everything  to the defalt of float32\n",
        "\n",
        "x_train_norm = x_train_norm.astype(np.float32)\n",
        "y_train_norm = y_train_norm.astype(np.float32)\n",
        "x_val_norm = x_val_norm.astype(np.float32)\n",
        "y_val_norm = y_val_norm.astype(np.float32)\n",
        "x_test_norm = x_test_norm.astype(np.float32)\n",
        "y_test_norm = y_test_norm.astype(np.float32)"
      ],
      "metadata": {
        "id": "DxEDVd8ip63u"
      },
      "execution_count": null,
      "outputs": []
    },
    {
      "cell_type": "markdown",
      "source": [
        "## 5.3 Compile and train the model"
      ],
      "metadata": {
        "id": "6eNzLTKslvpV"
      }
    },
    {
      "cell_type": "markdown",
      "source": [
        "When trainin we use losses computed from all time step, but when evaluating we only use loss computed from the last step"
      ],
      "metadata": {
        "id": "tvdNO7jO1I4V"
      }
    },
    {
      "cell_type": "code",
      "source": [
        "#create custom metric to judge the performance of out model\n",
        "def last_time_step_mse(y_true, y_pred):\n",
        "  return tf.keras.metrics.mean_squared_error( y_true[:, -1], y_pred[:, -1])"
      ],
      "metadata": {
        "id": "fG9ze3Uy1aKy"
      },
      "execution_count": null,
      "outputs": []
    },
    {
      "cell_type": "code",
      "source": [
        "adam = tf.keras.optimizers.Adam(learning_rate=0.001)\n",
        "\n",
        "# For regression, the loss can be used as the evaluation metric as well\n",
        "ex5_rnn.compile(loss='mse', optimizer=adam, metrics=[last_time_step_mse])\n",
        "\n",
        "checkpoint_filepath = \"RNN_ex5_bestmodel_epoch{epoch:03d}.hdf5\"\n",
        "\n",
        "model_checkpoint_callback = tf.keras.callbacks.ModelCheckpoint(filepath=checkpoint_filepath,\n",
        "                                                               save_weights_only=False,\n",
        "                                                               monitor='val_loss',\n",
        "                                                               mode='min',\n",
        "                                                               save_best_only=True)"
      ],
      "metadata": {
        "id": "RsnpZcns09PG"
      },
      "execution_count": null,
      "outputs": []
    },
    {
      "cell_type": "code",
      "source": [
        "hist_ex5 = ex5_rnn.fit(x_train_norm, y_train_norm,\n",
        "                  validation_data=(x_val_norm, y_val_norm),\n",
        "                  batch_size=64, epochs=300,\n",
        "                  callbacks=[model_checkpoint_callback])"
      ],
      "metadata": {
        "colab": {
          "base_uri": "https://localhost:8080/"
        },
        "outputId": "2f070c0d-9e04-41c3-e57e-568a251c0987",
        "id": "tFGGyhx709PH"
      },
      "execution_count": null,
      "outputs": [
        {
          "output_type": "stream",
          "name": "stdout",
          "text": [
            "Epoch 1/300\n",
            "25/25 [==============================] - 2s 26ms/step - loss: 0.2111 - last_time_step_mse: 0.1106 - val_loss: 0.0811 - val_last_time_step_mse: 0.0271\n",
            "Epoch 2/300\n",
            "25/25 [==============================] - 0s 12ms/step - loss: 0.0567 - last_time_step_mse: 0.0250 - val_loss: 0.0307 - val_last_time_step_mse: 0.0106\n",
            "Epoch 3/300\n",
            "25/25 [==============================] - 0s 12ms/step - loss: 0.0239 - last_time_step_mse: 0.0098 - val_loss: 0.0148 - val_last_time_step_mse: 0.0061\n",
            "Epoch 4/300\n",
            "25/25 [==============================] - 0s 13ms/step - loss: 0.0127 - last_time_step_mse: 0.0063 - val_loss: 0.0085 - val_last_time_step_mse: 0.0041\n",
            "Epoch 5/300\n",
            "25/25 [==============================] - 0s 12ms/step - loss: 0.0080 - last_time_step_mse: 0.0042 - val_loss: 0.0058 - val_last_time_step_mse: 0.0026\n",
            "Epoch 6/300\n",
            "25/25 [==============================] - 0s 12ms/step - loss: 0.0058 - last_time_step_mse: 0.0030 - val_loss: 0.0043 - val_last_time_step_mse: 0.0020\n",
            "Epoch 7/300\n",
            "25/25 [==============================] - 0s 12ms/step - loss: 0.0044 - last_time_step_mse: 0.0024 - val_loss: 0.0033 - val_last_time_step_mse: 0.0016\n",
            "Epoch 8/300\n",
            "25/25 [==============================] - 0s 12ms/step - loss: 0.0034 - last_time_step_mse: 0.0020 - val_loss: 0.0025 - val_last_time_step_mse: 0.0013\n",
            "Epoch 9/300\n",
            "25/25 [==============================] - 0s 12ms/step - loss: 0.0027 - last_time_step_mse: 0.0015 - val_loss: 0.0020 - val_last_time_step_mse: 0.0011\n",
            "Epoch 10/300\n",
            "25/25 [==============================] - 0s 12ms/step - loss: 0.0022 - last_time_step_mse: 0.0013 - val_loss: 0.0016 - val_last_time_step_mse: 8.6869e-04\n",
            "Epoch 11/300\n",
            "25/25 [==============================] - 0s 12ms/step - loss: 0.0018 - last_time_step_mse: 0.0010 - val_loss: 0.0014 - val_last_time_step_mse: 9.0051e-04\n",
            "Epoch 12/300\n",
            "25/25 [==============================] - 0s 12ms/step - loss: 0.0015 - last_time_step_mse: 8.8044e-04 - val_loss: 0.0012 - val_last_time_step_mse: 6.3556e-04\n",
            "Epoch 13/300\n",
            "25/25 [==============================] - 0s 12ms/step - loss: 0.0013 - last_time_step_mse: 7.1213e-04 - val_loss: 0.0010 - val_last_time_step_mse: 5.1190e-04\n",
            "Epoch 14/300\n",
            "25/25 [==============================] - 0s 12ms/step - loss: 0.0011 - last_time_step_mse: 5.9814e-04 - val_loss: 8.9616e-04 - val_last_time_step_mse: 4.5653e-04\n",
            "Epoch 15/300\n",
            "25/25 [==============================] - 0s 12ms/step - loss: 0.0010 - last_time_step_mse: 5.2533e-04 - val_loss: 7.8701e-04 - val_last_time_step_mse: 3.9112e-04\n",
            "Epoch 16/300\n",
            "25/25 [==============================] - 0s 12ms/step - loss: 8.9526e-04 - last_time_step_mse: 4.3499e-04 - val_loss: 7.0418e-04 - val_last_time_step_mse: 3.1432e-04\n",
            "Epoch 17/300\n",
            "25/25 [==============================] - 0s 12ms/step - loss: 8.0491e-04 - last_time_step_mse: 3.6766e-04 - val_loss: 6.3271e-04 - val_last_time_step_mse: 2.7522e-04\n",
            "Epoch 18/300\n",
            "25/25 [==============================] - 0s 13ms/step - loss: 7.3486e-04 - last_time_step_mse: 3.3655e-04 - val_loss: 6.1466e-04 - val_last_time_step_mse: 3.5718e-04\n",
            "Epoch 19/300\n",
            "25/25 [==============================] - 0s 12ms/step - loss: 6.6813e-04 - last_time_step_mse: 2.8534e-04 - val_loss: 5.3896e-04 - val_last_time_step_mse: 2.1946e-04\n",
            "Epoch 20/300\n",
            "25/25 [==============================] - 0s 12ms/step - loss: 6.1578e-04 - last_time_step_mse: 2.5535e-04 - val_loss: 4.9875e-04 - val_last_time_step_mse: 2.0006e-04\n",
            "Epoch 21/300\n",
            "25/25 [==============================] - 0s 12ms/step - loss: 5.6968e-04 - last_time_step_mse: 2.2230e-04 - val_loss: 4.7063e-04 - val_last_time_step_mse: 2.2467e-04\n",
            "Epoch 22/300\n",
            "25/25 [==============================] - 0s 12ms/step - loss: 5.2763e-04 - last_time_step_mse: 1.9268e-04 - val_loss: 4.3896e-04 - val_last_time_step_mse: 1.5640e-04\n",
            "Epoch 23/300\n",
            "25/25 [==============================] - 0s 12ms/step - loss: 4.9517e-04 - last_time_step_mse: 1.7100e-04 - val_loss: 4.0316e-04 - val_last_time_step_mse: 1.7401e-04\n",
            "Epoch 24/300\n",
            "25/25 [==============================] - 0s 13ms/step - loss: 4.6466e-04 - last_time_step_mse: 1.5692e-04 - val_loss: 3.7692e-04 - val_last_time_step_mse: 1.2237e-04\n",
            "Epoch 25/300\n",
            "25/25 [==============================] - 0s 11ms/step - loss: 4.4103e-04 - last_time_step_mse: 1.5008e-04 - val_loss: 3.7730e-04 - val_last_time_step_mse: 1.2680e-04\n",
            "Epoch 26/300\n",
            "25/25 [==============================] - 0s 12ms/step - loss: 4.1551e-04 - last_time_step_mse: 1.2707e-04 - val_loss: 3.3979e-04 - val_last_time_step_mse: 9.9188e-05\n",
            "Epoch 27/300\n",
            "25/25 [==============================] - 0s 12ms/step - loss: 3.9358e-04 - last_time_step_mse: 1.2056e-04 - val_loss: 3.1503e-04 - val_last_time_step_mse: 9.6491e-05\n",
            "Epoch 28/300\n",
            "25/25 [==============================] - 0s 13ms/step - loss: 3.7285e-04 - last_time_step_mse: 1.0177e-04 - val_loss: 3.0016e-04 - val_last_time_step_mse: 8.3882e-05\n",
            "Epoch 29/300\n",
            "25/25 [==============================] - 0s 12ms/step - loss: 3.6060e-04 - last_time_step_mse: 1.1005e-04 - val_loss: 2.9500e-04 - val_last_time_step_mse: 6.4134e-05\n",
            "Epoch 30/300\n",
            "25/25 [==============================] - 0s 12ms/step - loss: 3.3702e-04 - last_time_step_mse: 7.8675e-05 - val_loss: 2.7352e-04 - val_last_time_step_mse: 6.0773e-05\n",
            "Epoch 31/300\n",
            "25/25 [==============================] - 0s 13ms/step - loss: 3.2283e-04 - last_time_step_mse: 7.2794e-05 - val_loss: 2.6559e-04 - val_last_time_step_mse: 5.5816e-05\n",
            "Epoch 32/300\n",
            "25/25 [==============================] - 0s 12ms/step - loss: 3.1188e-04 - last_time_step_mse: 7.9362e-05 - val_loss: 2.5398e-04 - val_last_time_step_mse: 4.9015e-05\n",
            "Epoch 33/300\n",
            "25/25 [==============================] - 0s 11ms/step - loss: 2.9852e-04 - last_time_step_mse: 6.1058e-05 - val_loss: 2.5904e-04 - val_last_time_step_mse: 8.3033e-05\n",
            "Epoch 34/300\n",
            "25/25 [==============================] - 0s 12ms/step - loss: 2.9503e-04 - last_time_step_mse: 7.6797e-05 - val_loss: 2.3443e-04 - val_last_time_step_mse: 4.6574e-05\n",
            "Epoch 35/300\n",
            "25/25 [==============================] - 0s 12ms/step - loss: 2.7906e-04 - last_time_step_mse: 6.2589e-05 - val_loss: 2.3398e-04 - val_last_time_step_mse: 8.1664e-05\n",
            "Epoch 36/300\n",
            "25/25 [==============================] - 0s 11ms/step - loss: 2.7581e-04 - last_time_step_mse: 7.5344e-05 - val_loss: 2.4581e-04 - val_last_time_step_mse: 1.0324e-04\n",
            "Epoch 37/300\n",
            "25/25 [==============================] - 0s 12ms/step - loss: 2.6020e-04 - last_time_step_mse: 5.9767e-05 - val_loss: 2.0688e-04 - val_last_time_step_mse: 3.1023e-05\n",
            "Epoch 38/300\n",
            "25/25 [==============================] - 0s 14ms/step - loss: 2.4433e-04 - last_time_step_mse: 4.0665e-05 - val_loss: 2.0558e-04 - val_last_time_step_mse: 3.4705e-05\n",
            "Epoch 39/300\n",
            "25/25 [==============================] - 0s 13ms/step - loss: 2.3631e-04 - last_time_step_mse: 3.7909e-05 - val_loss: 1.9325e-04 - val_last_time_step_mse: 3.1751e-05\n",
            "Epoch 40/300\n",
            "25/25 [==============================] - 0s 13ms/step - loss: 2.2731e-04 - last_time_step_mse: 3.2621e-05 - val_loss: 1.8840e-04 - val_last_time_step_mse: 3.3872e-05\n",
            "Epoch 41/300\n",
            "25/25 [==============================] - 0s 14ms/step - loss: 2.2265e-04 - last_time_step_mse: 3.6212e-05 - val_loss: 1.8800e-04 - val_last_time_step_mse: 3.6121e-05\n",
            "Epoch 42/300\n",
            "25/25 [==============================] - 0s 13ms/step - loss: 2.1646e-04 - last_time_step_mse: 3.8804e-05 - val_loss: 1.7972e-04 - val_last_time_step_mse: 3.8936e-05\n",
            "Epoch 43/300\n",
            "25/25 [==============================] - 0s 13ms/step - loss: 2.0858e-04 - last_time_step_mse: 3.4097e-05 - val_loss: 1.7582e-04 - val_last_time_step_mse: 4.1922e-05\n",
            "Epoch 44/300\n",
            "25/25 [==============================] - 0s 13ms/step - loss: 2.0067e-04 - last_time_step_mse: 2.9921e-05 - val_loss: 1.6776e-04 - val_last_time_step_mse: 2.0449e-05\n",
            "Epoch 45/300\n",
            "25/25 [==============================] - 0s 12ms/step - loss: 1.9569e-04 - last_time_step_mse: 2.9054e-05 - val_loss: 1.7098e-04 - val_last_time_step_mse: 3.8664e-05\n",
            "Epoch 46/300\n",
            "25/25 [==============================] - 0s 12ms/step - loss: 1.9154e-04 - last_time_step_mse: 2.7985e-05 - val_loss: 1.6136e-04 - val_last_time_step_mse: 3.4506e-05\n",
            "Epoch 47/300\n",
            "25/25 [==============================] - 0s 14ms/step - loss: 1.8437e-04 - last_time_step_mse: 2.4575e-05 - val_loss: 1.4922e-04 - val_last_time_step_mse: 1.6397e-05\n",
            "Epoch 48/300\n",
            "25/25 [==============================] - 0s 13ms/step - loss: 1.8178e-04 - last_time_step_mse: 3.4398e-05 - val_loss: 1.4536e-04 - val_last_time_step_mse: 1.6569e-05\n",
            "Epoch 49/300\n",
            "25/25 [==============================] - 0s 12ms/step - loss: 1.7424e-04 - last_time_step_mse: 2.4636e-05 - val_loss: 1.4729e-04 - val_last_time_step_mse: 2.6333e-05\n",
            "Epoch 50/300\n",
            "25/25 [==============================] - 0s 14ms/step - loss: 1.7024e-04 - last_time_step_mse: 2.6196e-05 - val_loss: 1.4126e-04 - val_last_time_step_mse: 1.5960e-05\n",
            "Epoch 51/300\n",
            "25/25 [==============================] - 0s 12ms/step - loss: 1.6517e-04 - last_time_step_mse: 2.4153e-05 - val_loss: 1.3336e-04 - val_last_time_step_mse: 1.3347e-05\n",
            "Epoch 52/300\n",
            "25/25 [==============================] - 0s 11ms/step - loss: 1.6029e-04 - last_time_step_mse: 2.1863e-05 - val_loss: 1.3743e-04 - val_last_time_step_mse: 1.5654e-05\n",
            "Epoch 53/300\n",
            "25/25 [==============================] - 0s 11ms/step - loss: 1.6029e-04 - last_time_step_mse: 2.7643e-05 - val_loss: 1.4828e-04 - val_last_time_step_mse: 2.6518e-05\n",
            "Epoch 54/300\n",
            "25/25 [==============================] - 0s 12ms/step - loss: 1.5344e-04 - last_time_step_mse: 2.0088e-05 - val_loss: 1.2635e-04 - val_last_time_step_mse: 1.0008e-05\n",
            "Epoch 55/300\n",
            "25/25 [==============================] - 0s 12ms/step - loss: 1.4740e-04 - last_time_step_mse: 1.6596e-05 - val_loss: 1.2739e-04 - val_last_time_step_mse: 2.6422e-05\n",
            "Epoch 56/300\n",
            "25/25 [==============================] - 0s 13ms/step - loss: 1.4456e-04 - last_time_step_mse: 1.7799e-05 - val_loss: 1.2020e-04 - val_last_time_step_mse: 1.0079e-05\n",
            "Epoch 57/300\n",
            "25/25 [==============================] - 0s 14ms/step - loss: 1.4118e-04 - last_time_step_mse: 1.7416e-05 - val_loss: 1.1766e-04 - val_last_time_step_mse: 1.5278e-05\n",
            "Epoch 58/300\n",
            "25/25 [==============================] - 0s 13ms/step - loss: 1.3523e-04 - last_time_step_mse: 1.1767e-05 - val_loss: 1.1257e-04 - val_last_time_step_mse: 9.7092e-06\n",
            "Epoch 59/300\n",
            "25/25 [==============================] - 0s 14ms/step - loss: 1.3265e-04 - last_time_step_mse: 1.3478e-05 - val_loss: 1.1137e-04 - val_last_time_step_mse: 1.1393e-05\n",
            "Epoch 60/300\n",
            "25/25 [==============================] - 0s 13ms/step - loss: 1.2930e-04 - last_time_step_mse: 1.2217e-05 - val_loss: 1.1081e-04 - val_last_time_step_mse: 2.0159e-05\n",
            "Epoch 61/300\n",
            "25/25 [==============================] - 0s 12ms/step - loss: 1.2749e-04 - last_time_step_mse: 1.3682e-05 - val_loss: 1.1119e-04 - val_last_time_step_mse: 3.2582e-05\n",
            "Epoch 62/300\n",
            "25/25 [==============================] - 0s 13ms/step - loss: 1.2425e-04 - last_time_step_mse: 1.2534e-05 - val_loss: 1.0765e-04 - val_last_time_step_mse: 6.2577e-06\n",
            "Epoch 63/300\n",
            "25/25 [==============================] - 0s 14ms/step - loss: 1.2530e-04 - last_time_step_mse: 2.1331e-05 - val_loss: 1.0651e-04 - val_last_time_step_mse: 8.7080e-06\n",
            "Epoch 64/300\n",
            "25/25 [==============================] - 0s 13ms/step - loss: 1.1852e-04 - last_time_step_mse: 9.9720e-06 - val_loss: 1.0274e-04 - val_last_time_step_mse: 6.8556e-06\n",
            "Epoch 65/300\n",
            "25/25 [==============================] - 0s 13ms/step - loss: 1.1617e-04 - last_time_step_mse: 1.1191e-05 - val_loss: 9.5008e-05 - val_last_time_step_mse: 5.3734e-06\n",
            "Epoch 66/300\n",
            "25/25 [==============================] - 0s 13ms/step - loss: 1.1206e-04 - last_time_step_mse: 8.4819e-06 - val_loss: 9.3830e-05 - val_last_time_step_mse: 1.1344e-05\n",
            "Epoch 67/300\n",
            "25/25 [==============================] - 0s 13ms/step - loss: 1.1005e-04 - last_time_step_mse: 8.1198e-06 - val_loss: 9.2690e-05 - val_last_time_step_mse: 6.6582e-06\n",
            "Epoch 68/300\n",
            "25/25 [==============================] - 0s 11ms/step - loss: 1.0842e-04 - last_time_step_mse: 9.3137e-06 - val_loss: 9.4072e-05 - val_last_time_step_mse: 1.8327e-05\n",
            "Epoch 69/300\n",
            "25/25 [==============================] - 0s 12ms/step - loss: 1.0915e-04 - last_time_step_mse: 1.3929e-05 - val_loss: 9.3425e-05 - val_last_time_step_mse: 4.5235e-06\n",
            "Epoch 70/300\n",
            "25/25 [==============================] - 0s 12ms/step - loss: 1.0577e-04 - last_time_step_mse: 1.4372e-05 - val_loss: 1.0488e-04 - val_last_time_step_mse: 2.2915e-05\n",
            "Epoch 71/300\n",
            "25/25 [==============================] - 0s 13ms/step - loss: 1.0494e-04 - last_time_step_mse: 1.5111e-05 - val_loss: 8.6030e-05 - val_last_time_step_mse: 9.6463e-06\n",
            "Epoch 72/300\n",
            "25/25 [==============================] - 0s 12ms/step - loss: 1.0107e-04 - last_time_step_mse: 1.2453e-05 - val_loss: 8.4604e-05 - val_last_time_step_mse: 4.0591e-06\n",
            "Epoch 73/300\n",
            "25/25 [==============================] - 0s 12ms/step - loss: 9.7683e-05 - last_time_step_mse: 7.9093e-06 - val_loss: 8.5937e-05 - val_last_time_step_mse: 6.5479e-06\n",
            "Epoch 74/300\n",
            "25/25 [==============================] - 0s 12ms/step - loss: 9.6180e-05 - last_time_step_mse: 7.7984e-06 - val_loss: 8.1868e-05 - val_last_time_step_mse: 1.1038e-05\n",
            "Epoch 75/300\n",
            "25/25 [==============================] - 0s 12ms/step - loss: 9.4956e-05 - last_time_step_mse: 9.3750e-06 - val_loss: 7.8232e-05 - val_last_time_step_mse: 5.1603e-06\n",
            "Epoch 76/300\n",
            "25/25 [==============================] - 0s 11ms/step - loss: 9.3271e-05 - last_time_step_mse: 1.0745e-05 - val_loss: 8.1798e-05 - val_last_time_step_mse: 1.5413e-05\n",
            "Epoch 77/300\n",
            "25/25 [==============================] - 0s 12ms/step - loss: 9.1397e-05 - last_time_step_mse: 1.0826e-05 - val_loss: 7.6559e-05 - val_last_time_step_mse: 4.5916e-06\n",
            "Epoch 78/300\n",
            "25/25 [==============================] - 0s 12ms/step - loss: 8.9552e-05 - last_time_step_mse: 8.5956e-06 - val_loss: 7.5864e-05 - val_last_time_step_mse: 5.2908e-06\n",
            "Epoch 79/300\n",
            "25/25 [==============================] - 0s 12ms/step - loss: 8.8050e-05 - last_time_step_mse: 1.0060e-05 - val_loss: 7.3371e-05 - val_last_time_step_mse: 1.0124e-05\n",
            "Epoch 80/300\n",
            "25/25 [==============================] - 0s 12ms/step - loss: 8.6614e-05 - last_time_step_mse: 1.0394e-05 - val_loss: 7.1486e-05 - val_last_time_step_mse: 4.6194e-06\n",
            "Epoch 81/300\n",
            "25/25 [==============================] - 0s 11ms/step - loss: 8.4040e-05 - last_time_step_mse: 6.9627e-06 - val_loss: 7.2943e-05 - val_last_time_step_mse: 4.0854e-06\n",
            "Epoch 82/300\n",
            "25/25 [==============================] - 0s 12ms/step - loss: 8.2880e-05 - last_time_step_mse: 7.0000e-06 - val_loss: 6.9373e-05 - val_last_time_step_mse: 7.5395e-06\n",
            "Epoch 83/300\n",
            "25/25 [==============================] - 0s 12ms/step - loss: 8.1329e-05 - last_time_step_mse: 6.8929e-06 - val_loss: 7.0230e-05 - val_last_time_step_mse: 1.4143e-05\n",
            "Epoch 84/300\n",
            "25/25 [==============================] - 0s 11ms/step - loss: 8.1110e-05 - last_time_step_mse: 1.1048e-05 - val_loss: 7.0633e-05 - val_last_time_step_mse: 7.8006e-06\n",
            "Epoch 85/300\n",
            "25/25 [==============================] - 0s 12ms/step - loss: 7.9673e-05 - last_time_step_mse: 8.6920e-06 - val_loss: 6.9337e-05 - val_last_time_step_mse: 1.3692e-05\n",
            "Epoch 86/300\n",
            "25/25 [==============================] - 0s 11ms/step - loss: 7.9799e-05 - last_time_step_mse: 1.3281e-05 - val_loss: 7.4838e-05 - val_last_time_step_mse: 3.0728e-05\n",
            "Epoch 87/300\n",
            "25/25 [==============================] - 0s 12ms/step - loss: 7.8825e-05 - last_time_step_mse: 1.3321e-05 - val_loss: 6.6305e-05 - val_last_time_step_mse: 1.3792e-05\n",
            "Epoch 88/300\n",
            "25/25 [==============================] - 0s 12ms/step - loss: 7.5758e-05 - last_time_step_mse: 9.2831e-06 - val_loss: 6.2605e-05 - val_last_time_step_mse: 3.4798e-06\n",
            "Epoch 89/300\n",
            "25/25 [==============================] - 0s 12ms/step - loss: 7.4537e-05 - last_time_step_mse: 7.9973e-06 - val_loss: 6.3196e-05 - val_last_time_step_mse: 8.7466e-06\n",
            "Epoch 90/300\n",
            "25/25 [==============================] - 0s 11ms/step - loss: 7.2874e-05 - last_time_step_mse: 7.2085e-06 - val_loss: 6.3567e-05 - val_last_time_step_mse: 3.9846e-06\n",
            "Epoch 91/300\n",
            "25/25 [==============================] - 0s 12ms/step - loss: 7.3745e-05 - last_time_step_mse: 1.2512e-05 - val_loss: 6.0470e-05 - val_last_time_step_mse: 1.1180e-05\n",
            "Epoch 92/300\n",
            "25/25 [==============================] - 0s 11ms/step - loss: 7.0147e-05 - last_time_step_mse: 5.9840e-06 - val_loss: 6.5104e-05 - val_last_time_step_mse: 1.0631e-05\n",
            "Epoch 93/300\n",
            "25/25 [==============================] - 0s 12ms/step - loss: 6.9840e-05 - last_time_step_mse: 8.9071e-06 - val_loss: 5.7012e-05 - val_last_time_step_mse: 4.3497e-06\n",
            "Epoch 94/300\n",
            "25/25 [==============================] - 0s 11ms/step - loss: 7.0055e-05 - last_time_step_mse: 1.2110e-05 - val_loss: 6.6508e-05 - val_last_time_step_mse: 3.5363e-05\n",
            "Epoch 95/300\n",
            "25/25 [==============================] - 0s 11ms/step - loss: 6.8685e-05 - last_time_step_mse: 1.1276e-05 - val_loss: 5.7927e-05 - val_last_time_step_mse: 6.2860e-06\n",
            "Epoch 96/300\n",
            "25/25 [==============================] - 0s 11ms/step - loss: 6.6185e-05 - last_time_step_mse: 5.5507e-06 - val_loss: 5.9666e-05 - val_last_time_step_mse: 1.7882e-05\n",
            "Epoch 97/300\n",
            "25/25 [==============================] - 0s 12ms/step - loss: 6.9119e-05 - last_time_step_mse: 1.6548e-05 - val_loss: 5.9745e-05 - val_last_time_step_mse: 3.0359e-05\n",
            "Epoch 98/300\n",
            "25/25 [==============================] - 0s 12ms/step - loss: 6.4337e-05 - last_time_step_mse: 7.5858e-06 - val_loss: 5.3233e-05 - val_last_time_step_mse: 4.5828e-06\n",
            "Epoch 99/300\n",
            "25/25 [==============================] - 0s 12ms/step - loss: 6.4465e-05 - last_time_step_mse: 1.0632e-05 - val_loss: 5.1767e-05 - val_last_time_step_mse: 2.8281e-06\n",
            "Epoch 100/300\n",
            "25/25 [==============================] - 0s 11ms/step - loss: 6.3497e-05 - last_time_step_mse: 9.1188e-06 - val_loss: 5.2750e-05 - val_last_time_step_mse: 9.1682e-06\n",
            "Epoch 101/300\n",
            "25/25 [==============================] - 0s 12ms/step - loss: 6.0975e-05 - last_time_step_mse: 6.4075e-06 - val_loss: 5.0439e-05 - val_last_time_step_mse: 2.7846e-06\n",
            "Epoch 102/300\n",
            "25/25 [==============================] - 0s 11ms/step - loss: 6.1232e-05 - last_time_step_mse: 8.6587e-06 - val_loss: 5.3151e-05 - val_last_time_step_mse: 1.2099e-05\n",
            "Epoch 103/300\n",
            "25/25 [==============================] - 0s 12ms/step - loss: 6.1557e-05 - last_time_step_mse: 1.1640e-05 - val_loss: 4.9913e-05 - val_last_time_step_mse: 4.5059e-06\n",
            "Epoch 104/300\n",
            "25/25 [==============================] - 0s 11ms/step - loss: 6.0112e-05 - last_time_step_mse: 1.1713e-05 - val_loss: 5.0592e-05 - val_last_time_step_mse: 8.3028e-06\n",
            "Epoch 105/300\n",
            "25/25 [==============================] - 0s 11ms/step - loss: 6.3243e-05 - last_time_step_mse: 2.1648e-05 - val_loss: 6.1607e-05 - val_last_time_step_mse: 3.7815e-05\n",
            "Epoch 106/300\n",
            "25/25 [==============================] - 0s 11ms/step - loss: 6.3721e-05 - last_time_step_mse: 2.5348e-05 - val_loss: 5.7650e-05 - val_last_time_step_mse: 3.7250e-05\n",
            "Epoch 107/300\n",
            "25/25 [==============================] - 0s 11ms/step - loss: 5.7440e-05 - last_time_step_mse: 8.9433e-06 - val_loss: 5.1147e-05 - val_last_time_step_mse: 1.2060e-05\n",
            "Epoch 108/300\n",
            "25/25 [==============================] - 0s 13ms/step - loss: 5.6139e-05 - last_time_step_mse: 7.0256e-06 - val_loss: 4.7228e-05 - val_last_time_step_mse: 3.9801e-06\n",
            "Epoch 109/300\n",
            "25/25 [==============================] - 0s 11ms/step - loss: 5.5048e-05 - last_time_step_mse: 7.2195e-06 - val_loss: 5.2832e-05 - val_last_time_step_mse: 2.3806e-05\n",
            "Epoch 110/300\n",
            "25/25 [==============================] - 0s 12ms/step - loss: 5.9807e-05 - last_time_step_mse: 2.2116e-05 - val_loss: 5.5316e-05 - val_last_time_step_mse: 4.0410e-05\n",
            "Epoch 111/300\n",
            "25/25 [==============================] - 0s 13ms/step - loss: 6.0858e-05 - last_time_step_mse: 2.9053e-05 - val_loss: 4.4134e-05 - val_last_time_step_mse: 3.0251e-06\n",
            "Epoch 112/300\n",
            "25/25 [==============================] - 0s 11ms/step - loss: 5.4029e-05 - last_time_step_mse: 1.0293e-05 - val_loss: 4.8931e-05 - val_last_time_step_mse: 1.8385e-05\n",
            "Epoch 113/300\n",
            "25/25 [==============================] - 0s 11ms/step - loss: 5.6637e-05 - last_time_step_mse: 1.9404e-05 - val_loss: 4.6195e-05 - val_last_time_step_mse: 7.8117e-06\n",
            "Epoch 114/300\n",
            "25/25 [==============================] - 0s 12ms/step - loss: 5.0986e-05 - last_time_step_mse: 6.7225e-06 - val_loss: 4.3335e-05 - val_last_time_step_mse: 4.9552e-06\n",
            "Epoch 115/300\n",
            "25/25 [==============================] - 0s 11ms/step - loss: 5.3717e-05 - last_time_step_mse: 1.6093e-05 - val_loss: 4.9971e-05 - val_last_time_step_mse: 2.3881e-05\n",
            "Epoch 116/300\n",
            "25/25 [==============================] - 0s 12ms/step - loss: 5.1926e-05 - last_time_step_mse: 1.0222e-05 - val_loss: 4.1713e-05 - val_last_time_step_mse: 6.6028e-06\n",
            "Epoch 117/300\n",
            "25/25 [==============================] - 0s 11ms/step - loss: 4.9545e-05 - last_time_step_mse: 7.9642e-06 - val_loss: 4.3409e-05 - val_last_time_step_mse: 9.0842e-06\n",
            "Epoch 118/300\n",
            "25/25 [==============================] - 0s 12ms/step - loss: 5.2571e-05 - last_time_step_mse: 1.9045e-05 - val_loss: 6.2681e-05 - val_last_time_step_mse: 7.4463e-05\n",
            "Epoch 119/300\n",
            "25/25 [==============================] - 0s 11ms/step - loss: 5.5784e-05 - last_time_step_mse: 2.8576e-05 - val_loss: 4.3429e-05 - val_last_time_step_mse: 1.9175e-06\n",
            "Epoch 120/300\n",
            "25/25 [==============================] - 0s 12ms/step - loss: 4.8989e-05 - last_time_step_mse: 1.1104e-05 - val_loss: 4.1615e-05 - val_last_time_step_mse: 1.2735e-05\n",
            "Epoch 121/300\n",
            "25/25 [==============================] - 0s 12ms/step - loss: 4.7241e-05 - last_time_step_mse: 8.2002e-06 - val_loss: 3.8986e-05 - val_last_time_step_mse: 4.7863e-06\n",
            "Epoch 122/300\n",
            "25/25 [==============================] - 0s 11ms/step - loss: 4.8614e-05 - last_time_step_mse: 1.2390e-05 - val_loss: 4.2102e-05 - val_last_time_step_mse: 1.1740e-05\n",
            "Epoch 123/300\n",
            "25/25 [==============================] - 0s 11ms/step - loss: 4.8024e-05 - last_time_step_mse: 1.2202e-05 - val_loss: 4.1035e-05 - val_last_time_step_mse: 6.3443e-06\n",
            "Epoch 124/300\n",
            "25/25 [==============================] - 0s 12ms/step - loss: 4.6930e-05 - last_time_step_mse: 9.0543e-06 - val_loss: 3.7970e-05 - val_last_time_step_mse: 2.1796e-06\n",
            "Epoch 125/300\n",
            "25/25 [==============================] - 0s 13ms/step - loss: 4.5550e-05 - last_time_step_mse: 1.0270e-05 - val_loss: 3.7282e-05 - val_last_time_step_mse: 5.8668e-06\n",
            "Epoch 126/300\n",
            "25/25 [==============================] - 0s 12ms/step - loss: 4.4930e-05 - last_time_step_mse: 1.0638e-05 - val_loss: 3.5822e-05 - val_last_time_step_mse: 4.2126e-06\n",
            "Epoch 127/300\n",
            "25/25 [==============================] - 0s 11ms/step - loss: 4.3721e-05 - last_time_step_mse: 7.3446e-06 - val_loss: 3.9647e-05 - val_last_time_step_mse: 1.6279e-05\n",
            "Epoch 128/300\n",
            "25/25 [==============================] - 0s 11ms/step - loss: 4.2979e-05 - last_time_step_mse: 8.8743e-06 - val_loss: 3.6424e-05 - val_last_time_step_mse: 3.0599e-06\n",
            "Epoch 129/300\n",
            "25/25 [==============================] - 0s 11ms/step - loss: 6.0857e-05 - last_time_step_mse: 5.8742e-05 - val_loss: 6.0106e-05 - val_last_time_step_mse: 9.7111e-05\n",
            "Epoch 130/300\n",
            "25/25 [==============================] - 0s 11ms/step - loss: 6.5666e-05 - last_time_step_mse: 7.7367e-05 - val_loss: 3.6002e-05 - val_last_time_step_mse: 1.5649e-06\n",
            "Epoch 131/300\n",
            "25/25 [==============================] - 0s 12ms/step - loss: 4.3673e-05 - last_time_step_mse: 1.3349e-05 - val_loss: 3.4294e-05 - val_last_time_step_mse: 4.3763e-06\n",
            "Epoch 132/300\n",
            "25/25 [==============================] - 0s 12ms/step - loss: 4.0882e-05 - last_time_step_mse: 6.3706e-06 - val_loss: 3.5241e-05 - val_last_time_step_mse: 6.4954e-06\n",
            "Epoch 133/300\n",
            "25/25 [==============================] - 0s 11ms/step - loss: 4.2044e-05 - last_time_step_mse: 1.2514e-05 - val_loss: 4.7094e-05 - val_last_time_step_mse: 3.9744e-05\n",
            "Epoch 134/300\n",
            "25/25 [==============================] - 0s 11ms/step - loss: 4.8527e-05 - last_time_step_mse: 2.9083e-05 - val_loss: 4.8276e-05 - val_last_time_step_mse: 5.8524e-05\n",
            "Epoch 135/300\n",
            "25/25 [==============================] - 0s 11ms/step - loss: 4.6193e-05 - last_time_step_mse: 2.6560e-05 - val_loss: 3.5027e-05 - val_last_time_step_mse: 7.4948e-06\n",
            "Epoch 136/300\n",
            "25/25 [==============================] - 0s 11ms/step - loss: 4.1213e-05 - last_time_step_mse: 1.4189e-05 - val_loss: 3.9061e-05 - val_last_time_step_mse: 1.2559e-05\n",
            "Epoch 137/300\n",
            "25/25 [==============================] - 0s 12ms/step - loss: 4.0145e-05 - last_time_step_mse: 1.1123e-05 - val_loss: 3.2833e-05 - val_last_time_step_mse: 7.5821e-06\n",
            "Epoch 138/300\n",
            "25/25 [==============================] - 0s 11ms/step - loss: 3.7211e-05 - last_time_step_mse: 4.2664e-06 - val_loss: 3.3586e-05 - val_last_time_step_mse: 9.5398e-06\n",
            "Epoch 139/300\n",
            "25/25 [==============================] - 0s 12ms/step - loss: 3.7392e-05 - last_time_step_mse: 6.8846e-06 - val_loss: 3.0313e-05 - val_last_time_step_mse: 1.4978e-06\n",
            "Epoch 140/300\n",
            "25/25 [==============================] - 0s 11ms/step - loss: 3.6328e-05 - last_time_step_mse: 5.3285e-06 - val_loss: 3.4139e-05 - val_last_time_step_mse: 1.0293e-05\n",
            "Epoch 141/300\n",
            "25/25 [==============================] - 0s 11ms/step - loss: 4.3817e-05 - last_time_step_mse: 2.6139e-05 - val_loss: 3.9441e-05 - val_last_time_step_mse: 3.1946e-05\n",
            "Epoch 142/300\n",
            "25/25 [==============================] - 0s 11ms/step - loss: 4.0313e-05 - last_time_step_mse: 1.5282e-05 - val_loss: 3.2139e-05 - val_last_time_step_mse: 7.4808e-06\n",
            "Epoch 143/300\n",
            "25/25 [==============================] - 0s 12ms/step - loss: 4.0243e-05 - last_time_step_mse: 1.8100e-05 - val_loss: 2.8891e-05 - val_last_time_step_mse: 3.4852e-06\n",
            "Epoch 144/300\n",
            "25/25 [==============================] - 0s 12ms/step - loss: 3.7282e-05 - last_time_step_mse: 1.1776e-05 - val_loss: 2.8843e-05 - val_last_time_step_mse: 1.7918e-06\n",
            "Epoch 145/300\n",
            "25/25 [==============================] - 0s 11ms/step - loss: 3.8362e-05 - last_time_step_mse: 1.6407e-05 - val_loss: 4.4136e-05 - val_last_time_step_mse: 4.6168e-05\n",
            "Epoch 146/300\n",
            "25/25 [==============================] - 0s 11ms/step - loss: 3.9698e-05 - last_time_step_mse: 2.0162e-05 - val_loss: 3.1113e-05 - val_last_time_step_mse: 8.9783e-06\n",
            "Epoch 147/300\n",
            "25/25 [==============================] - 0s 11ms/step - loss: 3.9730e-05 - last_time_step_mse: 1.9631e-05 - val_loss: 3.6850e-05 - val_last_time_step_mse: 3.2996e-05\n",
            "Epoch 148/300\n",
            "25/25 [==============================] - 0s 11ms/step - loss: 4.8606e-05 - last_time_step_mse: 4.7012e-05 - val_loss: 5.7589e-05 - val_last_time_step_mse: 8.4487e-05\n",
            "Epoch 149/300\n",
            "25/25 [==============================] - 0s 11ms/step - loss: 4.3067e-05 - last_time_step_mse: 3.1261e-05 - val_loss: 3.1814e-05 - val_last_time_step_mse: 1.5242e-05\n",
            "Epoch 150/300\n",
            "25/25 [==============================] - 0s 11ms/step - loss: 3.6342e-05 - last_time_step_mse: 1.4765e-05 - val_loss: 4.5939e-05 - val_last_time_step_mse: 6.4510e-05\n",
            "Epoch 151/300\n",
            "25/25 [==============================] - 0s 11ms/step - loss: 3.8656e-05 - last_time_step_mse: 2.2227e-05 - val_loss: 3.2457e-05 - val_last_time_step_mse: 1.3869e-05\n",
            "Epoch 152/300\n",
            "25/25 [==============================] - 0s 11ms/step - loss: 3.7503e-05 - last_time_step_mse: 1.9147e-05 - val_loss: 2.8902e-05 - val_last_time_step_mse: 7.0179e-06\n",
            "Epoch 153/300\n",
            "25/25 [==============================] - 0s 11ms/step - loss: 4.2021e-05 - last_time_step_mse: 3.4825e-05 - val_loss: 3.2323e-05 - val_last_time_step_mse: 2.0472e-05\n",
            "Epoch 154/300\n",
            "25/25 [==============================] - 0s 12ms/step - loss: 4.3721e-05 - last_time_step_mse: 3.7969e-05 - val_loss: 4.5211e-05 - val_last_time_step_mse: 4.5833e-05\n",
            "Epoch 155/300\n",
            "25/25 [==============================] - 0s 12ms/step - loss: 3.2336e-05 - last_time_step_mse: 9.6818e-06 - val_loss: 2.7332e-05 - val_last_time_step_mse: 2.1656e-06\n",
            "Epoch 156/300\n",
            "25/25 [==============================] - 0s 11ms/step - loss: 3.1035e-05 - last_time_step_mse: 7.3530e-06 - val_loss: 2.7970e-05 - val_last_time_step_mse: 8.2241e-06\n",
            "Epoch 157/300\n",
            "25/25 [==============================] - 0s 12ms/step - loss: 3.5226e-05 - last_time_step_mse: 1.8553e-05 - val_loss: 2.5149e-05 - val_last_time_step_mse: 2.4354e-06\n",
            "Epoch 158/300\n",
            "25/25 [==============================] - 0s 11ms/step - loss: 3.6188e-05 - last_time_step_mse: 2.0586e-05 - val_loss: 3.9076e-05 - val_last_time_step_mse: 3.0518e-05\n",
            "Epoch 159/300\n",
            "25/25 [==============================] - 0s 13ms/step - loss: 3.6837e-05 - last_time_step_mse: 2.4468e-05 - val_loss: 2.4342e-05 - val_last_time_step_mse: 2.2292e-06\n",
            "Epoch 160/300\n",
            "25/25 [==============================] - 0s 12ms/step - loss: 2.9253e-05 - last_time_step_mse: 4.9031e-06 - val_loss: 2.3680e-05 - val_last_time_step_mse: 5.7435e-07\n",
            "Epoch 161/300\n",
            "25/25 [==============================] - 0s 12ms/step - loss: 3.2194e-05 - last_time_step_mse: 1.4520e-05 - val_loss: 2.6413e-05 - val_last_time_step_mse: 1.0876e-05\n",
            "Epoch 162/300\n",
            "25/25 [==============================] - 0s 12ms/step - loss: 3.2467e-05 - last_time_step_mse: 1.4629e-05 - val_loss: 2.4183e-05 - val_last_time_step_mse: 5.4450e-06\n",
            "Epoch 163/300\n",
            "25/25 [==============================] - 0s 11ms/step - loss: 3.1160e-05 - last_time_step_mse: 1.3759e-05 - val_loss: 2.7488e-05 - val_last_time_step_mse: 1.2621e-05\n",
            "Epoch 164/300\n",
            "25/25 [==============================] - 0s 13ms/step - loss: 3.5717e-05 - last_time_step_mse: 2.6156e-05 - val_loss: 2.3386e-05 - val_last_time_step_mse: 4.5944e-06\n",
            "Epoch 165/300\n",
            "25/25 [==============================] - 0s 12ms/step - loss: 3.6858e-05 - last_time_step_mse: 3.0878e-05 - val_loss: 2.3327e-05 - val_last_time_step_mse: 4.9296e-06\n",
            "Epoch 166/300\n",
            "25/25 [==============================] - 0s 11ms/step - loss: 2.8815e-05 - last_time_step_mse: 9.4947e-06 - val_loss: 3.1251e-05 - val_last_time_step_mse: 2.4776e-05\n",
            "Epoch 167/300\n",
            "25/25 [==============================] - 0s 11ms/step - loss: 4.0189e-05 - last_time_step_mse: 3.8251e-05 - val_loss: 2.6951e-05 - val_last_time_step_mse: 1.3070e-05\n",
            "Epoch 168/300\n",
            "25/25 [==============================] - 0s 13ms/step - loss: 3.0230e-05 - last_time_step_mse: 1.2861e-05 - val_loss: 2.1730e-05 - val_last_time_step_mse: 2.3542e-06\n",
            "Epoch 169/300\n",
            "25/25 [==============================] - 0s 11ms/step - loss: 2.7769e-05 - last_time_step_mse: 7.7909e-06 - val_loss: 2.2674e-05 - val_last_time_step_mse: 2.7343e-06\n",
            "Epoch 170/300\n",
            "25/25 [==============================] - 0s 11ms/step - loss: 2.7008e-05 - last_time_step_mse: 6.5451e-06 - val_loss: 2.7484e-05 - val_last_time_step_mse: 2.3079e-05\n",
            "Epoch 171/300\n",
            "25/25 [==============================] - 0s 11ms/step - loss: 4.0873e-05 - last_time_step_mse: 4.2638e-05 - val_loss: 3.5631e-05 - val_last_time_step_mse: 4.5725e-05\n",
            "Epoch 172/300\n",
            "25/25 [==============================] - 0s 11ms/step - loss: 2.9062e-05 - last_time_step_mse: 1.3436e-05 - val_loss: 2.3221e-05 - val_last_time_step_mse: 6.4315e-06\n",
            "Epoch 173/300\n",
            "25/25 [==============================] - 0s 12ms/step - loss: 2.5969e-05 - last_time_step_mse: 6.5144e-06 - val_loss: 2.1297e-05 - val_last_time_step_mse: 1.5999e-06\n",
            "Epoch 174/300\n",
            "25/25 [==============================] - 0s 11ms/step - loss: 3.2971e-05 - last_time_step_mse: 2.5124e-05 - val_loss: 6.5304e-05 - val_last_time_step_mse: 1.3066e-04\n",
            "Epoch 175/300\n",
            "25/25 [==============================] - 0s 11ms/step - loss: 4.9417e-05 - last_time_step_mse: 7.0433e-05 - val_loss: 2.6299e-05 - val_last_time_step_mse: 2.0815e-05\n",
            "Epoch 176/300\n",
            "25/25 [==============================] - 0s 11ms/step - loss: 2.8781e-05 - last_time_step_mse: 1.5151e-05 - val_loss: 2.3285e-05 - val_last_time_step_mse: 1.1381e-05\n",
            "Epoch 177/300\n",
            "25/25 [==============================] - 0s 11ms/step - loss: 2.6286e-05 - last_time_step_mse: 1.0856e-05 - val_loss: 2.4787e-05 - val_last_time_step_mse: 8.1570e-06\n",
            "Epoch 178/300\n",
            "25/25 [==============================] - 0s 11ms/step - loss: 2.5963e-05 - last_time_step_mse: 9.2068e-06 - val_loss: 2.2438e-05 - val_last_time_step_mse: 7.5865e-06\n",
            "Epoch 179/300\n",
            "25/25 [==============================] - 0s 12ms/step - loss: 2.6753e-05 - last_time_step_mse: 1.2800e-05 - val_loss: 2.1005e-05 - val_last_time_step_mse: 5.6004e-06\n",
            "Epoch 180/300\n",
            "25/25 [==============================] - 0s 12ms/step - loss: 2.4131e-05 - last_time_step_mse: 6.5850e-06 - val_loss: 1.9881e-05 - val_last_time_step_mse: 3.8444e-06\n",
            "Epoch 181/300\n",
            "25/25 [==============================] - 0s 11ms/step - loss: 2.7231e-05 - last_time_step_mse: 1.4664e-05 - val_loss: 2.8724e-05 - val_last_time_step_mse: 2.8655e-05\n",
            "Epoch 182/300\n",
            "25/25 [==============================] - 0s 11ms/step - loss: 3.3043e-05 - last_time_step_mse: 2.9683e-05 - val_loss: 2.1073e-05 - val_last_time_step_mse: 1.7301e-06\n",
            "Epoch 183/300\n",
            "25/25 [==============================] - 0s 11ms/step - loss: 3.2391e-05 - last_time_step_mse: 2.7245e-05 - val_loss: 3.2992e-05 - val_last_time_step_mse: 2.2602e-05\n",
            "Epoch 184/300\n",
            "25/25 [==============================] - 0s 11ms/step - loss: 2.8933e-05 - last_time_step_mse: 2.0349e-05 - val_loss: 2.2871e-05 - val_last_time_step_mse: 1.2002e-05\n",
            "Epoch 185/300\n",
            "25/25 [==============================] - 0s 11ms/step - loss: 2.9709e-05 - last_time_step_mse: 2.1641e-05 - val_loss: 3.8607e-05 - val_last_time_step_mse: 6.3659e-05\n",
            "Epoch 186/300\n",
            "25/25 [==============================] - 0s 12ms/step - loss: 2.9355e-05 - last_time_step_mse: 2.3836e-05 - val_loss: 1.8295e-05 - val_last_time_step_mse: 5.8321e-07\n",
            "Epoch 187/300\n",
            "25/25 [==============================] - 0s 11ms/step - loss: 2.5616e-05 - last_time_step_mse: 1.3011e-05 - val_loss: 2.3123e-05 - val_last_time_step_mse: 1.6163e-05\n",
            "Epoch 188/300\n",
            "25/25 [==============================] - 0s 11ms/step - loss: 2.5549e-05 - last_time_step_mse: 1.3739e-05 - val_loss: 2.7648e-05 - val_last_time_step_mse: 3.0923e-05\n",
            "Epoch 189/300\n",
            "25/25 [==============================] - 0s 12ms/step - loss: 2.6644e-05 - last_time_step_mse: 1.4791e-05 - val_loss: 2.0101e-05 - val_last_time_step_mse: 5.2126e-06\n",
            "Epoch 190/300\n",
            "25/25 [==============================] - 0s 11ms/step - loss: 2.2388e-05 - last_time_step_mse: 6.5828e-06 - val_loss: 2.0021e-05 - val_last_time_step_mse: 8.2447e-06\n",
            "Epoch 191/300\n",
            "25/25 [==============================] - 0s 12ms/step - loss: 2.5054e-05 - last_time_step_mse: 1.4740e-05 - val_loss: 1.8105e-05 - val_last_time_step_mse: 2.4298e-06\n",
            "Epoch 192/300\n",
            "25/25 [==============================] - 0s 11ms/step - loss: 3.3599e-05 - last_time_step_mse: 3.8920e-05 - val_loss: 2.6327e-05 - val_last_time_step_mse: 2.0948e-05\n",
            "Epoch 193/300\n",
            "25/25 [==============================] - 0s 11ms/step - loss: 2.8030e-05 - last_time_step_mse: 2.2033e-05 - val_loss: 2.3571e-05 - val_last_time_step_mse: 1.1605e-05\n",
            "Epoch 194/300\n",
            "25/25 [==============================] - 0s 12ms/step - loss: 2.2965e-05 - last_time_step_mse: 1.0604e-05 - val_loss: 1.7349e-05 - val_last_time_step_mse: 5.0869e-07\n",
            "Epoch 195/300\n",
            "25/25 [==============================] - 0s 12ms/step - loss: 2.2851e-05 - last_time_step_mse: 1.0118e-05 - val_loss: 1.6467e-05 - val_last_time_step_mse: 1.9875e-06\n",
            "Epoch 196/300\n",
            "25/25 [==============================] - 0s 12ms/step - loss: 2.0921e-05 - last_time_step_mse: 5.3156e-06 - val_loss: 1.7293e-05 - val_last_time_step_mse: 4.3558e-06\n",
            "Epoch 197/300\n",
            "25/25 [==============================] - 0s 11ms/step - loss: 2.4231e-05 - last_time_step_mse: 1.5998e-05 - val_loss: 8.0574e-05 - val_last_time_step_mse: 1.7478e-04\n",
            "Epoch 198/300\n",
            "25/25 [==============================] - 0s 11ms/step - loss: 5.1091e-05 - last_time_step_mse: 8.7780e-05 - val_loss: 4.2556e-05 - val_last_time_step_mse: 6.1081e-05\n",
            "Epoch 199/300\n",
            "25/25 [==============================] - 0s 11ms/step - loss: 2.5156e-05 - last_time_step_mse: 1.8729e-05 - val_loss: 1.7962e-05 - val_last_time_step_mse: 2.9897e-06\n",
            "Epoch 200/300\n",
            "25/25 [==============================] - 0s 11ms/step - loss: 1.9299e-05 - last_time_step_mse: 3.6305e-06 - val_loss: 2.0844e-05 - val_last_time_step_mse: 1.7569e-05\n",
            "Epoch 201/300\n",
            "25/25 [==============================] - 0s 11ms/step - loss: 2.0249e-05 - last_time_step_mse: 5.8443e-06 - val_loss: 2.0323e-05 - val_last_time_step_mse: 1.3522e-05\n",
            "Epoch 202/300\n",
            "25/25 [==============================] - 0s 11ms/step - loss: 2.1354e-05 - last_time_step_mse: 9.7232e-06 - val_loss: 1.9254e-05 - val_last_time_step_mse: 1.2451e-05\n",
            "Epoch 203/300\n",
            "25/25 [==============================] - 0s 11ms/step - loss: 2.3800e-05 - last_time_step_mse: 1.5246e-05 - val_loss: 1.6869e-05 - val_last_time_step_mse: 6.1034e-06\n",
            "Epoch 204/300\n",
            "25/25 [==============================] - 0s 12ms/step - loss: 2.6877e-05 - last_time_step_mse: 2.5075e-05 - val_loss: 1.8475e-05 - val_last_time_step_mse: 9.7985e-06\n",
            "Epoch 205/300\n",
            "25/25 [==============================] - 0s 11ms/step - loss: 2.1764e-05 - last_time_step_mse: 1.1424e-05 - val_loss: 1.9493e-05 - val_last_time_step_mse: 1.1142e-05\n",
            "Epoch 206/300\n",
            "25/25 [==============================] - 0s 11ms/step - loss: 2.0177e-05 - last_time_step_mse: 9.1931e-06 - val_loss: 2.0166e-05 - val_last_time_step_mse: 9.1248e-06\n",
            "Epoch 207/300\n",
            "25/25 [==============================] - 0s 11ms/step - loss: 3.5829e-05 - last_time_step_mse: 4.9531e-05 - val_loss: 2.4877e-05 - val_last_time_step_mse: 3.2637e-05\n",
            "Epoch 208/300\n",
            "25/25 [==============================] - 0s 11ms/step - loss: 5.4877e-05 - last_time_step_mse: 1.0438e-04 - val_loss: 1.7011e-05 - val_last_time_step_mse: 9.8590e-06\n",
            "Epoch 209/300\n",
            "25/25 [==============================] - 0s 11ms/step - loss: 2.1517e-05 - last_time_step_mse: 1.4132e-05 - val_loss: 1.6690e-05 - val_last_time_step_mse: 2.4938e-06\n",
            "Epoch 210/300\n",
            "25/25 [==============================] - 0s 12ms/step - loss: 1.8448e-05 - last_time_step_mse: 4.6653e-06 - val_loss: 1.5542e-05 - val_last_time_step_mse: 3.5509e-06\n",
            "Epoch 211/300\n",
            "25/25 [==============================] - 0s 12ms/step - loss: 1.8004e-05 - last_time_step_mse: 4.3647e-06 - val_loss: 1.4110e-05 - val_last_time_step_mse: 4.6687e-07\n",
            "Epoch 212/300\n",
            "25/25 [==============================] - 0s 11ms/step - loss: 2.1142e-05 - last_time_step_mse: 1.4603e-05 - val_loss: 1.5982e-05 - val_last_time_step_mse: 4.5660e-06\n",
            "Epoch 213/300\n",
            "25/25 [==============================] - 0s 11ms/step - loss: 1.9310e-05 - last_time_step_mse: 8.4951e-06 - val_loss: 2.5244e-05 - val_last_time_step_mse: 1.8337e-05\n",
            "Epoch 214/300\n",
            "25/25 [==============================] - 0s 11ms/step - loss: 2.0312e-05 - last_time_step_mse: 1.1136e-05 - val_loss: 1.5168e-05 - val_last_time_step_mse: 3.6796e-06\n",
            "Epoch 215/300\n",
            "25/25 [==============================] - 0s 11ms/step - loss: 1.7362e-05 - last_time_step_mse: 4.3706e-06 - val_loss: 1.4322e-05 - val_last_time_step_mse: 1.4244e-06\n",
            "Epoch 216/300\n",
            "25/25 [==============================] - 0s 11ms/step - loss: 2.0507e-05 - last_time_step_mse: 1.4230e-05 - val_loss: 2.0019e-05 - val_last_time_step_mse: 1.9115e-05\n",
            "Epoch 217/300\n",
            "25/25 [==============================] - 0s 11ms/step - loss: 2.4527e-05 - last_time_step_mse: 2.5190e-05 - val_loss: 3.4859e-05 - val_last_time_step_mse: 5.0475e-05\n",
            "Epoch 218/300\n",
            "25/25 [==============================] - 0s 11ms/step - loss: 2.8254e-05 - last_time_step_mse: 3.4035e-05 - val_loss: 1.5903e-05 - val_last_time_step_mse: 4.6602e-06\n",
            "Epoch 219/300\n",
            "25/25 [==============================] - 0s 11ms/step - loss: 2.3070e-05 - last_time_step_mse: 1.8512e-05 - val_loss: 2.4583e-05 - val_last_time_step_mse: 2.4824e-05\n",
            "Epoch 220/300\n",
            "25/25 [==============================] - 0s 11ms/step - loss: 1.9958e-05 - last_time_step_mse: 1.2991e-05 - val_loss: 3.6361e-05 - val_last_time_step_mse: 5.6257e-05\n",
            "Epoch 221/300\n",
            "25/25 [==============================] - 0s 11ms/step - loss: 1.9936e-05 - last_time_step_mse: 1.3155e-05 - val_loss: 1.7117e-05 - val_last_time_step_mse: 2.8878e-06\n",
            "Epoch 222/300\n",
            "25/25 [==============================] - 0s 12ms/step - loss: 2.3296e-05 - last_time_step_mse: 2.1496e-05 - val_loss: 1.8113e-05 - val_last_time_step_mse: 1.1987e-05\n",
            "Epoch 223/300\n",
            "25/25 [==============================] - 0s 11ms/step - loss: 2.1095e-05 - last_time_step_mse: 1.6363e-05 - val_loss: 1.4532e-05 - val_last_time_step_mse: 3.8676e-06\n",
            "Epoch 224/300\n",
            "25/25 [==============================] - 0s 12ms/step - loss: 1.5705e-05 - last_time_step_mse: 3.6215e-06 - val_loss: 1.6589e-05 - val_last_time_step_mse: 1.0151e-05\n",
            "Epoch 225/300\n",
            "25/25 [==============================] - 0s 12ms/step - loss: 1.5940e-05 - last_time_step_mse: 4.5683e-06 - val_loss: 1.5706e-05 - val_last_time_step_mse: 7.5161e-06\n",
            "Epoch 226/300\n",
            "25/25 [==============================] - 0s 11ms/step - loss: 1.7275e-05 - last_time_step_mse: 9.1980e-06 - val_loss: 1.4557e-05 - val_last_time_step_mse: 5.8957e-06\n",
            "Epoch 227/300\n",
            "25/25 [==============================] - 0s 11ms/step - loss: 3.6431e-05 - last_time_step_mse: 6.0099e-05 - val_loss: 6.3940e-05 - val_last_time_step_mse: 1.2534e-04\n",
            "Epoch 228/300\n",
            "25/25 [==============================] - 0s 11ms/step - loss: 3.9677e-05 - last_time_step_mse: 6.9575e-05 - val_loss: 3.3483e-05 - val_last_time_step_mse: 6.0556e-05\n",
            "Epoch 229/300\n",
            "25/25 [==============================] - 0s 11ms/step - loss: 2.3267e-05 - last_time_step_mse: 2.4615e-05 - val_loss: 1.5075e-05 - val_last_time_step_mse: 6.8171e-06\n",
            "Epoch 230/300\n",
            "25/25 [==============================] - 0s 12ms/step - loss: 1.5575e-05 - last_time_step_mse: 4.7726e-06 - val_loss: 1.3398e-05 - val_last_time_step_mse: 3.7571e-06\n",
            "Epoch 231/300\n",
            "25/25 [==============================] - 0s 11ms/step - loss: 1.5110e-05 - last_time_step_mse: 3.9319e-06 - val_loss: 1.4508e-05 - val_last_time_step_mse: 4.1211e-06\n",
            "Epoch 232/300\n",
            "25/25 [==============================] - 0s 11ms/step - loss: 1.6585e-05 - last_time_step_mse: 8.9798e-06 - val_loss: 2.4930e-05 - val_last_time_step_mse: 3.6821e-05\n",
            "Epoch 233/300\n",
            "25/25 [==============================] - 0s 12ms/step - loss: 1.7214e-05 - last_time_step_mse: 9.9656e-06 - val_loss: 1.3050e-05 - val_last_time_step_mse: 3.5840e-06\n",
            "Epoch 234/300\n",
            "25/25 [==============================] - 0s 11ms/step - loss: 1.7954e-05 - last_time_step_mse: 1.2593e-05 - val_loss: 1.9917e-05 - val_last_time_step_mse: 2.2381e-05\n",
            "Epoch 235/300\n",
            "25/25 [==============================] - 0s 12ms/step - loss: 2.0786e-05 - last_time_step_mse: 2.0674e-05 - val_loss: 2.5304e-05 - val_last_time_step_mse: 2.5657e-05\n",
            "Epoch 236/300\n",
            "25/25 [==============================] - 0s 11ms/step - loss: 2.6306e-05 - last_time_step_mse: 3.1156e-05 - val_loss: 1.4197e-05 - val_last_time_step_mse: 1.0376e-05\n",
            "Epoch 237/300\n",
            "25/25 [==============================] - 0s 11ms/step - loss: 2.5273e-05 - last_time_step_mse: 3.1770e-05 - val_loss: 5.7906e-05 - val_last_time_step_mse: 1.2588e-04\n",
            "Epoch 238/300\n",
            "25/25 [==============================] - 0s 11ms/step - loss: 2.6167e-05 - last_time_step_mse: 3.6104e-05 - val_loss: 1.8757e-05 - val_last_time_step_mse: 1.8948e-05\n",
            "Epoch 239/300\n",
            "25/25 [==============================] - 0s 12ms/step - loss: 1.8464e-05 - last_time_step_mse: 1.4928e-05 - val_loss: 1.3001e-05 - val_last_time_step_mse: 4.3863e-06\n",
            "Epoch 240/300\n",
            "25/25 [==============================] - 0s 11ms/step - loss: 1.8491e-05 - last_time_step_mse: 1.5567e-05 - val_loss: 1.6287e-05 - val_last_time_step_mse: 1.2452e-05\n",
            "Epoch 241/300\n",
            "25/25 [==============================] - 0s 11ms/step - loss: 1.8409e-05 - last_time_step_mse: 1.5642e-05 - val_loss: 1.4204e-05 - val_last_time_step_mse: 8.1389e-06\n",
            "Epoch 242/300\n",
            "25/25 [==============================] - 0s 11ms/step - loss: 1.9055e-05 - last_time_step_mse: 1.9024e-05 - val_loss: 1.8870e-05 - val_last_time_step_mse: 1.5788e-05\n",
            "Epoch 243/300\n",
            "25/25 [==============================] - 0s 11ms/step - loss: 1.8436e-05 - last_time_step_mse: 1.3830e-05 - val_loss: 1.4314e-05 - val_last_time_step_mse: 8.4473e-06\n",
            "Epoch 244/300\n",
            "25/25 [==============================] - 0s 11ms/step - loss: 1.8650e-05 - last_time_step_mse: 1.6527e-05 - val_loss: 1.5102e-05 - val_last_time_step_mse: 1.3900e-05\n",
            "Epoch 245/300\n",
            "25/25 [==============================] - 0s 11ms/step - loss: 1.5038e-05 - last_time_step_mse: 7.4416e-06 - val_loss: 1.3293e-05 - val_last_time_step_mse: 8.3332e-06\n",
            "Epoch 246/300\n",
            "25/25 [==============================] - 0s 12ms/step - loss: 1.4645e-05 - last_time_step_mse: 7.9935e-06 - val_loss: 1.2834e-05 - val_last_time_step_mse: 5.8797e-06\n",
            "Epoch 247/300\n",
            "25/25 [==============================] - 0s 11ms/step - loss: 1.5970e-05 - last_time_step_mse: 9.7973e-06 - val_loss: 2.1282e-05 - val_last_time_step_mse: 3.1233e-05\n",
            "Epoch 248/300\n",
            "25/25 [==============================] - 0s 12ms/step - loss: 1.4427e-05 - last_time_step_mse: 6.2796e-06 - val_loss: 1.0161e-05 - val_last_time_step_mse: 4.7770e-07\n",
            "Epoch 249/300\n",
            "25/25 [==============================] - 0s 11ms/step - loss: 1.9201e-05 - last_time_step_mse: 1.9071e-05 - val_loss: 1.5243e-05 - val_last_time_step_mse: 1.7686e-05\n",
            "Epoch 250/300\n",
            "25/25 [==============================] - 0s 11ms/step - loss: 2.8998e-05 - last_time_step_mse: 4.6524e-05 - val_loss: 3.1798e-05 - val_last_time_step_mse: 5.9987e-05\n",
            "Epoch 251/300\n",
            "25/25 [==============================] - 0s 10ms/step - loss: 2.0722e-05 - last_time_step_mse: 2.4855e-05 - val_loss: 1.2534e-05 - val_last_time_step_mse: 1.0156e-05\n",
            "Epoch 252/300\n",
            "25/25 [==============================] - 0s 11ms/step - loss: 1.3700e-05 - last_time_step_mse: 6.7945e-06 - val_loss: 1.8109e-05 - val_last_time_step_mse: 1.5182e-05\n",
            "Epoch 253/300\n",
            "25/25 [==============================] - 0s 11ms/step - loss: 1.4845e-05 - last_time_step_mse: 8.1875e-06 - val_loss: 1.4806e-05 - val_last_time_step_mse: 1.7214e-05\n",
            "Epoch 254/300\n",
            "25/25 [==============================] - 0s 11ms/step - loss: 2.2613e-05 - last_time_step_mse: 2.8661e-05 - val_loss: 3.8933e-05 - val_last_time_step_mse: 7.1650e-05\n",
            "Epoch 255/300\n",
            "25/25 [==============================] - 0s 11ms/step - loss: 2.8643e-05 - last_time_step_mse: 4.6393e-05 - val_loss: 2.5367e-05 - val_last_time_step_mse: 4.7839e-05\n",
            "Epoch 256/300\n",
            "25/25 [==============================] - 0s 11ms/step - loss: 1.7810e-05 - last_time_step_mse: 1.8810e-05 - val_loss: 1.5518e-05 - val_last_time_step_mse: 1.6463e-05\n",
            "Epoch 257/300\n",
            "25/25 [==============================] - 0s 11ms/step - loss: 1.8257e-05 - last_time_step_mse: 1.9993e-05 - val_loss: 1.6580e-05 - val_last_time_step_mse: 1.6305e-05\n",
            "Epoch 258/300\n",
            "25/25 [==============================] - 0s 11ms/step - loss: 1.8593e-05 - last_time_step_mse: 2.0644e-05 - val_loss: 2.2507e-05 - val_last_time_step_mse: 3.3287e-05\n",
            "Epoch 259/300\n",
            "25/25 [==============================] - 0s 10ms/step - loss: 1.5839e-05 - last_time_step_mse: 1.1972e-05 - val_loss: 1.2827e-05 - val_last_time_step_mse: 8.7581e-06\n",
            "Epoch 260/300\n",
            "25/25 [==============================] - 0s 11ms/step - loss: 1.3004e-05 - last_time_step_mse: 6.1989e-06 - val_loss: 1.0396e-05 - val_last_time_step_mse: 3.7744e-06\n",
            "Epoch 261/300\n",
            "25/25 [==============================] - 0s 11ms/step - loss: 1.5208e-05 - last_time_step_mse: 1.2663e-05 - val_loss: 1.9892e-05 - val_last_time_step_mse: 2.5115e-05\n",
            "Epoch 262/300\n",
            "25/25 [==============================] - 0s 11ms/step - loss: 1.5317e-05 - last_time_step_mse: 1.1418e-05 - val_loss: 1.4849e-05 - val_last_time_step_mse: 1.5077e-05\n",
            "Epoch 263/300\n",
            "25/25 [==============================] - 0s 11ms/step - loss: 1.1694e-05 - last_time_step_mse: 4.4068e-06 - val_loss: 1.3205e-05 - val_last_time_step_mse: 1.4047e-05\n",
            "Epoch 264/300\n",
            "25/25 [==============================] - 0s 11ms/step - loss: 1.5717e-05 - last_time_step_mse: 1.4183e-05 - val_loss: 4.2742e-05 - val_last_time_step_mse: 7.7899e-05\n",
            "Epoch 265/300\n",
            "25/25 [==============================] - 0s 11ms/step - loss: 2.1525e-05 - last_time_step_mse: 2.8073e-05 - val_loss: 1.7668e-05 - val_last_time_step_mse: 1.8155e-05\n",
            "Epoch 266/300\n",
            "25/25 [==============================] - 0s 12ms/step - loss: 1.6151e-05 - last_time_step_mse: 1.4810e-05 - val_loss: 1.0153e-05 - val_last_time_step_mse: 4.7571e-06\n",
            "Epoch 267/300\n",
            "25/25 [==============================] - 0s 12ms/step - loss: 1.5382e-05 - last_time_step_mse: 1.2623e-05 - val_loss: 9.9564e-06 - val_last_time_step_mse: 6.5693e-06\n",
            "Epoch 268/300\n",
            "25/25 [==============================] - 0s 12ms/step - loss: 1.1752e-05 - last_time_step_mse: 4.7671e-06 - val_loss: 8.9847e-06 - val_last_time_step_mse: 1.3353e-06\n",
            "Epoch 269/300\n",
            "25/25 [==============================] - 0s 11ms/step - loss: 1.1286e-05 - last_time_step_mse: 3.2786e-06 - val_loss: 1.5979e-05 - val_last_time_step_mse: 1.5515e-05\n",
            "Epoch 270/300\n",
            "25/25 [==============================] - 0s 11ms/step - loss: 1.6717e-05 - last_time_step_mse: 1.8506e-05 - val_loss: 1.3450e-05 - val_last_time_step_mse: 1.0803e-05\n",
            "Epoch 271/300\n",
            "25/25 [==============================] - 0s 11ms/step - loss: 1.3942e-05 - last_time_step_mse: 1.1193e-05 - val_loss: 1.6691e-05 - val_last_time_step_mse: 3.2423e-05\n",
            "Epoch 272/300\n",
            "25/25 [==============================] - 0s 11ms/step - loss: 2.8162e-05 - last_time_step_mse: 4.6286e-05 - val_loss: 1.4426e-05 - val_last_time_step_mse: 2.0444e-05\n",
            "Epoch 273/300\n",
            "25/25 [==============================] - 0s 11ms/step - loss: 2.0007e-05 - last_time_step_mse: 2.5881e-05 - val_loss: 1.1670e-05 - val_last_time_step_mse: 1.4253e-06\n",
            "Epoch 274/300\n",
            "25/25 [==============================] - 0s 11ms/step - loss: 1.3354e-05 - last_time_step_mse: 8.7759e-06 - val_loss: 1.3359e-05 - val_last_time_step_mse: 5.7170e-06\n",
            "Epoch 275/300\n",
            "25/25 [==============================] - 0s 10ms/step - loss: 1.5748e-05 - last_time_step_mse: 1.5970e-05 - val_loss: 1.3103e-05 - val_last_time_step_mse: 1.8372e-05\n",
            "Epoch 276/300\n",
            "25/25 [==============================] - 0s 11ms/step - loss: 1.8509e-05 - last_time_step_mse: 2.5102e-05 - val_loss: 1.6473e-05 - val_last_time_step_mse: 2.3248e-05\n",
            "Epoch 277/300\n",
            "25/25 [==============================] - 0s 11ms/step - loss: 1.4676e-05 - last_time_step_mse: 1.6367e-05 - val_loss: 1.2253e-05 - val_last_time_step_mse: 1.0421e-05\n",
            "Epoch 278/300\n",
            "25/25 [==============================] - 0s 12ms/step - loss: 1.4693e-05 - last_time_step_mse: 1.3345e-05 - val_loss: 8.9033e-06 - val_last_time_step_mse: 1.9145e-06\n",
            "Epoch 279/300\n",
            "25/25 [==============================] - 0s 10ms/step - loss: 1.0143e-05 - last_time_step_mse: 2.9316e-06 - val_loss: 9.5468e-06 - val_last_time_step_mse: 4.6764e-06\n",
            "Epoch 280/300\n",
            "25/25 [==============================] - 0s 11ms/step - loss: 1.2217e-05 - last_time_step_mse: 8.2155e-06 - val_loss: 9.2402e-06 - val_last_time_step_mse: 4.5561e-06\n",
            "Epoch 281/300\n",
            "25/25 [==============================] - 0s 11ms/step - loss: 1.1287e-05 - last_time_step_mse: 5.9839e-06 - val_loss: 9.1072e-06 - val_last_time_step_mse: 1.5069e-06\n",
            "Epoch 282/300\n",
            "25/25 [==============================] - 0s 11ms/step - loss: 1.1184e-05 - last_time_step_mse: 6.3143e-06 - val_loss: 1.0149e-05 - val_last_time_step_mse: 8.9016e-06\n",
            "Epoch 283/300\n",
            "25/25 [==============================] - 0s 11ms/step - loss: 1.6177e-05 - last_time_step_mse: 2.0140e-05 - val_loss: 2.1569e-05 - val_last_time_step_mse: 3.7184e-05\n",
            "Epoch 284/300\n",
            "25/25 [==============================] - 0s 11ms/step - loss: 2.3007e-05 - last_time_step_mse: 3.7189e-05 - val_loss: 1.8590e-05 - val_last_time_step_mse: 3.4926e-05\n",
            "Epoch 285/300\n",
            "25/25 [==============================] - 0s 12ms/step - loss: 2.2178e-05 - last_time_step_mse: 3.3336e-05 - val_loss: 8.7378e-06 - val_last_time_step_mse: 2.3914e-06\n",
            "Epoch 286/300\n",
            "25/25 [==============================] - 0s 11ms/step - loss: 1.2666e-05 - last_time_step_mse: 1.0225e-05 - val_loss: 9.7136e-06 - val_last_time_step_mse: 7.2763e-06\n",
            "Epoch 287/300\n",
            "25/25 [==============================] - 0s 11ms/step - loss: 1.2318e-05 - last_time_step_mse: 1.0214e-05 - val_loss: 1.2224e-05 - val_last_time_step_mse: 1.0967e-05\n",
            "Epoch 288/300\n",
            "25/25 [==============================] - 0s 11ms/step - loss: 1.4795e-05 - last_time_step_mse: 1.4964e-05 - val_loss: 3.2247e-05 - val_last_time_step_mse: 7.3972e-05\n",
            "Epoch 289/300\n",
            "25/25 [==============================] - 0s 11ms/step - loss: 1.9521e-05 - last_time_step_mse: 2.9747e-05 - val_loss: 1.8613e-05 - val_last_time_step_mse: 2.8210e-05\n",
            "Epoch 290/300\n",
            "25/25 [==============================] - 0s 11ms/step - loss: 1.4385e-05 - last_time_step_mse: 1.5859e-05 - val_loss: 2.0831e-05 - val_last_time_step_mse: 3.2537e-05\n",
            "Epoch 291/300\n",
            "25/25 [==============================] - 0s 11ms/step - loss: 1.3066e-05 - last_time_step_mse: 1.2300e-05 - val_loss: 1.7518e-05 - val_last_time_step_mse: 1.9847e-05\n",
            "Epoch 292/300\n",
            "25/25 [==============================] - 0s 11ms/step - loss: 2.4669e-05 - last_time_step_mse: 4.2425e-05 - val_loss: 5.6300e-05 - val_last_time_step_mse: 1.5207e-04\n",
            "Epoch 293/300\n",
            "25/25 [==============================] - 0s 11ms/step - loss: 1.9564e-05 - last_time_step_mse: 3.1769e-05 - val_loss: 1.4689e-05 - val_last_time_step_mse: 1.7202e-05\n",
            "Epoch 294/300\n",
            "25/25 [==============================] - 0s 12ms/step - loss: 1.1525e-05 - last_time_step_mse: 9.5195e-06 - val_loss: 8.4892e-06 - val_last_time_step_mse: 4.0708e-06\n",
            "Epoch 295/300\n",
            "25/25 [==============================] - 0s 11ms/step - loss: 1.4595e-05 - last_time_step_mse: 1.7577e-05 - val_loss: 9.2187e-06 - val_last_time_step_mse: 3.1510e-06\n",
            "Epoch 296/300\n",
            "25/25 [==============================] - 0s 11ms/step - loss: 1.1891e-05 - last_time_step_mse: 9.6222e-06 - val_loss: 1.2994e-05 - val_last_time_step_mse: 1.5377e-05\n",
            "Epoch 297/300\n",
            "25/25 [==============================] - 0s 11ms/step - loss: 1.2380e-05 - last_time_step_mse: 1.1509e-05 - val_loss: 9.7390e-06 - val_last_time_step_mse: 5.1736e-06\n",
            "Epoch 298/300\n",
            "25/25 [==============================] - 0s 13ms/step - loss: 1.0040e-05 - last_time_step_mse: 6.0135e-06 - val_loss: 7.7577e-06 - val_last_time_step_mse: 1.9668e-06\n",
            "Epoch 299/300\n",
            "25/25 [==============================] - 0s 12ms/step - loss: 1.1024e-05 - last_time_step_mse: 9.1928e-06 - val_loss: 7.6619e-06 - val_last_time_step_mse: 1.1740e-06\n",
            "Epoch 300/300\n",
            "25/25 [==============================] - 0s 11ms/step - loss: 9.0243e-06 - last_time_step_mse: 3.2393e-06 - val_loss: 1.0077e-05 - val_last_time_step_mse: 1.1095e-05\n"
          ]
        }
      ]
    },
    {
      "cell_type": "code",
      "source": [
        "#Plot training and validation loss values\n",
        "plt.figure(figsize=(15,5))\n",
        "plt.plot( hist_ex5.history['loss'])\n",
        "plt.plot( hist_ex5.history['val_loss'])\n",
        "plt.title('Model loss mean squared error')\n",
        "plt.ylabel('Loss')\n",
        "plt.xlabel('Epoch')\n",
        "plt.legend(['train','val'], loc='upper right')\n",
        "plt.show()"
      ],
      "metadata": {
        "colab": {
          "base_uri": "https://localhost:8080/",
          "height": 350
        },
        "outputId": "4b02fbb7-888e-487b-84c6-c08011467c50",
        "id": "3y9UTY7609PI"
      },
      "execution_count": null,
      "outputs": [
        {
          "output_type": "display_data",
          "data": {
            "text/plain": [
              "<Figure size 1080x360 with 1 Axes>"
            ],
            "image/png": "[encoded data removed]"
          },
          "metadata": {
            "needs_background": "light"
          }
        }
      ]
    },
    {
      "cell_type": "code",
      "source": [
        "#Plot training and validation loss values\n",
        "plt.figure(figsize=(15,5))\n",
        "plt.plot( hist_ex5.history['last_time_step_mse'])\n",
        "plt.plot( hist_ex5.history['val_last_time_step_mse'])\n",
        "plt.title('Model evaluate : last_time_step_mse')\n",
        "plt.ylabel('last_time_step_mse')\n",
        "plt.xlabel('Epoch')\n",
        "plt.legend(['train','val'], loc='upper right')\n",
        "plt.show()"
      ],
      "metadata": {
        "colab": {
          "base_uri": "https://localhost:8080/",
          "height": 350
        },
        "id": "fBEHHuEf69_E",
        "outputId": "50c76a59-a305-411f-91ac-dda1f333f184"
      },
      "execution_count": null,
      "outputs": [
        {
          "output_type": "display_data",
          "data": {
            "text/plain": [
              "<Figure size 1080x360 with 1 Axes>"
            ],
            "image/png": "[encoded data removed]"
          },
          "metadata": {
            "needs_background": "light"
          }
        }
      ]
    },
    {
      "cell_type": "markdown",
      "source": [
        "## 5.4 Evaluate the model"
      ],
      "metadata": {
        "id": "gKbZjYwN7g2P"
      }
    },
    {
      "cell_type": "code",
      "source": [
        "# Load the model from the best epoch (minimum val_loss)\n",
        "bestmodel_file = max([ f for f in os.listdir(\".\") if f.startswith('RNN_ex5_bestmodel_') and f.endswith(\".hdf5\")])\n",
        "print( f\"The best model : {bestmodel_file}\")"
      ],
      "metadata": {
        "colab": {
          "base_uri": "https://localhost:8080/"
        },
        "outputId": "756d2d18-0b19-4dbb-de30-b7936a20234d",
        "id": "RmdwDxSp7yGP"
      },
      "execution_count": null,
      "outputs": [
        {
          "output_type": "stream",
          "name": "stdout",
          "text": [
            "The best model : RNN_ex5_bestmodel_epoch299.hdf5\n"
          ]
        }
      ]
    },
    {
      "cell_type": "code",
      "source": [
        "ex5_rnn_best = tf.keras.models.load_model(bestmodel_file, compile=True \n",
        "                                          ,custom_objects={\"last_time_step_mse\":last_time_step_mse})"
      ],
      "metadata": {
        "id": "WJu6Ak577yGP"
      },
      "execution_count": null,
      "outputs": []
    },
    {
      "cell_type": "code",
      "source": [
        "#Evaluate the model from last epoch\n",
        "score = ex5_rnn.evaluate(x_test_norm, y_test_norm, verbose=0)\n",
        "if hasattr(score,'__len__'):\n",
        "  print(f\"Test results (model from the last epoch) :{[(ex5_rnn.metrics_names[i],score[i]) for i in range(len(score))]}\")\n",
        "else :\n",
        "   print(f\"Test results (model from the last epoch) :{[(ex5_rnn.metrics_names[0],score)]}\")"
      ],
      "metadata": {
        "colab": {
          "base_uri": "https://localhost:8080/"
        },
        "outputId": "a7ba478d-df32-4341-a316-4fd0fe137ff7",
        "id": "WtXra_PH7yGP"
      },
      "execution_count": null,
      "outputs": [
        {
          "output_type": "stream",
          "name": "stdout",
          "text": [
            "Test results (model from the last epoch) :[('loss', 1.0543169992160983e-05), ('last_time_step_mse', 1.128229996538721e-05)]\n"
          ]
        }
      ]
    },
    {
      "cell_type": "code",
      "source": [
        "#Evaluate the model from best epoch\n",
        "score = ex5_rnn_best.evaluate(x_test_norm, y_test_norm, verbose=0)\n",
        "if hasattr(score,'__len__'):\n",
        "  print(f\"Test results (model from the best epoch) :{[(ex5_rnn_best.metrics_names[i],score[i]) for i in range(len(score))]}\")\n",
        "else :\n",
        "   print(f\"Test results (model from the best epoch) :{[(ex5_rnn_best.metrics_names[0],score)]}\")"
      ],
      "metadata": {
        "colab": {
          "base_uri": "https://localhost:8080/"
        },
        "outputId": "57d39843-76eb-4daa-bfd2-b9644f4af022",
        "id": "Zw-zlFn07yGQ"
      },
      "execution_count": null,
      "outputs": [
        {
          "output_type": "stream",
          "name": "stdout",
          "text": [
            "Test results (model from the best epoch) :[('loss', 8.073094249994028e-06), ('last_time_step_mse', 1.4510791288557812e-06)]\n"
          ]
        }
      ]
    },
    {
      "cell_type": "markdown",
      "source": [
        "## 5.5 Inference"
      ],
      "metadata": {
        "id": "QZ2Qy0oelwqv"
      }
    },
    {
      "cell_type": "code",
      "source": [
        "y1_test_predict = ex5_rnn.predict(x_test_norm)[:,-1,:]\n",
        "y2_test_predict = ex5_rnn_best.predict(x_test_norm)[:,-1,:]\n",
        "\n",
        "# Denormalize to raw value\n",
        "y1_inv = minmax_norm.inverse_transform(y1_test_predict)\n",
        "y2_inv = minmax_norm.inverse_transform(y2_test_predict)"
      ],
      "metadata": {
        "id": "JB8bXDNX8iWJ"
      },
      "execution_count": null,
      "outputs": []
    },
    {
      "cell_type": "code",
      "source": [
        "for i in range(10):\n",
        "  print(f\"x_test[{i}] = {x_test[i].reshape(-1)}, y_test[{i}] = {y_test[i][-1]}, predict--> last_epoch({np.around(y1_inv[i])}) best_epoch({np.around(y2_inv[i])})\")"
      ],
      "metadata": {
        "colab": {
          "base_uri": "https://localhost:8080/"
        },
        "outputId": "2ef67e4d-a86d-404b-838a-f938e51bae07",
        "id": "KfZ4y4sf8iWK"
      },
      "execution_count": null,
      "outputs": [
        {
          "output_type": "stream",
          "name": "stdout",
          "text": [
            "x_test[0] = [-2126 -2124 -2122 -2120 -2118], y_test[0] = [-2116. -2114. -2112.], predict--> last_epoch([-2112. -2109. -2100.]) best_epoch([-2112. -2112. -2114.])\n",
            "x_test[1] = [-3343 -3341 -3339 -3337 -3335], y_test[1] = [-3333. -3331. -3329.], predict--> last_epoch([-3331. -3328. -3320.]) best_epoch([-3333. -3331. -3332.])\n",
            "x_test[2] = [-3710 -3708 -3706 -3704 -3702], y_test[2] = [-3700. -3698. -3696.], predict--> last_epoch([-3698. -3696. -3688.]) best_epoch([-3703. -3701. -3699.])\n",
            "x_test[3] = [-3995 -3993 -3991 -3989 -3987], y_test[3] = [-3985. -3983. -3981.], predict--> last_epoch([-3985. -3983. -3974.]) best_epoch([-3990. -3987. -3986.])\n",
            "x_test[4] = [-2885 -2883 -2881 -2879 -2877], y_test[4] = [-2875. -2873. -2871.], predict--> last_epoch([-2872. -2869. -2861.]) best_epoch([-2874. -2872. -2872.])\n",
            "x_test[5] = [-2148 -2146 -2144 -2142 -2140], y_test[5] = [-2138. -2136. -2134.], predict--> last_epoch([-2132. -2129. -2122.]) best_epoch([-2133. -2134. -2135.])\n",
            "x_test[6] = [-3022 -3020 -3018 -3016 -3014], y_test[6] = [-3012. -3010. -3008.], predict--> last_epoch([-3008. -3006. -2998.]) best_epoch([-3011. -3010. -3011.])\n",
            "x_test[7] = [-2034 -2032 -2030 -2028 -2026], y_test[7] = [-2024. -2022. -2020.], predict--> last_epoch([-2019. -2015. -2006.]) best_epoch([-2021. -2021. -2020.])\n",
            "x_test[8] = [-3707 -3705 -3703 -3701 -3699], y_test[8] = [-3697. -3695. -3693.], predict--> last_epoch([-3695. -3692. -3685.]) best_epoch([-3700. -3698. -3696.])\n",
            "x_test[9] = [-3232 -3230 -3228 -3226 -3224], y_test[9] = [-3222. -3220. -3218.], predict--> last_epoch([-3219. -3217. -3209.]) best_epoch([-3222. -3220. -3220.])\n"
          ]
        }
      ]
    },
    {
      "cell_type": "markdown",
      "source": [
        "# Ex6 Guess the next number with Encoder-Decoder"
      ],
      "metadata": {
        "id": "iA1_tqDsh4rg"
      }
    },
    {
      "cell_type": "markdown",
      "source": [
        "## 6.1 Create the Encoder-Decoder RNN Model"
      ],
      "metadata": {
        "id": "UOj9savt91Y0"
      }
    },
    {
      "cell_type": "markdown",
      "source": [
        "### 1) Create the unified model for training"
      ],
      "metadata": {
        "id": "-i-H1Zqp92BE"
      }
    },
    {
      "cell_type": "markdown",
      "source": [
        "\n",
        "\n",
        "*   n_input : the cardinality of the input sequence, e.g. number of features, word, or characters foreach time step.\n",
        "*   n_output : the cardinality of output sequence, e.g. number of features, word, or characters foreach time step.\n",
        "*   n_units : Then number of cells to create in encoder-decode model e.g. 128, 256\n",
        "\n"
      ],
      "metadata": {
        "id": "RaWxSCDj_dKO"
      }
    },
    {
      "cell_type": "code",
      "source": [
        "n_input, n_output ,n_units = 1, 1, 20"
      ],
      "metadata": {
        "id": "9lRLdVCI_acQ"
      },
      "execution_count": null,
      "outputs": []
    },
    {
      "cell_type": "code",
      "source": [
        "# Define the encoder\n",
        "# Create layer\n",
        "encoder_inputs = tf.keras.layers.Input( shape=(None,n_input), name=\"encoder_input_x\" )\n",
        "encoder_rnn = tf.keras.layers.SimpleRNN( units=n_units, return_state=True, name='encode_rnn')\n",
        "# link layer\n",
        "encoder_outputs, encoder_states = encoder_rnn(encoder_inputs)"
      ],
      "metadata": {
        "id": "cWo0sLtH_amq"
      },
      "execution_count": null,
      "outputs": []
    },
    {
      "cell_type": "code",
      "source": [
        "# Define the decoder\n",
        "# Create layer\n",
        "decoder_inputs = tf.keras.layers.Input( shape=(None,n_output), name='decoder_input_x')\n",
        "decoder_rnn = tf.keras.layers.SimpleRNN( units=n_units, return_sequences=True, return_state=True, name='decode_rnn')\n",
        "decoder_dense = tf.keras.layers.Dense( n_output, name='decoder_dense')\n",
        "# link layer\n",
        "decoder_outputs,_ = decoder_rnn(decoder_inputs, initial_state=encoder_states)\n",
        "decoder_outputs = decoder_dense(decoder_outputs)"
      ],
      "metadata": {
        "id": "qbExNFpL_axZ"
      },
      "execution_count": null,
      "outputs": []
    },
    {
      "cell_type": "code",
      "source": [
        "# Define Encoder-Decoder model use for trainig call seq2seq_model\n",
        "seq2seq_model = tf.keras.Model( inputs=[encoder_inputs, decoder_inputs] ,outputs=decoder_outputs, name='seq2seq_model')\n",
        "seq2seq_model.summary()"
      ],
      "metadata": {
        "colab": {
          "base_uri": "https://localhost:8080/"
        },
        "id": "eiLM5MabD8nO",
        "outputId": "ce650f23-cb11-471a-bfdd-20c23737301c"
      },
      "execution_count": null,
      "outputs": [
        {
          "output_type": "stream",
          "name": "stdout",
          "text": [
            "Model: \"seq2seq_model\"\n",
            "__________________________________________________________________________________________________\n",
            " Layer (type)                   Output Shape         Param #     Connected to                     \n",
            "==================================================================================================\n",
            " encoder_input_x (InputLayer)   [(None, None, 1)]    0           []                               \n",
            "                                                                                                  \n",
            " decoder_input_x (InputLayer)   [(None, None, 1)]    0           []                               \n",
            "                                                                                                  \n",
            " encode_rnn (SimpleRNN)         [(None, 20),         440         ['encoder_input_x[0][0]']        \n",
            "                                 (None, 20)]                                                      \n",
            "                                                                                                  \n",
            " decode_rnn (SimpleRNN)         [(None, None, 20),   440         ['decoder_input_x[0][0]',        \n",
            "                                 (None, 20)]                      'encode_rnn[0][1]']             \n",
            "                                                                                                  \n",
            " decoder_dense (Dense)          (None, None, 1)      21          ['decode_rnn[0][0]']             \n",
            "                                                                                                  \n",
            "==================================================================================================\n",
            "Total params: 901\n",
            "Trainable params: 901\n",
            "Non-trainable params: 0\n",
            "__________________________________________________________________________________________________\n"
          ]
        }
      ]
    },
    {
      "cell_type": "code",
      "source": [
        "# cisualize the model\n",
        "tf.keras.utils.plot_model( seq2seq_model, \"RNN_ex6_trainmodel.png\", show_shapes=True, show_dtype=False ,show_layer_names=True ,dpi=96)"
      ],
      "metadata": {
        "colab": {
          "base_uri": "https://localhost:8080/",
          "height": 422
        },
        "id": "JcxOffMXFjJC",
        "outputId": "75218829-bd79-4e03-a306-9821e00ad9ab"
      },
      "execution_count": null,
      "outputs": [
        {
          "output_type": "execute_result",
          "data": {
            "text/plain": [
              "<IPython.core.display.Image object>"
            ],
            "image/png": "[encoded data removed]"
          },
          "metadata": {},
          "execution_count": 9
        }
      ]
    },
    {
      "cell_type": "markdown",
      "source": [
        "### 2) create decoder-encoder for inferencing for using when imprement"
      ],
      "metadata": {
        "id": "GS5npHHw92gL"
      }
    },
    {
      "cell_type": "code",
      "source": [
        "# Define the encoder model for inferencing\n",
        "encoder_model = tf.keras.Model( inputs=encoder_inputs, outputs=encoder_states ,name='encoder_model' )\n",
        "\n",
        "encoder_model.summary()\n",
        "tf.keras.utils.plot_model( encoder_model, \"RNN_ex6_encodermodel.png\", show_shapes=True, show_dtype=False ,show_layer_names=True ,dpi=96)"
      ],
      "metadata": {
        "colab": {
          "base_uri": "https://localhost:8080/",
          "height": 477
        },
        "id": "UTQY8Ga0HyjK",
        "outputId": "3d4829f8-e6ec-445a-ec58-e3a4c47a8687"
      },
      "execution_count": null,
      "outputs": [
        {
          "output_type": "stream",
          "name": "stdout",
          "text": [
            "Model: \"encoder_model\"\n",
            "_________________________________________________________________\n",
            " Layer (type)                Output Shape              Param #   \n",
            "=================================================================\n",
            " encoder_input_x (InputLayer  [(None, None, 1)]        0         \n",
            " )                                                               \n",
            "                                                                 \n",
            " encode_rnn (SimpleRNN)      [(None, 20),              440       \n",
            "                              (None, 20)]                        \n",
            "                                                                 \n",
            "=================================================================\n",
            "Total params: 440\n",
            "Trainable params: 440\n",
            "Non-trainable params: 0\n",
            "_________________________________________________________________\n"
          ]
        },
        {
          "output_type": "execute_result",
          "data": {
            "text/plain": [
              "<IPython.core.display.Image object>"
            ],
            "image/png": "[encoded data removed]"
          },
          "metadata": {},
          "execution_count": 10
        }
      ]
    },
    {
      "cell_type": "code",
      "source": [
        "# define the decoder model for inferencing\n",
        "## Create a new input layer to be use during inferencing\n",
        "decoder_states_inputs = tf.keras.layers.Input( shape=(n_units), name='decoder_states_inputs' )\n",
        "\n",
        "## link all layer\n",
        "decoder_outputs,decoder_states = decoder_rnn( decoder_inputs, initial_state=decoder_states_inputs)\n",
        "decoder_outputs = decoder_dense(decoder_outputs)\n",
        "\n",
        "decoder_model = tf.keras.Model( inputs=[decoder_inputs]+[decoder_states_inputs],\n",
        "                               outputs=[decoder_outputs]+[decoder_states],\n",
        "                               name=\"decoder_model\")\n",
        "\n",
        "decoder_model.summary()\n",
        "tf.keras.utils.plot_model( decoder_model, \"RNN_ex6_decodermodel.png\", show_shapes=True, show_dtype=False ,show_layer_names=True ,dpi=96)\n"
      ],
      "metadata": {
        "colab": {
          "base_uri": "https://localhost:8080/",
          "height": 662
        },
        "id": "VDvkw9ajHymG",
        "outputId": "4c2e9ce2-8919-4304-ae51-e8fd56925cc3"
      },
      "execution_count": null,
      "outputs": [
        {
          "output_type": "stream",
          "name": "stdout",
          "text": [
            "Model: \"decoder_model\"\n",
            "__________________________________________________________________________________________________\n",
            " Layer (type)                   Output Shape         Param #     Connected to                     \n",
            "==================================================================================================\n",
            " decoder_input_x (InputLayer)   [(None, None, 1)]    0           []                               \n",
            "                                                                                                  \n",
            " decoder_states_inputs (InputLa  [(None, 20)]        0           []                               \n",
            " yer)                                                                                             \n",
            "                                                                                                  \n",
            " decode_rnn (SimpleRNN)         [(None, None, 20),   440         ['decoder_input_x[0][0]',        \n",
            "                                 (None, 20)]                      'decoder_states_inputs[0][0]']  \n",
            "                                                                                                  \n",
            " decoder_dense (Dense)          (None, None, 1)      21          ['decode_rnn[1][0]']             \n",
            "                                                                                                  \n",
            "==================================================================================================\n",
            "Total params: 461\n",
            "Trainable params: 461\n",
            "Non-trainable params: 0\n",
            "__________________________________________________________________________________________________\n"
          ]
        },
        {
          "output_type": "execute_result",
          "data": {
            "text/plain": [
              "<IPython.core.display.Image object>"
            ],
            "image/png": "[encoded data removed]"
          },
          "metadata": {},
          "execution_count": 11
        }
      ]
    },
    {
      "cell_type": "code",
      "source": [
        ""
      ],
      "metadata": {
        "id": "zzWYiIVCHywT"
      },
      "execution_count": null,
      "outputs": []
    },
    {
      "cell_type": "markdown",
      "source": [
        "## 6.2 Prepare data with one-step output"
      ],
      "metadata": {
        "id": "BGN4pPQB93F5"
      }
    },
    {
      "cell_type": "markdown",
      "source": [
        "to train the unified ***seq2seq_model*** model, we need to prepare the following inputs and outputs:\n",
        "\n",
        "\n",
        "*   input1 : encoder_input_x : an input sequence for the encoder (later we will refer to it sas ***encoder_x***)\n",
        "*   input2 : decoder_input_x an input sequence for the decoder (later we will refer to it sas ***decoder_x***)\n",
        "*   output : decode_dense.output a prediction output of decoder (later we will refer to it sas ***decoder_y***)\n",
        "\n",
        "values of encoder_x and decoder_y are straightforward. For example, one training sampling with 5-step inputs and 3-step prediction output will be link encder_x[i] = [2,4,6,8,10] and decoder_y[i] = [12,14,16] \n",
        "\n",
        "the one whose calue need additional consideration is decoder_x. Here we use ***Teacher Forcing***, the popular training technique in meching translation, so if encder_x[i] = [2,4,6,8,10] and decoder_y[i] = [12,14,16] then decoder_x[i] = ['<\\s>',12,14]"
      ],
      "metadata": {
        "id": "1ByWUinrMW8S"
      }
    },
    {
      "cell_type": "markdown",
      "source": [
        "### 1 Genarate squence data"
      ],
      "metadata": {
        "id": "XutHJeZ1MKzT"
      }
    },
    {
      "cell_type": "code",
      "source": [
        "n_data = 2000 #Number of genarate data\n",
        "\n",
        "#TimeseriesGenerator\n",
        "sampling_rate = 2     #for 2 consecutive numbers, sample only one\n",
        "n_input_timesteps = 5 #How many timestep for the input sequence\n",
        "\n",
        "dataset = np.array([ i for i in range(n_data*-sampling_rate, n_data*sampling_rate)])\n",
        "\n",
        "gen_dataset = tf.keras.preprocessing.sequence.TimeseriesGenerator( dataset, dataset, length=sampling_rate*n_input_timesteps, batch_size=n_data, sampling_rate=sampling_rate)\n",
        "\n",
        "x, y = gen_dataset[0]"
      ],
      "metadata": {
        "id": "wbNpyLEYMEhe"
      },
      "execution_count": null,
      "outputs": []
    },
    {
      "cell_type": "code",
      "source": [
        "#Preview the first five rows and the last five rows\n",
        "print(f\"x-shape:{x.shape}, y-shape:{y.shape}\")\n",
        "for i in range(5):\n",
        "  print(f\"{i} : {x[i]} , {y[i]}\")\n",
        "for i in range(-1, -6, -1):\n",
        "  print(f\"{i} : {x[i]} , {y[i]}\")"
      ],
      "metadata": {
        "colab": {
          "base_uri": "https://localhost:8080/"
        },
        "outputId": "640d285f-5b1b-46ad-fc42-623bd571215d",
        "id": "rfiXKcgGMEhf"
      },
      "execution_count": null,
      "outputs": [
        {
          "output_type": "stream",
          "name": "stdout",
          "text": [
            "x-shape:(2000, 5), y-shape:(2000,)\n",
            "0 : [-4000 -3998 -3996 -3994 -3992] , -3990\n",
            "1 : [-3999 -3997 -3995 -3993 -3991] , -3989\n",
            "2 : [-3998 -3996 -3994 -3992 -3990] , -3988\n",
            "3 : [-3997 -3995 -3993 -3991 -3989] , -3987\n",
            "4 : [-3996 -3994 -3992 -3990 -3988] , -3986\n",
            "-1 : [-2001 -1999 -1997 -1995 -1993] , -1991\n",
            "-2 : [-2002 -2000 -1998 -1996 -1994] , -1992\n",
            "-3 : [-2003 -2001 -1999 -1997 -1995] , -1993\n",
            "-4 : [-2004 -2002 -2000 -1998 -1996] , -1994\n",
            "-5 : [-2005 -2003 -2001 -1999 -1997] , -1995\n"
          ]
        }
      ]
    },
    {
      "cell_type": "code",
      "source": [
        "#Shuffle the data (before splitting it in to train/val/test sets later inthe next cell)\n",
        "\n",
        "#Shuffle the data\n",
        "seed=1337\n",
        "rng = np.random.RandomState(seed)\n",
        "rng.shuffle(x)\n",
        "\n",
        "rng = np.random.RandomState(seed)\n",
        "rng.shuffle(y)\n",
        "\n",
        "# Preview the first five rows of data\n",
        "print(f\"x-shape:{x.shape}, y-shape:{y.shape}\")\n",
        "for i in range(5):\n",
        "  print(f\"{i} : {x[i]} , {y[i]}\")\n",
        "for i in range(-1, -6, -1):\n",
        "  print(f\"{i} : {x[i]} , {y[i]}\")"
      ],
      "metadata": {
        "colab": {
          "base_uri": "https://localhost:8080/"
        },
        "outputId": "bdd70a37-23d1-42f1-9535-bf86959ad5a3",
        "id": "q9x6R2S_MEhf"
      },
      "execution_count": null,
      "outputs": [
        {
          "output_type": "stream",
          "name": "stdout",
          "text": [
            "x-shape:(2000, 5), y-shape:(2000,)\n",
            "0 : [-3033 -3031 -3029 -3027 -3025] , -3023\n",
            "1 : [-3372 -3370 -3368 -3366 -3364] , -3362\n",
            "2 : [-3423 -3421 -3419 -3417 -3415] , -3413\n",
            "3 : [-3911 -3909 -3907 -3905 -3903] , -3901\n",
            "4 : [-2829 -2827 -2825 -2823 -2821] , -2819\n",
            "-1 : [-2825 -2823 -2821 -2819 -2817] , -2815\n",
            "-2 : [-3811 -3809 -3807 -3805 -3803] , -3801\n",
            "-3 : [-3140 -3138 -3136 -3134 -3132] , -3130\n",
            "-4 : [-2744 -2742 -2740 -2738 -2736] , -2734\n",
            "-5 : [-2809 -2807 -2805 -2803 -2801] , -2799\n"
          ]
        }
      ]
    },
    {
      "cell_type": "code",
      "source": [
        "n_train = int(n_data * 0.8)       # Split 80% to train set\n",
        "n_test = int(n_data * 0.1)        # Split 10% to test set\n",
        "n_val = n_data -n_train -n_test   # 10% to validate set\n",
        "\n",
        "encoder_x_train, ynext_train = x[:n_train] , y[:n_train] \n",
        "encoder_x_val, ynext_val = x[n_train:n_train+n_val], y[n_train:n_train+n_val]\n",
        "encoder_x_test, ynext_test = x[n_train+n_val:], y[n_train+n_val:]\n",
        "\n",
        "print(\"\\n===== Train data =====\")\n",
        "print(f\"x_train-shape:{encoder_x_train.shape}, y_train-shape:{ynext_train.shape}\")\n",
        "for i in range(5):\n",
        "  print(f\"{i} x:{encoder_x_train[i]}, y:{ynext_train[i]}\")\n",
        "\n",
        "print(\"\\n===== Validation data =====\")\n",
        "print(f\"x_val-shape:{encoder_x_val.shape}, y_val-shape:{ynext_val.shape}\")\n",
        "for i in range(5):\n",
        "  print(f\"{i} x:{encoder_x_val[i]}, y:{ynext_val[i]}\")\n",
        "\n",
        "print(\"\\n===== Test data =====\")\n",
        "print(f\"x_test-shape:{encoder_x_test.shape}, y_test-shape:{ynext_test.shape}\")\n",
        "for i in range(5):\n",
        "  print(f\"{i} x:{encoder_x_test[i]}, y:{ynext_test[i]}\")"
      ],
      "metadata": {
        "colab": {
          "base_uri": "https://localhost:8080/"
        },
        "outputId": "7489bcb3-8b4e-47b6-f4a1-b77a3237e66e",
        "id": "coYVjxAvMEhg"
      },
      "execution_count": null,
      "outputs": [
        {
          "output_type": "stream",
          "name": "stdout",
          "text": [
            "\n",
            "===== Train data =====\n",
            "x_train-shape:(1600, 5), y_train-shape:(1600,)\n",
            "0 x:[-3033 -3031 -3029 -3027 -3025], y:-3023\n",
            "1 x:[-3372 -3370 -3368 -3366 -3364], y:-3362\n",
            "2 x:[-3423 -3421 -3419 -3417 -3415], y:-3413\n",
            "3 x:[-3911 -3909 -3907 -3905 -3903], y:-3901\n",
            "4 x:[-2829 -2827 -2825 -2823 -2821], y:-2819\n",
            "\n",
            "===== Validation data =====\n",
            "x_val-shape:(200, 5), y_val-shape:(200,)\n",
            "0 x:[-3200 -3198 -3196 -3194 -3192], y:-3190\n",
            "1 x:[-3488 -3486 -3484 -3482 -3480], y:-3478\n",
            "2 x:[-2285 -2283 -2281 -2279 -2277], y:-2275\n",
            "3 x:[-3846 -3844 -3842 -3840 -3838], y:-3836\n",
            "4 x:[-2724 -2722 -2720 -2718 -2716], y:-2714\n",
            "\n",
            "===== Test data =====\n",
            "x_test-shape:(200, 5), y_test-shape:(200,)\n",
            "0 x:[-2126 -2124 -2122 -2120 -2118], y:-2116\n",
            "1 x:[-3343 -3341 -3339 -3337 -3335], y:-3333\n",
            "2 x:[-3710 -3708 -3706 -3704 -3702], y:-3700\n",
            "3 x:[-3995 -3993 -3991 -3989 -3987], y:-3985\n",
            "4 x:[-2885 -2883 -2881 -2879 -2877], y:-2875\n"
          ]
        }
      ]
    },
    {
      "cell_type": "markdown",
      "source": [
        "### 2 Prepare the 3-step output (decoder_y)"
      ],
      "metadata": {
        "id": "pHaCl0ERPKy8"
      }
    },
    {
      "cell_type": "code",
      "source": [
        "n_output_timesteps = 3 #how many time step a head to predict\n",
        "\n",
        "#Create decoder_y from ynext\n",
        "decoder_y_train = np.zeros( (ynext_train.shape[0],n_output_timesteps), dtype=ynext_train.dtype)\n",
        "decoder_y_test  = np.zeros( (ynext_test.shape[0],n_output_timesteps) , dtype=ynext_test.dtype)\n",
        "decoder_y_val   = np.zeros( (ynext_val.shape[0],n_output_timesteps)  , dtype=ynext_val.dtype)\n",
        "\n",
        "#Copy original value to vector\n",
        "decoder_y_train[:,0] = ynext_train[:]\n",
        "decoder_y_test[:,0]  = ynext_test[:]\n",
        "decoder_y_val[:,0]   = ynext_val[:]\n",
        "\n",
        "print(decoder_y_train[0])"
      ],
      "metadata": {
        "colab": {
          "base_uri": "https://localhost:8080/"
        },
        "id": "RUV5XQ1nMEhg",
        "outputId": "c4dd0be2-c481-47aa-8e69-30bc9c832a4d"
      },
      "execution_count": null,
      "outputs": [
        {
          "output_type": "stream",
          "name": "stdout",
          "text": [
            "[-3023     0     0]\n"
          ]
        }
      ]
    },
    {
      "cell_type": "code",
      "source": [
        "# Compute values for the 1stand 2nd columns of each array\n",
        "for i in range(1,n_output_timesteps):\n",
        "  decoder_y_train[:,i] = decoder_y_train[:,i-1] +2\n",
        "  decoder_y_test[:,i]  = decoder_y_test[:,i-1] +2\n",
        "  decoder_y_val[:,i]   = decoder_y_val[:,i-1] +2\n",
        "\n",
        "print(decoder_y_train[0])"
      ],
      "metadata": {
        "colab": {
          "base_uri": "https://localhost:8080/"
        },
        "id": "2AUOKjUoMEhg",
        "outputId": "a1b85a47-7f91-43a7-e0ee-019e6eb8925c"
      },
      "execution_count": null,
      "outputs": [
        {
          "output_type": "stream",
          "name": "stdout",
          "text": [
            "[-3023 -3021 -3019]\n"
          ]
        }
      ]
    },
    {
      "cell_type": "code",
      "source": [
        "# Preview Before-After result\n",
        "print(f\"\\n========== y_train ==========\")\n",
        "print(f\"Shape before:{ynext_train.shape} after:{decoder_y_train.shape}\")\n",
        "print(f\"Example befor : {ynext_train[0]} , after ; {decoder_y_train[0]}\")\n",
        "\n",
        "print(f\"\\n========== y_test ==========\")\n",
        "print(f\"Shape before:{ynext_test.shape} after:{decoder_y_test.shape}\")\n",
        "print(f\"Example befor : {ynext_test[0]} , after ; {decoder_y_test[0]}\")\n",
        "\n",
        "print(f\"\\n========== y_val ==========\")\n",
        "print(f\"Shape before:{ynext_val.shape} after:{decoder_y_val.shape}\")\n",
        "print(f\"Example befor : {ynext_val[0]} , after ; {decoder_y_val[0]}\")"
      ],
      "metadata": {
        "colab": {
          "base_uri": "https://localhost:8080/"
        },
        "outputId": "a6b1a71e-6ea6-4fe9-f281-767298cb69bf",
        "id": "WGYnS1teMEhh"
      },
      "execution_count": null,
      "outputs": [
        {
          "output_type": "stream",
          "name": "stdout",
          "text": [
            "\n",
            "========== y_train ==========\n",
            "Shape before:(1600,) after:(1600, 3)\n",
            "Example befor : -3023 , after ; [-3023 -3021 -3019]\n",
            "\n",
            "========== y_test ==========\n",
            "Shape before:(200,) after:(200, 3)\n",
            "Example befor : -2116 , after ; [-2116 -2114 -2112]\n",
            "\n",
            "========== y_val ==========\n",
            "Shape before:(200,) after:(200, 3)\n",
            "Example befor : -3190 , after ; [-3190 -3188 -3186]\n"
          ]
        }
      ]
    },
    {
      "cell_type": "markdown",
      "source": [
        "### 3 Normalize the data"
      ],
      "metadata": {
        "id": "XXJyaEuuR2vl"
      }
    },
    {
      "cell_type": "code",
      "source": [
        "#Normalize the data\n",
        "from sklearn.preprocessing import MinMaxScaler\n",
        "\n",
        "# Min-Max scaling to normalize the data to range [0, 1]\n",
        "#.fit_transfrom expects 2D input\n",
        "minmax_norm = MinMaxScaler().fit(encoder_x_train.reshape(-1,1))\n",
        "print(f\"Dataset min-max: {minmax_norm.data_min_}, {minmax_norm.data_max_}\")\n",
        "\n",
        "encoder_x_train_norm = minmax_norm.transform( encoder_x_train.reshape(-1,1)).reshape(encoder_x_train.shape)\n",
        "decoder_y_train_norm = minmax_norm.transform( decoder_y_train.reshape(-1,1)).reshape(decoder_y_train.shape)\n",
        "\n",
        "encoder_x_val_norm = minmax_norm.transform( encoder_x_val.reshape(-1,1)).reshape(encoder_x_val.shape)\n",
        "decoder_y_val_norm = minmax_norm.transform( decoder_y_val.reshape(-1,1)).reshape(decoder_y_val.shape)\n",
        "\n",
        "encoder_x_test_norm = minmax_norm.transform( encoder_x_test.reshape(-1,1)).reshape(encoder_x_test.shape)\n",
        "decoder_y_test_norm = minmax_norm.transform( decoder_y_test.reshape(-1,1)).reshape(decoder_y_test.shape)\n"
      ],
      "metadata": {
        "colab": {
          "base_uri": "https://localhost:8080/"
        },
        "outputId": "69a82c1b-9081-44ea-a5a8-5feb17cabc22",
        "id": "DNK86VRcMEhh"
      },
      "execution_count": null,
      "outputs": [
        {
          "output_type": "stream",
          "name": "stdout",
          "text": [
            "Dataset min-max: [-4000.], [-1993.]\n"
          ]
        }
      ]
    },
    {
      "cell_type": "code",
      "source": [
        "#Format the data into (batch_size, time_step, input_dim) as required by the SimpleRNN layer\n",
        "print(\"\\n===== Train data after normalization (encoder_x,decoder_y) =====\")\n",
        "print(f\"x_train_norm:{encoder_x_train_norm.shape}, y_train_norm:{decoder_y_train_norm.shape}\")\n",
        "for i in range(5):\n",
        "  print(f\"{i} : {encoder_x_train_norm[i]} , {decoder_y_train_norm[i]}\")\n",
        "\n",
        "print(\"\\n===== Validation data after normalization (encoder_x,decoder_y) =====\")\n",
        "print(f\"x_val_norm:{encoder_x_val_norm.shape}, y_val_norm:{decoder_y_val_norm.shape}\")\n",
        "for i in range(5):\n",
        "  print(f\"{i} : {encoder_x_val_norm[i]} , {decoder_y_val_norm[i]}\")\n",
        "\n",
        "print(\"\\n===== Test data after normalization (encoder_x,decoder_y) =====\")\n",
        "print(f\"x_test_norm:{encoder_x_test_norm.shape}, y_test_norm:{decoder_y_test_norm.shape}\")\n",
        "for i in range(5):\n",
        "  print(f\"{i} : {encoder_x_test_norm[i]} , {decoder_y_test_norm[i]}\")\n"
      ],
      "metadata": {
        "colab": {
          "base_uri": "https://localhost:8080/"
        },
        "outputId": "6f06eb94-426c-436b-9952-0eb6758ae51e",
        "id": "Lp8hNQgCMEhh"
      },
      "execution_count": null,
      "outputs": [
        {
          "output_type": "stream",
          "name": "stdout",
          "text": [
            "\n",
            "===== Train data after normalization (encoder_x,decoder_y) =====\n",
            "x_train_norm:(1600, 5), y_train_norm:(1600, 3)\n",
            "0 : [0.48181365 0.48281016 0.48380668 0.48480319 0.4857997 ] , [0.48679621 0.48779273 0.48878924]\n",
            "1 : [0.31290483 0.31390135 0.31489786 0.31589437 0.31689088] , [0.31788739 0.31888391 0.31988042]\n",
            "2 : [0.28749377 0.28849028 0.2894868  0.29048331 0.29147982] , [0.29247633 0.29347285 0.29446936]\n",
            "3 : [0.04434479 0.04534131 0.04633782 0.04733433 0.04833084] , [0.04932735 0.05032387 0.05132038]\n",
            "4 : [0.5834579  0.58445441 0.58545092 0.58644743 0.58744395] , [0.58844046 0.58943697 0.59043348]\n",
            "\n",
            "===== Validation data after normalization (encoder_x,decoder_y) =====\n",
            "x_val_norm:(200, 5), y_val_norm:(200, 3)\n",
            "0 : [0.39860488 0.3996014  0.40059791 0.40159442 0.40259093] , [0.40358744 0.40458396 0.40558047]\n",
            "1 : [0.25510713 0.25610364 0.25710015 0.25809666 0.25909317] , [0.26008969 0.2610862  0.26208271]\n",
            "2 : [0.85450922 0.85550573 0.85650224 0.85749875 0.85849527] , [0.85949178 0.86048829 0.8614848 ]\n",
            "3 : [0.07673144 0.07772795 0.07872446 0.07972098 0.08071749] , [0.081714   0.08271051 0.08370703]\n",
            "4 : [0.63577479 0.6367713  0.63776781 0.63876432 0.63976084] , [0.64075735 0.64175386 0.64275037]\n",
            "\n",
            "===== Test data after normalization (encoder_x,decoder_y) =====\n",
            "x_test_norm:(200, 5), y_test_norm:(200, 3)\n",
            "0 : [0.93373194 0.93472845 0.93572496 0.93672147 0.93771799] , [0.9387145  0.93971101 0.94070752]\n",
            "1 : [0.32735426 0.32835077 0.32934728 0.3303438  0.33134031] , [0.33233682 0.33333333 0.33432985]\n",
            "2 : [0.14449427 0.14549078 0.14648729 0.14748381 0.14848032] , [0.14947683 0.15047334 0.15146986]\n",
            "3 : [0.00249128 0.00348779 0.0044843  0.00548082 0.00647733] , [0.00747384 0.00847035 0.00946687]\n",
            "4 : [0.55555556 0.55655207 0.55754858 0.55854509 0.5595416 ] , [0.56053812 0.56153463 0.56253114]\n"
          ]
        }
      ]
    },
    {
      "cell_type": "markdown",
      "source": [
        "### 4 Prepare the decoder's input (decoder_x) according to Teacher forcing"
      ],
      "metadata": {
        "id": "nWWVMWHjS7pE"
      }
    },
    {
      "cell_type": "code",
      "source": [
        "def gen_decoder_x(decoder_ytrain, decoder_ytest, decoder_yval, start_token=-0.1):\n",
        "  # Initial all with zero\n",
        "  decoder_xtrain = np.zeros_like(decoder_ytrain)\n",
        "  decoder_xtest  = np.zeros_like(decoder_ytest)\n",
        "  decoder_xval   = np.zeros_like(decoder_yval)\n",
        "\n",
        "  #set the stert token for the first time step\n",
        "  decoder_xtrain[:,0] = start_token\n",
        "  decoder_xtest[:,0]  = start_token\n",
        "  decoder_xval[:,0]   = start_token\n",
        "\n",
        "  # Teacher forcing\n",
        "  n_timesteps = decoder_ytrain.shape[-1]\n",
        "  decoder_xtrain[:,1:] = decoder_ytrain[:, 0:n_timesteps-1]\n",
        "  decoder_xtest[:,1:]  = decoder_ytest[:, 0:n_timesteps-1]\n",
        "  decoder_xval[:,1:]   = decoder_yval[:, 0:n_timesteps-1]\n",
        "\n",
        "  return decoder_xtrain,decoder_xtest,decoder_xval"
      ],
      "metadata": {
        "id": "wNkc1X8yTPbw"
      },
      "execution_count": null,
      "outputs": []
    },
    {
      "cell_type": "code",
      "source": [
        "start_token = -0.01 # the start of sequence for teacher forcing\n",
        "gen_results = gen_decoder_x(decoder_y_train_norm, decoder_y_test_norm, decoder_y_val_norm, start_token)\n",
        "decoder_x_train_norm, decoder_x_test_norm, decoder_X_val_norm = gen_results\n",
        "\n",
        "print(decoder_x_train_norm[0])"
      ],
      "metadata": {
        "colab": {
          "base_uri": "https://localhost:8080/"
        },
        "id": "hXNqYsZ8Uqx9",
        "outputId": "2a86c1ce-4678-47c9-bc02-12c8a480e564"
      },
      "execution_count": null,
      "outputs": [
        {
          "output_type": "stream",
          "name": "stdout",
          "text": [
            "[-0.01        0.48679621  0.48779273]\n"
          ]
        }
      ]
    },
    {
      "cell_type": "code",
      "source": [
        "print(f\"****** use teacher forcing with start_token={start_token:.2f} for decoder_x ******\")\n",
        "print(f\"\\n ======= decoder_x_train_norm =======\")\n",
        "print(f\" shape:{decoder_x_train_norm.shape} dacoder_y:{decoder_y_train_norm[0]} ==> decoder_x:{decoder_x_train_norm[0]}\")\n",
        "print(f\"\\n ======= decoder_x_test_norm =======\")\n",
        "print(f\" shape:{decoder_x_test_norm.shape} dacoder_y:{decoder_y_test_norm[0]} ==> decoder_x:{decoder_x_test_norm[0]}\")\n",
        "print(f\"\\n ======= decoder_X_val_norm =======\")\n",
        "print(f\" shape:{decoder_X_val_norm.shape} dacoder_y:{decoder_y_val_norm[0]} ==> decoder_x:{decoder_X_val_norm[0]}\")"
      ],
      "metadata": {
        "colab": {
          "base_uri": "https://localhost:8080/"
        },
        "id": "25EWQQ9gTPfA",
        "outputId": "99ecb576-d35e-4339-dbff-ea960731ee93"
      },
      "execution_count": null,
      "outputs": [
        {
          "output_type": "stream",
          "name": "stdout",
          "text": [
            "****** use teacher forcing with start_token=-0.01 for decoder_x ******\n",
            "\n",
            " ======= decoder_x_train_norm =======\n",
            " shape:(1600, 3) dacoder_y:[0.48679621 0.48779273 0.48878924] ==> decoder_x:[-0.01        0.48679621  0.48779273]\n",
            "\n",
            " ======= decoder_x_test_norm =======\n",
            " shape:(200, 3) dacoder_y:[0.9387145  0.93971101 0.94070752] ==> decoder_x:[-0.01        0.9387145   0.93971101]\n",
            "\n",
            " ======= decoder_X_val_norm =======\n",
            " shape:(200, 3) dacoder_y:[0.40358744 0.40458396 0.40558047] ==> decoder_x:[-0.01        0.40358744  0.40458396]\n"
          ]
        }
      ]
    },
    {
      "cell_type": "markdown",
      "source": [
        "### 5 Set Format data according to seq2seq_model's requiremants"
      ],
      "metadata": {
        "id": "2o-xF9CyX-ds"
      }
    },
    {
      "cell_type": "code",
      "source": [
        "print(f\"{'#'*10} Dimension before changed {'#'*10}\")\n",
        "print(f\"encoder_x_train_norm: {encoder_x_train_norm.shape} ,decoder_x_train_norm: {decoder_x_train_norm.shape} ,decoder_y_train_norm: {decoder_y_train_norm.shape}\")\n",
        "print(f\"encoder_x_test_norm: {encoder_x_test_norm.shape} ,decoder_x_test_norm: {decoder_x_test_norm.shape} ,decoder_y_test_norm: {decoder_y_test_norm.shape}\")\n",
        "print(f\"encoder_x_val_norm: {encoder_x_val_norm.shape} ,decoder_X_val_norm: {decoder_X_val_norm.shape} ,decoder_y_val_norm: {decoder_y_val_norm.shape}\")\n"
      ],
      "metadata": {
        "colab": {
          "base_uri": "https://localhost:8080/"
        },
        "id": "RBJQbpgHYYaD",
        "outputId": "800dc62a-59ad-4d5d-d707-ca2946b0059f"
      },
      "execution_count": null,
      "outputs": [
        {
          "output_type": "stream",
          "name": "stdout",
          "text": [
            "########## Dimension before changed ##########\n",
            "encoder_x_train_norm: (1600, 5) ,decoder_x_train_norm: (1600, 3) ,decoder_y_train_norm: (1600, 3)\n",
            "encoder_x_test_norm: (200, 5) ,decoder_x_test_norm: (200, 3) ,decoder_y_test_norm: (200, 3)\n",
            "encoder_x_val_norm: (200, 5) ,decoder_X_val_norm: (200, 3) ,decoder_y_val_norm: (200, 3)\n"
          ]
        }
      ]
    },
    {
      "cell_type": "code",
      "source": [
        "encoder_x_train_norm = np.expand_dims(encoder_x_train_norm, axis=2)\n",
        "encoder_x_test_norm = np.expand_dims(encoder_x_test_norm, axis=2)\n",
        "encoder_x_val_norm = np.expand_dims(encoder_x_val_norm, axis=2)\n",
        "\n",
        "decoder_x_train_norm = np.expand_dims(decoder_x_train_norm, axis=2)\n",
        "decoder_x_test_norm = np.expand_dims(decoder_x_test_norm, axis=2)\n",
        "decoder_X_val_norm = np.expand_dims(decoder_X_val_norm, axis=2)\n",
        "\n",
        "decoder_y_train_norm = np.expand_dims(decoder_y_train_norm, axis=2)\n",
        "decoder_y_test_norm = np.expand_dims(decoder_y_test_norm, axis=2)\n",
        "decoder_y_val_norm = np.expand_dims(decoder_y_val_norm, axis=2)"
      ],
      "metadata": {
        "id": "C9PQhRh9YYdE"
      },
      "execution_count": null,
      "outputs": []
    },
    {
      "cell_type": "code",
      "source": [
        "print(f\"{'#'*10} Dimension After changed {'#'*10}\")\n",
        "print(f\"encoder_x_train_norm: {encoder_x_train_norm.shape} ,decoder_x_train_norm: {decoder_x_train_norm.shape} ,decoder_y_train_norm: {decoder_y_train_norm.shape}\")\n",
        "print(f\"encoder_x_test_norm: {encoder_x_test_norm.shape} ,decoder_x_test_norm: {decoder_x_test_norm.shape} ,decoder_y_test_norm: {decoder_y_test_norm.shape}\")\n",
        "print(f\"encoder_x_val_norm: {encoder_x_val_norm.shape} ,decoder_X_val_norm: {decoder_X_val_norm.shape} ,decoder_y_val_norm: {decoder_y_val_norm.shape}\")\n"
      ],
      "metadata": {
        "id": "N3F7dnqmYYi0",
        "colab": {
          "base_uri": "https://localhost:8080/"
        },
        "outputId": "58967654-2201-4b6a-d8e2-a2917cccbabc"
      },
      "execution_count": null,
      "outputs": [
        {
          "output_type": "stream",
          "name": "stdout",
          "text": [
            "########## Dimension After changed ##########\n",
            "encoder_x_train_norm: (1600, 5, 1) ,decoder_x_train_norm: (1600, 3, 1) ,decoder_y_train_norm: (1600, 3, 1)\n",
            "encoder_x_test_norm: (200, 5, 1) ,decoder_x_test_norm: (200, 3, 1) ,decoder_y_test_norm: (200, 3, 1)\n",
            "encoder_x_val_norm: (200, 5, 1) ,decoder_X_val_norm: (200, 3, 1) ,decoder_y_val_norm: (200, 3, 1)\n"
          ]
        }
      ]
    },
    {
      "cell_type": "code",
      "source": [
        "# Covert everything to the drfult of float32\n",
        "encoder_x_train_norm = encoder_x_train_norm.astype(np.float32)\n",
        "encoder_x_test_norm = encoder_x_test_norm.astype(np.float32)\n",
        "encoder_x_val_norm = encoder_x_val_norm.astype(np.float32)\n",
        "\n",
        "decoder_x_train_norm = decoder_x_train_norm.astype(np.float32)\n",
        "decoder_x_test_norm = decoder_x_test_norm.astype(np.float32)\n",
        "decoder_X_val_norm = decoder_X_val_norm.astype(np.float32)\n",
        "\n",
        "decoder_y_train_norm = decoder_y_train_norm.astype(np.float32)\n",
        "decoder_y_test_norm = decoder_y_test_norm.astype(np.float32)\n",
        "decoder_y_val_norm = decoder_y_val_norm.astype(np.float32)"
      ],
      "metadata": {
        "id": "BEx4s5pgbP-p"
      },
      "execution_count": null,
      "outputs": []
    },
    {
      "cell_type": "code",
      "source": [
        "encoder_x_train_norm[0].ravel()"
      ],
      "metadata": {
        "colab": {
          "base_uri": "https://localhost:8080/"
        },
        "id": "cW9zmxIBfh2k",
        "outputId": "94c6a5a5-e8ef-473d-a135-3d6ef84dd40a"
      },
      "execution_count": null,
      "outputs": [
        {
          "output_type": "execute_result",
          "data": {
            "text/plain": [
              "array([0.48181364, 0.48281017, 0.48380667, 0.4848032 , 0.4857997 ],\n",
              "      dtype=float32)"
            ]
          },
          "metadata": {},
          "execution_count": 30
        }
      ]
    },
    {
      "cell_type": "code",
      "source": [
        "print(\"\\n===== Train data =====\")\n",
        "print(f\"encoder_x_train_norm:{encoder_x_train_norm.shape}, decoder_y_train_norm:{decoder_y_train_norm.shape}, decoder_x_train_norm:{decoder_x_train_norm.shape}\")\n",
        "for i in range(5):\n",
        "  print(f\"{i} : {encoder_x_train_norm[i].ravel()} , {decoder_y_train_norm[i].ravel()} , {decoder_x_train_norm[i].ravel()}\")\n",
        "\n",
        "print(\"\\n===== Validation data =====\")\n",
        "print(f\"encoder_x_val_norm:{encoder_x_val_norm.shape}, decoder_y_val_norm:{decoder_y_val_norm.shape}, decoder_x_test_norm:{decoder_x_test_norm.shape}\")\n",
        "for i in range(5):\n",
        "  print(f\"{i} : {encoder_x_val_norm[i].ravel()} , {decoder_y_val_norm[i].ravel()} , {decoder_x_test_norm[i].ravel()}\")\n",
        "\n",
        "print(\"\\n===== Test data =====\")\n",
        "print(f\"encoder_x_test_norm:{encoder_x_test_norm.shape}, decoder_y_test_norm:{decoder_y_test_norm.shape}, decoder_X_val_norm:{decoder_X_val_norm.shape}\")\n",
        "for i in range(5):\n",
        "  print(f\"{i} : {encoder_x_test_norm[i].ravel()} , {decoder_y_test_norm[i].ravel()} , {decoder_X_val_norm[i].ravel()}\")\n"
      ],
      "metadata": {
        "colab": {
          "base_uri": "https://localhost:8080/"
        },
        "id": "XLAMpASOfLhK",
        "outputId": "e92cb13d-d087-4f05-9f76-d9ad7688db0a"
      },
      "execution_count": null,
      "outputs": [
        {
          "output_type": "stream",
          "name": "stdout",
          "text": [
            "\n",
            "===== Train data =====\n",
            "encoder_x_train_norm:(1600, 5, 1), decoder_y_train_norm:(1600, 3, 1), decoder_x_train_norm:(1600, 3, 1)\n",
            "0 : [0.48181364 0.48281017 0.48380667 0.4848032  0.4857997 ] , [0.4867962  0.48779273 0.48878923] , [-0.01        0.4867962   0.48779273]\n",
            "1 : [0.31290483 0.31390134 0.31489787 0.31589437 0.3168909 ] , [0.3178874  0.3188839  0.31988043] , [-0.01       0.3178874  0.3188839]\n",
            "2 : [0.28749377 0.2884903  0.2894868  0.2904833  0.29147983] , [0.29247633 0.29347286 0.29446936] , [-0.01        0.29247633  0.29347286]\n",
            "3 : [0.04434479 0.04534131 0.04633782 0.04733433 0.04833084] , [0.04932735 0.05032387 0.05132038] , [-0.01        0.04932735  0.05032387]\n",
            "4 : [0.5834579  0.5844544  0.58545095 0.5864474  0.58744395] , [0.5884405  0.58943695 0.5904335 ] , [-0.01        0.5884405   0.58943695]\n",
            "\n",
            "===== Validation data =====\n",
            "encoder_x_val_norm:(200, 5, 1), decoder_y_val_norm:(200, 3, 1), decoder_x_test_norm:(200, 3, 1)\n",
            "0 : [0.39860487 0.3996014  0.4005979  0.40159443 0.40259093] , [0.40358743 0.40458396 0.40558046] , [-0.01        0.9387145   0.93971103]\n",
            "1 : [0.25510713 0.25610363 0.25710014 0.25809667 0.25909317] , [0.2600897 0.2610862 0.2620827] , [-0.01        0.3323368   0.33333334]\n",
            "2 : [0.85450923 0.8555057  0.85650223 0.85749876 0.8584953 ] , [0.85949177 0.8604883  0.8614848 ] , [-0.01        0.14947683  0.15047334]\n",
            "3 : [0.07673144 0.07772795 0.07872447 0.07972097 0.08071749] , [0.081714   0.08271051 0.08370703] , [-0.01        0.00747384  0.00847035]\n",
            "4 : [0.6357748  0.6367713  0.6377678  0.6387643  0.63976085] , [0.6407573  0.64175385 0.6427504 ] , [-0.01        0.5605381   0.56153464]\n",
            "\n",
            "===== Test data =====\n",
            "encoder_x_test_norm:(200, 5, 1), decoder_y_test_norm:(200, 3, 1), decoder_X_val_norm:(200, 3, 1)\n",
            "0 : [0.9337319  0.93472844 0.935725   0.9367215  0.937718  ] , [0.9387145  0.93971103 0.9407075 ] , [-0.01        0.40358743  0.40458396]\n",
            "1 : [0.32735425 0.32835078 0.32934728 0.33034378 0.3313403 ] , [0.3323368  0.33333334 0.33432984] , [-0.01       0.2600897  0.2610862]\n",
            "2 : [0.14449427 0.14549078 0.1464873  0.14748381 0.14848033] , [0.14947683 0.15047334 0.15146986] , [-0.01        0.85949177  0.8604883 ]\n",
            "3 : [0.00249128 0.00348779 0.00448431 0.00548082 0.00647733] , [0.00747384 0.00847035 0.00946687] , [-0.01        0.081714    0.08271051]\n",
            "4 : [0.5555556  0.55655205 0.5575486  0.5585451  0.5595416 ] , [0.5605381  0.56153464 0.5625311 ] , [-0.01        0.6407573   0.64175385]\n"
          ]
        }
      ]
    },
    {
      "cell_type": "markdown",
      "source": [
        "## 6.3 Complie and Train the model"
      ],
      "metadata": {
        "id": "uieLsvij93jG"
      }
    },
    {
      "cell_type": "code",
      "source": [
        "checkpoint_filepath = \"RNN_ex6_bestmodel_epoch{epoch:03d}.hdf5\"\n",
        "model_checkpoint_callback = tf.keras.callbacks.ModelCheckpoint(filepath=checkpoint_filepath,\n",
        "                                                               save_weights_only=False,\n",
        "                                                               monitor='val_loss',\n",
        "                                                               mode='min',\n",
        "                                                               save_best_only=True)"
      ],
      "metadata": {
        "id": "tuJfZaPxb0B4"
      },
      "execution_count": null,
      "outputs": []
    },
    {
      "cell_type": "markdown",
      "source": [
        "Keras's callback can only save the unified seq2seq_model model not the two separated model (encoder_model and decoder_model) that share the same computational graph as seq2seq_model's \n",
        "\n",
        "So we have to subclass tf.keras.call.backs to save the best encoder_model and decoder_model models outselves at the end of each epoch."
      ],
      "metadata": {
        "id": "2PUOFiYvb-cU"
      }
    },
    {
      "cell_type": "code",
      "source": [
        "class CustomCallback(tf.keras.callbacks.Callback):\n",
        "  def __init__(self, encoder, decoder):\n",
        "    super().__init__()\n",
        "\n",
        "    #The encoder and Decoder model to be save\n",
        "    self.encoder = encoder\n",
        "    self.decoder = decoder\n",
        "    self.start_time = None\n",
        "    self.min_valloss = None\n",
        "    \n",
        "\n",
        "  def on_train_begin(self, logs=None):\n",
        "    self.start_time = time.time()\n",
        "    self.min_valloss = None\n",
        "\n",
        "  def on_epoch_end(self, epoch, logs=None):\n",
        "    # compute the totla runtime since the trainig started\n",
        "    total_run_time =int(time.time() - self.start_time)\n",
        "    msg = f\" Train time{datetime.timedelta(seconds=total_run_time)}\"\n",
        "\n",
        "    #Save the best encoder and decoder models\n",
        "    if 'val_loss' in logs.keys():\n",
        "      if self.min_valloss is None:\n",
        "        self.min_valloss = logs['val_loss']\n",
        "      if logs['val_loss'] < self.min_valloss:\n",
        "        self.min_valloss = logs['val_loss']\n",
        "        self.encoder.save(\"RNN_ex6_bestencoder.hdf5\")\n",
        "        self.decoder.save(\"RNN_ex6_bestdecoder.hdf5\")\n",
        "        msg += \"**best**\"\n",
        "    \n",
        "    # Print total run time at the beginning of each epoh's log\n",
        "    print( msg, end='-')\n",
        "\n",
        "my_cellback = CustomCallback(encoder_model, decoder_model)"
      ],
      "metadata": {
        "id": "h-J3jZa1dCnJ"
      },
      "execution_count": null,
      "outputs": []
    },
    {
      "cell_type": "markdown",
      "source": [
        "### Compile and Train"
      ],
      "metadata": {
        "id": "w3-FqjYXnfEQ"
      }
    },
    {
      "cell_type": "code",
      "source": [
        "adam = tf.keras.optimizers.Adam(learning_rate=0.001)\n",
        "seq2seq_model.compile( loss=\"mse\", optimizer=adam, metrics=[\"mean_absolute_error\"] )"
      ],
      "metadata": {
        "id": "qCrc_Ds7dCs7"
      },
      "execution_count": null,
      "outputs": []
    },
    {
      "cell_type": "code",
      "source": [
        "# Supress TF's warning messages\n",
        "tf.compat.v1.logging.set_verbosity(tf.compat.v1.logging.ERROR)"
      ],
      "metadata": {
        "id": "zFNJyuZFtp-d"
      },
      "execution_count": null,
      "outputs": []
    },
    {
      "cell_type": "code",
      "source": [
        "hist_ex6 = seq2seq_model.fit( [encoder_x_train_norm, decoder_x_train_norm], decoder_y_train_norm, \n",
        "                             validation_data=([encoder_x_val_norm, decoder_X_val_norm], decoder_y_val_norm),\n",
        "                             batch_size=64, epochs=500, callbacks=[model_checkpoint_callback, my_cellback],\n",
        "                             verbose=2\n",
        "                             )"
      ],
      "metadata": {
        "colab": {
          "base_uri": "https://localhost:8080/"
        },
        "id": "bZnZav-ztqDV",
        "outputId": "e4998154-1016-455a-8d82-115fe6d68d5a"
      },
      "execution_count": null,
      "outputs": [
        {
          "output_type": "stream",
          "name": "stdout",
          "text": [
            "Epoch 1/500\n",
            " Train time0:00:04-25/25 - 4s - loss: 0.3372 - mean_absolute_error: 0.4448 - val_loss: 0.0473 - val_mean_absolute_error: 0.1866 - 4s/epoch - 159ms/step\n",
            "Epoch 2/500\n",
            " Train time0:00:04**best**-25/25 - 0s - loss: 0.0443 - mean_absolute_error: 0.1825 - val_loss: 0.0225 - val_mean_absolute_error: 0.1248 - 184ms/epoch - 7ms/step\n",
            "Epoch 3/500\n",
            " Train time0:00:04**best**-25/25 - 0s - loss: 0.0179 - mean_absolute_error: 0.1105 - val_loss: 0.0093 - val_mean_absolute_error: 0.0818 - 184ms/epoch - 7ms/step\n",
            "Epoch 4/500\n",
            " Train time0:00:04**best**-25/25 - 0s - loss: 0.0075 - mean_absolute_error: 0.0716 - val_loss: 0.0045 - val_mean_absolute_error: 0.0552 - 190ms/epoch - 8ms/step\n",
            "Epoch 5/500\n",
            " Train time0:00:04**best**-25/25 - 0s - loss: 0.0047 - mean_absolute_error: 0.0552 - val_loss: 0.0034 - val_mean_absolute_error: 0.0461 - 187ms/epoch - 7ms/step\n",
            "Epoch 6/500\n",
            " Train time0:00:04**best**-25/25 - 0s - loss: 0.0038 - mean_absolute_error: 0.0491 - val_loss: 0.0027 - val_mean_absolute_error: 0.0406 - 193ms/epoch - 8ms/step\n",
            "Epoch 7/500\n",
            " Train time0:00:05**best**-25/25 - 0s - loss: 0.0031 - mean_absolute_error: 0.0445 - val_loss: 0.0023 - val_mean_absolute_error: 0.0375 - 204ms/epoch - 8ms/step\n",
            "Epoch 8/500\n",
            " Train time0:00:05**best**-25/25 - 0s - loss: 0.0027 - mean_absolute_error: 0.0410 - val_loss: 0.0020 - val_mean_absolute_error: 0.0361 - 191ms/epoch - 8ms/step\n",
            "Epoch 9/500\n",
            " Train time0:00:05**best**-25/25 - 0s - loss: 0.0023 - mean_absolute_error: 0.0377 - val_loss: 0.0018 - val_mean_absolute_error: 0.0338 - 182ms/epoch - 7ms/step\n",
            "Epoch 10/500\n",
            " Train time0:00:05**best**-25/25 - 0s - loss: 0.0019 - mean_absolute_error: 0.0353 - val_loss: 0.0015 - val_mean_absolute_error: 0.0307 - 179ms/epoch - 7ms/step\n",
            "Epoch 11/500\n",
            " Train time0:00:05**best**-25/25 - 0s - loss: 0.0017 - mean_absolute_error: 0.0326 - val_loss: 0.0013 - val_mean_absolute_error: 0.0286 - 177ms/epoch - 7ms/step\n",
            "Epoch 12/500\n",
            " Train time0:00:06**best**-25/25 - 0s - loss: 0.0014 - mean_absolute_error: 0.0305 - val_loss: 0.0011 - val_mean_absolute_error: 0.0270 - 179ms/epoch - 7ms/step\n",
            "Epoch 13/500\n",
            " Train time0:00:06**best**-25/25 - 0s - loss: 0.0012 - mean_absolute_error: 0.0280 - val_loss: 9.8905e-04 - val_mean_absolute_error: 0.0256 - 181ms/epoch - 7ms/step\n",
            "Epoch 14/500\n",
            " Train time0:00:06**best**-25/25 - 0s - loss: 0.0011 - mean_absolute_error: 0.0263 - val_loss: 8.0158e-04 - val_mean_absolute_error: 0.0228 - 180ms/epoch - 7ms/step\n",
            "Epoch 15/500\n",
            " Train time0:00:06**best**-25/25 - 0s - loss: 9.0848e-04 - mean_absolute_error: 0.0238 - val_loss: 6.6364e-04 - val_mean_absolute_error: 0.0202 - 176ms/epoch - 7ms/step\n",
            "Epoch 16/500\n",
            " Train time0:00:06**best**-25/25 - 0s - loss: 7.6185e-04 - mean_absolute_error: 0.0222 - val_loss: 5.6042e-04 - val_mean_absolute_error: 0.0188 - 180ms/epoch - 7ms/step\n",
            "Epoch 17/500\n",
            " Train time0:00:07**best**-25/25 - 0s - loss: 6.2672e-04 - mean_absolute_error: 0.0200 - val_loss: 4.6879e-04 - val_mean_absolute_error: 0.0172 - 187ms/epoch - 7ms/step\n",
            "Epoch 18/500\n",
            " Train time0:00:07**best**-25/25 - 0s - loss: 5.2600e-04 - mean_absolute_error: 0.0182 - val_loss: 3.8613e-04 - val_mean_absolute_error: 0.0153 - 190ms/epoch - 8ms/step\n",
            "Epoch 19/500\n",
            " Train time0:00:07**best**-25/25 - 0s - loss: 4.3401e-04 - mean_absolute_error: 0.0166 - val_loss: 3.2225e-04 - val_mean_absolute_error: 0.0143 - 180ms/epoch - 7ms/step\n",
            "Epoch 20/500\n",
            " Train time0:00:07**best**-25/25 - 0s - loss: 3.5077e-04 - mean_absolute_error: 0.0148 - val_loss: 2.7184e-04 - val_mean_absolute_error: 0.0131 - 181ms/epoch - 7ms/step\n",
            "Epoch 21/500\n",
            " Train time0:00:07**best**-25/25 - 0s - loss: 2.8371e-04 - mean_absolute_error: 0.0132 - val_loss: 2.1044e-04 - val_mean_absolute_error: 0.0113 - 181ms/epoch - 7ms/step\n",
            "Epoch 22/500\n",
            " Train time0:00:07**best**-25/25 - 0s - loss: 2.2566e-04 - mean_absolute_error: 0.0115 - val_loss: 1.7404e-04 - val_mean_absolute_error: 0.0103 - 180ms/epoch - 7ms/step\n",
            "Epoch 23/500\n",
            " Train time0:00:08**best**-25/25 - 0s - loss: 1.8053e-04 - mean_absolute_error: 0.0102 - val_loss: 1.3179e-04 - val_mean_absolute_error: 0.0084 - 180ms/epoch - 7ms/step\n",
            "Epoch 24/500\n",
            " Train time0:00:08**best**-25/25 - 0s - loss: 1.4622e-04 - mean_absolute_error: 0.0089 - val_loss: 1.0728e-04 - val_mean_absolute_error: 0.0074 - 196ms/epoch - 8ms/step\n",
            "Epoch 25/500\n",
            " Train time0:00:08**best**-25/25 - 0s - loss: 1.1566e-04 - mean_absolute_error: 0.0078 - val_loss: 9.0866e-05 - val_mean_absolute_error: 0.0071 - 185ms/epoch - 7ms/step\n",
            "Epoch 26/500\n",
            " Train time0:00:08**best**-25/25 - 0s - loss: 9.3744e-05 - mean_absolute_error: 0.0070 - val_loss: 7.3498e-05 - val_mean_absolute_error: 0.0064 - 176ms/epoch - 7ms/step\n",
            "Epoch 27/500\n",
            " Train time0:00:08**best**-25/25 - 0s - loss: 7.8357e-05 - mean_absolute_error: 0.0065 - val_loss: 6.1683e-05 - val_mean_absolute_error: 0.0059 - 185ms/epoch - 7ms/step\n",
            "Epoch 28/500\n",
            " Train time0:00:09**best**-25/25 - 0s - loss: 6.3536e-05 - mean_absolute_error: 0.0059 - val_loss: 4.8226e-05 - val_mean_absolute_error: 0.0051 - 178ms/epoch - 7ms/step\n",
            "Epoch 29/500\n",
            " Train time0:00:09**best**-25/25 - 0s - loss: 5.3749e-05 - mean_absolute_error: 0.0054 - val_loss: 4.2303e-05 - val_mean_absolute_error: 0.0050 - 177ms/epoch - 7ms/step\n",
            "Epoch 30/500\n",
            " Train time0:00:09**best**-25/25 - 0s - loss: 4.5244e-05 - mean_absolute_error: 0.0051 - val_loss: 3.6780e-05 - val_mean_absolute_error: 0.0047 - 176ms/epoch - 7ms/step\n",
            "Epoch 31/500\n",
            " Train time0:00:09**best**-25/25 - 0s - loss: 3.9176e-05 - mean_absolute_error: 0.0047 - val_loss: 3.1074e-05 - val_mean_absolute_error: 0.0042 - 181ms/epoch - 7ms/step\n",
            "Epoch 32/500\n",
            " Train time0:00:09**best**-25/25 - 0s - loss: 3.4141e-05 - mean_absolute_error: 0.0044 - val_loss: 2.7749e-05 - val_mean_absolute_error: 0.0041 - 180ms/epoch - 7ms/step\n",
            "Epoch 33/500\n",
            " Train time0:00:09**best**-25/25 - 0s - loss: 3.0347e-05 - mean_absolute_error: 0.0042 - val_loss: 2.4667e-05 - val_mean_absolute_error: 0.0038 - 178ms/epoch - 7ms/step\n",
            "Epoch 34/500\n",
            " Train time0:00:10**best**-25/25 - 0s - loss: 2.6860e-05 - mean_absolute_error: 0.0039 - val_loss: 2.1868e-05 - val_mean_absolute_error: 0.0036 - 173ms/epoch - 7ms/step\n",
            "Epoch 35/500\n",
            " Train time0:00:10**best**-25/25 - 0s - loss: 2.3971e-05 - mean_absolute_error: 0.0037 - val_loss: 2.0439e-05 - val_mean_absolute_error: 0.0035 - 192ms/epoch - 8ms/step\n",
            "Epoch 36/500\n",
            " Train time0:00:10**best**-25/25 - 0s - loss: 2.1752e-05 - mean_absolute_error: 0.0035 - val_loss: 1.8376e-05 - val_mean_absolute_error: 0.0033 - 182ms/epoch - 7ms/step\n",
            "Epoch 37/500\n",
            " Train time0:00:10**best**-25/25 - 0s - loss: 1.9946e-05 - mean_absolute_error: 0.0034 - val_loss: 1.6263e-05 - val_mean_absolute_error: 0.0031 - 182ms/epoch - 7ms/step\n",
            "Epoch 38/500\n",
            " Train time0:00:10-25/25 - 0s - loss: 1.8032e-05 - mean_absolute_error: 0.0032 - val_loss: 1.8105e-05 - val_mean_absolute_error: 0.0033 - 142ms/epoch - 6ms/step\n",
            "Epoch 39/500\n",
            " Train time0:00:11**best**-25/25 - 0s - loss: 1.7636e-05 - mean_absolute_error: 0.0031 - val_loss: 1.3918e-05 - val_mean_absolute_error: 0.0029 - 180ms/epoch - 7ms/step\n",
            "Epoch 40/500\n",
            " Train time0:00:11**best**-25/25 - 0s - loss: 1.5695e-05 - mean_absolute_error: 0.0029 - val_loss: 1.3251e-05 - val_mean_absolute_error: 0.0028 - 175ms/epoch - 7ms/step\n",
            "Epoch 41/500\n",
            " Train time0:00:11**best**-25/25 - 0s - loss: 1.4510e-05 - mean_absolute_error: 0.0028 - val_loss: 1.2262e-05 - val_mean_absolute_error: 0.0028 - 196ms/epoch - 8ms/step\n",
            "Epoch 42/500\n",
            " Train time0:00:11-25/25 - 0s - loss: 1.3823e-05 - mean_absolute_error: 0.0028 - val_loss: 1.2599e-05 - val_mean_absolute_error: 0.0026 - 141ms/epoch - 6ms/step\n",
            "Epoch 43/500\n",
            " Train time0:00:11**best**-25/25 - 0s - loss: 1.3106e-05 - mean_absolute_error: 0.0027 - val_loss: 1.2049e-05 - val_mean_absolute_error: 0.0027 - 178ms/epoch - 7ms/step\n",
            "Epoch 44/500\n",
            " Train time0:00:11**best**-25/25 - 0s - loss: 1.2477e-05 - mean_absolute_error: 0.0026 - val_loss: 1.0657e-05 - val_mean_absolute_error: 0.0026 - 178ms/epoch - 7ms/step\n",
            "Epoch 45/500\n",
            " Train time0:00:12**best**-25/25 - 0s - loss: 1.2585e-05 - mean_absolute_error: 0.0027 - val_loss: 9.9656e-06 - val_mean_absolute_error: 0.0025 - 179ms/epoch - 7ms/step\n",
            "Epoch 46/500\n",
            " Train time0:00:12**best**-25/25 - 0s - loss: 1.1717e-05 - mean_absolute_error: 0.0026 - val_loss: 9.7701e-06 - val_mean_absolute_error: 0.0025 - 185ms/epoch - 7ms/step\n",
            "Epoch 47/500\n",
            " Train time0:00:12**best**-25/25 - 0s - loss: 1.1037e-05 - mean_absolute_error: 0.0025 - val_loss: 9.4965e-06 - val_mean_absolute_error: 0.0024 - 177ms/epoch - 7ms/step\n",
            "Epoch 48/500\n",
            " Train time0:00:12**best**-25/25 - 0s - loss: 1.0938e-05 - mean_absolute_error: 0.0025 - val_loss: 9.4078e-06 - val_mean_absolute_error: 0.0024 - 179ms/epoch - 7ms/step\n",
            "Epoch 49/500\n",
            " Train time0:00:12-25/25 - 0s - loss: 1.0395e-05 - mean_absolute_error: 0.0025 - val_loss: 9.4151e-06 - val_mean_absolute_error: 0.0025 - 146ms/epoch - 6ms/step\n",
            "Epoch 50/500\n",
            " Train time0:00:12-25/25 - 0s - loss: 1.0462e-05 - mean_absolute_error: 0.0025 - val_loss: 1.0010e-05 - val_mean_absolute_error: 0.0025 - 148ms/epoch - 6ms/step\n",
            "Epoch 51/500\n",
            " Train time0:00:13**best**-25/25 - 0s - loss: 1.0363e-05 - mean_absolute_error: 0.0025 - val_loss: 8.5077e-06 - val_mean_absolute_error: 0.0023 - 176ms/epoch - 7ms/step\n",
            "Epoch 52/500\n",
            " Train time0:00:13**best**-25/25 - 0s - loss: 1.0269e-05 - mean_absolute_error: 0.0025 - val_loss: 8.4727e-06 - val_mean_absolute_error: 0.0023 - 182ms/epoch - 7ms/step\n",
            "Epoch 53/500\n",
            " Train time0:00:13-25/25 - 0s - loss: 9.7768e-06 - mean_absolute_error: 0.0024 - val_loss: 8.8923e-06 - val_mean_absolute_error: 0.0024 - 144ms/epoch - 6ms/step\n",
            "Epoch 54/500\n",
            " Train time0:00:13**best**-25/25 - 0s - loss: 9.3690e-06 - mean_absolute_error: 0.0024 - val_loss: 7.9851e-06 - val_mean_absolute_error: 0.0023 - 184ms/epoch - 7ms/step\n",
            "Epoch 55/500\n",
            " Train time0:00:13-25/25 - 0s - loss: 9.2997e-06 - mean_absolute_error: 0.0024 - val_loss: 1.1443e-05 - val_mean_absolute_error: 0.0026 - 145ms/epoch - 6ms/step\n",
            "Epoch 56/500\n",
            " Train time0:00:13-25/25 - 0s - loss: 9.5062e-06 - mean_absolute_error: 0.0024 - val_loss: 8.0497e-06 - val_mean_absolute_error: 0.0023 - 147ms/epoch - 6ms/step\n",
            "Epoch 57/500\n",
            " Train time0:00:14**best**-25/25 - 0s - loss: 8.7015e-06 - mean_absolute_error: 0.0023 - val_loss: 7.6554e-06 - val_mean_absolute_error: 0.0022 - 178ms/epoch - 7ms/step\n",
            "Epoch 58/500\n",
            " Train time0:00:14-25/25 - 0s - loss: 8.7768e-06 - mean_absolute_error: 0.0023 - val_loss: 8.0301e-06 - val_mean_absolute_error: 0.0022 - 144ms/epoch - 6ms/step\n",
            "Epoch 59/500\n",
            " Train time0:00:14**best**-25/25 - 0s - loss: 8.7867e-06 - mean_absolute_error: 0.0023 - val_loss: 7.1792e-06 - val_mean_absolute_error: 0.0022 - 196ms/epoch - 8ms/step\n",
            "Epoch 60/500\n",
            " Train time0:00:14**best**-25/25 - 0s - loss: 8.2949e-06 - mean_absolute_error: 0.0022 - val_loss: 6.9060e-06 - val_mean_absolute_error: 0.0021 - 178ms/epoch - 7ms/step\n",
            "Epoch 61/500\n",
            " Train time0:00:14-25/25 - 0s - loss: 8.4527e-06 - mean_absolute_error: 0.0023 - val_loss: 8.2647e-06 - val_mean_absolute_error: 0.0023 - 141ms/epoch - 6ms/step\n",
            "Epoch 62/500\n",
            " Train time0:00:14-25/25 - 0s - loss: 8.1477e-06 - mean_absolute_error: 0.0022 - val_loss: 1.0014e-05 - val_mean_absolute_error: 0.0024 - 144ms/epoch - 6ms/step\n",
            "Epoch 63/500\n",
            " Train time0:00:15-25/25 - 0s - loss: 8.8973e-06 - mean_absolute_error: 0.0023 - val_loss: 8.1900e-06 - val_mean_absolute_error: 0.0022 - 142ms/epoch - 6ms/step\n",
            "Epoch 64/500\n",
            " Train time0:00:15-25/25 - 0s - loss: 8.2334e-06 - mean_absolute_error: 0.0022 - val_loss: 7.0513e-06 - val_mean_absolute_error: 0.0021 - 148ms/epoch - 6ms/step\n",
            "Epoch 65/500\n",
            " Train time0:00:15**best**-25/25 - 0s - loss: 7.5587e-06 - mean_absolute_error: 0.0021 - val_loss: 6.4503e-06 - val_mean_absolute_error: 0.0020 - 181ms/epoch - 7ms/step\n",
            "Epoch 66/500\n",
            " Train time0:00:15-25/25 - 0s - loss: 7.5431e-06 - mean_absolute_error: 0.0021 - val_loss: 6.9079e-06 - val_mean_absolute_error: 0.0021 - 145ms/epoch - 6ms/step\n",
            "Epoch 67/500\n",
            " Train time0:00:15**best**-25/25 - 0s - loss: 7.6142e-06 - mean_absolute_error: 0.0021 - val_loss: 6.3568e-06 - val_mean_absolute_error: 0.0020 - 177ms/epoch - 7ms/step\n",
            "Epoch 68/500\n",
            " Train time0:00:15-25/25 - 0s - loss: 7.2381e-06 - mean_absolute_error: 0.0021 - val_loss: 6.7221e-06 - val_mean_absolute_error: 0.0020 - 142ms/epoch - 6ms/step\n",
            "Epoch 69/500\n",
            " Train time0:00:16-25/25 - 0s - loss: 7.1649e-06 - mean_absolute_error: 0.0021 - val_loss: 7.0638e-06 - val_mean_absolute_error: 0.0021 - 141ms/epoch - 6ms/step\n",
            "Epoch 70/500\n",
            " Train time0:00:16**best**-25/25 - 0s - loss: 7.0607e-06 - mean_absolute_error: 0.0020 - val_loss: 5.8662e-06 - val_mean_absolute_error: 0.0020 - 185ms/epoch - 7ms/step\n",
            "Epoch 71/500\n",
            " Train time0:00:16-25/25 - 0s - loss: 7.0347e-06 - mean_absolute_error: 0.0020 - val_loss: 5.9694e-06 - val_mean_absolute_error: 0.0019 - 154ms/epoch - 6ms/step\n",
            "Epoch 72/500\n",
            " Train time0:00:16**best**-25/25 - 0s - loss: 6.7851e-06 - mean_absolute_error: 0.0020 - val_loss: 5.6148e-06 - val_mean_absolute_error: 0.0019 - 176ms/epoch - 7ms/step\n",
            "Epoch 73/500\n",
            " Train time0:00:16**best**-25/25 - 0s - loss: 6.5131e-06 - mean_absolute_error: 0.0020 - val_loss: 5.4243e-06 - val_mean_absolute_error: 0.0018 - 182ms/epoch - 7ms/step\n",
            "Epoch 74/500\n",
            " Train time0:00:16-25/25 - 0s - loss: 6.5107e-06 - mean_absolute_error: 0.0020 - val_loss: 5.4451e-06 - val_mean_absolute_error: 0.0019 - 145ms/epoch - 6ms/step\n",
            "Epoch 75/500\n",
            " Train time0:00:17-25/25 - 0s - loss: 6.6845e-06 - mean_absolute_error: 0.0020 - val_loss: 6.2725e-06 - val_mean_absolute_error: 0.0019 - 144ms/epoch - 6ms/step\n",
            "Epoch 76/500\n",
            " Train time0:00:17-25/25 - 0s - loss: 6.3993e-06 - mean_absolute_error: 0.0019 - val_loss: 6.5000e-06 - val_mean_absolute_error: 0.0019 - 140ms/epoch - 6ms/step\n",
            "Epoch 77/500\n",
            " Train time0:00:17-25/25 - 0s - loss: 6.8511e-06 - mean_absolute_error: 0.0020 - val_loss: 6.4211e-06 - val_mean_absolute_error: 0.0019 - 142ms/epoch - 6ms/step\n",
            "Epoch 78/500\n",
            " Train time0:00:17-25/25 - 0s - loss: 6.6256e-06 - mean_absolute_error: 0.0019 - val_loss: 6.0606e-06 - val_mean_absolute_error: 0.0019 - 160ms/epoch - 6ms/step\n",
            "Epoch 79/500\n",
            " Train time0:00:17**best**-25/25 - 0s - loss: 6.3123e-06 - mean_absolute_error: 0.0019 - val_loss: 5.1627e-06 - val_mean_absolute_error: 0.0017 - 176ms/epoch - 7ms/step\n",
            "Epoch 80/500\n",
            " Train time0:00:17**best**-25/25 - 0s - loss: 6.1926e-06 - mean_absolute_error: 0.0019 - val_loss: 4.7555e-06 - val_mean_absolute_error: 0.0017 - 177ms/epoch - 7ms/step\n",
            "Epoch 81/500\n",
            " Train time0:00:18**best**-25/25 - 0s - loss: 5.9233e-06 - mean_absolute_error: 0.0018 - val_loss: 4.5812e-06 - val_mean_absolute_error: 0.0017 - 177ms/epoch - 7ms/step\n",
            "Epoch 82/500\n",
            " Train time0:00:18-25/25 - 0s - loss: 5.2819e-06 - mean_absolute_error: 0.0018 - val_loss: 4.7472e-06 - val_mean_absolute_error: 0.0017 - 146ms/epoch - 6ms/step\n",
            "Epoch 83/500\n",
            " Train time0:00:18**best**-25/25 - 0s - loss: 5.3549e-06 - mean_absolute_error: 0.0018 - val_loss: 4.4221e-06 - val_mean_absolute_error: 0.0017 - 178ms/epoch - 7ms/step\n",
            "Epoch 84/500\n",
            " Train time0:00:18**best**-25/25 - 0s - loss: 5.3531e-06 - mean_absolute_error: 0.0018 - val_loss: 4.3941e-06 - val_mean_absolute_error: 0.0017 - 181ms/epoch - 7ms/step\n",
            "Epoch 85/500\n",
            " Train time0:00:18-25/25 - 0s - loss: 5.1257e-06 - mean_absolute_error: 0.0017 - val_loss: 7.4388e-06 - val_mean_absolute_error: 0.0020 - 144ms/epoch - 6ms/step\n",
            "Epoch 86/500\n",
            " Train time0:00:18-25/25 - 0s - loss: 5.2406e-06 - mean_absolute_error: 0.0017 - val_loss: 4.8860e-06 - val_mean_absolute_error: 0.0017 - 141ms/epoch - 6ms/step\n",
            "Epoch 87/500\n",
            " Train time0:00:19-25/25 - 0s - loss: 5.1348e-06 - mean_absolute_error: 0.0017 - val_loss: 4.7195e-06 - val_mean_absolute_error: 0.0017 - 142ms/epoch - 6ms/step\n",
            "Epoch 88/500\n",
            " Train time0:00:19**best**-25/25 - 0s - loss: 4.7598e-06 - mean_absolute_error: 0.0017 - val_loss: 4.1781e-06 - val_mean_absolute_error: 0.0016 - 182ms/epoch - 7ms/step\n",
            "Epoch 89/500\n",
            " Train time0:00:19**best**-25/25 - 0s - loss: 4.9781e-06 - mean_absolute_error: 0.0017 - val_loss: 3.8461e-06 - val_mean_absolute_error: 0.0015 - 183ms/epoch - 7ms/step\n",
            "Epoch 90/500\n",
            " Train time0:00:19-25/25 - 0s - loss: 4.6494e-06 - mean_absolute_error: 0.0016 - val_loss: 4.5193e-06 - val_mean_absolute_error: 0.0016 - 161ms/epoch - 6ms/step\n",
            "Epoch 91/500\n",
            " Train time0:00:19-25/25 - 0s - loss: 5.0821e-06 - mean_absolute_error: 0.0017 - val_loss: 1.0456e-05 - val_mean_absolute_error: 0.0024 - 143ms/epoch - 6ms/step\n",
            "Epoch 92/500\n",
            " Train time0:00:19**best**-25/25 - 0s - loss: 5.3699e-06 - mean_absolute_error: 0.0017 - val_loss: 3.6039e-06 - val_mean_absolute_error: 0.0015 - 178ms/epoch - 7ms/step\n",
            "Epoch 93/500\n",
            " Train time0:00:20**best**-25/25 - 0s - loss: 4.2649e-06 - mean_absolute_error: 0.0016 - val_loss: 3.5727e-06 - val_mean_absolute_error: 0.0015 - 180ms/epoch - 7ms/step\n",
            "Epoch 94/500\n",
            " Train time0:00:20**best**-25/25 - 0s - loss: 4.0672e-06 - mean_absolute_error: 0.0015 - val_loss: 3.3351e-06 - val_mean_absolute_error: 0.0014 - 180ms/epoch - 7ms/step\n",
            "Epoch 95/500\n",
            " Train time0:00:20**best**-25/25 - 0s - loss: 4.6485e-06 - mean_absolute_error: 0.0016 - val_loss: 3.2818e-06 - val_mean_absolute_error: 0.0014 - 183ms/epoch - 7ms/step\n",
            "Epoch 96/500\n",
            " Train time0:00:20**best**-25/25 - 0s - loss: 4.3678e-06 - mean_absolute_error: 0.0016 - val_loss: 3.1790e-06 - val_mean_absolute_error: 0.0014 - 202ms/epoch - 8ms/step\n",
            "Epoch 97/500\n",
            " Train time0:00:20-25/25 - 0s - loss: 5.2157e-06 - mean_absolute_error: 0.0017 - val_loss: 4.6726e-06 - val_mean_absolute_error: 0.0016 - 142ms/epoch - 6ms/step\n",
            "Epoch 98/500\n",
            " Train time0:00:20-25/25 - 0s - loss: 4.1812e-06 - mean_absolute_error: 0.0015 - val_loss: 4.2105e-06 - val_mean_absolute_error: 0.0015 - 143ms/epoch - 6ms/step\n",
            "Epoch 99/500\n",
            " Train time0:00:21**best**-25/25 - 0s - loss: 3.9680e-06 - mean_absolute_error: 0.0015 - val_loss: 3.1730e-06 - val_mean_absolute_error: 0.0014 - 177ms/epoch - 7ms/step\n",
            "Epoch 100/500\n",
            " Train time0:00:21-25/25 - 0s - loss: 3.8602e-06 - mean_absolute_error: 0.0014 - val_loss: 3.4680e-06 - val_mean_absolute_error: 0.0014 - 146ms/epoch - 6ms/step\n",
            "Epoch 101/500\n",
            " Train time0:00:21**best**-25/25 - 0s - loss: 3.9945e-06 - mean_absolute_error: 0.0015 - val_loss: 2.9570e-06 - val_mean_absolute_error: 0.0013 - 179ms/epoch - 7ms/step\n",
            "Epoch 102/500\n",
            " Train time0:00:21-25/25 - 0s - loss: 4.2075e-06 - mean_absolute_error: 0.0015 - val_loss: 7.0130e-06 - val_mean_absolute_error: 0.0019 - 152ms/epoch - 6ms/step\n",
            "Epoch 103/500\n",
            " Train time0:00:21-25/25 - 0s - loss: 4.9832e-06 - mean_absolute_error: 0.0016 - val_loss: 4.9519e-06 - val_mean_absolute_error: 0.0016 - 141ms/epoch - 6ms/step\n",
            "Epoch 104/500\n",
            " Train time0:00:21**best**-25/25 - 0s - loss: 3.4923e-06 - mean_absolute_error: 0.0014 - val_loss: 2.8528e-06 - val_mean_absolute_error: 0.0013 - 181ms/epoch - 7ms/step\n",
            "Epoch 105/500\n",
            " Train time0:00:22**best**-25/25 - 0s - loss: 3.3731e-06 - mean_absolute_error: 0.0013 - val_loss: 2.5585e-06 - val_mean_absolute_error: 0.0012 - 178ms/epoch - 7ms/step\n",
            "Epoch 106/500\n",
            " Train time0:00:22**best**-25/25 - 0s - loss: 3.3420e-06 - mean_absolute_error: 0.0013 - val_loss: 2.5062e-06 - val_mean_absolute_error: 0.0012 - 183ms/epoch - 7ms/step\n",
            "Epoch 107/500\n",
            " Train time0:00:22-25/25 - 0s - loss: 3.1541e-06 - mean_absolute_error: 0.0013 - val_loss: 2.9718e-06 - val_mean_absolute_error: 0.0012 - 143ms/epoch - 6ms/step\n",
            "Epoch 108/500\n",
            " Train time0:00:22**best**-25/25 - 0s - loss: 3.0670e-06 - mean_absolute_error: 0.0013 - val_loss: 2.4886e-06 - val_mean_absolute_error: 0.0012 - 179ms/epoch - 7ms/step\n",
            "Epoch 109/500\n",
            " Train time0:00:22-25/25 - 0s - loss: 2.8915e-06 - mean_absolute_error: 0.0012 - val_loss: 2.5143e-06 - val_mean_absolute_error: 0.0012 - 144ms/epoch - 6ms/step\n",
            "Epoch 110/500\n",
            " Train time0:00:22**best**-25/25 - 0s - loss: 2.9012e-06 - mean_absolute_error: 0.0012 - val_loss: 2.4572e-06 - val_mean_absolute_error: 0.0012 - 177ms/epoch - 7ms/step\n",
            "Epoch 111/500\n",
            " Train time0:00:23**best**-25/25 - 0s - loss: 3.1000e-06 - mean_absolute_error: 0.0013 - val_loss: 2.3628e-06 - val_mean_absolute_error: 0.0012 - 180ms/epoch - 7ms/step\n",
            "Epoch 112/500\n",
            " Train time0:00:23**best**-25/25 - 0s - loss: 2.7926e-06 - mean_absolute_error: 0.0012 - val_loss: 2.2711e-06 - val_mean_absolute_error: 0.0011 - 182ms/epoch - 7ms/step\n",
            "Epoch 113/500\n",
            " Train time0:00:23**best**-25/25 - 0s - loss: 2.5756e-06 - mean_absolute_error: 0.0012 - val_loss: 2.1849e-06 - val_mean_absolute_error: 0.0011 - 177ms/epoch - 7ms/step\n",
            "Epoch 114/500\n",
            " Train time0:00:23**best**-25/25 - 0s - loss: 2.4744e-06 - mean_absolute_error: 0.0012 - val_loss: 2.0000e-06 - val_mean_absolute_error: 0.0011 - 195ms/epoch - 8ms/step\n",
            "Epoch 115/500\n",
            " Train time0:00:23-25/25 - 0s - loss: 2.4847e-06 - mean_absolute_error: 0.0011 - val_loss: 2.2387e-06 - val_mean_absolute_error: 0.0011 - 142ms/epoch - 6ms/step\n",
            "Epoch 116/500\n",
            " Train time0:00:23-25/25 - 0s - loss: 3.1318e-06 - mean_absolute_error: 0.0012 - val_loss: 2.1318e-06 - val_mean_absolute_error: 0.0010 - 144ms/epoch - 6ms/step\n",
            "Epoch 117/500\n",
            " Train time0:00:24-25/25 - 0s - loss: 2.5825e-06 - mean_absolute_error: 0.0011 - val_loss: 2.3219e-06 - val_mean_absolute_error: 0.0011 - 142ms/epoch - 6ms/step\n",
            "Epoch 118/500\n",
            " Train time0:00:24**best**-25/25 - 0s - loss: 2.9626e-06 - mean_absolute_error: 0.0012 - val_loss: 1.7682e-06 - val_mean_absolute_error: 9.9916e-04 - 182ms/epoch - 7ms/step\n",
            "Epoch 119/500\n",
            " Train time0:00:24-25/25 - 0s - loss: 2.6864e-06 - mean_absolute_error: 0.0012 - val_loss: 1.8988e-06 - val_mean_absolute_error: 0.0010 - 148ms/epoch - 6ms/step\n",
            "Epoch 120/500\n",
            " Train time0:00:24-25/25 - 0s - loss: 2.2673e-06 - mean_absolute_error: 0.0011 - val_loss: 2.5323e-06 - val_mean_absolute_error: 0.0011 - 142ms/epoch - 6ms/step\n",
            "Epoch 121/500\n",
            " Train time0:00:24-25/25 - 0s - loss: 2.1604e-06 - mean_absolute_error: 0.0010 - val_loss: 1.9955e-06 - val_mean_absolute_error: 0.0010 - 145ms/epoch - 6ms/step\n",
            "Epoch 122/500\n",
            " Train time0:00:24-25/25 - 0s - loss: 2.3569e-06 - mean_absolute_error: 0.0011 - val_loss: 2.9098e-06 - val_mean_absolute_error: 0.0012 - 144ms/epoch - 6ms/step\n",
            "Epoch 123/500\n",
            " Train time0:00:25**best**-25/25 - 0s - loss: 2.1856e-06 - mean_absolute_error: 0.0010 - val_loss: 1.6628e-06 - val_mean_absolute_error: 9.3193e-04 - 180ms/epoch - 7ms/step\n",
            "Epoch 124/500\n",
            " Train time0:00:25**best**-25/25 - 0s - loss: 2.2094e-06 - mean_absolute_error: 0.0010 - val_loss: 1.6460e-06 - val_mean_absolute_error: 9.1272e-04 - 181ms/epoch - 7ms/step\n",
            "Epoch 125/500\n",
            " Train time0:00:25**best**-25/25 - 0s - loss: 2.0631e-06 - mean_absolute_error: 0.0010 - val_loss: 1.5847e-06 - val_mean_absolute_error: 9.2741e-04 - 178ms/epoch - 7ms/step\n",
            "Epoch 126/500\n",
            " Train time0:00:25**best**-25/25 - 0s - loss: 1.9551e-06 - mean_absolute_error: 9.7961e-04 - val_loss: 1.5347e-06 - val_mean_absolute_error: 8.9662e-04 - 187ms/epoch - 7ms/step\n",
            "Epoch 127/500\n",
            " Train time0:00:25**best**-25/25 - 0s - loss: 1.9857e-06 - mean_absolute_error: 9.9134e-04 - val_loss: 1.4441e-06 - val_mean_absolute_error: 8.8261e-04 - 177ms/epoch - 7ms/step\n",
            "Epoch 128/500\n",
            " Train time0:00:25-25/25 - 0s - loss: 1.8713e-06 - mean_absolute_error: 9.5922e-04 - val_loss: 1.4756e-06 - val_mean_absolute_error: 8.7035e-04 - 143ms/epoch - 6ms/step\n",
            "Epoch 129/500\n",
            " Train time0:00:26-25/25 - 0s - loss: 1.7966e-06 - mean_absolute_error: 9.4060e-04 - val_loss: 1.6462e-06 - val_mean_absolute_error: 8.9800e-04 - 143ms/epoch - 6ms/step\n",
            "Epoch 130/500\n",
            " Train time0:00:26**best**-25/25 - 0s - loss: 1.9570e-06 - mean_absolute_error: 9.7303e-04 - val_loss: 1.3424e-06 - val_mean_absolute_error: 8.4856e-04 - 180ms/epoch - 7ms/step\n",
            "Epoch 131/500\n",
            " Train time0:00:26**best**-25/25 - 0s - loss: 1.7321e-06 - mean_absolute_error: 9.1973e-04 - val_loss: 1.3145e-06 - val_mean_absolute_error: 8.3325e-04 - 186ms/epoch - 7ms/step\n",
            "Epoch 132/500\n",
            " Train time0:00:26**best**-25/25 - 0s - loss: 1.7088e-06 - mean_absolute_error: 9.1370e-04 - val_loss: 1.2547e-06 - val_mean_absolute_error: 8.1631e-04 - 193ms/epoch - 8ms/step\n",
            "Epoch 133/500\n",
            " Train time0:00:26-25/25 - 0s - loss: 2.1343e-06 - mean_absolute_error: 0.0010 - val_loss: 1.3844e-06 - val_mean_absolute_error: 8.1703e-04 - 145ms/epoch - 6ms/step\n",
            "Epoch 134/500\n",
            " Train time0:00:26-25/25 - 0s - loss: 1.5795e-06 - mean_absolute_error: 8.7295e-04 - val_loss: 1.2948e-06 - val_mean_absolute_error: 8.0211e-04 - 143ms/epoch - 6ms/step\n",
            "Epoch 135/500\n",
            " Train time0:00:27**best**-25/25 - 0s - loss: 1.6204e-06 - mean_absolute_error: 8.9136e-04 - val_loss: 1.1306e-06 - val_mean_absolute_error: 7.6239e-04 - 179ms/epoch - 7ms/step\n",
            "Epoch 136/500\n",
            " Train time0:00:27-25/25 - 0s - loss: 1.6044e-06 - mean_absolute_error: 8.7699e-04 - val_loss: 1.2113e-06 - val_mean_absolute_error: 7.9821e-04 - 143ms/epoch - 6ms/step\n",
            "Epoch 137/500\n",
            " Train time0:00:27-25/25 - 0s - loss: 2.2157e-06 - mean_absolute_error: 0.0010 - val_loss: 1.4044e-06 - val_mean_absolute_error: 8.2587e-04 - 143ms/epoch - 6ms/step\n",
            "Epoch 138/500\n",
            " Train time0:00:27-25/25 - 0s - loss: 1.5906e-06 - mean_absolute_error: 8.8507e-04 - val_loss: 1.1580e-06 - val_mean_absolute_error: 7.7198e-04 - 141ms/epoch - 6ms/step\n",
            "Epoch 139/500\n",
            " Train time0:00:27**best**-25/25 - 0s - loss: 1.5325e-06 - mean_absolute_error: 8.4969e-04 - val_loss: 1.0360e-06 - val_mean_absolute_error: 7.2538e-04 - 186ms/epoch - 7ms/step\n",
            "Epoch 140/500\n",
            " Train time0:00:27-25/25 - 0s - loss: 1.6752e-06 - mean_absolute_error: 8.8265e-04 - val_loss: 1.2871e-06 - val_mean_absolute_error: 7.8455e-04 - 147ms/epoch - 6ms/step\n",
            "Epoch 141/500\n",
            " Train time0:00:28-25/25 - 0s - loss: 1.4644e-06 - mean_absolute_error: 8.5294e-04 - val_loss: 1.1672e-06 - val_mean_absolute_error: 8.2517e-04 - 145ms/epoch - 6ms/step\n",
            "Epoch 142/500\n",
            " Train time0:00:28-25/25 - 0s - loss: 1.3981e-06 - mean_absolute_error: 8.2296e-04 - val_loss: 1.0509e-06 - val_mean_absolute_error: 7.3343e-04 - 143ms/epoch - 6ms/step\n",
            "Epoch 143/500\n",
            " Train time0:00:28-25/25 - 0s - loss: 1.5012e-06 - mean_absolute_error: 8.4466e-04 - val_loss: 2.1920e-06 - val_mean_absolute_error: 0.0011 - 147ms/epoch - 6ms/step\n",
            "Epoch 144/500\n",
            " Train time0:00:28-25/25 - 0s - loss: 1.4339e-06 - mean_absolute_error: 8.4068e-04 - val_loss: 1.2186e-06 - val_mean_absolute_error: 8.2874e-04 - 142ms/epoch - 6ms/step\n",
            "Epoch 145/500\n",
            " Train time0:00:28**best**-25/25 - 0s - loss: 1.4553e-06 - mean_absolute_error: 8.3439e-04 - val_loss: 9.5834e-07 - val_mean_absolute_error: 7.0080e-04 - 195ms/epoch - 8ms/step\n",
            "Epoch 146/500\n",
            " Train time0:00:28-25/25 - 0s - loss: 1.7351e-06 - mean_absolute_error: 8.9611e-04 - val_loss: 1.0302e-06 - val_mean_absolute_error: 7.4398e-04 - 144ms/epoch - 6ms/step\n",
            "Epoch 147/500\n",
            " Train time0:00:29-25/25 - 0s - loss: 1.5044e-06 - mean_absolute_error: 8.3992e-04 - val_loss: 1.0467e-06 - val_mean_absolute_error: 7.2152e-04 - 143ms/epoch - 6ms/step\n",
            "Epoch 148/500\n",
            " Train time0:00:29-25/25 - 0s - loss: 1.7742e-06 - mean_absolute_error: 9.2404e-04 - val_loss: 1.6468e-06 - val_mean_absolute_error: 8.9463e-04 - 140ms/epoch - 6ms/step\n",
            "Epoch 149/500\n",
            " Train time0:00:29-25/25 - 0s - loss: 1.8397e-06 - mean_absolute_error: 9.4331e-04 - val_loss: 1.1454e-06 - val_mean_absolute_error: 7.8207e-04 - 148ms/epoch - 6ms/step\n",
            "Epoch 150/500\n",
            " Train time0:00:29-25/25 - 0s - loss: 1.7113e-06 - mean_absolute_error: 9.0979e-04 - val_loss: 1.2044e-06 - val_mean_absolute_error: 8.1856e-04 - 145ms/epoch - 6ms/step\n",
            "Epoch 151/500\n",
            " Train time0:00:29-25/25 - 0s - loss: 1.8898e-06 - mean_absolute_error: 9.6567e-04 - val_loss: 3.7148e-06 - val_mean_absolute_error: 0.0015 - 141ms/epoch - 6ms/step\n",
            "Epoch 152/500\n",
            " Train time0:00:29-25/25 - 0s - loss: 2.4969e-06 - mean_absolute_error: 0.0011 - val_loss: 1.3511e-06 - val_mean_absolute_error: 8.7494e-04 - 163ms/epoch - 7ms/step\n",
            "Epoch 153/500\n",
            " Train time0:00:29**best**-25/25 - 0s - loss: 1.6069e-06 - mean_absolute_error: 8.9584e-04 - val_loss: 8.6971e-07 - val_mean_absolute_error: 6.6787e-04 - 182ms/epoch - 7ms/step\n",
            "Epoch 154/500\n",
            " Train time0:00:30-25/25 - 0s - loss: 1.4258e-06 - mean_absolute_error: 8.3272e-04 - val_loss: 9.4775e-07 - val_mean_absolute_error: 6.8400e-04 - 146ms/epoch - 6ms/step\n",
            "Epoch 155/500\n",
            " Train time0:00:30-25/25 - 0s - loss: 1.0899e-06 - mean_absolute_error: 7.4804e-04 - val_loss: 1.0413e-06 - val_mean_absolute_error: 7.4964e-04 - 143ms/epoch - 6ms/step\n",
            "Epoch 156/500\n",
            " Train time0:00:30-25/25 - 0s - loss: 1.4526e-06 - mean_absolute_error: 8.4597e-04 - val_loss: 1.6149e-06 - val_mean_absolute_error: 8.7059e-04 - 153ms/epoch - 6ms/step\n",
            "Epoch 157/500\n",
            " Train time0:00:30-25/25 - 0s - loss: 1.3743e-06 - mean_absolute_error: 8.2805e-04 - val_loss: 9.5433e-07 - val_mean_absolute_error: 6.8966e-04 - 146ms/epoch - 6ms/step\n",
            "Epoch 158/500\n",
            " Train time0:00:30-25/25 - 0s - loss: 1.4138e-06 - mean_absolute_error: 8.4112e-04 - val_loss: 2.0204e-06 - val_mean_absolute_error: 0.0011 - 143ms/epoch - 6ms/step\n",
            "Epoch 159/500\n",
            " Train time0:00:30-25/25 - 0s - loss: 1.7751e-06 - mean_absolute_error: 9.4521e-04 - val_loss: 1.1494e-06 - val_mean_absolute_error: 7.4062e-04 - 148ms/epoch - 6ms/step\n",
            "Epoch 160/500\n",
            " Train time0:00:31**best**-25/25 - 0s - loss: 1.3535e-06 - mean_absolute_error: 8.1739e-04 - val_loss: 7.7545e-07 - val_mean_absolute_error: 6.5966e-04 - 177ms/epoch - 7ms/step\n",
            "Epoch 161/500\n",
            " Train time0:00:31-25/25 - 0s - loss: 1.0416e-06 - mean_absolute_error: 7.3659e-04 - val_loss: 9.6062e-07 - val_mean_absolute_error: 7.2777e-04 - 147ms/epoch - 6ms/step\n",
            "Epoch 162/500\n",
            " Train time0:00:31-25/25 - 0s - loss: 2.0320e-06 - mean_absolute_error: 0.0010 - val_loss: 5.5492e-06 - val_mean_absolute_error: 0.0020 - 144ms/epoch - 6ms/step\n",
            "Epoch 163/500\n",
            " Train time0:00:31-25/25 - 0s - loss: 2.9361e-06 - mean_absolute_error: 0.0013 - val_loss: 2.3104e-06 - val_mean_absolute_error: 0.0011 - 143ms/epoch - 6ms/step\n",
            "Epoch 164/500\n",
            " Train time0:00:31**best**-25/25 - 0s - loss: 1.0734e-06 - mean_absolute_error: 7.5246e-04 - val_loss: 7.3083e-07 - val_mean_absolute_error: 6.3819e-04 - 178ms/epoch - 7ms/step\n",
            "Epoch 165/500\n",
            " Train time0:00:31-25/25 - 0s - loss: 1.4758e-06 - mean_absolute_error: 8.6857e-04 - val_loss: 2.3687e-06 - val_mean_absolute_error: 0.0012 - 145ms/epoch - 6ms/step\n",
            "Epoch 166/500\n",
            " Train time0:00:31**best**-25/25 - 0s - loss: 1.3785e-06 - mean_absolute_error: 8.5027e-04 - val_loss: 7.0222e-07 - val_mean_absolute_error: 6.2830e-04 - 176ms/epoch - 7ms/step\n",
            "Epoch 167/500\n",
            " Train time0:00:32-25/25 - 0s - loss: 1.3220e-06 - mean_absolute_error: 8.3288e-04 - val_loss: 8.3524e-07 - val_mean_absolute_error: 6.6785e-04 - 144ms/epoch - 6ms/step\n",
            "Epoch 168/500\n",
            " Train time0:00:32-25/25 - 0s - loss: 1.2759e-06 - mean_absolute_error: 8.2747e-04 - val_loss: 1.3740e-06 - val_mean_absolute_error: 8.8806e-04 - 146ms/epoch - 6ms/step\n",
            "Epoch 169/500\n",
            " Train time0:00:32-25/25 - 0s - loss: 1.2163e-06 - mean_absolute_error: 7.9881e-04 - val_loss: 8.3213e-07 - val_mean_absolute_error: 7.0059e-04 - 140ms/epoch - 6ms/step\n",
            "Epoch 170/500\n",
            " Train time0:00:32-25/25 - 0s - loss: 9.8867e-07 - mean_absolute_error: 7.3556e-04 - val_loss: 2.6658e-06 - val_mean_absolute_error: 0.0013 - 146ms/epoch - 6ms/step\n",
            "Epoch 171/500\n",
            " Train time0:00:32-25/25 - 0s - loss: 1.3389e-06 - mean_absolute_error: 8.2988e-04 - val_loss: 1.4747e-06 - val_mean_absolute_error: 8.8395e-04 - 142ms/epoch - 6ms/step\n",
            "Epoch 172/500\n",
            " Train time0:00:32-25/25 - 0s - loss: 1.9980e-06 - mean_absolute_error: 0.0010 - val_loss: 9.1984e-07 - val_mean_absolute_error: 7.2224e-04 - 154ms/epoch - 6ms/step\n",
            "Epoch 173/500\n",
            " Train time0:00:33-25/25 - 0s - loss: 1.1275e-06 - mean_absolute_error: 7.7413e-04 - val_loss: 7.2014e-07 - val_mean_absolute_error: 6.5780e-04 - 143ms/epoch - 6ms/step\n",
            "Epoch 174/500\n",
            " Train time0:00:33-25/25 - 0s - loss: 1.0833e-06 - mean_absolute_error: 7.6566e-04 - val_loss: 1.8757e-06 - val_mean_absolute_error: 0.0011 - 143ms/epoch - 6ms/step\n",
            "Epoch 175/500\n",
            " Train time0:00:33-25/25 - 0s - loss: 1.6115e-06 - mean_absolute_error: 9.1431e-04 - val_loss: 1.5161e-06 - val_mean_absolute_error: 8.7615e-04 - 145ms/epoch - 6ms/step\n",
            "Epoch 176/500\n",
            " Train time0:00:33-25/25 - 0s - loss: 3.2342e-06 - mean_absolute_error: 0.0013 - val_loss: 2.5653e-06 - val_mean_absolute_error: 0.0012 - 143ms/epoch - 6ms/step\n",
            "Epoch 177/500\n",
            " Train time0:00:33-25/25 - 0s - loss: 1.2964e-06 - mean_absolute_error: 8.2533e-04 - val_loss: 8.5064e-07 - val_mean_absolute_error: 6.9501e-04 - 141ms/epoch - 6ms/step\n",
            "Epoch 178/500\n",
            " Train time0:00:33**best**-25/25 - 0s - loss: 1.1109e-06 - mean_absolute_error: 7.8868e-04 - val_loss: 6.8098e-07 - val_mean_absolute_error: 6.5224e-04 - 180ms/epoch - 7ms/step\n",
            "Epoch 179/500\n",
            " Train time0:00:33-25/25 - 0s - loss: 1.2062e-06 - mean_absolute_error: 8.1086e-04 - val_loss: 9.3486e-07 - val_mean_absolute_error: 7.0631e-04 - 146ms/epoch - 6ms/step\n",
            "Epoch 180/500\n",
            " Train time0:00:34-25/25 - 0s - loss: 1.5939e-06 - mean_absolute_error: 9.2387e-04 - val_loss: 1.2122e-06 - val_mean_absolute_error: 8.0430e-04 - 144ms/epoch - 6ms/step\n",
            "Epoch 181/500\n",
            " Train time0:00:34-25/25 - 0s - loss: 1.1393e-06 - mean_absolute_error: 7.9633e-04 - val_loss: 6.8713e-07 - val_mean_absolute_error: 6.5391e-04 - 143ms/epoch - 6ms/step\n",
            "Epoch 182/500\n",
            " Train time0:00:34-25/25 - 0s - loss: 1.1731e-06 - mean_absolute_error: 8.0322e-04 - val_loss: 8.3154e-07 - val_mean_absolute_error: 6.8913e-04 - 146ms/epoch - 6ms/step\n",
            "Epoch 183/500\n",
            " Train time0:00:34-25/25 - 0s - loss: 1.4262e-06 - mean_absolute_error: 8.8461e-04 - val_loss: 1.7857e-06 - val_mean_absolute_error: 9.6182e-04 - 146ms/epoch - 6ms/step\n",
            "Epoch 184/500\n",
            " Train time0:00:34-25/25 - 0s - loss: 1.9865e-06 - mean_absolute_error: 0.0010 - val_loss: 5.8198e-06 - val_mean_absolute_error: 0.0020 - 144ms/epoch - 6ms/step\n",
            "Epoch 185/500\n",
            " Train time0:00:34-25/25 - 0s - loss: 4.0594e-06 - mean_absolute_error: 0.0015 - val_loss: 1.0528e-06 - val_mean_absolute_error: 7.8246e-04 - 150ms/epoch - 6ms/step\n",
            "Epoch 186/500\n",
            " Train time0:00:34-25/25 - 0s - loss: 1.4569e-06 - mean_absolute_error: 8.9965e-04 - val_loss: 7.1134e-07 - val_mean_absolute_error: 6.6573e-04 - 141ms/epoch - 6ms/step\n",
            "Epoch 187/500\n",
            " Train time0:00:35-25/25 - 0s - loss: 2.1958e-06 - mean_absolute_error: 0.0011 - val_loss: 3.6748e-06 - val_mean_absolute_error: 0.0015 - 141ms/epoch - 6ms/step\n",
            "Epoch 188/500\n",
            " Train time0:00:35-25/25 - 0s - loss: 3.8652e-06 - mean_absolute_error: 0.0015 - val_loss: 1.0086e-06 - val_mean_absolute_error: 7.1880e-04 - 152ms/epoch - 6ms/step\n",
            "Epoch 189/500\n",
            " Train time0:00:35-25/25 - 0s - loss: 9.0872e-07 - mean_absolute_error: 7.1682e-04 - val_loss: 1.7746e-06 - val_mean_absolute_error: 0.0010 - 146ms/epoch - 6ms/step\n",
            "Epoch 190/500\n",
            " Train time0:00:35-25/25 - 0s - loss: 1.1589e-06 - mean_absolute_error: 8.0662e-04 - val_loss: 7.1071e-07 - val_mean_absolute_error: 6.6441e-04 - 141ms/epoch - 6ms/step\n",
            "Epoch 191/500\n",
            " Train time0:00:35-25/25 - 0s - loss: 1.2594e-06 - mean_absolute_error: 8.3051e-04 - val_loss: 7.8214e-07 - val_mean_absolute_error: 6.8920e-04 - 147ms/epoch - 6ms/step\n",
            "Epoch 192/500\n",
            " Train time0:00:35-25/25 - 0s - loss: 1.1957e-06 - mean_absolute_error: 8.1219e-04 - val_loss: 6.8582e-07 - val_mean_absolute_error: 6.4337e-04 - 155ms/epoch - 6ms/step\n",
            "Epoch 193/500\n",
            " Train time0:00:36**best**-25/25 - 0s - loss: 1.1824e-06 - mean_absolute_error: 8.0580e-04 - val_loss: 6.7372e-07 - val_mean_absolute_error: 6.7751e-04 - 183ms/epoch - 7ms/step\n",
            "Epoch 194/500\n",
            " Train time0:00:36-25/25 - 0s - loss: 1.3045e-06 - mean_absolute_error: 8.4852e-04 - val_loss: 7.4168e-07 - val_mean_absolute_error: 6.6636e-04 - 144ms/epoch - 6ms/step\n",
            "Epoch 195/500\n",
            " Train time0:00:36-25/25 - 0s - loss: 1.6834e-06 - mean_absolute_error: 9.7699e-04 - val_loss: 1.1953e-06 - val_mean_absolute_error: 8.4813e-04 - 144ms/epoch - 6ms/step\n",
            "Epoch 196/500\n",
            " Train time0:00:36-25/25 - 0s - loss: 1.6633e-06 - mean_absolute_error: 9.6613e-04 - val_loss: 1.5454e-06 - val_mean_absolute_error: 0.0010 - 146ms/epoch - 6ms/step\n",
            "Epoch 197/500\n",
            " Train time0:00:36-25/25 - 0s - loss: 3.3275e-06 - mean_absolute_error: 0.0013 - val_loss: 1.5104e-06 - val_mean_absolute_error: 8.7242e-04 - 145ms/epoch - 6ms/step\n",
            "Epoch 198/500\n",
            " Train time0:00:36-25/25 - 0s - loss: 1.5097e-06 - mean_absolute_error: 9.2190e-04 - val_loss: 9.1347e-07 - val_mean_absolute_error: 7.4701e-04 - 141ms/epoch - 6ms/step\n",
            "Epoch 199/500\n",
            " Train time0:00:36-25/25 - 0s - loss: 2.0755e-06 - mean_absolute_error: 0.0010 - val_loss: 1.4745e-06 - val_mean_absolute_error: 8.9455e-04 - 147ms/epoch - 6ms/step\n",
            "Epoch 200/500\n",
            " Train time0:00:37-25/25 - 0s - loss: 2.7070e-06 - mean_absolute_error: 0.0013 - val_loss: 7.9920e-07 - val_mean_absolute_error: 6.6968e-04 - 141ms/epoch - 6ms/step\n",
            "Epoch 201/500\n",
            " Train time0:00:37-25/25 - 0s - loss: 2.4980e-06 - mean_absolute_error: 0.0012 - val_loss: 1.1106e-06 - val_mean_absolute_error: 7.7201e-04 - 144ms/epoch - 6ms/step\n",
            "Epoch 202/500\n",
            " Train time0:00:37-25/25 - 0s - loss: 3.6989e-06 - mean_absolute_error: 0.0015 - val_loss: 9.9981e-07 - val_mean_absolute_error: 7.5987e-04 - 143ms/epoch - 6ms/step\n",
            "Epoch 203/500\n",
            " Train time0:00:37-25/25 - 0s - loss: 9.5869e-07 - mean_absolute_error: 7.4596e-04 - val_loss: 7.8441e-07 - val_mean_absolute_error: 6.7135e-04 - 144ms/epoch - 6ms/step\n",
            "Epoch 204/500\n",
            " Train time0:00:37-25/25 - 0s - loss: 1.7237e-06 - mean_absolute_error: 9.7017e-04 - val_loss: 1.5132e-06 - val_mean_absolute_error: 9.1490e-04 - 143ms/epoch - 6ms/step\n",
            "Epoch 205/500\n",
            " Train time0:00:37-25/25 - 0s - loss: 1.9558e-06 - mean_absolute_error: 0.0010 - val_loss: 2.7879e-06 - val_mean_absolute_error: 0.0013 - 148ms/epoch - 6ms/step\n",
            "Epoch 206/500\n",
            " Train time0:00:37-25/25 - 0s - loss: 2.2651e-06 - mean_absolute_error: 0.0011 - val_loss: 4.3696e-06 - val_mean_absolute_error: 0.0016 - 152ms/epoch - 6ms/step\n",
            "Epoch 207/500\n",
            " Train time0:00:38-25/25 - 0s - loss: 4.9967e-06 - mean_absolute_error: 0.0016 - val_loss: 3.8938e-06 - val_mean_absolute_error: 0.0017 - 142ms/epoch - 6ms/step\n",
            "Epoch 208/500\n",
            " Train time0:00:38-25/25 - 0s - loss: 1.6419e-06 - mean_absolute_error: 9.4604e-04 - val_loss: 6.8533e-06 - val_mean_absolute_error: 0.0021 - 143ms/epoch - 6ms/step\n",
            "Epoch 209/500\n",
            " Train time0:00:38-25/25 - 0s - loss: 2.9379e-06 - mean_absolute_error: 0.0013 - val_loss: 2.0543e-06 - val_mean_absolute_error: 0.0012 - 147ms/epoch - 6ms/step\n",
            "Epoch 210/500\n",
            " Train time0:00:38-25/25 - 0s - loss: 2.2498e-06 - mean_absolute_error: 0.0011 - val_loss: 2.7735e-06 - val_mean_absolute_error: 0.0012 - 145ms/epoch - 6ms/step\n",
            "Epoch 211/500\n",
            " Train time0:00:38-25/25 - 0s - loss: 1.9304e-06 - mean_absolute_error: 0.0010 - val_loss: 6.9109e-07 - val_mean_absolute_error: 6.3548e-04 - 143ms/epoch - 6ms/step\n",
            "Epoch 212/500\n",
            " Train time0:00:38-25/25 - 0s - loss: 1.0520e-06 - mean_absolute_error: 7.6962e-04 - val_loss: 1.8744e-06 - val_mean_absolute_error: 0.0011 - 147ms/epoch - 6ms/step\n",
            "Epoch 213/500\n",
            " Train time0:00:39-25/25 - 0s - loss: 1.5061e-06 - mean_absolute_error: 9.2422e-04 - val_loss: 7.1099e-07 - val_mean_absolute_error: 6.8831e-04 - 157ms/epoch - 6ms/step\n",
            "Epoch 214/500\n",
            " Train time0:00:39-25/25 - 0s - loss: 1.2244e-06 - mean_absolute_error: 8.2615e-04 - val_loss: 1.3320e-06 - val_mean_absolute_error: 8.9667e-04 - 147ms/epoch - 6ms/step\n",
            "Epoch 215/500\n",
            " Train time0:00:39**best**-25/25 - 0s - loss: 1.5309e-06 - mean_absolute_error: 9.1017e-04 - val_loss: 6.1234e-07 - val_mean_absolute_error: 6.2598e-04 - 181ms/epoch - 7ms/step\n",
            "Epoch 216/500\n",
            " Train time0:00:39-25/25 - 0s - loss: 3.8796e-06 - mean_absolute_error: 0.0015 - val_loss: 1.1588e-05 - val_mean_absolute_error: 0.0030 - 145ms/epoch - 6ms/step\n",
            "Epoch 217/500\n",
            " Train time0:00:39-25/25 - 0s - loss: 3.6590e-06 - mean_absolute_error: 0.0014 - val_loss: 2.9782e-06 - val_mean_absolute_error: 0.0013 - 142ms/epoch - 6ms/step\n",
            "Epoch 218/500\n",
            " Train time0:00:39-25/25 - 0s - loss: 1.4949e-06 - mean_absolute_error: 9.1038e-04 - val_loss: 1.4825e-06 - val_mean_absolute_error: 9.2279e-04 - 145ms/epoch - 6ms/step\n",
            "Epoch 219/500\n",
            " Train time0:00:39**best**-25/25 - 0s - loss: 8.9196e-07 - mean_absolute_error: 7.1427e-04 - val_loss: 6.0044e-07 - val_mean_absolute_error: 5.9852e-04 - 186ms/epoch - 7ms/step\n",
            "Epoch 220/500\n",
            " Train time0:00:40-25/25 - 0s - loss: 4.6866e-06 - mean_absolute_error: 0.0016 - val_loss: 7.2499e-07 - val_mean_absolute_error: 6.4972e-04 - 144ms/epoch - 6ms/step\n",
            "Epoch 221/500\n",
            " Train time0:00:40-25/25 - 0s - loss: 2.6848e-06 - mean_absolute_error: 0.0012 - val_loss: 3.5670e-06 - val_mean_absolute_error: 0.0016 - 144ms/epoch - 6ms/step\n",
            "Epoch 222/500\n",
            " Train time0:00:40-25/25 - 0s - loss: 3.1840e-06 - mean_absolute_error: 0.0013 - val_loss: 1.0889e-05 - val_mean_absolute_error: 0.0028 - 144ms/epoch - 6ms/step\n",
            "Epoch 223/500\n",
            " Train time0:00:40-25/25 - 0s - loss: 9.0860e-06 - mean_absolute_error: 0.0023 - val_loss: 8.9639e-07 - val_mean_absolute_error: 6.8460e-04 - 144ms/epoch - 6ms/step\n",
            "Epoch 224/500\n",
            " Train time0:00:40-25/25 - 0s - loss: 6.5154e-06 - mean_absolute_error: 0.0019 - val_loss: 3.4861e-06 - val_mean_absolute_error: 0.0014 - 144ms/epoch - 6ms/step\n",
            "Epoch 225/500\n",
            " Train time0:00:40-25/25 - 0s - loss: 1.3880e-06 - mean_absolute_error: 8.6532e-04 - val_loss: 1.6163e-06 - val_mean_absolute_error: 0.0010 - 145ms/epoch - 6ms/step\n",
            "Epoch 226/500\n",
            " Train time0:00:41-25/25 - 0s - loss: 1.3249e-06 - mean_absolute_error: 8.6812e-04 - val_loss: 7.5501e-07 - val_mean_absolute_error: 6.8453e-04 - 143ms/epoch - 6ms/step\n",
            "Epoch 227/500\n",
            " Train time0:00:41-25/25 - 0s - loss: 1.0419e-06 - mean_absolute_error: 7.6299e-04 - val_loss: 1.4994e-06 - val_mean_absolute_error: 9.1168e-04 - 145ms/epoch - 6ms/step\n",
            "Epoch 228/500\n",
            " Train time0:00:41-25/25 - 0s - loss: 1.9773e-06 - mean_absolute_error: 0.0010 - val_loss: 2.4403e-06 - val_mean_absolute_error: 0.0013 - 144ms/epoch - 6ms/step\n",
            "Epoch 229/500\n",
            " Train time0:00:41-25/25 - 0s - loss: 6.0344e-06 - mean_absolute_error: 0.0018 - val_loss: 6.8861e-07 - val_mean_absolute_error: 6.3505e-04 - 144ms/epoch - 6ms/step\n",
            "Epoch 230/500\n",
            " Train time0:00:41-25/25 - 0s - loss: 3.2796e-06 - mean_absolute_error: 0.0014 - val_loss: 1.6312e-05 - val_mean_absolute_error: 0.0034 - 146ms/epoch - 6ms/step\n",
            "Epoch 231/500\n",
            " Train time0:00:41-25/25 - 0s - loss: 5.9974e-06 - mean_absolute_error: 0.0018 - val_loss: 2.1387e-06 - val_mean_absolute_error: 0.0011 - 143ms/epoch - 6ms/step\n",
            "Epoch 232/500\n",
            " Train time0:00:41**best**-25/25 - 0s - loss: 3.9480e-06 - mean_absolute_error: 0.0015 - val_loss: 5.9061e-07 - val_mean_absolute_error: 5.8136e-04 - 179ms/epoch - 7ms/step\n",
            "Epoch 233/500\n",
            " Train time0:00:42**best**-25/25 - 0s - loss: 1.1820e-06 - mean_absolute_error: 8.1058e-04 - val_loss: 5.6758e-07 - val_mean_absolute_error: 6.0038e-04 - 194ms/epoch - 8ms/step\n",
            "Epoch 234/500\n",
            " Train time0:00:42-25/25 - 0s - loss: 1.2955e-06 - mean_absolute_error: 8.3846e-04 - val_loss: 5.4510e-06 - val_mean_absolute_error: 0.0019 - 140ms/epoch - 6ms/step\n",
            "Epoch 235/500\n",
            " Train time0:00:42-25/25 - 0s - loss: 2.3156e-06 - mean_absolute_error: 0.0011 - val_loss: 1.1162e-06 - val_mean_absolute_error: 7.4761e-04 - 146ms/epoch - 6ms/step\n",
            "Epoch 236/500\n",
            " Train time0:00:42-25/25 - 0s - loss: 7.7349e-06 - mean_absolute_error: 0.0018 - val_loss: 2.3452e-05 - val_mean_absolute_error: 0.0043 - 142ms/epoch - 6ms/step\n",
            "Epoch 237/500\n",
            " Train time0:00:42-25/25 - 0s - loss: 6.3503e-06 - mean_absolute_error: 0.0019 - val_loss: 1.4125e-06 - val_mean_absolute_error: 9.6172e-04 - 150ms/epoch - 6ms/step\n",
            "Epoch 238/500\n",
            " Train time0:00:42-25/25 - 0s - loss: 1.6162e-06 - mean_absolute_error: 9.2401e-04 - val_loss: 6.2696e-06 - val_mean_absolute_error: 0.0022 - 142ms/epoch - 6ms/step\n",
            "Epoch 239/500\n",
            " Train time0:00:43-25/25 - 0s - loss: 2.1707e-06 - mean_absolute_error: 0.0011 - val_loss: 3.9253e-06 - val_mean_absolute_error: 0.0016 - 142ms/epoch - 6ms/step\n",
            "Epoch 240/500\n",
            " Train time0:00:43-25/25 - 0s - loss: 2.8970e-06 - mean_absolute_error: 0.0012 - val_loss: 1.2398e-06 - val_mean_absolute_error: 8.5928e-04 - 145ms/epoch - 6ms/step\n",
            "Epoch 241/500\n",
            " Train time0:00:43-25/25 - 0s - loss: 4.9658e-06 - mean_absolute_error: 0.0016 - val_loss: 8.4012e-07 - val_mean_absolute_error: 6.8563e-04 - 143ms/epoch - 6ms/step\n",
            "Epoch 242/500\n",
            " Train time0:00:43-25/25 - 0s - loss: 4.9505e-06 - mean_absolute_error: 0.0017 - val_loss: 1.2601e-05 - val_mean_absolute_error: 0.0032 - 144ms/epoch - 6ms/step\n",
            "Epoch 243/500\n",
            " Train time0:00:43-25/25 - 0s - loss: 5.7448e-06 - mean_absolute_error: 0.0019 - val_loss: 2.9510e-06 - val_mean_absolute_error: 0.0015 - 141ms/epoch - 6ms/step\n",
            "Epoch 244/500\n",
            " Train time0:00:43-25/25 - 0s - loss: 4.4655e-06 - mean_absolute_error: 0.0016 - val_loss: 8.8082e-07 - val_mean_absolute_error: 6.9184e-04 - 142ms/epoch - 6ms/step\n",
            "Epoch 245/500\n",
            " Train time0:00:43-25/25 - 0s - loss: 1.7035e-06 - mean_absolute_error: 9.6864e-04 - val_loss: 2.0827e-06 - val_mean_absolute_error: 0.0011 - 141ms/epoch - 6ms/step\n",
            "Epoch 246/500\n",
            " Train time0:00:44-25/25 - 0s - loss: 2.9082e-06 - mean_absolute_error: 0.0012 - val_loss: 5.7693e-06 - val_mean_absolute_error: 0.0021 - 149ms/epoch - 6ms/step\n",
            "Epoch 247/500\n",
            " Train time0:00:44-25/25 - 0s - loss: 5.7981e-06 - mean_absolute_error: 0.0018 - val_loss: 4.5942e-06 - val_mean_absolute_error: 0.0016 - 142ms/epoch - 6ms/step\n",
            "Epoch 248/500\n",
            " Train time0:00:44-25/25 - 0s - loss: 2.0300e-06 - mean_absolute_error: 9.9977e-04 - val_loss: 6.6452e-07 - val_mean_absolute_error: 5.9780e-04 - 143ms/epoch - 6ms/step\n",
            "Epoch 249/500\n",
            " Train time0:00:44**best**-25/25 - 0s - loss: 1.2891e-06 - mean_absolute_error: 8.3460e-04 - val_loss: 5.3605e-07 - val_mean_absolute_error: 5.8570e-04 - 179ms/epoch - 7ms/step\n",
            "Epoch 250/500\n",
            " Train time0:00:44-25/25 - 0s - loss: 1.5895e-06 - mean_absolute_error: 9.3294e-04 - val_loss: 8.5545e-07 - val_mean_absolute_error: 6.6386e-04 - 146ms/epoch - 6ms/step\n",
            "Epoch 251/500\n",
            " Train time0:00:44-25/25 - 0s - loss: 1.1073e-06 - mean_absolute_error: 7.7599e-04 - val_loss: 6.1857e-07 - val_mean_absolute_error: 6.2102e-04 - 144ms/epoch - 6ms/step\n",
            "Epoch 252/500\n",
            " Train time0:00:44-25/25 - 0s - loss: 2.1634e-06 - mean_absolute_error: 0.0011 - val_loss: 6.9071e-07 - val_mean_absolute_error: 6.1741e-04 - 146ms/epoch - 6ms/step\n",
            "Epoch 253/500\n",
            " Train time0:00:45-25/25 - 0s - loss: 1.7880e-06 - mean_absolute_error: 9.8727e-04 - val_loss: 2.3368e-06 - val_mean_absolute_error: 0.0013 - 156ms/epoch - 6ms/step\n",
            "Epoch 254/500\n",
            " Train time0:00:45-25/25 - 0s - loss: 1.3112e-05 - mean_absolute_error: 0.0026 - val_loss: 1.3625e-05 - val_mean_absolute_error: 0.0032 - 142ms/epoch - 6ms/step\n",
            "Epoch 255/500\n",
            " Train time0:00:45-25/25 - 0s - loss: 5.6173e-06 - mean_absolute_error: 0.0017 - val_loss: 2.7417e-06 - val_mean_absolute_error: 0.0012 - 146ms/epoch - 6ms/step\n",
            "Epoch 256/500\n",
            " Train time0:00:45-25/25 - 0s - loss: 5.3922e-06 - mean_absolute_error: 0.0018 - val_loss: 8.2531e-06 - val_mean_absolute_error: 0.0025 - 146ms/epoch - 6ms/step\n",
            "Epoch 257/500\n",
            " Train time0:00:45-25/25 - 0s - loss: 2.3195e-06 - mean_absolute_error: 0.0011 - val_loss: 1.2909e-06 - val_mean_absolute_error: 8.9318e-04 - 148ms/epoch - 6ms/step\n",
            "Epoch 258/500\n",
            " Train time0:00:45-25/25 - 0s - loss: 1.5861e-06 - mean_absolute_error: 9.2098e-04 - val_loss: 5.5863e-07 - val_mean_absolute_error: 5.7341e-04 - 148ms/epoch - 6ms/step\n",
            "Epoch 259/500\n",
            " Train time0:00:46-25/25 - 0s - loss: 1.5753e-06 - mean_absolute_error: 9.2748e-04 - val_loss: 3.4532e-06 - val_mean_absolute_error: 0.0015 - 144ms/epoch - 6ms/step\n",
            "Epoch 260/500\n",
            " Train time0:00:46-25/25 - 0s - loss: 2.0332e-06 - mean_absolute_error: 0.0011 - val_loss: 7.2947e-07 - val_mean_absolute_error: 6.3569e-04 - 141ms/epoch - 6ms/step\n",
            "Epoch 261/500\n",
            " Train time0:00:46-25/25 - 0s - loss: 3.3217e-06 - mean_absolute_error: 0.0013 - val_loss: 6.8324e-06 - val_mean_absolute_error: 0.0022 - 144ms/epoch - 6ms/step\n",
            "Epoch 262/500\n",
            " Train time0:00:46-25/25 - 0s - loss: 1.0435e-05 - mean_absolute_error: 0.0025 - val_loss: 1.0926e-05 - val_mean_absolute_error: 0.0027 - 143ms/epoch - 6ms/step\n",
            "Epoch 263/500\n",
            " Train time0:00:46-25/25 - 0s - loss: 4.3759e-06 - mean_absolute_error: 0.0015 - val_loss: 7.9980e-07 - val_mean_absolute_error: 7.2256e-04 - 147ms/epoch - 6ms/step\n",
            "Epoch 264/500\n",
            " Train time0:00:46-25/25 - 0s - loss: 1.2950e-06 - mean_absolute_error: 8.4585e-04 - val_loss: 7.8913e-06 - val_mean_absolute_error: 0.0024 - 147ms/epoch - 6ms/step\n",
            "Epoch 265/500\n",
            " Train time0:00:46-25/25 - 0s - loss: 3.0355e-06 - mean_absolute_error: 0.0013 - val_loss: 7.6615e-07 - val_mean_absolute_error: 6.2811e-04 - 141ms/epoch - 6ms/step\n",
            "Epoch 266/500\n",
            " Train time0:00:47-25/25 - 0s - loss: 9.3377e-07 - mean_absolute_error: 7.2032e-04 - val_loss: 2.5640e-06 - val_mean_absolute_error: 0.0012 - 140ms/epoch - 6ms/step\n",
            "Epoch 267/500\n",
            " Train time0:00:47-25/25 - 0s - loss: 1.3138e-06 - mean_absolute_error: 8.4041e-04 - val_loss: 2.1936e-06 - val_mean_absolute_error: 0.0012 - 159ms/epoch - 6ms/step\n",
            "Epoch 268/500\n",
            " Train time0:00:47-25/25 - 0s - loss: 2.5811e-06 - mean_absolute_error: 0.0012 - val_loss: 6.3950e-06 - val_mean_absolute_error: 0.0022 - 140ms/epoch - 6ms/step\n",
            "Epoch 269/500\n",
            " Train time0:00:47-25/25 - 0s - loss: 6.5892e-06 - mean_absolute_error: 0.0020 - val_loss: 1.1802e-06 - val_mean_absolute_error: 7.6103e-04 - 144ms/epoch - 6ms/step\n",
            "Epoch 270/500\n",
            " Train time0:00:47-25/25 - 0s - loss: 4.8633e-06 - mean_absolute_error: 0.0017 - val_loss: 8.6147e-07 - val_mean_absolute_error: 7.2990e-04 - 143ms/epoch - 6ms/step\n",
            "Epoch 271/500\n",
            " Train time0:00:47-25/25 - 0s - loss: 7.4899e-06 - mean_absolute_error: 0.0021 - val_loss: 7.8314e-07 - val_mean_absolute_error: 7.0539e-04 - 143ms/epoch - 6ms/step\n",
            "Epoch 272/500\n",
            " Train time0:00:47-25/25 - 0s - loss: 2.4352e-06 - mean_absolute_error: 0.0012 - val_loss: 3.0671e-06 - val_mean_absolute_error: 0.0015 - 143ms/epoch - 6ms/step\n",
            "Epoch 273/500\n",
            " Train time0:00:48-25/25 - 0s - loss: 4.1850e-06 - mean_absolute_error: 0.0015 - val_loss: 8.9620e-07 - val_mean_absolute_error: 7.4080e-04 - 143ms/epoch - 6ms/step\n",
            "Epoch 274/500\n",
            " Train time0:00:48-25/25 - 0s - loss: 2.0713e-05 - mean_absolute_error: 0.0034 - val_loss: 1.6650e-06 - val_mean_absolute_error: 9.8324e-04 - 162ms/epoch - 6ms/step\n",
            "Epoch 275/500\n",
            " Train time0:00:48**best**-25/25 - 0s - loss: 6.7098e-06 - mean_absolute_error: 0.0020 - val_loss: 4.7991e-07 - val_mean_absolute_error: 5.2397e-04 - 181ms/epoch - 7ms/step\n",
            "Epoch 276/500\n",
            " Train time0:00:48-25/25 - 0s - loss: 5.8138e-06 - mean_absolute_error: 0.0017 - val_loss: 5.6021e-06 - val_mean_absolute_error: 0.0019 - 150ms/epoch - 6ms/step\n",
            "Epoch 277/500\n",
            " Train time0:00:48-25/25 - 0s - loss: 4.8259e-06 - mean_absolute_error: 0.0017 - val_loss: 7.1419e-06 - val_mean_absolute_error: 0.0023 - 163ms/epoch - 7ms/step\n",
            "Epoch 278/500\n",
            " Train time0:00:48-25/25 - 0s - loss: 3.6460e-06 - mean_absolute_error: 0.0014 - val_loss: 7.7856e-06 - val_mean_absolute_error: 0.0024 - 153ms/epoch - 6ms/step\n",
            "Epoch 279/500\n",
            " Train time0:00:49-25/25 - 0s - loss: 1.0610e-05 - mean_absolute_error: 0.0025 - val_loss: 7.5671e-06 - val_mean_absolute_error: 0.0023 - 152ms/epoch - 6ms/step\n",
            "Epoch 280/500\n",
            " Train time0:00:49-25/25 - 0s - loss: 3.8662e-06 - mean_absolute_error: 0.0015 - val_loss: 8.5966e-07 - val_mean_absolute_error: 7.3177e-04 - 150ms/epoch - 6ms/step\n",
            "Epoch 281/500\n",
            " Train time0:00:49-25/25 - 0s - loss: 2.1394e-06 - mean_absolute_error: 0.0011 - val_loss: 5.4675e-06 - val_mean_absolute_error: 0.0020 - 144ms/epoch - 6ms/step\n",
            "Epoch 282/500\n",
            " Train time0:00:49-25/25 - 0s - loss: 6.3435e-06 - mean_absolute_error: 0.0019 - val_loss: 7.6654e-07 - val_mean_absolute_error: 6.7365e-04 - 143ms/epoch - 6ms/step\n",
            "Epoch 283/500\n",
            " Train time0:00:49-25/25 - 0s - loss: 4.1331e-06 - mean_absolute_error: 0.0015 - val_loss: 9.7081e-07 - val_mean_absolute_error: 7.7976e-04 - 152ms/epoch - 6ms/step\n",
            "Epoch 284/500\n",
            " Train time0:00:49-25/25 - 0s - loss: 2.4337e-06 - mean_absolute_error: 0.0012 - val_loss: 5.1691e-06 - val_mean_absolute_error: 0.0017 - 145ms/epoch - 6ms/step\n",
            "Epoch 285/500\n",
            " Train time0:00:49-25/25 - 0s - loss: 2.6502e-06 - mean_absolute_error: 0.0012 - val_loss: 3.9688e-06 - val_mean_absolute_error: 0.0017 - 156ms/epoch - 6ms/step\n",
            "Epoch 286/500\n",
            " Train time0:00:50-25/25 - 0s - loss: 4.4439e-06 - mean_absolute_error: 0.0016 - val_loss: 1.4750e-05 - val_mean_absolute_error: 0.0032 - 160ms/epoch - 6ms/step\n",
            "Epoch 287/500\n",
            " Train time0:00:50-25/25 - 0s - loss: 3.2397e-06 - mean_absolute_error: 0.0013 - val_loss: 5.0641e-07 - val_mean_absolute_error: 5.3230e-04 - 149ms/epoch - 6ms/step\n",
            "Epoch 288/500\n",
            " Train time0:00:50-25/25 - 0s - loss: 2.4732e-06 - mean_absolute_error: 0.0012 - val_loss: 2.8069e-06 - val_mean_absolute_error: 0.0015 - 143ms/epoch - 6ms/step\n",
            "Epoch 289/500\n",
            " Train time0:00:50-25/25 - 0s - loss: 2.1793e-06 - mean_absolute_error: 0.0011 - val_loss: 2.1596e-06 - val_mean_absolute_error: 0.0010 - 151ms/epoch - 6ms/step\n",
            "Epoch 290/500\n",
            " Train time0:00:50-25/25 - 0s - loss: 2.2875e-06 - mean_absolute_error: 0.0011 - val_loss: 6.6175e-07 - val_mean_absolute_error: 6.2612e-04 - 149ms/epoch - 6ms/step\n",
            "Epoch 291/500\n",
            " Train time0:00:50-25/25 - 0s - loss: 3.4917e-06 - mean_absolute_error: 0.0014 - val_loss: 4.1495e-06 - val_mean_absolute_error: 0.0015 - 152ms/epoch - 6ms/step\n",
            "Epoch 292/500\n",
            " Train time0:00:51-25/25 - 0s - loss: 8.9601e-06 - mean_absolute_error: 0.0022 - val_loss: 4.4908e-06 - val_mean_absolute_error: 0.0018 - 146ms/epoch - 6ms/step\n",
            "Epoch 293/500\n",
            " Train time0:00:51-25/25 - 0s - loss: 3.7762e-06 - mean_absolute_error: 0.0015 - val_loss: 1.9884e-06 - val_mean_absolute_error: 0.0011 - 158ms/epoch - 6ms/step\n",
            "Epoch 294/500\n",
            " Train time0:00:51-25/25 - 0s - loss: 4.4996e-06 - mean_absolute_error: 0.0016 - val_loss: 1.5404e-06 - val_mean_absolute_error: 9.0550e-04 - 149ms/epoch - 6ms/step\n",
            "Epoch 295/500\n",
            " Train time0:00:51**best**-25/25 - 0s - loss: 3.5456e-06 - mean_absolute_error: 0.0014 - val_loss: 4.6139e-07 - val_mean_absolute_error: 5.1955e-04 - 186ms/epoch - 7ms/step\n",
            "Epoch 296/500\n",
            " Train time0:00:51-25/25 - 0s - loss: 1.3903e-06 - mean_absolute_error: 8.8038e-04 - val_loss: 6.2550e-07 - val_mean_absolute_error: 5.7737e-04 - 149ms/epoch - 6ms/step\n",
            "Epoch 297/500\n",
            " Train time0:00:51-25/25 - 0s - loss: 7.4654e-07 - mean_absolute_error: 6.5439e-04 - val_loss: 9.1473e-07 - val_mean_absolute_error: 7.0444e-04 - 153ms/epoch - 6ms/step\n",
            "Epoch 298/500\n",
            " Train time0:00:52-25/25 - 0s - loss: 2.6942e-06 - mean_absolute_error: 0.0012 - val_loss: 9.1787e-06 - val_mean_absolute_error: 0.0027 - 167ms/epoch - 7ms/step\n",
            "Epoch 299/500\n",
            " Train time0:00:52**best**-25/25 - 0s - loss: 2.6035e-06 - mean_absolute_error: 0.0012 - val_loss: 4.0576e-07 - val_mean_absolute_error: 4.9317e-04 - 186ms/epoch - 7ms/step\n",
            "Epoch 300/500\n",
            " Train time0:00:52-25/25 - 0s - loss: 9.2185e-07 - mean_absolute_error: 7.1024e-04 - val_loss: 7.0371e-07 - val_mean_absolute_error: 6.3172e-04 - 163ms/epoch - 7ms/step\n",
            "Epoch 301/500\n",
            " Train time0:00:52-25/25 - 0s - loss: 1.2914e-06 - mean_absolute_error: 8.4358e-04 - val_loss: 9.7472e-07 - val_mean_absolute_error: 7.2788e-04 - 142ms/epoch - 6ms/step\n",
            "Epoch 302/500\n",
            " Train time0:00:52-25/25 - 0s - loss: 1.7188e-06 - mean_absolute_error: 9.6654e-04 - val_loss: 1.2138e-06 - val_mean_absolute_error: 8.1767e-04 - 150ms/epoch - 6ms/step\n",
            "Epoch 303/500\n",
            " Train time0:00:52-25/25 - 0s - loss: 9.5728e-07 - mean_absolute_error: 7.3380e-04 - val_loss: 4.9160e-07 - val_mean_absolute_error: 5.6079e-04 - 147ms/epoch - 6ms/step\n",
            "Epoch 304/500\n",
            " Train time0:00:52-25/25 - 0s - loss: 1.2860e-06 - mean_absolute_error: 8.4238e-04 - val_loss: 5.1250e-07 - val_mean_absolute_error: 5.7429e-04 - 145ms/epoch - 6ms/step\n",
            "Epoch 305/500\n",
            " Train time0:00:53-25/25 - 0s - loss: 1.2127e-06 - mean_absolute_error: 8.1866e-04 - val_loss: 1.7151e-06 - val_mean_absolute_error: 0.0010 - 158ms/epoch - 6ms/step\n",
            "Epoch 306/500\n",
            " Train time0:00:53-25/25 - 0s - loss: 5.7371e-06 - mean_absolute_error: 0.0018 - val_loss: 5.6693e-06 - val_mean_absolute_error: 0.0021 - 162ms/epoch - 6ms/step\n",
            "Epoch 307/500\n",
            " Train time0:00:53-25/25 - 0s - loss: 1.6580e-06 - mean_absolute_error: 9.1352e-04 - val_loss: 4.0048e-06 - val_mean_absolute_error: 0.0017 - 149ms/epoch - 6ms/step\n",
            "Epoch 308/500\n",
            " Train time0:00:53-25/25 - 0s - loss: 7.1640e-06 - mean_absolute_error: 0.0019 - val_loss: 3.9454e-06 - val_mean_absolute_error: 0.0017 - 149ms/epoch - 6ms/step\n",
            "Epoch 309/500\n",
            " Train time0:00:53-25/25 - 0s - loss: 2.2724e-06 - mean_absolute_error: 0.0011 - val_loss: 9.5585e-07 - val_mean_absolute_error: 8.0844e-04 - 144ms/epoch - 6ms/step\n",
            "Epoch 310/500\n",
            " Train time0:00:53-25/25 - 0s - loss: 1.3146e-05 - mean_absolute_error: 0.0026 - val_loss: 1.5978e-06 - val_mean_absolute_error: 0.0010 - 145ms/epoch - 6ms/step\n",
            "Epoch 311/500\n",
            " Train time0:00:54-25/25 - 0s - loss: 1.2188e-06 - mean_absolute_error: 8.2199e-04 - val_loss: 1.7948e-06 - val_mean_absolute_error: 0.0010 - 153ms/epoch - 6ms/step\n",
            "Epoch 312/500\n",
            " Train time0:00:54-25/25 - 0s - loss: 9.7721e-07 - mean_absolute_error: 7.2884e-04 - val_loss: 1.1772e-06 - val_mean_absolute_error: 8.0493e-04 - 149ms/epoch - 6ms/step\n",
            "Epoch 313/500\n",
            " Train time0:00:54-25/25 - 0s - loss: 7.5677e-06 - mean_absolute_error: 0.0017 - val_loss: 1.3660e-05 - val_mean_absolute_error: 0.0034 - 172ms/epoch - 7ms/step\n",
            "Epoch 314/500\n",
            " Train time0:00:54-25/25 - 0s - loss: 8.2999e-06 - mean_absolute_error: 0.0022 - val_loss: 1.1364e-06 - val_mean_absolute_error: 8.6907e-04 - 145ms/epoch - 6ms/step\n",
            "Epoch 315/500\n",
            " Train time0:00:54**best**-25/25 - 0s - loss: 2.5317e-06 - mean_absolute_error: 0.0011 - val_loss: 3.9837e-07 - val_mean_absolute_error: 4.9835e-04 - 186ms/epoch - 7ms/step\n",
            "Epoch 316/500\n",
            " Train time0:00:54-25/25 - 0s - loss: 2.5708e-06 - mean_absolute_error: 0.0012 - val_loss: 1.1683e-06 - val_mean_absolute_error: 8.5370e-04 - 154ms/epoch - 6ms/step\n",
            "Epoch 317/500\n",
            " Train time0:00:55-25/25 - 0s - loss: 2.2615e-06 - mean_absolute_error: 0.0011 - val_loss: 9.0693e-07 - val_mean_absolute_error: 7.3924e-04 - 154ms/epoch - 6ms/step\n",
            "Epoch 318/500\n",
            " Train time0:00:55-25/25 - 0s - loss: 7.4340e-06 - mean_absolute_error: 0.0018 - val_loss: 3.8301e-05 - val_mean_absolute_error: 0.0053 - 157ms/epoch - 6ms/step\n",
            "Epoch 319/500\n",
            " Train time0:00:55-25/25 - 0s - loss: 4.6536e-06 - mean_absolute_error: 0.0014 - val_loss: 5.1258e-07 - val_mean_absolute_error: 5.4814e-04 - 152ms/epoch - 6ms/step\n",
            "Epoch 320/500\n",
            " Train time0:00:55-25/25 - 0s - loss: 8.2038e-07 - mean_absolute_error: 6.8115e-04 - val_loss: 4.1069e-07 - val_mean_absolute_error: 4.9640e-04 - 154ms/epoch - 6ms/step\n",
            "Epoch 321/500\n",
            " Train time0:00:55-25/25 - 0s - loss: 1.0501e-06 - mean_absolute_error: 7.5732e-04 - val_loss: 4.1111e-06 - val_mean_absolute_error: 0.0016 - 157ms/epoch - 6ms/step\n",
            "Epoch 322/500\n",
            " Train time0:00:55-25/25 - 0s - loss: 1.1872e-06 - mean_absolute_error: 7.7109e-04 - val_loss: 4.4196e-07 - val_mean_absolute_error: 5.2789e-04 - 164ms/epoch - 7ms/step\n",
            "Epoch 323/500\n",
            " Train time0:00:55-25/25 - 0s - loss: 7.5184e-07 - mean_absolute_error: 6.3755e-04 - val_loss: 1.9791e-06 - val_mean_absolute_error: 0.0012 - 145ms/epoch - 6ms/step\n",
            "Epoch 324/500\n",
            " Train time0:00:56-25/25 - 0s - loss: 5.4386e-06 - mean_absolute_error: 0.0017 - val_loss: 2.7452e-05 - val_mean_absolute_error: 0.0045 - 149ms/epoch - 6ms/step\n",
            "Epoch 325/500\n",
            " Train time0:00:56-25/25 - 0s - loss: 1.0148e-05 - mean_absolute_error: 0.0023 - val_loss: 2.4366e-06 - val_mean_absolute_error: 0.0012 - 152ms/epoch - 6ms/step\n",
            "Epoch 326/500\n",
            " Train time0:00:56-25/25 - 0s - loss: 6.9975e-06 - mean_absolute_error: 0.0020 - val_loss: 7.4231e-07 - val_mean_absolute_error: 6.8019e-04 - 173ms/epoch - 7ms/step\n",
            "Epoch 327/500\n",
            " Train time0:00:56-25/25 - 0s - loss: 1.7921e-06 - mean_absolute_error: 9.8850e-04 - val_loss: 6.5364e-06 - val_mean_absolute_error: 0.0023 - 148ms/epoch - 6ms/step\n",
            "Epoch 328/500\n",
            " Train time0:00:56-25/25 - 0s - loss: 3.6478e-06 - mean_absolute_error: 0.0014 - val_loss: 2.2104e-06 - val_mean_absolute_error: 0.0012 - 145ms/epoch - 6ms/step\n",
            "Epoch 329/500\n",
            " Train time0:00:56-25/25 - 0s - loss: 2.6587e-06 - mean_absolute_error: 0.0012 - val_loss: 2.9543e-05 - val_mean_absolute_error: 0.0046 - 146ms/epoch - 6ms/step\n",
            "Epoch 330/500\n",
            " Train time0:00:57-25/25 - 0s - loss: 3.9078e-06 - mean_absolute_error: 0.0014 - val_loss: 4.5938e-07 - val_mean_absolute_error: 5.2564e-04 - 149ms/epoch - 6ms/step\n",
            "Epoch 331/500\n",
            " Train time0:00:57-25/25 - 0s - loss: 1.5481e-06 - mean_absolute_error: 9.4216e-04 - val_loss: 5.5183e-07 - val_mean_absolute_error: 5.6450e-04 - 163ms/epoch - 7ms/step\n",
            "Epoch 332/500\n",
            " Train time0:00:57-25/25 - 0s - loss: 1.1643e-06 - mean_absolute_error: 7.5785e-04 - val_loss: 2.1164e-06 - val_mean_absolute_error: 0.0013 - 164ms/epoch - 7ms/step\n",
            "Epoch 333/500\n",
            " Train time0:00:57-25/25 - 0s - loss: 1.6696e-05 - mean_absolute_error: 0.0031 - val_loss: 1.8388e-05 - val_mean_absolute_error: 0.0037 - 149ms/epoch - 6ms/step\n",
            "Epoch 334/500\n",
            " Train time0:00:57-25/25 - 0s - loss: 6.5515e-06 - mean_absolute_error: 0.0019 - val_loss: 1.1509e-06 - val_mean_absolute_error: 8.0201e-04 - 151ms/epoch - 6ms/step\n",
            "Epoch 335/500\n",
            " Train time0:00:57-25/25 - 0s - loss: 1.4011e-06 - mean_absolute_error: 8.6984e-04 - val_loss: 1.1165e-06 - val_mean_absolute_error: 8.8147e-04 - 167ms/epoch - 7ms/step\n",
            "Epoch 336/500\n",
            " Train time0:00:58-25/25 - 0s - loss: 1.4603e-06 - mean_absolute_error: 8.7240e-04 - val_loss: 1.3480e-06 - val_mean_absolute_error: 9.2769e-04 - 164ms/epoch - 7ms/step\n",
            "Epoch 337/500\n",
            " Train time0:00:58-25/25 - 0s - loss: 4.7505e-06 - mean_absolute_error: 0.0016 - val_loss: 3.3576e-06 - val_mean_absolute_error: 0.0014 - 161ms/epoch - 6ms/step\n",
            "Epoch 338/500\n",
            " Train time0:00:58-25/25 - 0s - loss: 1.3529e-06 - mean_absolute_error: 8.4385e-04 - val_loss: 6.1766e-06 - val_mean_absolute_error: 0.0021 - 157ms/epoch - 6ms/step\n",
            "Epoch 339/500\n",
            " Train time0:00:58-25/25 - 0s - loss: 4.2132e-06 - mean_absolute_error: 0.0016 - val_loss: 2.4996e-06 - val_mean_absolute_error: 0.0012 - 161ms/epoch - 6ms/step\n",
            "Epoch 340/500\n",
            " Train time0:00:58-25/25 - 0s - loss: 2.9701e-06 - mean_absolute_error: 0.0013 - val_loss: 1.0757e-05 - val_mean_absolute_error: 0.0027 - 157ms/epoch - 6ms/step\n",
            "Epoch 341/500\n",
            " Train time0:00:58-25/25 - 0s - loss: 6.7923e-06 - mean_absolute_error: 0.0021 - val_loss: 4.8301e-06 - val_mean_absolute_error: 0.0019 - 151ms/epoch - 6ms/step\n",
            "Epoch 342/500\n",
            " Train time0:00:59**best**-25/25 - 0s - loss: 3.3168e-06 - mean_absolute_error: 0.0014 - val_loss: 3.6846e-07 - val_mean_absolute_error: 4.6731e-04 - 190ms/epoch - 8ms/step\n",
            "Epoch 343/500\n",
            " Train time0:00:59-25/25 - 0s - loss: 2.9962e-06 - mean_absolute_error: 0.0013 - val_loss: 3.8158e-07 - val_mean_absolute_error: 4.7606e-04 - 181ms/epoch - 7ms/step\n",
            "Epoch 344/500\n",
            " Train time0:00:59-25/25 - 0s - loss: 1.1484e-05 - mean_absolute_error: 0.0026 - val_loss: 9.6889e-06 - val_mean_absolute_error: 0.0025 - 167ms/epoch - 7ms/step\n",
            "Epoch 345/500\n",
            " Train time0:00:59-25/25 - 0s - loss: 9.5293e-06 - mean_absolute_error: 0.0023 - val_loss: 1.6701e-06 - val_mean_absolute_error: 0.0012 - 148ms/epoch - 6ms/step\n",
            "Epoch 346/500\n",
            " Train time0:00:59-25/25 - 0s - loss: 2.6310e-06 - mean_absolute_error: 0.0012 - val_loss: 7.5387e-06 - val_mean_absolute_error: 0.0025 - 146ms/epoch - 6ms/step\n",
            "Epoch 347/500\n",
            " Train time0:00:59-25/25 - 0s - loss: 3.0446e-06 - mean_absolute_error: 0.0013 - val_loss: 6.1008e-07 - val_mean_absolute_error: 6.0389e-04 - 150ms/epoch - 6ms/step\n",
            "Epoch 348/500\n",
            " Train time0:01:00-25/25 - 0s - loss: 2.6431e-06 - mean_absolute_error: 0.0012 - val_loss: 6.1430e-06 - val_mean_absolute_error: 0.0021 - 147ms/epoch - 6ms/step\n",
            "Epoch 349/500\n",
            " Train time0:01:00-25/25 - 0s - loss: 1.3304e-05 - mean_absolute_error: 0.0028 - val_loss: 8.9174e-06 - val_mean_absolute_error: 0.0028 - 147ms/epoch - 6ms/step\n",
            "Epoch 350/500\n",
            " Train time0:01:00-25/25 - 0s - loss: 4.5846e-06 - mean_absolute_error: 0.0015 - val_loss: 7.1486e-07 - val_mean_absolute_error: 6.1782e-04 - 150ms/epoch - 6ms/step\n",
            "Epoch 351/500\n",
            " Train time0:01:00**best**-25/25 - 0s - loss: 1.0991e-06 - mean_absolute_error: 7.5948e-04 - val_loss: 3.6809e-07 - val_mean_absolute_error: 4.6625e-04 - 207ms/epoch - 8ms/step\n",
            "Epoch 352/500\n",
            " Train time0:01:00-25/25 - 0s - loss: 1.6039e-06 - mean_absolute_error: 9.0354e-04 - val_loss: 1.0737e-05 - val_mean_absolute_error: 0.0028 - 164ms/epoch - 7ms/step\n",
            "Epoch 353/500\n",
            " Train time0:01:00-25/25 - 0s - loss: 7.8141e-06 - mean_absolute_error: 0.0021 - val_loss: 4.0595e-07 - val_mean_absolute_error: 5.0700e-04 - 169ms/epoch - 7ms/step\n",
            "Epoch 354/500\n",
            " Train time0:01:01-25/25 - 0s - loss: 1.2522e-06 - mean_absolute_error: 8.0502e-04 - val_loss: 1.6811e-06 - val_mean_absolute_error: 9.9099e-04 - 155ms/epoch - 6ms/step\n",
            "Epoch 355/500\n",
            " Train time0:01:01-25/25 - 0s - loss: 4.7441e-06 - mean_absolute_error: 0.0016 - val_loss: 1.4291e-05 - val_mean_absolute_error: 0.0033 - 155ms/epoch - 6ms/step\n",
            "Epoch 356/500\n",
            " Train time0:01:01-25/25 - 0s - loss: 3.4235e-06 - mean_absolute_error: 0.0013 - val_loss: 5.3997e-07 - val_mean_absolute_error: 5.7937e-04 - 159ms/epoch - 6ms/step\n",
            "Epoch 357/500\n",
            " Train time0:01:01-25/25 - 0s - loss: 1.7189e-06 - mean_absolute_error: 9.7352e-04 - val_loss: 1.2380e-06 - val_mean_absolute_error: 8.8124e-04 - 163ms/epoch - 7ms/step\n",
            "Epoch 358/500\n",
            " Train time0:01:01-25/25 - 0s - loss: 3.4197e-06 - mean_absolute_error: 0.0014 - val_loss: 2.3261e-06 - val_mean_absolute_error: 0.0012 - 153ms/epoch - 6ms/step\n",
            "Epoch 359/500\n",
            " Train time0:01:01-25/25 - 0s - loss: 2.1618e-06 - mean_absolute_error: 0.0011 - val_loss: 4.0221e-07 - val_mean_absolute_error: 4.9428e-04 - 156ms/epoch - 6ms/step\n",
            "Epoch 360/500\n",
            " Train time0:01:01-25/25 - 0s - loss: 1.4809e-06 - mean_absolute_error: 9.0619e-04 - val_loss: 1.0425e-06 - val_mean_absolute_error: 7.6752e-04 - 144ms/epoch - 6ms/step\n",
            "Epoch 361/500\n",
            " Train time0:01:02-25/25 - 0s - loss: 9.9521e-07 - mean_absolute_error: 7.3465e-04 - val_loss: 4.5020e-07 - val_mean_absolute_error: 5.2673e-04 - 144ms/epoch - 6ms/step\n",
            "Epoch 362/500\n",
            " Train time0:01:02**best**-25/25 - 0s - loss: 3.4820e-06 - mean_absolute_error: 0.0013 - val_loss: 3.5561e-07 - val_mean_absolute_error: 4.5860e-04 - 190ms/epoch - 8ms/step\n",
            "Epoch 363/500\n",
            " Train time0:01:02-25/25 - 0s - loss: 1.5649e-06 - mean_absolute_error: 8.8856e-04 - val_loss: 7.0400e-06 - val_mean_absolute_error: 0.0022 - 154ms/epoch - 6ms/step\n",
            "Epoch 364/500\n",
            " Train time0:01:02-25/25 - 0s - loss: 3.0039e-06 - mean_absolute_error: 0.0013 - val_loss: 4.7657e-06 - val_mean_absolute_error: 0.0018 - 153ms/epoch - 6ms/step\n",
            "Epoch 365/500\n",
            " Train time0:01:02-25/25 - 0s - loss: 5.2126e-06 - mean_absolute_error: 0.0016 - val_loss: 3.6527e-06 - val_mean_absolute_error: 0.0014 - 145ms/epoch - 6ms/step\n",
            "Epoch 366/500\n",
            " Train time0:01:02-25/25 - 0s - loss: 1.0280e-05 - mean_absolute_error: 0.0025 - val_loss: 1.7552e-06 - val_mean_absolute_error: 0.0010 - 147ms/epoch - 6ms/step\n",
            "Epoch 367/500\n",
            " Train time0:01:03-25/25 - 0s - loss: 2.4111e-06 - mean_absolute_error: 0.0012 - val_loss: 5.8572e-07 - val_mean_absolute_error: 5.6275e-04 - 146ms/epoch - 6ms/step\n",
            "Epoch 368/500\n",
            " Train time0:01:03-25/25 - 0s - loss: 8.4195e-07 - mean_absolute_error: 6.9982e-04 - val_loss: 9.2867e-07 - val_mean_absolute_error: 7.3472e-04 - 144ms/epoch - 6ms/step\n",
            "Epoch 369/500\n",
            " Train time0:01:03-25/25 - 0s - loss: 3.0507e-06 - mean_absolute_error: 0.0012 - val_loss: 1.8247e-06 - val_mean_absolute_error: 0.0011 - 146ms/epoch - 6ms/step\n",
            "Epoch 370/500\n",
            " Train time0:01:03-25/25 - 0s - loss: 2.5805e-06 - mean_absolute_error: 0.0013 - val_loss: 1.9927e-05 - val_mean_absolute_error: 0.0041 - 166ms/epoch - 7ms/step\n",
            "Epoch 371/500\n",
            " Train time0:01:03-25/25 - 0s - loss: 3.2271e-05 - mean_absolute_error: 0.0039 - val_loss: 5.3219e-06 - val_mean_absolute_error: 0.0020 - 149ms/epoch - 6ms/step\n",
            "Epoch 372/500\n",
            " Train time0:01:03-25/25 - 0s - loss: 3.8327e-05 - mean_absolute_error: 0.0044 - val_loss: 1.1995e-05 - val_mean_absolute_error: 0.0031 - 146ms/epoch - 6ms/step\n",
            "Epoch 373/500\n",
            " Train time0:01:04-25/25 - 0s - loss: 6.9610e-06 - mean_absolute_error: 0.0020 - val_loss: 9.8394e-06 - val_mean_absolute_error: 0.0028 - 149ms/epoch - 6ms/step\n",
            "Epoch 374/500\n",
            " Train time0:01:04-25/25 - 0s - loss: 6.0388e-06 - mean_absolute_error: 0.0019 - val_loss: 3.0902e-06 - val_mean_absolute_error: 0.0015 - 146ms/epoch - 6ms/step\n",
            "Epoch 375/500\n",
            " Train time0:01:04-25/25 - 0s - loss: 1.3328e-06 - mean_absolute_error: 8.2475e-04 - val_loss: 6.4792e-07 - val_mean_absolute_error: 5.7073e-04 - 147ms/epoch - 6ms/step\n",
            "Epoch 376/500\n",
            " Train time0:01:04-25/25 - 0s - loss: 8.0092e-07 - mean_absolute_error: 6.5634e-04 - val_loss: 4.3576e-07 - val_mean_absolute_error: 5.2033e-04 - 150ms/epoch - 6ms/step\n",
            "Epoch 377/500\n",
            " Train time0:01:04-25/25 - 0s - loss: 7.5577e-07 - mean_absolute_error: 6.2894e-04 - val_loss: 6.3480e-07 - val_mean_absolute_error: 5.7052e-04 - 145ms/epoch - 6ms/step\n",
            "Epoch 378/500\n",
            " Train time0:01:04-25/25 - 0s - loss: 9.5862e-07 - mean_absolute_error: 7.3497e-04 - val_loss: 4.0727e-07 - val_mean_absolute_error: 4.6641e-04 - 148ms/epoch - 6ms/step\n",
            "Epoch 379/500\n",
            " Train time0:01:04-25/25 - 0s - loss: 1.1923e-06 - mean_absolute_error: 7.9737e-04 - val_loss: 9.7095e-07 - val_mean_absolute_error: 7.4389e-04 - 149ms/epoch - 6ms/step\n",
            "Epoch 380/500\n",
            " Train time0:01:05-25/25 - 0s - loss: 2.8854e-06 - mean_absolute_error: 0.0012 - val_loss: 3.1071e-06 - val_mean_absolute_error: 0.0013 - 146ms/epoch - 6ms/step\n",
            "Epoch 381/500\n",
            " Train time0:01:05-25/25 - 0s - loss: 1.6361e-06 - mean_absolute_error: 9.1294e-04 - val_loss: 9.1393e-07 - val_mean_absolute_error: 7.1575e-04 - 146ms/epoch - 6ms/step\n",
            "Epoch 382/500\n",
            " Train time0:01:05-25/25 - 0s - loss: 7.8577e-07 - mean_absolute_error: 6.5926e-04 - val_loss: 4.6667e-07 - val_mean_absolute_error: 5.0009e-04 - 150ms/epoch - 6ms/step\n",
            "Epoch 383/500\n",
            " Train time0:01:05-25/25 - 0s - loss: 7.4358e-07 - mean_absolute_error: 6.3087e-04 - val_loss: 9.0642e-07 - val_mean_absolute_error: 7.5664e-04 - 146ms/epoch - 6ms/step\n",
            "Epoch 384/500\n",
            " Train time0:01:05-25/25 - 0s - loss: 9.4353e-07 - mean_absolute_error: 6.9751e-04 - val_loss: 2.6768e-06 - val_mean_absolute_error: 0.0012 - 156ms/epoch - 6ms/step\n",
            "Epoch 385/500\n",
            " Train time0:01:05-25/25 - 0s - loss: 2.6421e-06 - mean_absolute_error: 0.0012 - val_loss: 4.9982e-06 - val_mean_absolute_error: 0.0019 - 150ms/epoch - 6ms/step\n",
            "Epoch 386/500\n",
            " Train time0:01:05-25/25 - 0s - loss: 2.6937e-06 - mean_absolute_error: 0.0012 - val_loss: 1.9562e-06 - val_mean_absolute_error: 0.0011 - 150ms/epoch - 6ms/step\n",
            "Epoch 387/500\n",
            " Train time0:01:06-25/25 - 0s - loss: 3.3155e-06 - mean_absolute_error: 0.0013 - val_loss: 5.0109e-06 - val_mean_absolute_error: 0.0019 - 149ms/epoch - 6ms/step\n",
            "Epoch 388/500\n",
            " Train time0:01:06-25/25 - 0s - loss: 9.9971e-06 - mean_absolute_error: 0.0024 - val_loss: 4.6768e-07 - val_mean_absolute_error: 4.9907e-04 - 147ms/epoch - 6ms/step\n",
            "Epoch 389/500\n",
            " Train time0:01:06-25/25 - 0s - loss: 4.2772e-06 - mean_absolute_error: 0.0015 - val_loss: 1.6639e-06 - val_mean_absolute_error: 0.0011 - 148ms/epoch - 6ms/step\n",
            "Epoch 390/500\n",
            " Train time0:01:06-25/25 - 0s - loss: 1.3904e-06 - mean_absolute_error: 8.6795e-04 - val_loss: 6.9448e-07 - val_mean_absolute_error: 6.1582e-04 - 165ms/epoch - 7ms/step\n",
            "Epoch 391/500\n",
            " Train time0:01:06-25/25 - 0s - loss: 1.1477e-06 - mean_absolute_error: 8.0161e-04 - val_loss: 1.3538e-06 - val_mean_absolute_error: 8.9570e-04 - 146ms/epoch - 6ms/step\n",
            "Epoch 392/500\n",
            " Train time0:01:06-25/25 - 0s - loss: 4.6698e-06 - mean_absolute_error: 0.0016 - val_loss: 3.5894e-06 - val_mean_absolute_error: 0.0016 - 149ms/epoch - 6ms/step\n",
            "Epoch 393/500\n",
            " Train time0:01:07-25/25 - 0s - loss: 1.3531e-06 - mean_absolute_error: 8.5424e-04 - val_loss: 4.3605e-07 - val_mean_absolute_error: 5.1430e-04 - 152ms/epoch - 6ms/step\n",
            "Epoch 394/500\n",
            " Train time0:01:07-25/25 - 0s - loss: 1.5038e-06 - mean_absolute_error: 8.5247e-04 - val_loss: 4.4969e-07 - val_mean_absolute_error: 5.4556e-04 - 157ms/epoch - 6ms/step\n",
            "Epoch 395/500\n",
            " Train time0:01:07-25/25 - 0s - loss: 7.6539e-07 - mean_absolute_error: 6.2583e-04 - val_loss: 8.4615e-07 - val_mean_absolute_error: 7.8612e-04 - 155ms/epoch - 6ms/step\n",
            "Epoch 396/500\n",
            " Train time0:01:07-25/25 - 0s - loss: 1.7008e-06 - mean_absolute_error: 8.8111e-04 - val_loss: 5.6283e-07 - val_mean_absolute_error: 5.8493e-04 - 157ms/epoch - 6ms/step\n",
            "Epoch 397/500\n",
            " Train time0:01:07-25/25 - 0s - loss: 2.3018e-06 - mean_absolute_error: 0.0010 - val_loss: 9.3512e-07 - val_mean_absolute_error: 7.6022e-04 - 160ms/epoch - 6ms/step\n",
            "Epoch 398/500\n",
            " Train time0:01:07-25/25 - 0s - loss: 4.3038e-06 - mean_absolute_error: 0.0015 - val_loss: 4.4140e-06 - val_mean_absolute_error: 0.0016 - 156ms/epoch - 6ms/step\n",
            "Epoch 399/500\n",
            " Train time0:01:08-25/25 - 0s - loss: 1.2219e-05 - mean_absolute_error: 0.0026 - val_loss: 1.0304e-05 - val_mean_absolute_error: 0.0030 - 155ms/epoch - 6ms/step\n",
            "Epoch 400/500\n",
            " Train time0:01:08-25/25 - 0s - loss: 1.0886e-05 - mean_absolute_error: 0.0025 - val_loss: 1.0799e-06 - val_mean_absolute_error: 7.3375e-04 - 150ms/epoch - 6ms/step\n",
            "Epoch 401/500\n",
            " Train time0:01:08-25/25 - 0s - loss: 2.8930e-06 - mean_absolute_error: 0.0014 - val_loss: 1.2216e-06 - val_mean_absolute_error: 9.0087e-04 - 152ms/epoch - 6ms/step\n",
            "Epoch 402/500\n",
            " Train time0:01:08-25/25 - 0s - loss: 1.8314e-06 - mean_absolute_error: 0.0010 - val_loss: 6.1953e-07 - val_mean_absolute_error: 6.2917e-04 - 162ms/epoch - 6ms/step\n",
            "Epoch 403/500\n",
            " Train time0:01:08-25/25 - 0s - loss: 9.1594e-06 - mean_absolute_error: 0.0022 - val_loss: 3.3701e-06 - val_mean_absolute_error: 0.0016 - 142ms/epoch - 6ms/step\n",
            "Epoch 404/500\n",
            " Train time0:01:08-25/25 - 0s - loss: 1.0850e-05 - mean_absolute_error: 0.0025 - val_loss: 8.2805e-07 - val_mean_absolute_error: 6.7805e-04 - 149ms/epoch - 6ms/step\n",
            "Epoch 405/500\n",
            " Train time0:01:08-25/25 - 0s - loss: 3.4376e-06 - mean_absolute_error: 0.0013 - val_loss: 1.0181e-06 - val_mean_absolute_error: 8.5126e-04 - 163ms/epoch - 7ms/step\n",
            "Epoch 406/500\n",
            " Train time0:01:09-25/25 - 0s - loss: 9.3191e-07 - mean_absolute_error: 7.1595e-04 - val_loss: 3.9533e-07 - val_mean_absolute_error: 4.7753e-04 - 150ms/epoch - 6ms/step\n",
            "Epoch 407/500\n",
            " Train time0:01:09-25/25 - 0s - loss: 1.0734e-06 - mean_absolute_error: 7.7258e-04 - val_loss: 2.8834e-06 - val_mean_absolute_error: 0.0014 - 146ms/epoch - 6ms/step\n",
            "Epoch 408/500\n",
            " Train time0:01:09-25/25 - 0s - loss: 3.0449e-06 - mean_absolute_error: 0.0013 - val_loss: 6.3799e-06 - val_mean_absolute_error: 0.0020 - 150ms/epoch - 6ms/step\n",
            "Epoch 409/500\n",
            " Train time0:01:09-25/25 - 0s - loss: 1.3698e-06 - mean_absolute_error: 8.1984e-04 - val_loss: 3.9045e-07 - val_mean_absolute_error: 4.7367e-04 - 149ms/epoch - 6ms/step\n",
            "Epoch 410/500\n",
            " Train time0:01:09-25/25 - 0s - loss: 2.3040e-06 - mean_absolute_error: 0.0011 - val_loss: 4.1729e-06 - val_mean_absolute_error: 0.0017 - 173ms/epoch - 7ms/step\n",
            "Epoch 411/500\n",
            " Train time0:01:09-25/25 - 0s - loss: 1.3046e-06 - mean_absolute_error: 8.3999e-04 - val_loss: 1.8440e-06 - val_mean_absolute_error: 0.0011 - 162ms/epoch - 6ms/step\n",
            "Epoch 412/500\n",
            " Train time0:01:10-25/25 - 0s - loss: 8.7255e-07 - mean_absolute_error: 7.0600e-04 - val_loss: 2.8424e-06 - val_mean_absolute_error: 0.0014 - 151ms/epoch - 6ms/step\n",
            "Epoch 413/500\n",
            " Train time0:01:10-25/25 - 0s - loss: 7.0162e-07 - mean_absolute_error: 6.1166e-04 - val_loss: 7.3848e-07 - val_mean_absolute_error: 6.3751e-04 - 152ms/epoch - 6ms/step\n",
            "Epoch 414/500\n",
            " Train time0:01:10**best**-25/25 - 0s - loss: 9.0084e-07 - mean_absolute_error: 7.1196e-04 - val_loss: 3.3981e-07 - val_mean_absolute_error: 4.5617e-04 - 195ms/epoch - 8ms/step\n",
            "Epoch 415/500\n",
            " Train time0:01:10**best**-25/25 - 0s - loss: 6.5547e-07 - mean_absolute_error: 5.9603e-04 - val_loss: 3.3458e-07 - val_mean_absolute_error: 4.5663e-04 - 196ms/epoch - 8ms/step\n",
            "Epoch 416/500\n",
            " Train time0:01:10-25/25 - 0s - loss: 2.1042e-06 - mean_absolute_error: 9.7545e-04 - val_loss: 2.0010e-05 - val_mean_absolute_error: 0.0039 - 150ms/epoch - 6ms/step\n",
            "Epoch 417/500\n",
            " Train time0:01:10-25/25 - 0s - loss: 7.1624e-06 - mean_absolute_error: 0.0020 - val_loss: 9.6980e-06 - val_mean_absolute_error: 0.0024 - 150ms/epoch - 6ms/step\n",
            "Epoch 418/500\n",
            " Train time0:01:11-25/25 - 0s - loss: 2.9695e-06 - mean_absolute_error: 0.0013 - val_loss: 2.4803e-06 - val_mean_absolute_error: 0.0014 - 147ms/epoch - 6ms/step\n",
            "Epoch 419/500\n",
            " Train time0:01:11-25/25 - 0s - loss: 1.5193e-06 - mean_absolute_error: 8.9939e-04 - val_loss: 7.8829e-07 - val_mean_absolute_error: 6.8702e-04 - 148ms/epoch - 6ms/step\n",
            "Epoch 420/500\n",
            " Train time0:01:11-25/25 - 0s - loss: 1.2770e-06 - mean_absolute_error: 8.6247e-04 - val_loss: 7.8291e-07 - val_mean_absolute_error: 7.0070e-04 - 149ms/epoch - 6ms/step\n",
            "Epoch 421/500\n",
            " Train time0:01:11-25/25 - 0s - loss: 1.8099e-06 - mean_absolute_error: 9.7876e-04 - val_loss: 3.6793e-06 - val_mean_absolute_error: 0.0016 - 147ms/epoch - 6ms/step\n",
            "Epoch 422/500\n",
            " Train time0:01:11-25/25 - 0s - loss: 4.0829e-06 - mean_absolute_error: 0.0016 - val_loss: 1.3232e-06 - val_mean_absolute_error: 8.7534e-04 - 151ms/epoch - 6ms/step\n",
            "Epoch 423/500\n",
            " Train time0:01:11-25/25 - 0s - loss: 5.2980e-06 - mean_absolute_error: 0.0018 - val_loss: 3.0015e-06 - val_mean_absolute_error: 0.0016 - 157ms/epoch - 6ms/step\n",
            "Epoch 424/500\n",
            " Train time0:01:11-25/25 - 0s - loss: 1.2893e-06 - mean_absolute_error: 8.4989e-04 - val_loss: 4.6361e-07 - val_mean_absolute_error: 4.9112e-04 - 152ms/epoch - 6ms/step\n",
            "Epoch 425/500\n",
            " Train time0:01:12-25/25 - 0s - loss: 1.4660e-06 - mean_absolute_error: 8.0516e-04 - val_loss: 8.2048e-06 - val_mean_absolute_error: 0.0025 - 153ms/epoch - 6ms/step\n",
            "Epoch 426/500\n",
            " Train time0:01:12-25/25 - 0s - loss: 1.9658e-06 - mean_absolute_error: 9.8112e-04 - val_loss: 4.0554e-07 - val_mean_absolute_error: 5.2724e-04 - 145ms/epoch - 6ms/step\n",
            "Epoch 427/500\n",
            " Train time0:01:12-25/25 - 0s - loss: 2.9401e-06 - mean_absolute_error: 0.0012 - val_loss: 2.2483e-06 - val_mean_absolute_error: 0.0011 - 148ms/epoch - 6ms/step\n",
            "Epoch 428/500\n",
            " Train time0:01:12-25/25 - 0s - loss: 7.6444e-06 - mean_absolute_error: 0.0020 - val_loss: 8.3487e-07 - val_mean_absolute_error: 6.6499e-04 - 149ms/epoch - 6ms/step\n",
            "Epoch 429/500\n",
            " Train time0:01:12-25/25 - 0s - loss: 1.6146e-06 - mean_absolute_error: 9.4197e-04 - val_loss: 5.9150e-06 - val_mean_absolute_error: 0.0020 - 165ms/epoch - 7ms/step\n",
            "Epoch 430/500\n",
            " Train time0:01:12-25/25 - 0s - loss: 3.1449e-06 - mean_absolute_error: 0.0014 - val_loss: 5.0735e-07 - val_mean_absolute_error: 5.5333e-04 - 150ms/epoch - 6ms/step\n",
            "Epoch 431/500\n",
            " Train time0:01:13-25/25 - 0s - loss: 6.9424e-06 - mean_absolute_error: 0.0020 - val_loss: 1.1349e-05 - val_mean_absolute_error: 0.0028 - 151ms/epoch - 6ms/step\n",
            "Epoch 432/500\n",
            " Train time0:01:13-25/25 - 0s - loss: 2.3280e-06 - mean_absolute_error: 0.0011 - val_loss: 7.8088e-07 - val_mean_absolute_error: 6.7959e-04 - 149ms/epoch - 6ms/step\n",
            "Epoch 433/500\n",
            " Train time0:01:13-25/25 - 0s - loss: 1.3010e-06 - mean_absolute_error: 8.2432e-04 - val_loss: 2.1569e-06 - val_mean_absolute_error: 0.0011 - 148ms/epoch - 6ms/step\n",
            "Epoch 434/500\n",
            " Train time0:01:13-25/25 - 0s - loss: 1.9470e-06 - mean_absolute_error: 0.0010 - val_loss: 3.1487e-06 - val_mean_absolute_error: 0.0015 - 150ms/epoch - 6ms/step\n",
            "Epoch 435/500\n",
            " Train time0:01:13-25/25 - 0s - loss: 3.2539e-06 - mean_absolute_error: 0.0014 - val_loss: 1.3549e-05 - val_mean_absolute_error: 0.0033 - 149ms/epoch - 6ms/step\n",
            "Epoch 436/500\n",
            " Train time0:01:13-25/25 - 0s - loss: 1.6620e-06 - mean_absolute_error: 8.9443e-04 - val_loss: 6.1415e-07 - val_mean_absolute_error: 5.6666e-04 - 152ms/epoch - 6ms/step\n",
            "Epoch 437/500\n",
            " Train time0:01:13-25/25 - 0s - loss: 1.9987e-06 - mean_absolute_error: 9.8225e-04 - val_loss: 5.1172e-07 - val_mean_absolute_error: 5.6679e-04 - 148ms/epoch - 6ms/step\n",
            "Epoch 438/500\n",
            " Train time0:01:14-25/25 - 0s - loss: 6.6535e-06 - mean_absolute_error: 0.0018 - val_loss: 4.8774e-07 - val_mean_absolute_error: 5.0905e-04 - 146ms/epoch - 6ms/step\n",
            "Epoch 439/500\n",
            " Train time0:01:14-25/25 - 0s - loss: 1.0703e-06 - mean_absolute_error: 7.3186e-04 - val_loss: 1.9851e-06 - val_mean_absolute_error: 0.0012 - 154ms/epoch - 6ms/step\n",
            "Epoch 440/500\n",
            " Train time0:01:14-25/25 - 0s - loss: 2.5439e-06 - mean_absolute_error: 0.0012 - val_loss: 7.1997e-07 - val_mean_absolute_error: 6.4952e-04 - 147ms/epoch - 6ms/step\n",
            "Epoch 441/500\n",
            " Train time0:01:14-25/25 - 0s - loss: 1.2062e-06 - mean_absolute_error: 7.9260e-04 - val_loss: 3.5709e-07 - val_mean_absolute_error: 4.6129e-04 - 148ms/epoch - 6ms/step\n",
            "Epoch 442/500\n",
            " Train time0:01:14-25/25 - 0s - loss: 8.2713e-07 - mean_absolute_error: 6.7307e-04 - val_loss: 3.1415e-06 - val_mean_absolute_error: 0.0014 - 149ms/epoch - 6ms/step\n",
            "Epoch 443/500\n",
            " Train time0:01:14-25/25 - 0s - loss: 2.6084e-06 - mean_absolute_error: 0.0012 - val_loss: 2.5519e-06 - val_mean_absolute_error: 0.0012 - 162ms/epoch - 6ms/step\n",
            "Epoch 444/500\n",
            " Train time0:01:15-25/25 - 0s - loss: 3.7934e-05 - mean_absolute_error: 0.0044 - val_loss: 2.3166e-05 - val_mean_absolute_error: 0.0035 - 145ms/epoch - 6ms/step\n",
            "Epoch 445/500\n",
            " Train time0:01:15-25/25 - 0s - loss: 2.0959e-05 - mean_absolute_error: 0.0034 - val_loss: 7.6180e-06 - val_mean_absolute_error: 0.0025 - 147ms/epoch - 6ms/step\n",
            "Epoch 446/500\n",
            " Train time0:01:15-25/25 - 0s - loss: 3.1768e-06 - mean_absolute_error: 0.0013 - val_loss: 9.4892e-07 - val_mean_absolute_error: 8.1742e-04 - 153ms/epoch - 6ms/step\n",
            "Epoch 447/500\n",
            " Train time0:01:15-25/25 - 0s - loss: 4.7349e-07 - mean_absolute_error: 5.0171e-04 - val_loss: 5.3810e-07 - val_mean_absolute_error: 5.3352e-04 - 144ms/epoch - 6ms/step\n",
            "Epoch 448/500\n",
            " Train time0:01:15-25/25 - 0s - loss: 1.7613e-06 - mean_absolute_error: 9.8333e-04 - val_loss: 3.6227e-07 - val_mean_absolute_error: 4.7118e-04 - 147ms/epoch - 6ms/step\n",
            "Epoch 449/500\n",
            " Train time0:01:15-25/25 - 0s - loss: 1.3441e-06 - mean_absolute_error: 8.6574e-04 - val_loss: 1.8131e-06 - val_mean_absolute_error: 0.0012 - 165ms/epoch - 7ms/step\n",
            "Epoch 450/500\n",
            " Train time0:01:15-25/25 - 0s - loss: 3.8389e-06 - mean_absolute_error: 0.0015 - val_loss: 1.0828e-05 - val_mean_absolute_error: 0.0031 - 151ms/epoch - 6ms/step\n",
            "Epoch 451/500\n",
            " Train time0:01:16-25/25 - 0s - loss: 5.5286e-06 - mean_absolute_error: 0.0018 - val_loss: 1.4444e-06 - val_mean_absolute_error: 0.0010 - 148ms/epoch - 6ms/step\n",
            "Epoch 452/500\n",
            " Train time0:01:16-25/25 - 0s - loss: 5.3316e-07 - mean_absolute_error: 5.4240e-04 - val_loss: 3.5773e-07 - val_mean_absolute_error: 4.5993e-04 - 151ms/epoch - 6ms/step\n",
            "Epoch 453/500\n",
            " Train time0:01:16-25/25 - 0s - loss: 5.6192e-07 - mean_absolute_error: 5.4780e-04 - val_loss: 5.2838e-07 - val_mean_absolute_error: 5.9185e-04 - 147ms/epoch - 6ms/step\n",
            "Epoch 454/500\n",
            " Train time0:01:16-25/25 - 0s - loss: 4.9944e-07 - mean_absolute_error: 5.2514e-04 - val_loss: 1.0858e-06 - val_mean_absolute_error: 7.4790e-04 - 155ms/epoch - 6ms/step\n",
            "Epoch 455/500\n",
            " Train time0:01:16-25/25 - 0s - loss: 1.1722e-06 - mean_absolute_error: 7.8923e-04 - val_loss: 1.1541e-06 - val_mean_absolute_error: 8.2838e-04 - 154ms/epoch - 6ms/step\n",
            "Epoch 456/500\n",
            " Train time0:01:16**best**-25/25 - 0s - loss: 9.3596e-07 - mean_absolute_error: 7.1421e-04 - val_loss: 2.7870e-07 - val_mean_absolute_error: 3.9847e-04 - 183ms/epoch - 7ms/step\n",
            "Epoch 457/500\n",
            " Train time0:01:17-25/25 - 0s - loss: 1.5966e-06 - mean_absolute_error: 9.3637e-04 - val_loss: 4.3649e-06 - val_mean_absolute_error: 0.0018 - 143ms/epoch - 6ms/step\n",
            "Epoch 458/500\n",
            " Train time0:01:17-25/25 - 0s - loss: 2.1391e-06 - mean_absolute_error: 0.0011 - val_loss: 3.5744e-06 - val_mean_absolute_error: 0.0014 - 142ms/epoch - 6ms/step\n",
            "Epoch 459/500\n",
            " Train time0:01:17-25/25 - 0s - loss: 1.5764e-06 - mean_absolute_error: 9.1793e-04 - val_loss: 4.8834e-07 - val_mean_absolute_error: 5.5253e-04 - 145ms/epoch - 6ms/step\n",
            "Epoch 460/500\n",
            " Train time0:01:17-25/25 - 0s - loss: 8.8279e-07 - mean_absolute_error: 7.1353e-04 - val_loss: 3.2987e-07 - val_mean_absolute_error: 4.3722e-04 - 146ms/epoch - 6ms/step\n",
            "Epoch 461/500\n",
            " Train time0:01:17-25/25 - 0s - loss: 5.3734e-07 - mean_absolute_error: 5.5075e-04 - val_loss: 1.5560e-06 - val_mean_absolute_error: 0.0011 - 145ms/epoch - 6ms/step\n",
            "Epoch 462/500\n",
            " Train time0:01:17-25/25 - 0s - loss: 8.0811e-07 - mean_absolute_error: 6.7842e-04 - val_loss: 6.1014e-07 - val_mean_absolute_error: 5.8016e-04 - 144ms/epoch - 6ms/step\n",
            "Epoch 463/500\n",
            " Train time0:01:17-25/25 - 0s - loss: 1.4880e-06 - mean_absolute_error: 8.6149e-04 - val_loss: 4.4850e-06 - val_mean_absolute_error: 0.0018 - 141ms/epoch - 6ms/step\n",
            "Epoch 464/500\n",
            " Train time0:01:18-25/25 - 0s - loss: 4.2781e-06 - mean_absolute_error: 0.0016 - val_loss: 1.0921e-06 - val_mean_absolute_error: 8.2404e-04 - 142ms/epoch - 6ms/step\n",
            "Epoch 465/500\n",
            " Train time0:01:18-25/25 - 0s - loss: 2.3469e-06 - mean_absolute_error: 0.0011 - val_loss: 1.0185e-06 - val_mean_absolute_error: 8.2609e-04 - 143ms/epoch - 6ms/step\n",
            "Epoch 466/500\n",
            " Train time0:01:18-25/25 - 0s - loss: 1.3714e-06 - mean_absolute_error: 8.7650e-04 - val_loss: 1.3194e-06 - val_mean_absolute_error: 0.0010 - 142ms/epoch - 6ms/step\n",
            "Epoch 467/500\n",
            " Train time0:01:18-25/25 - 0s - loss: 1.6248e-05 - mean_absolute_error: 0.0030 - val_loss: 4.4737e-05 - val_mean_absolute_error: 0.0055 - 147ms/epoch - 6ms/step\n",
            "Epoch 468/500\n",
            " Train time0:01:18-25/25 - 0s - loss: 1.1977e-05 - mean_absolute_error: 0.0025 - val_loss: 1.6468e-06 - val_mean_absolute_error: 0.0010 - 143ms/epoch - 6ms/step\n",
            "Epoch 469/500\n",
            " Train time0:01:18-25/25 - 0s - loss: 4.0406e-06 - mean_absolute_error: 0.0016 - val_loss: 1.9076e-06 - val_mean_absolute_error: 0.0010 - 157ms/epoch - 6ms/step\n",
            "Epoch 470/500\n",
            " Train time0:01:19-25/25 - 0s - loss: 2.1689e-05 - mean_absolute_error: 0.0035 - val_loss: 1.8535e-05 - val_mean_absolute_error: 0.0041 - 147ms/epoch - 6ms/step\n",
            "Epoch 471/500\n",
            " Train time0:01:19-25/25 - 0s - loss: 1.1909e-05 - mean_absolute_error: 0.0027 - val_loss: 5.0177e-06 - val_mean_absolute_error: 0.0017 - 154ms/epoch - 6ms/step\n",
            "Epoch 472/500\n",
            " Train time0:01:19-25/25 - 0s - loss: 1.8117e-06 - mean_absolute_error: 8.8376e-04 - val_loss: 6.7024e-07 - val_mean_absolute_error: 5.7691e-04 - 143ms/epoch - 6ms/step\n",
            "Epoch 473/500\n",
            " Train time0:01:19-25/25 - 0s - loss: 9.5460e-07 - mean_absolute_error: 6.9290e-04 - val_loss: 1.4738e-06 - val_mean_absolute_error: 0.0011 - 144ms/epoch - 6ms/step\n",
            "Epoch 474/500\n",
            " Train time0:01:19-25/25 - 0s - loss: 2.0199e-06 - mean_absolute_error: 0.0011 - val_loss: 3.9447e-07 - val_mean_absolute_error: 4.5163e-04 - 144ms/epoch - 6ms/step\n",
            "Epoch 475/500\n",
            " Train time0:01:19-25/25 - 0s - loss: 3.6817e-06 - mean_absolute_error: 0.0015 - val_loss: 6.5535e-06 - val_mean_absolute_error: 0.0020 - 145ms/epoch - 6ms/step\n",
            "Epoch 476/500\n",
            " Train time0:01:19-25/25 - 0s - loss: 7.6419e-06 - mean_absolute_error: 0.0021 - val_loss: 1.2680e-05 - val_mean_absolute_error: 0.0032 - 142ms/epoch - 6ms/step\n",
            "Epoch 477/500\n",
            " Train time0:01:20-25/25 - 0s - loss: 6.7999e-06 - mean_absolute_error: 0.0021 - val_loss: 4.2745e-06 - val_mean_absolute_error: 0.0019 - 142ms/epoch - 6ms/step\n",
            "Epoch 478/500\n",
            " Train time0:01:20-25/25 - 0s - loss: 7.3384e-06 - mean_absolute_error: 0.0021 - val_loss: 3.4347e-06 - val_mean_absolute_error: 0.0014 - 140ms/epoch - 6ms/step\n",
            "Epoch 479/500\n",
            " Train time0:01:20-25/25 - 0s - loss: 1.1348e-05 - mean_absolute_error: 0.0024 - val_loss: 3.0155e-06 - val_mean_absolute_error: 0.0014 - 144ms/epoch - 6ms/step\n",
            "Epoch 480/500\n",
            " Train time0:01:20-25/25 - 0s - loss: 6.4468e-06 - mean_absolute_error: 0.0019 - val_loss: 1.0658e-06 - val_mean_absolute_error: 8.3270e-04 - 143ms/epoch - 6ms/step\n",
            "Epoch 481/500\n",
            " Train time0:01:20-25/25 - 0s - loss: 1.1255e-06 - mean_absolute_error: 7.9573e-04 - val_loss: 4.6021e-07 - val_mean_absolute_error: 5.2876e-04 - 143ms/epoch - 6ms/step\n",
            "Epoch 482/500\n",
            " Train time0:01:20-25/25 - 0s - loss: 5.3380e-07 - mean_absolute_error: 5.3989e-04 - val_loss: 1.1303e-06 - val_mean_absolute_error: 7.7085e-04 - 142ms/epoch - 6ms/step\n",
            "Epoch 483/500\n",
            " Train time0:01:20-25/25 - 0s - loss: 5.9561e-07 - mean_absolute_error: 5.6510e-04 - val_loss: 3.6940e-07 - val_mean_absolute_error: 4.7764e-04 - 151ms/epoch - 6ms/step\n",
            "Epoch 484/500\n",
            " Train time0:01:21-25/25 - 0s - loss: 5.6958e-07 - mean_absolute_error: 5.6531e-04 - val_loss: 4.8055e-07 - val_mean_absolute_error: 5.7022e-04 - 143ms/epoch - 6ms/step\n",
            "Epoch 485/500\n",
            " Train time0:01:21-25/25 - 0s - loss: 8.2946e-07 - mean_absolute_error: 6.6230e-04 - val_loss: 2.6353e-06 - val_mean_absolute_error: 0.0014 - 143ms/epoch - 6ms/step\n",
            "Epoch 486/500\n",
            " Train time0:01:21-25/25 - 0s - loss: 1.4070e-06 - mean_absolute_error: 8.6855e-04 - val_loss: 3.9155e-07 - val_mean_absolute_error: 4.5866e-04 - 144ms/epoch - 6ms/step\n",
            "Epoch 487/500\n",
            " Train time0:01:21-25/25 - 0s - loss: 6.3606e-07 - mean_absolute_error: 5.8341e-04 - val_loss: 4.2426e-07 - val_mean_absolute_error: 5.0585e-04 - 144ms/epoch - 6ms/step\n",
            "Epoch 488/500\n",
            " Train time0:01:21-25/25 - 0s - loss: 2.1176e-06 - mean_absolute_error: 0.0011 - val_loss: 2.1855e-06 - val_mean_absolute_error: 0.0010 - 146ms/epoch - 6ms/step\n",
            "Epoch 489/500\n",
            " Train time0:01:21-25/25 - 0s - loss: 1.4279e-06 - mean_absolute_error: 8.1463e-04 - val_loss: 4.7765e-06 - val_mean_absolute_error: 0.0018 - 143ms/epoch - 6ms/step\n",
            "Epoch 490/500\n",
            " Train time0:01:21-25/25 - 0s - loss: 1.7453e-06 - mean_absolute_error: 0.0010 - val_loss: 8.4422e-07 - val_mean_absolute_error: 7.0980e-04 - 154ms/epoch - 6ms/step\n",
            "Epoch 491/500\n",
            " Train time0:01:22-25/25 - 0s - loss: 9.4032e-07 - mean_absolute_error: 7.4265e-04 - val_loss: 1.6889e-06 - val_mean_absolute_error: 0.0011 - 144ms/epoch - 6ms/step\n",
            "Epoch 492/500\n",
            " Train time0:01:22-25/25 - 0s - loss: 1.5318e-06 - mean_absolute_error: 9.3395e-04 - val_loss: 4.6316e-07 - val_mean_absolute_error: 5.2966e-04 - 141ms/epoch - 6ms/step\n",
            "Epoch 493/500\n",
            " Train time0:01:22-25/25 - 0s - loss: 1.2074e-06 - mean_absolute_error: 8.0450e-04 - val_loss: 6.3619e-06 - val_mean_absolute_error: 0.0023 - 145ms/epoch - 6ms/step\n",
            "Epoch 494/500\n",
            " Train time0:01:22-25/25 - 0s - loss: 3.4723e-06 - mean_absolute_error: 0.0015 - val_loss: 1.7709e-06 - val_mean_absolute_error: 0.0011 - 143ms/epoch - 6ms/step\n",
            "Epoch 495/500\n",
            " Train time0:01:22-25/25 - 0s - loss: 8.1327e-07 - mean_absolute_error: 6.2875e-04 - val_loss: 4.5476e-07 - val_mean_absolute_error: 5.4256e-04 - 145ms/epoch - 6ms/step\n",
            "Epoch 496/500\n",
            " Train time0:01:22**best**-25/25 - 0s - loss: 4.3272e-07 - mean_absolute_error: 4.9695e-04 - val_loss: 2.1296e-07 - val_mean_absolute_error: 3.6161e-04 - 181ms/epoch - 7ms/step\n",
            "Epoch 497/500\n",
            " Train time0:01:23-25/25 - 0s - loss: 1.1414e-06 - mean_absolute_error: 7.7203e-04 - val_loss: 2.5667e-07 - val_mean_absolute_error: 3.9465e-04 - 142ms/epoch - 6ms/step\n",
            "Epoch 498/500\n",
            " Train time0:01:23-25/25 - 0s - loss: 1.2252e-06 - mean_absolute_error: 8.0979e-04 - val_loss: 8.9411e-07 - val_mean_absolute_error: 7.7009e-04 - 146ms/epoch - 6ms/step\n",
            "Epoch 499/500\n",
            " Train time0:01:23-25/25 - 0s - loss: 5.0541e-07 - mean_absolute_error: 5.3036e-04 - val_loss: 4.9626e-07 - val_mean_absolute_error: 5.7414e-04 - 143ms/epoch - 6ms/step\n",
            "Epoch 500/500\n",
            " Train time0:01:23-25/25 - 0s - loss: 5.5391e-07 - mean_absolute_error: 5.5453e-04 - val_loss: 4.9491e-07 - val_mean_absolute_error: 5.7118e-04 - 146ms/epoch - 6ms/step\n"
          ]
        }
      ]
    },
    {
      "cell_type": "code",
      "source": [
        "hist_ex6.history.keys()"
      ],
      "metadata": {
        "colab": {
          "base_uri": "https://localhost:8080/"
        },
        "id": "QtUJXDqrvqMf",
        "outputId": "e2911abf-94c8-41b2-d8d7-b2f896d84a31"
      },
      "execution_count": null,
      "outputs": [
        {
          "output_type": "execute_result",
          "data": {
            "text/plain": [
              "dict_keys(['loss', 'mean_absolute_error', 'val_loss', 'val_mean_absolute_error'])"
            ]
          },
          "metadata": {},
          "execution_count": 36
        }
      ]
    },
    {
      "cell_type": "code",
      "source": [
        "#Plot training and validation loss values\n",
        "plt.figure(figsize=(15,5))\n",
        "plt.plot( hist_ex6.history['loss'])\n",
        "plt.plot( hist_ex6.history['val_loss'])\n",
        "plt.title('Model loss mean squared error')\n",
        "plt.ylabel('Loss')\n",
        "plt.xlabel('Epoch')\n",
        "plt.legend(['train','val'], loc='upper right')\n",
        "plt.show()"
      ],
      "metadata": {
        "colab": {
          "base_uri": "https://localhost:8080/",
          "height": 350
        },
        "id": "U9k72QzYv6L5",
        "outputId": "29842d6b-c949-464b-cd7d-148b4f9bd532"
      },
      "execution_count": null,
      "outputs": [
        {
          "output_type": "display_data",
          "data": {
            "text/plain": [
              "<Figure size 1080x360 with 1 Axes>"
            ],
            "image/png": "[encoded data removed]"
          },
          "metadata": {
            "needs_background": "light"
          }
        }
      ]
    },
    {
      "cell_type": "code",
      "source": [
        "#Plot training and validation loss values\n",
        "plt.figure(figsize=(15,5))\n",
        "plt.plot( hist_ex6.history['mean_absolute_error'])\n",
        "plt.plot( hist_ex6.history['val_mean_absolute_error'])\n",
        "plt.title('Model evaluate : MAE')\n",
        "plt.ylabel('MAE')\n",
        "plt.xlabel('Epoch')\n",
        "plt.legend(['train','val'], loc='upper right')\n",
        "plt.show()"
      ],
      "metadata": {
        "colab": {
          "base_uri": "https://localhost:8080/",
          "height": 350
        },
        "id": "KPfFLhAfv6Tu",
        "outputId": "05344dfc-3833-4202-d1dd-eb24b72fee31"
      },
      "execution_count": null,
      "outputs": [
        {
          "output_type": "display_data",
          "data": {
            "text/plain": [
              "<Figure size 1080x360 with 1 Axes>"
            ],
            "image/png": "[encoded data removed]"
          },
          "metadata": {
            "needs_background": "light"
          }
        }
      ]
    },
    {
      "cell_type": "markdown",
      "source": [
        "## 6.4 Evaluation"
      ],
      "metadata": {
        "id": "-o-A5qbj933z"
      }
    },
    {
      "cell_type": "markdown",
      "source": [
        "In actual inferencing, the unified model of **seq2seq_model** is no use but **encoder_model** and ***decoder_model*** are bot applied for autoregressive decoding. Hence, the actual model evaluation should be done in the autoregressive manner like in Inference section"
      ],
      "metadata": {
        "id": "_La7HBt6wffi"
      }
    },
    {
      "cell_type": "code",
      "source": [
        "# Load the model from the best epoch (minimum val_loss)\n",
        "bestmodel_file = max([ f for f in os.listdir(\".\") if f.startswith('RNN_ex6_bestmodel_') and f.endswith(\".hdf5\")])\n",
        "print( f\"The best model : {bestmodel_file}\")"
      ],
      "metadata": {
        "colab": {
          "base_uri": "https://localhost:8080/"
        },
        "outputId": "f14d7c23-3828-42e3-e13e-d06e666b6d5b",
        "id": "bv3qfx1uxTOe"
      },
      "execution_count": null,
      "outputs": [
        {
          "output_type": "stream",
          "name": "stdout",
          "text": [
            "The best model : RNN_ex6_bestmodel_epoch496.hdf5\n"
          ]
        }
      ]
    },
    {
      "cell_type": "code",
      "source": [
        "ex6_rnn_best = tf.keras.models.load_model(bestmodel_file, compile=True )"
      ],
      "metadata": {
        "id": "hV_--YT1xTOf"
      },
      "execution_count": null,
      "outputs": []
    },
    {
      "cell_type": "code",
      "source": [
        "#Evaluate the model from last epoch\n",
        "score = seq2seq_model.evaluate([encoder_x_test_norm, decoder_x_test_norm], decoder_y_test_norm, verbose=0)\n",
        "if hasattr(score,'__len__'):  \n",
        "  print(f\"Test results (model from the last epoch) :{[(seq2seq_model.metrics_names[i],score[i]) for i in range(len(score))]}\")\n",
        "else :\n",
        "   print(f\"Test results (model from the last epoch) :{[(seq2seq_model.metrics_names[0],score)]}\")"
      ],
      "metadata": {
        "colab": {
          "base_uri": "https://localhost:8080/"
        },
        "outputId": "a22c9551-1e36-4983-cf13-48c96f9a20c9",
        "id": "zz3iPivcxTOf"
      },
      "execution_count": null,
      "outputs": [
        {
          "output_type": "stream",
          "name": "stdout",
          "text": [
            "Test results (model from the last epoch) :[('loss', 4.556383714771073e-07), ('mean_absolute_error', 0.000543230795301497)]\n"
          ]
        }
      ]
    },
    {
      "cell_type": "code",
      "source": [
        "#Evaluate the model from best epoch\n",
        "score = ex6_rnn_best.evaluate([encoder_x_test_norm, decoder_x_test_norm], decoder_y_test_norm, verbose=0)\n",
        "if hasattr(score,'__len__'):\n",
        "  print(f\"Test results (model from the best epoch) :{[(ex6_rnn_best.metrics_names[i],score[i]) for i in range(len(score))]}\")\n",
        "else :\n",
        "   print(f\"Test results (model from the best epoch) :{[(ex6_rnn_best.metrics_names[0],score)]}\")"
      ],
      "metadata": {
        "colab": {
          "base_uri": "https://localhost:8080/"
        },
        "outputId": "09337cff-024a-4bd1-c3a4-8505f0b9dbd1",
        "id": "EaouL9zgxTOf"
      },
      "execution_count": null,
      "outputs": [
        {
          "output_type": "stream",
          "name": "stdout",
          "text": [
            "Test results (model from the best epoch) :[('loss', 2.2060039839288947e-07), ('mean_absolute_error', 0.0003713608894031495)]\n"
          ]
        }
      ]
    },
    {
      "cell_type": "markdown",
      "source": [
        "## 6.5 Inference"
      ],
      "metadata": {
        "id": "mx6PTW47LEps"
      }
    },
    {
      "cell_type": "markdown",
      "source": [
        "### Load the best encoder and decoder model"
      ],
      "metadata": {
        "id": "PA1tJdVPykIk"
      }
    },
    {
      "cell_type": "code",
      "source": [
        "# Load the encoder and decoder models corresponding to best epoch (minimum val_loss)\n",
        "best_encoder = tf.keras.models.load_model(f\"RNN_ex6_bestencoder.hdf5\", compile=False)\n",
        "best_decoder = tf.keras.models.load_model(f\"RNN_ex6_bestdecoder.hdf5\", compile=False)"
      ],
      "metadata": {
        "id": "vpWV796zzPHc"
      },
      "execution_count": null,
      "outputs": []
    },
    {
      "cell_type": "markdown",
      "source": [
        "### Define a fuction for autoregressive decoding"
      ],
      "metadata": {
        "id": "oB2CNyM7ylFg"
      }
    },
    {
      "cell_type": "code",
      "source": [
        "def autoregressive_decode( encoder_inf, decoder_inf, input_seq, n_step_out, n_out_feature=1, start_token=0):\n",
        "  \"\"\"\n",
        "  Input arguments:\n",
        "    endcoder_inf (model) : the encoder model to be used during inferencing\n",
        "    decoder_inf (model)  : the decoder model to be used during inferencing\n",
        "    input_seq (a sequence of numbers) : an input sequence (input_dim=1) for the model to predit the next numbers\n",
        "    n_step_out (int) : for how the number of features for one output (in our example)\n",
        "    n_out_feature (int) : the number of feature for one output (in out example, it is 1)\n",
        "  \"\"\"\n",
        "  # Encode\n",
        "  state = encoder_inf.predict(input_seq)\n",
        "\n",
        "  # Create the first input of the decoder (= the start token)\n",
        "  target_seq = np.zeros(n_out_feature).reshape(1, 1, n_out_feature)\n",
        "  target_seq[0, 0, :] = start_token\n",
        "\n",
        "  # Collect prediction from autoregressive decoding\n",
        "  output = []\n",
        "  for i in range(n_step_out):\n",
        "    # Predict the next number\n",
        "    y_pred, state = decoder_inf.predict( [target_seq, state] )\n",
        "\n",
        "    # Store prediction\n",
        "    output.append( y_pred[0, 0, :] )\n",
        "\n",
        "    # Update target sequence\n",
        "    target_seq =y_pred\n",
        "\n",
        "  return np.array( output )\n"
      ],
      "metadata": {
        "id": "TJKIQAN11iQv"
      },
      "execution_count": null,
      "outputs": []
    },
    {
      "cell_type": "markdown",
      "source": [
        "### Use auoregression decoding"
      ],
      "metadata": {
        "id": "_aQInTKhyliU"
      }
    },
    {
      "cell_type": "markdown",
      "source": [
        "Evaluate the models on the train set"
      ],
      "metadata": {
        "id": "kf5QVMnE_DdC"
      }
    },
    {
      "cell_type": "code",
      "source": [
        "n = 10 # evaluate the first n data of train set\n",
        "mae_loss_norm = 0.0\n",
        "mae_loss = 0.0\n",
        "n_step_out = n_output_timesteps #Here we use the same timesteps as in decoder_y for easy loss evaluation\n",
        "\n",
        "for i in range(n):\n",
        "  ypred_norm = autoregressive_decode( best_encoder, best_decoder, \n",
        "                                     np.expand_dims( encoder_x_train_norm[i], axis=0),\n",
        "                                     n_step_out,\n",
        "                                     1,\n",
        "                                     start_token)\n",
        "  ypred = minmax_norm.inverse_transform(ypred_norm)\n",
        "  \n",
        "  mae_loss_norm += np.absolute(ypred_norm - decoder_y_train_norm[i]).sum(axis=None)\n",
        "  mae_loss += np.absolute( ypred - decoder_y_train[i] ).sum(axis=None)\n",
        "\n",
        "  print(f\"encoder_x_train[{i}] => {encoder_x_train[i]}, decoder_y_train[{i}] => {decoder_y_train[i]}, predict = {np.around(ypred.reshape(-1))}\")\n",
        "\n",
        "mae_loss_norm /= ( n * n_step_out )\n",
        "mae_loss /= ( n * n_step_out )\n",
        "print(f\"Total loss (Mean absolate Error) per one sample of Normalized train data = {mae_loss_norm}\")\n",
        "print(f\"Total loss (Mean absolate Error) per one sample of Unnormalized train data = {mae_loss}\")\n"
      ],
      "metadata": {
        "colab": {
          "base_uri": "https://localhost:8080/"
        },
        "id": "6SMmbRr2zBR7",
        "outputId": "359a007e-ad44-4998-8876-2bf87d3fc185"
      },
      "execution_count": null,
      "outputs": [
        {
          "output_type": "stream",
          "name": "stdout",
          "text": [
            "encoder_x_train[0] => [-3033 -3031 -3029 -3027 -3025], decoder_y_train[0] => [-3023 -3021 -3019], predict = [-3023. -3021. -3019.]\n",
            "encoder_x_train[1] => [-3372 -3370 -3368 -3366 -3364], decoder_y_train[1] => [-3362 -3360 -3358], predict = [-3361. -3359. -3357.]\n",
            "encoder_x_train[2] => [-3423 -3421 -3419 -3417 -3415], decoder_y_train[2] => [-3413 -3411 -3409], predict = [-3413. -3410. -3408.]\n",
            "encoder_x_train[3] => [-3911 -3909 -3907 -3905 -3903], decoder_y_train[3] => [-3901 -3899 -3897], predict = [-3901. -3900. -3898.]\n",
            "encoder_x_train[4] => [-2829 -2827 -2825 -2823 -2821], decoder_y_train[4] => [-2819 -2817 -2815], predict = [-2818. -2817. -2815.]\n",
            "encoder_x_train[5] => [-3464 -3462 -3460 -3458 -3456], decoder_y_train[5] => [-3454 -3452 -3450], predict = [-3453. -3451. -3449.]\n",
            "encoder_x_train[6] => [-2288 -2286 -2284 -2282 -2280], decoder_y_train[6] => [-2278 -2276 -2274], predict = [-2277. -2275. -2273.]\n",
            "encoder_x_train[7] => [-3808 -3806 -3804 -3802 -3800], decoder_y_train[7] => [-3798 -3796 -3794], predict = [-3798. -3796. -3795.]\n",
            "encoder_x_train[8] => [-2013 -2011 -2009 -2007 -2005], decoder_y_train[8] => [-2003 -2001 -1999], predict = [-2005. -2003. -2002.]\n",
            "encoder_x_train[9] => [-2036 -2034 -2032 -2030 -2028], decoder_y_train[9] => [-2026 -2024 -2022], predict = [-2028. -2026. -2025.]\n",
            "Total loss (Mean absolate Error) per one sample of Normalized train data = 0.00047794505953788755\n",
            "Total loss (Mean absolate Error) per one sample of Unnormalized train data = 6.135567220052083\n"
          ]
        }
      ]
    },
    {
      "cell_type": "markdown",
      "source": [
        "Evaluate the models on the test set"
      ],
      "metadata": {
        "id": "YfLZ2uIM_Exy"
      }
    },
    {
      "cell_type": "code",
      "source": [
        "n = 10 # evaluate the first n data of train set\n",
        "mae_loss_norm = 0.0\n",
        "mae_loss = 0.0\n",
        "n_step_out = n_output_timesteps #Here we use the same timesteps as in decoder_y for easy loss evaluation\n",
        "\n",
        "for i in range(n):\n",
        "  ypred_norm = autoregressive_decode( best_encoder, best_decoder, \n",
        "                                     np.expand_dims( encoder_x_test_norm[i], axis=0),\n",
        "                                     n_step_out,\n",
        "                                     1,\n",
        "                                     start_token)\n",
        "  ypred = minmax_norm.inverse_transform(ypred_norm)\n",
        "  \n",
        "  mae_loss_norm += np.absolute(ypred_norm - decoder_y_test_norm[i]).sum(axis=None)\n",
        "  mae_loss += np.absolute( ypred - decoder_y_test[i] ).sum(axis=None)\n",
        "\n",
        "  print(f\"encoder_x_test[{i}] => {encoder_x_test[i]}, decoder_y_test[{i}] => {decoder_y_test[i]}, predict = {np.around(ypred.reshape(-1))}\")\n",
        "\n",
        "mae_loss_norm /= ( n * n_step_out )\n",
        "mae_loss /= ( n * n_step_out )\n",
        "print(f\"Total loss (Mean absolate Error) per one sample of Normalized test data = {mae_loss_norm}\")\n",
        "print(f\"Total loss (Mean absolate Error) per one sample of Unnormalized test data = {mae_loss}\")\n"
      ],
      "metadata": {
        "colab": {
          "base_uri": "https://localhost:8080/"
        },
        "id": "5Up2KIuf9rgv",
        "outputId": "f6e0480c-b3a6-49c4-a830-7bda850c550a"
      },
      "execution_count": null,
      "outputs": [
        {
          "output_type": "stream",
          "name": "stdout",
          "text": [
            "encoder_x_test[0] => [-2126 -2124 -2122 -2120 -2118], decoder_y_test[0] => [-2116 -2114 -2112], predict = [-2116. -2115. -2112.]\n",
            "encoder_x_test[1] => [-3343 -3341 -3339 -3337 -3335], decoder_y_test[1] => [-3333 -3331 -3329], predict = [-3333. -3330. -3328.]\n",
            "encoder_x_test[2] => [-3710 -3708 -3706 -3704 -3702], decoder_y_test[2] => [-3700 -3698 -3696], predict = [-3700. -3698. -3696.]\n",
            "encoder_x_test[3] => [-3995 -3993 -3991 -3989 -3987], decoder_y_test[3] => [-3985 -3983 -3981], predict = [-3985. -3984. -3983.]\n",
            "encoder_x_test[4] => [-2885 -2883 -2881 -2879 -2877], decoder_y_test[4] => [-2875 -2873 -2871], predict = [-2875. -2874. -2872.]\n",
            "encoder_x_test[5] => [-2148 -2146 -2144 -2142 -2140], decoder_y_test[5] => [-2138 -2136 -2134], predict = [-2137. -2136. -2134.]\n",
            "encoder_x_test[6] => [-3022 -3020 -3018 -3016 -3014], decoder_y_test[6] => [-3012 -3010 -3008], predict = [-3012. -3010. -3009.]\n",
            "encoder_x_test[7] => [-2034 -2032 -2030 -2028 -2026], decoder_y_test[7] => [-2024 -2022 -2020], predict = [-2026. -2024. -2023.]\n",
            "encoder_x_test[8] => [-3707 -3705 -3703 -3701 -3699], decoder_y_test[8] => [-3697 -3695 -3693], predict = [-3697. -3695. -3693.]\n",
            "encoder_x_test[9] => [-3232 -3230 -3228 -3226 -3224], decoder_y_test[9] => [-3222 -3220 -3218], predict = [-3221. -3219. -3217.]\n",
            "Total loss (Mean absolate Error) per one sample of Normalized test data = 0.00031810950798292955\n",
            "Total loss (Mean absolate Error) per one sample of Unnormalized test data = 5.68348388671875\n"
          ]
        }
      ]
    },
    {
      "cell_type": "code",
      "source": [
        ""
      ],
      "metadata": {
        "id": "kU3mxatB_nnY"
      },
      "execution_count": null,
      "outputs": []
    }
  ]
}