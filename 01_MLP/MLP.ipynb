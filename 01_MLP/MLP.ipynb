{
  "nbformat": 4,
  "nbformat_minor": 0,
  "metadata": {
    "colab": {
      "name": "W03_DL_MLP.ipynb",
      "provenance": [],
      "authorship_tag": "ABX9TyN9izCbPkUgSk6Z2qUo4Ne0",
      "include_colab_link": true
    },
    "kernelspec": {
      "name": "python3",
      "display_name": "Python 3"
    },
    "language_info": {
      "name": "python"
    },
    "accelerator": "GPU"
  },
  "cells": [
    {
      "cell_type": "markdown",
      "metadata": {
        "id": "view-in-github",
        "colab_type": "text"
      },
      "source": [
        "<a href=\"https://colab.research.google.com/github/taitip-supha/DeepLearn-Keras/blob/main/01_MLP/MLP.ipynb\" target=\"_parent\"><img src=\"https://colab.research.google.com/assets/colab-badge.svg\" alt=\"Open In Colab\"/></a>"
      ]
    },
    {
      "cell_type": "markdown",
      "source": [
        "#1. Prepare the Environment"
      ],
      "metadata": {
        "id": "Cnt2me8TWskk"
      }
    },
    {
      "cell_type": "code",
      "execution_count": null,
      "metadata": {
        "colab": {
          "base_uri": "https://localhost:8080/"
        },
        "id": "1h3474_mwG1h",
        "outputId": "d793915e-2d13-4c76-e772-fdf52da0bda3"
      },
      "outputs": [
        {
          "output_type": "stream",
          "name": "stdout",
          "text": [
            "GPU 0: Tesla K80 (UUID: GPU-d7db9dad-87e6-4647-e087-628ad012e408)\n"
          ]
        }
      ],
      "source": [
        "#Check GPU avalible\n",
        "!nvidia-smi -L"
      ]
    },
    {
      "cell_type": "code",
      "source": [
        "import sys\n",
        "import numpy as np\n",
        "import matplotlib.pyplot as plt\n",
        "import tensorflow as tf"
      ],
      "metadata": {
        "id": "aJpzgFACwel6"
      },
      "execution_count": null,
      "outputs": []
    },
    {
      "cell_type": "code",
      "source": [
        "print(f\"Python :{sys.version}\\nNumpy:{np.__version__}\\nTensorFlow{tf.__version__}\")\n",
        "print(f\"tf.keras.backend.image_data_firmat() = {tf.keras.backend.image_data_format()}\")\n",
        "#Count the number ofGPUs as detected by tensorflow\n",
        "gpus = tf.config.list_physical_devices('GPU')\n",
        "print(f\"TensorFlow detect {len(gpus)} GPUs\")\n",
        "for i,gpu in enumerate(gpus):\n",
        "  print(f\"> GPU No. {i} : Name = {gpu.name}  ,Type = {gpu.device_type}\")"
      ],
      "metadata": {
        "colab": {
          "base_uri": "https://localhost:8080/"
        },
        "id": "ShKYir7KxHUt",
        "outputId": "27df3270-0c22-42c6-9a37-2f2e2dcf65d8"
      },
      "execution_count": null,
      "outputs": [
        {
          "output_type": "stream",
          "name": "stdout",
          "text": [
            "Python :3.7.12 (default, Sep 10 2021, 00:21:48) \n",
            "[GCC 7.5.0]\n",
            "Numpy:1.19.5\n",
            "TensorFlow2.7.0\n",
            "tf.keras.backend.image_data_firmat() = channels_last\n",
            "TensorFlow detect 1 GPUs\n",
            "> GPU No. 0 : Name = /physical_device:GPU:0  ,Type = GPU\n"
          ]
        }
      ]
    },
    {
      "cell_type": "code",
      "source": [
        "#Set seed value for reproducability during experiments Skilp this cell if random initialization (with varied result) is needed\n",
        "np.random.seed(1234)\n",
        "tf.random.set_seed(5678)"
      ],
      "metadata": {
        "id": "rSzqQ7Y7ymPH"
      },
      "execution_count": null,
      "outputs": []
    },
    {
      "cell_type": "markdown",
      "source": [
        "# 2. Prepare data in Numpy"
      ],
      "metadata": {
        "id": "vrPZAWCJX67G"
      }
    },
    {
      "cell_type": "markdown",
      "source": [
        "Suppose that thsi example deals with the single-label multi-class classification problem where a single input is a 1D vector of shape (100,) and there are 10 predefined classes of out put\n",
        "</br>1. Load train and test data\n",
        "</br>2. Data prepocessing\n",
        "</br>3.Format the data (e.g. shape, dtype) to suit with the model's requirement (e.g. MLP)"
      ],
      "metadata": {
        "id": "1X8vnV7MYEYV"
      }
    },
    {
      "cell_type": "code",
      "source": [
        "input_dim = 100 #the number of features per one input\n",
        "output_din = 10 #the number of output classes"
      ],
      "metadata": {
        "id": "xB9kOwmWX1yj"
      },
      "execution_count": null,
      "outputs": []
    },
    {
      "cell_type": "code",
      "source": [
        "#Load Train data\n",
        "n_train = 10000\n",
        "x_train = np.random.randn( n_train ,input_dim)\n",
        "y_train = np.random.randint(0, output_din, size=(n_train,))\n",
        "print( f\" x_train.shape={x_train.shape}, x_train.dtype={x_train.dtype}, min(x_train)={np.min(x_train):0.4f}, max(x_train)={np.max(x_train):0.4f}\")\n",
        "print( f\" y_train.shape={y_train.shape}, y_train.dtype={y_train.dtype}, min(y_train)={np.min(y_train)}, max(y_train)={np.max(y_train)}\")\n"
      ],
      "metadata": {
        "colab": {
          "base_uri": "https://localhost:8080/"
        },
        "id": "Ihp3aFi1ZY8b",
        "outputId": "a9595dd2-356f-4977-d220-a5d91c923546"
      },
      "execution_count": null,
      "outputs": [
        {
          "output_type": "stream",
          "name": "stdout",
          "text": [
            " x_train.shape=(10000, 100), x_train.dtype=float64, min(x_train)=-4.7506, max(x_train)=5.0293\n",
            " y_train.shape=(10000,), y_train.dtype=int64, min(y_train)=0, max(y_train)=9\n"
          ]
        }
      ]
    },
    {
      "cell_type": "code",
      "source": [
        "#Load Test Data \n",
        "n_test = 2000\n",
        "x_test = np.random.randn(n_test , input_dim)\n",
        "y_test = np.random.randint(0, output_din ,size=(n_test,))\n",
        "print( f\" x_test.shape={x_test.shape}, x_test.dtype={x_test.dtype}, min(x_test)={np.min(x_test):0.4f}, max(x_test)={np.max(x_test):0.4f}\")\n",
        "print( f\" y_test.shape={y_test.shape}, y_test.dtype={y_test.dtype}, min(y_test)={np.min(y_test)}, max(y_test)={np.max(y_test)}\")"
      ],
      "metadata": {
        "colab": {
          "base_uri": "https://localhost:8080/"
        },
        "id": "dKay7CFOaVGI",
        "outputId": "91adb171-9945-459a-e7ca-25d5e2e72519"
      },
      "execution_count": null,
      "outputs": [
        {
          "output_type": "stream",
          "name": "stdout",
          "text": [
            " x_test.shape=(2000, 100), x_test.dtype=float64, min(x_test)=-4.9507, max(x_test)=5.0538\n",
            " y_test.shape=(2000,), y_test.dtype=int64, min(y_test)=0, max(y_test)=9\n"
          ]
        }
      ]
    },
    {
      "cell_type": "code",
      "source": [
        "#Data processing\n",
        "pass"
      ],
      "metadata": {
        "id": "uI_fdko9bU8F"
      },
      "execution_count": null,
      "outputs": []
    },
    {
      "cell_type": "code",
      "source": [
        "# Data format shape the dense layer of MLP expects the input of shape (n_samples, n_features)\n",
        "pass"
      ],
      "metadata": {
        "id": "90GwHyYybqAW"
      },
      "execution_count": null,
      "outputs": []
    },
    {
      "cell_type": "code",
      "source": [
        "# Data foramt dtype : Most DL Fameworks use float32 as a default data type\n",
        "x_train = x_train.astype(np.float32)\n",
        "x_test = x_test.astype(np.float32)\n",
        "print( f\" x_train.shape={x_train.shape}, x_train.dtype={x_train.dtype}, min(x_train)={np.min(x_train):0.4f}, max(x_train)={np.max(x_train):0.4f}\")\n",
        "print( f\" x_test.shape={x_test.shape}, x_test.dtype={x_test.dtype}, min(x_test)={np.min(x_test):0.4f}, max(x_test)={np.max(x_test):0.4f}\")"
      ],
      "metadata": {
        "colab": {
          "base_uri": "https://localhost:8080/"
        },
        "id": "-3mhmMckcBrz",
        "outputId": "52b42148-7633-472a-e8aa-78735f50f564"
      },
      "execution_count": null,
      "outputs": [
        {
          "output_type": "stream",
          "name": "stdout",
          "text": [
            " x_train.shape=(10000, 100), x_train.dtype=float32, min(x_train)=-4.7506, max(x_train)=5.0293\n",
            " x_test.shape=(2000, 100), x_test.dtype=float32, min(x_test)=-4.9507, max(x_test)=5.0538\n"
          ]
        }
      ]
    },
    {
      "cell_type": "markdown",
      "source": [
        "#3. Create the network architecture"
      ],
      "metadata": {
        "id": "1BnSWuz3czjv"
      }
    },
    {
      "cell_type": "code",
      "source": [
        "model = tf.keras.models.Sequential()\n",
        "\n",
        "#Input layer\n",
        "model.add(tf.keras.Input(shape=(input_dim,)))\n",
        "\n",
        "#Hidden layer\n",
        "model.add(tf.keras.layers.Dense(32, activation='relu', name='hidden1')) #use defult weight initialization, don't use any regularization\n",
        "model.add(tf.keras.layers.BatchNormalization(axis =-1, name='bn1'))\n",
        "\n",
        "model.add(tf.keras.layers.Dense(64, activation='relu', name='hidden2')) #use defult weight initialization, don't use any regularization\n",
        "model.add(tf.keras.layers.BatchNormalization(axis =-1, name='bn2'))\n",
        "\n",
        "model.add(tf.keras.layers.Dense(32, activation='relu', name='hidden3')) #use defult weight initialization, don't use any regularization\n",
        "model.add(tf.keras.layers.Dropout(0.3 ,name='do3'))\n",
        "\n",
        "#output layer\n",
        "model.add(tf.keras.layers.Dense(output_din, activation='softmax', name='output'))\n",
        "\n",
        "model.summary()"
      ],
      "metadata": {
        "colab": {
          "base_uri": "https://localhost:8080/"
        },
        "id": "rlulZshUc_sK",
        "outputId": "0d7e3a9f-6396-4c0f-f4b4-eb22f493cd60"
      },
      "execution_count": null,
      "outputs": [
        {
          "output_type": "stream",
          "name": "stdout",
          "text": [
            "Model: \"sequential_4\"\n",
            "_________________________________________________________________\n",
            " Layer (type)                Output Shape              Param #   \n",
            "=================================================================\n",
            " hidden1 (Dense)             (None, 32)                3232      \n",
            "                                                                 \n",
            " bn1 (BatchNormalization)    (None, 32)                128       \n",
            "                                                                 \n",
            " hidden2 (Dense)             (None, 64)                2112      \n",
            "                                                                 \n",
            " bn2 (BatchNormalization)    (None, 64)                256       \n",
            "                                                                 \n",
            " hidden3 (Dense)             (None, 32)                2080      \n",
            "                                                                 \n",
            " do3 (Dropout)               (None, 32)                0         \n",
            "                                                                 \n",
            " output (Dense)              (None, 10)                330       \n",
            "                                                                 \n",
            "=================================================================\n",
            "Total params: 8,138\n",
            "Trainable params: 7,946\n",
            "Non-trainable params: 192\n",
            "_________________________________________________________________\n"
          ]
        }
      ]
    },
    {
      "cell_type": "markdown",
      "source": [
        "# 4. Compile the model"
      ],
      "metadata": {
        "id": "jvR61eltc2Pi"
      }
    },
    {
      "cell_type": "markdown",
      "source": [
        "Examples of compiling the model (only run one cell provided below)"
      ],
      "metadata": {
        "id": "SflCF8U7fjuF"
      }
    },
    {
      "cell_type": "code",
      "source": [
        "#1) complie with default values for both optimizer and loss\n",
        "model.compile( optimizer='adam', loss='sparse_categorical_croseentropy', metrics=['acc'])\n"
      ],
      "metadata": {
        "id": "4s06OOMKfvh5"
      },
      "execution_count": null,
      "outputs": []
    },
    {
      "cell_type": "code",
      "source": [
        "#2) complie + Hyperparameter tuning\n",
        "model.compile(optimizer=tf.keras.optimizers.Adam(learning_rate=0.001), loss=tf.keras.losses.SparseCategoricalCrossentropy(from_logits=False), metrics=['acc'])"
      ],
      "metadata": {
        "id": "VJiih1SafvwA"
      },
      "execution_count": null,
      "outputs": []
    },
    {
      "cell_type": "markdown",
      "source": [
        "# 5. Train the model on train set"
      ],
      "metadata": {
        "id": "8qLuz-QVc3IJ"
      }
    },
    {
      "cell_type": "code",
      "source": [
        "checkpoint_filepath = \"bestmodel_epoch{epoch:02d}_valloss{val_loss:.2f}.hdf5\"\n",
        "model_checkpoint_callback = tf.keras.callbacks.ModelCheckpoint(filepath=checkpoint_filepath, \n",
        "                                                               save_weights_only=True, \n",
        "                                                               monitor='val_acc', \n",
        "                                                               model='max', \n",
        "                                                               save_best_only=True)\n",
        "history = model.fit(x_train, y_train, batch_size=128, epochs=20, verbose=1, validation_split=0.2, callbacks=[model_checkpoint_callback])"
      ],
      "metadata": {
        "colab": {
          "base_uri": "https://localhost:8080/"
        },
        "id": "YvfFht3Gh0w8",
        "outputId": "235e2c5c-70f5-481a-b898-14f2a4fb3535"
      },
      "execution_count": null,
      "outputs": [
        {
          "output_type": "stream",
          "name": "stdout",
          "text": [
            "Epoch 1/20\n",
            "63/63 [==============================] - 3s 8ms/step - loss: 2.6109 - acc: 0.1007 - val_loss: 2.3362 - val_acc: 0.0985\n",
            "Epoch 2/20\n",
            "63/63 [==============================] - 0s 5ms/step - loss: 2.4010 - acc: 0.1140 - val_loss: 2.3309 - val_acc: 0.0965\n",
            "Epoch 3/20\n",
            "63/63 [==============================] - 0s 4ms/step - loss: 2.3314 - acc: 0.1289 - val_loss: 2.3318 - val_acc: 0.0960\n",
            "Epoch 4/20\n",
            "63/63 [==============================] - 0s 5ms/step - loss: 2.2950 - acc: 0.1421 - val_loss: 2.3339 - val_acc: 0.0920\n",
            "Epoch 5/20\n",
            "63/63 [==============================] - 0s 5ms/step - loss: 2.2807 - acc: 0.1420 - val_loss: 2.3360 - val_acc: 0.0865\n",
            "Epoch 6/20\n",
            "63/63 [==============================] - 0s 5ms/step - loss: 2.2626 - acc: 0.1546 - val_loss: 2.3380 - val_acc: 0.0870\n",
            "Epoch 7/20\n",
            "63/63 [==============================] - 0s 4ms/step - loss: 2.2484 - acc: 0.1666 - val_loss: 2.3420 - val_acc: 0.0895\n",
            "Epoch 8/20\n",
            "63/63 [==============================] - 0s 4ms/step - loss: 2.2394 - acc: 0.1695 - val_loss: 2.3439 - val_acc: 0.0905\n",
            "Epoch 9/20\n",
            "63/63 [==============================] - 0s 5ms/step - loss: 2.2310 - acc: 0.1744 - val_loss: 2.3447 - val_acc: 0.0860\n",
            "Epoch 10/20\n",
            "63/63 [==============================] - 0s 5ms/step - loss: 2.2183 - acc: 0.1793 - val_loss: 2.3488 - val_acc: 0.0915\n",
            "Epoch 11/20\n",
            "63/63 [==============================] - 0s 4ms/step - loss: 2.2160 - acc: 0.1877 - val_loss: 2.3535 - val_acc: 0.0960\n",
            "Epoch 12/20\n",
            "63/63 [==============================] - 0s 4ms/step - loss: 2.2024 - acc: 0.1937 - val_loss: 2.3583 - val_acc: 0.1000\n",
            "Epoch 13/20\n",
            "63/63 [==============================] - 0s 4ms/step - loss: 2.1934 - acc: 0.1935 - val_loss: 2.3627 - val_acc: 0.0965\n",
            "Epoch 14/20\n",
            "63/63 [==============================] - 0s 5ms/step - loss: 2.1843 - acc: 0.2007 - val_loss: 2.3686 - val_acc: 0.1000\n",
            "Epoch 15/20\n",
            "63/63 [==============================] - 0s 4ms/step - loss: 2.1765 - acc: 0.2017 - val_loss: 2.3762 - val_acc: 0.0965\n",
            "Epoch 16/20\n",
            "63/63 [==============================] - 0s 5ms/step - loss: 2.1660 - acc: 0.2064 - val_loss: 2.3789 - val_acc: 0.0935\n",
            "Epoch 17/20\n",
            "63/63 [==============================] - 0s 5ms/step - loss: 2.1532 - acc: 0.2173 - val_loss: 2.3856 - val_acc: 0.0930\n",
            "Epoch 18/20\n",
            "63/63 [==============================] - 0s 5ms/step - loss: 2.1452 - acc: 0.2205 - val_loss: 2.3889 - val_acc: 0.0895\n",
            "Epoch 19/20\n",
            "63/63 [==============================] - 0s 4ms/step - loss: 2.1400 - acc: 0.2212 - val_loss: 2.3964 - val_acc: 0.0965\n",
            "Epoch 20/20\n",
            "63/63 [==============================] - 0s 5ms/step - loss: 2.1249 - acc: 0.2286 - val_loss: 2.4067 - val_acc: 0.0915\n"
          ]
        }
      ]
    },
    {
      "cell_type": "code",
      "source": [
        "#Inspect the save file (sorted by modification date,  newest first)\n",
        "!ls -lt"
      ],
      "metadata": {
        "colab": {
          "base_uri": "https://localhost:8080/"
        },
        "id": "eA6TDq3pjPHF",
        "outputId": "dd33b5fe-6ee3-4397-ab1c-01238fd174fc"
      },
      "execution_count": null,
      "outputs": [
        {
          "output_type": "stream",
          "name": "stdout",
          "text": [
            "total 124\n",
            "-rw-r--r-- 1 root root 58352 Jan 22 16:09 bestmodel_epoch12_valloss2.36.hdf5\n",
            "-rw-r--r-- 1 root root 58352 Jan 22 16:09 bestmodel_epoch01_valloss2.34.hdf5\n",
            "drwxr-xr-x 1 root root  4096 Jan  7 14:33 sample_data\n"
          ]
        }
      ]
    },
    {
      "cell_type": "code",
      "source": [
        "# check the keys in history\n",
        "history.history.keys()"
      ],
      "metadata": {
        "colab": {
          "base_uri": "https://localhost:8080/"
        },
        "id": "ObioM9eSjpEo",
        "outputId": "ed7b9021-f922-459a-87f8-9a762072c248"
      },
      "execution_count": null,
      "outputs": [
        {
          "output_type": "execute_result",
          "data": {
            "text/plain": [
              "dict_keys(['loss', 'acc', 'val_loss', 'val_acc'])"
            ]
          },
          "metadata": {},
          "execution_count": 38
        }
      ]
    },
    {
      "cell_type": "code",
      "source": [
        "#summary history for accuracy\n",
        "plt.figure(figsize=(15,5))\n",
        "plt.plot(history.history['acc'])\n",
        "plt.plot(history.history['val_acc'])\n",
        "plt.title('Train Accuracy')\n",
        "plt.ylabel('accuracy')\n",
        "plt.xlabel('epoch')\n",
        "plt.legend(['train','test'] ,loc='upper left')\n",
        "plt.grid()\n",
        "plt.show()"
      ],
      "metadata": {
        "colab": {
          "base_uri": "https://localhost:8080/",
          "height": 350
        },
        "id": "Q1678VPSj343",
        "outputId": "c7f54f45-a1cb-4313-eca3-08ba53aa1e81"
      },
      "execution_count": null,
      "outputs": [
        {
          "output_type": "display_data",
          "data": {
            "image/png": "[encoded data removed]",
            "text/plain": [
              "<Figure size 1080x360 with 1 Axes>"
            ]
          },
          "metadata": {
            "needs_background": "light"
          }
        }
      ]
    },
    {
      "cell_type": "code",
      "source": [
        "#summary history for loss\n",
        "plt.figure(figsize=(15,5))\n",
        "plt.plot(history.history['loss'])\n",
        "plt.plot(history.history['val_loss'])\n",
        "plt.title('Train loss')\n",
        "plt.ylabel('loss')\n",
        "plt.xlabel('epoch')\n",
        "plt.legend(['train','test'] ,loc='upper left')\n",
        "plt.grid()\n",
        "plt.show()"
      ],
      "metadata": {
        "colab": {
          "base_uri": "https://localhost:8080/",
          "height": 350
        },
        "id": "Fz71YXUSkyWw",
        "outputId": "b89c17df-e26c-40f8-a7c3-78e616daccf3"
      },
      "execution_count": null,
      "outputs": [
        {
          "output_type": "display_data",
          "data": {
            "image/png": "[encoded data removed]",
            "text/plain": [
              "<Figure size 1080x360 with 1 Axes>"
            ]
          },
          "metadata": {
            "needs_background": "light"
          }
        }
      ]
    },
    {
      "cell_type": "markdown",
      "source": [
        "# 6. Evaluate the model on test set"
      ],
      "metadata": {
        "id": "mo3PMqBPc3ml"
      }
    },
    {
      "cell_type": "code",
      "source": [
        "results = model.evaluate(x_test, y_test, batch_size=128)\n",
        "print(f\"{model.metrics_names} = {results}\")"
      ],
      "metadata": {
        "colab": {
          "base_uri": "https://localhost:8080/"
        },
        "id": "8m5404ZOlEPG",
        "outputId": "82ed6a88-f6a5-4e01-f5fd-a3c3c879f023"
      },
      "execution_count": null,
      "outputs": [
        {
          "output_type": "stream",
          "name": "stdout",
          "text": [
            "16/16 [==============================] - 0s 2ms/step - loss: 2.3979 - acc: 0.0960\n",
            "['loss', 'acc'] = [2.397862195968628, 0.09600000083446503]\n"
          ]
        }
      ]
    },
    {
      "cell_type": "markdown",
      "source": [
        "# 7. Inference"
      ],
      "metadata": {
        "id": "-XxGrV28c4HM"
      }
    },
    {
      "cell_type": "code",
      "source": [
        "#Test using the model on x_test[i]\n",
        "i = 10\n",
        "y_pred = model.predict(x_test[i].reshape(1,-1)) #Reshape x_test[i] form (n_festure, ) to (1,n_feature)\n",
        "\n",
        "print( f\"{'#'*10} Input: x_test[{i}] {'#'*10}\")\n",
        "print(f\"raw shape={x_test[i].shape} ==> reshape to {x_test[i].reshape(1,-1).shape}\\nvalue={x_test[i]}\\n\")\n",
        "\n",
        "print( f\"{'#'*10} Ground truth: y_test[{i}] {'#'*10}\")\n",
        "print(f\"shape={y_test[i].shape}\\nvalue={y_test[i]}\\n\")\n",
        "\n",
        "print( f\"{'#'*10} Prediction : y_pred {'#'*10}\")\n",
        "print( f\"type={type(y_pred)}\\ndtype]{y_pred.dtype}\\nshape={y_pred.shape}\")\n",
        "print(f\"value={y_pred}\")\n",
        "print(f\"np.argmax(y_pred)={np.argmax(y_pred)}\")"
      ],
      "metadata": {
        "colab": {
          "base_uri": "https://localhost:8080/"
        },
        "id": "cYjtq4PTcviQ",
        "outputId": "042f77cc-8f7b-45bf-d354-5ece1f3c3785"
      },
      "execution_count": null,
      "outputs": [
        {
          "output_type": "stream",
          "name": "stdout",
          "text": [
            "########## Input: x_test[10] ##########\n",
            "raw shape=(100,) ==> reshape to (1, 100)\n",
            "value=[-3.17959    -0.4369528   0.45370507  0.44151968  0.42437708  0.5261006\n",
            " -0.7363777   0.04711348  0.9378339  -1.3076552  -1.1024182   0.39609203\n",
            "  1.6338706  -1.6935779   1.7982523   0.6223167   0.6903476   0.22950219\n",
            "  1.3453071   1.1830628  -1.1431582  -0.3056663   1.2948122   0.06094379\n",
            " -0.44923595  0.31557265 -0.56754756  0.73481154  0.9224857  -0.36599284\n",
            " -0.40705913 -2.1895294  -0.05458339  1.8822081  -1.4580902   0.28339493\n",
            " -1.529695    0.16146515 -0.2206541   0.29314342  0.42341274 -0.4509745\n",
            "  0.259185    0.8984846  -0.4252893  -0.39286062 -0.64844704  1.0119461\n",
            "  0.43550205 -1.2437229  -0.46353015 -0.17078814 -0.16154137  0.21251133\n",
            "  0.5162162  -0.7536175  -1.0652348  -0.3495668   0.46527943 -0.8619703\n",
            "  0.19397739 -0.15483662 -0.69352365  2.3104594   0.8417036   0.6903964\n",
            "  0.46132287  0.66172427  3.538146   -1.5660497  -0.8713355   0.48834962\n",
            " -0.06055452  0.43200922  0.97029334 -0.01261954  0.49885446  0.4563328\n",
            "  1.696871   -1.1208875  -0.2023353   1.460215   -0.6639722  -0.01692978\n",
            " -0.3060529  -1.0343393  -0.48720586 -0.52098334 -0.05499018 -0.27112678\n",
            "  0.9855982  -1.2310082  -0.57457596  0.44709435 -0.97230387  1.3916724\n",
            " -0.62295705  0.3843587  -0.7078501  -1.4388493 ]\n",
            "\n",
            "########## Ground truth: y_test[10] ##########\n",
            "shape=()\n",
            "value=4\n",
            "\n",
            "########## Prediction : y_pred ##########\n",
            "type=<class 'numpy.ndarray'>\n",
            "dtype]float32\n",
            "shape=(1, 10)\n",
            "value=[[0.05090973 0.07812518 0.11492243 0.05483904 0.04166294 0.20361584\n",
            "  0.12513119 0.1514955  0.06270963 0.11658856]]\n",
            "np.argmax(y_pred)=5\n"
          ]
        }
      ]
    },
    {
      "cell_type": "markdown",
      "source": [
        "# My Network"
      ],
      "metadata": {
        "id": "j1AW7zU9qeJ6"
      }
    },
    {
      "cell_type": "code",
      "source": [
        "mymodel = tf.keras.models.Sequential()\n",
        "\n",
        "#Input layer\n",
        "mymodel.add(tf.keras.Input(shape=(input_dim,)))\n",
        "\n",
        "#Hidden layer\n",
        "mymodel.add(tf.keras.layers.Dense(128, activation='relu', name='hidden1')) #use defult weight initialization, don't use any regularization\n",
        "mymodel.add(tf.keras.layers.BatchNormalization(axis =-1, name='bn1'))\n",
        "\n",
        "mymodel.add(tf.keras.layers.Dense(64, activation='relu', name='hidden2')) #use defult weight initialization, don't use any regularization\n",
        "mymodel.add(tf.keras.layers.Dropout(0.3 ,name='do2'))\n",
        "\n",
        "mymodel.add(tf.keras.layers.Dense(32, activation='relu', name='hidden3')) #use defult weight initialization, don't use any regularization\n",
        "mymodel.add(tf.keras.layers.Dropout(0.3 ,name='do3'))\n",
        "\n",
        "mymodel.add(tf.keras.layers.Dense(32, activation='relu', name='hidden4')) #use defult weight initialization, don't use any regularization\n",
        "mymodel.add(tf.keras.layers.BatchNormalization(axis =-1, name='bn4'))\n",
        "\n",
        "#output layer\n",
        "mymodel.add(tf.keras.layers.Dense(output_din, activation='softmax', name='output'))\n",
        "\n",
        "mymodel.summary()"
      ],
      "metadata": {
        "colab": {
          "base_uri": "https://localhost:8080/"
        },
        "id": "xhHWexJBqiJM",
        "outputId": "e71c240b-02e0-4b9d-ac4e-73937ea1480e"
      },
      "execution_count": null,
      "outputs": [
        {
          "output_type": "stream",
          "name": "stdout",
          "text": [
            "Model: \"sequential_8\"\n",
            "_________________________________________________________________\n",
            " Layer (type)                Output Shape              Param #   \n",
            "=================================================================\n",
            " hidden1 (Dense)             (None, 128)               12928     \n",
            "                                                                 \n",
            " bn1 (BatchNormalization)    (None, 128)               512       \n",
            "                                                                 \n",
            " hidden2 (Dense)             (None, 64)                8256      \n",
            "                                                                 \n",
            " do2 (Dropout)               (None, 64)                0         \n",
            "                                                                 \n",
            " hidden3 (Dense)             (None, 32)                2080      \n",
            "                                                                 \n",
            " do3 (Dropout)               (None, 32)                0         \n",
            "                                                                 \n",
            " hidden4 (Dense)             (None, 32)                1056      \n",
            "                                                                 \n",
            " bn4 (BatchNormalization)    (None, 32)                128       \n",
            "                                                                 \n",
            " output (Dense)              (None, 10)                330       \n",
            "                                                                 \n",
            "=================================================================\n",
            "Total params: 25,290\n",
            "Trainable params: 24,970\n",
            "Non-trainable params: 320\n",
            "_________________________________________________________________\n"
          ]
        }
      ]
    },
    {
      "cell_type": "code",
      "source": [
        "#complie + Hyperparameter tuning\n",
        "mymodel.compile(optimizer=tf.keras.optimizers.Adam(learning_rate=0.005), loss=tf.keras.losses.SparseCategoricalCrossentropy(from_logits=False), metrics=['acc'])"
      ],
      "metadata": {
        "id": "i__Sx9z4rG7j"
      },
      "execution_count": null,
      "outputs": []
    },
    {
      "cell_type": "code",
      "source": [
        "#Train the model\n",
        "mycheckpoint_filepath = \"mybestmodel_epoch{epoch:02d}_valloss{val_loss:.2f}.hdf5\"\n",
        "mymodel_checkpoint_callback = tf.keras.callbacks.ModelCheckpoint(filepath=mycheckpoint_filepath, \n",
        "                                                               save_weights_only=True, \n",
        "                                                               monitor='val_acc', \n",
        "                                                               model='max', \n",
        "                                                               save_best_only=True)\n",
        "myhistory = mymodel.fit(x_train, y_train, batch_size=128, epochs=20, verbose=1, validation_split=0.2, callbacks=[mymodel_checkpoint_callback])"
      ],
      "metadata": {
        "colab": {
          "base_uri": "https://localhost:8080/"
        },
        "id": "6rxIyVrurVXb",
        "outputId": "0659f5e5-964a-4614-c395-ae1a2d153c02"
      },
      "execution_count": null,
      "outputs": [
        {
          "output_type": "stream",
          "name": "stdout",
          "text": [
            "Epoch 1/20\n",
            "63/63 [==============================] - 0s 6ms/step - loss: 1.6268 - acc: 0.4215 - val_loss: 3.3375 - val_acc: 0.0925\n",
            "Epoch 2/20\n",
            "63/63 [==============================] - 0s 5ms/step - loss: 1.5975 - acc: 0.4336 - val_loss: 3.3329 - val_acc: 0.0910\n",
            "Epoch 3/20\n",
            "63/63 [==============================] - 0s 5ms/step - loss: 1.5893 - acc: 0.4276 - val_loss: 3.3825 - val_acc: 0.0875\n",
            "Epoch 4/20\n",
            "63/63 [==============================] - 0s 6ms/step - loss: 1.5718 - acc: 0.4401 - val_loss: 3.4319 - val_acc: 0.1010\n",
            "Epoch 5/20\n",
            "63/63 [==============================] - 0s 5ms/step - loss: 1.5411 - acc: 0.4544 - val_loss: 3.4867 - val_acc: 0.0965\n",
            "Epoch 6/20\n",
            "63/63 [==============================] - 0s 5ms/step - loss: 1.5277 - acc: 0.4554 - val_loss: 3.4893 - val_acc: 0.0995\n",
            "Epoch 7/20\n",
            "63/63 [==============================] - 0s 5ms/step - loss: 1.5194 - acc: 0.4579 - val_loss: 3.5110 - val_acc: 0.0910\n",
            "Epoch 8/20\n",
            "63/63 [==============================] - 0s 5ms/step - loss: 1.5054 - acc: 0.4705 - val_loss: 3.5527 - val_acc: 0.0915\n",
            "Epoch 9/20\n",
            "63/63 [==============================] - 0s 5ms/step - loss: 1.4741 - acc: 0.4715 - val_loss: 3.6323 - val_acc: 0.0955\n",
            "Epoch 10/20\n",
            "63/63 [==============================] - 0s 5ms/step - loss: 1.4657 - acc: 0.4825 - val_loss: 3.5284 - val_acc: 0.0955\n",
            "Epoch 11/20\n",
            "63/63 [==============================] - 0s 5ms/step - loss: 1.4437 - acc: 0.4905 - val_loss: 3.6566 - val_acc: 0.1055\n",
            "Epoch 12/20\n",
            "63/63 [==============================] - 0s 5ms/step - loss: 1.4459 - acc: 0.4885 - val_loss: 3.7066 - val_acc: 0.0935\n",
            "Epoch 13/20\n",
            "63/63 [==============================] - 0s 5ms/step - loss: 1.4244 - acc: 0.4941 - val_loss: 3.6873 - val_acc: 0.0955\n",
            "Epoch 14/20\n",
            "63/63 [==============================] - 0s 5ms/step - loss: 1.4231 - acc: 0.4980 - val_loss: 3.7558 - val_acc: 0.0950\n",
            "Epoch 15/20\n",
            "63/63 [==============================] - 0s 5ms/step - loss: 1.3870 - acc: 0.5034 - val_loss: 3.8420 - val_acc: 0.0920\n",
            "Epoch 16/20\n",
            "63/63 [==============================] - 0s 5ms/step - loss: 1.3687 - acc: 0.5176 - val_loss: 3.9935 - val_acc: 0.0930\n",
            "Epoch 17/20\n",
            "63/63 [==============================] - 0s 5ms/step - loss: 1.3731 - acc: 0.5156 - val_loss: 3.8501 - val_acc: 0.0905\n",
            "Epoch 18/20\n",
            "63/63 [==============================] - 0s 5ms/step - loss: 1.3417 - acc: 0.5309 - val_loss: 3.8535 - val_acc: 0.0910\n",
            "Epoch 19/20\n",
            "63/63 [==============================] - 0s 5ms/step - loss: 1.3640 - acc: 0.5188 - val_loss: 3.9265 - val_acc: 0.0940\n",
            "Epoch 20/20\n",
            "63/63 [==============================] - 0s 5ms/step - loss: 1.3404 - acc: 0.5294 - val_loss: 3.9154 - val_acc: 0.1005\n"
          ]
        }
      ]
    },
    {
      "cell_type": "code",
      "source": [
        "#Inspect the save file (sorted by modification date,  newest first)\n",
        "!ls -lt"
      ],
      "metadata": {
        "colab": {
          "base_uri": "https://localhost:8080/"
        },
        "id": "fGDLUU3ztuMr",
        "outputId": "158f786c-772c-4c17-85b0-8aabd0d2dfa4"
      },
      "execution_count": null,
      "outputs": [
        {
          "output_type": "stream",
          "name": "stdout",
          "text": [
            "total 1824\n",
            "-rw-r--r-- 1 root root 131496 Jan 22 16:56 mybestmodel_epoch04_valloss2.31.hdf5\n",
            "-rw-r--r-- 1 root root 131496 Jan 22 16:56 mybestmodel_epoch02_valloss2.31.hdf5\n",
            "-rw-r--r-- 1 root root 131496 Jan 22 16:56 mybestmodel_epoch01_valloss2.31.hdf5\n",
            "-rw-r--r-- 1 root root  81928 Jan 22 16:54 mybestmodel_epoch03_valloss2.31.hdf5\n",
            "-rw-r--r-- 1 root root  81928 Jan 22 16:54 mybestmodel_epoch02_valloss2.32.hdf5\n",
            "-rw-r--r-- 1 root root  81928 Jan 22 16:54 mybestmodel_epoch01_valloss2.32.hdf5\n",
            "-rw-r--r-- 1 root root  45736 Jan 22 16:52 mybestmodel_epoch07_valloss2.35.hdf5\n",
            "-rw-r--r-- 1 root root  45736 Jan 22 16:52 mybestmodel_epoch05_valloss2.35.hdf5\n",
            "-rw-r--r-- 1 root root  45736 Jan 22 16:52 mybestmodel_epoch01_valloss2.35.hdf5\n",
            "-rw-r--r-- 1 root root  45736 Jan 22 16:51 mybestmodel_epoch23_valloss2.35.hdf5\n",
            "-rw-r--r-- 1 root root  45736 Jan 22 16:51 mybestmodel_epoch22_valloss2.34.hdf5\n",
            "-rw-r--r-- 1 root root  45736 Jan 22 16:51 mybestmodel_epoch06_valloss2.32.hdf5\n",
            "-rw-r--r-- 1 root root  45736 Jan 22 16:49 mybestmodel_epoch49_valloss2.32.hdf5\n",
            "-rw-r--r-- 1 root root  45736 Jan 22 16:49 mybestmodel_epoch36_valloss2.31.hdf5\n",
            "-rw-r--r-- 1 root root  45736 Jan 22 16:49 mybestmodel_epoch33_valloss2.31.hdf5\n",
            "-rw-r--r-- 1 root root  45736 Jan 22 16:49 mybestmodel_epoch20_valloss2.31.hdf5\n",
            "-rw-r--r-- 1 root root  45736 Jan 22 16:49 mybestmodel_epoch18_valloss2.31.hdf5\n",
            "-rw-r--r-- 1 root root  45736 Jan 22 16:49 mybestmodel_epoch14_valloss2.30.hdf5\n",
            "-rw-r--r-- 1 root root  45736 Jan 22 16:49 mybestmodel_epoch10_valloss2.31.hdf5\n",
            "-rw-r--r-- 1 root root  45736 Jan 22 16:49 mybestmodel_epoch03_valloss2.30.hdf5\n",
            "-rw-r--r-- 1 root root  45736 Jan 22 16:49 mybestmodel_epoch02_valloss2.30.hdf5\n",
            "-rw-r--r-- 1 root root  45736 Jan 22 16:49 mybestmodel_epoch01_valloss2.30.hdf5\n",
            "-rw-r--r-- 1 root root  45736 Jan 22 16:46 bestmodel_epoch06_valloss2.31.hdf5\n",
            "-rw-r--r-- 1 root root  45736 Jan 22 16:46 bestmodel_epoch03_valloss2.32.hdf5\n",
            "-rw-r--r-- 1 root root  45736 Jan 22 16:46 bestmodel_epoch01_valloss2.32.hdf5\n",
            "-rw-r--r-- 1 root root  26624 Jan 22 16:45 bestmodel_epoch06_valloss8.22.hdf5\n",
            "-rw-r--r-- 1 root root  26624 Jan 22 16:45 bestmodel_epoch04_valloss8.81.hdf5\n",
            "-rw-r--r-- 1 root root  26624 Jan 22 16:45 bestmodel_epoch03_valloss9.36.hdf5\n",
            "-rw-r--r-- 1 root root  26624 Jan 22 16:45 bestmodel_epoch02_valloss10.21.hdf5\n",
            "-rw-r--r-- 1 root root  26624 Jan 22 16:45 bestmodel_epoch01_valloss11.16.hdf5\n",
            "-rw-r--r-- 1 root root  58352 Jan 22 16:09 bestmodel_epoch12_valloss2.36.hdf5\n",
            "-rw-r--r-- 1 root root  58352 Jan 22 16:09 bestmodel_epoch01_valloss2.34.hdf5\n",
            "drwxr-xr-x 1 root root   4096 Jan  7 14:33 sample_data\n"
          ]
        }
      ]
    },
    {
      "cell_type": "code",
      "source": [
        "#summary history for accuracy\n",
        "plt.figure(figsize=(15,5))\n",
        "plt.plot(myhistory.history['acc'])\n",
        "plt.plot(myhistory.history['val_acc'])\n",
        "plt.title('Train Accuracy')\n",
        "plt.ylabel('accuracy')\n",
        "plt.xlabel('epoch')\n",
        "plt.legend(['train','test'] ,loc='upper left')\n",
        "plt.grid()\n",
        "plt.show()\n",
        "\n",
        "#summary history for loss\n",
        "plt.figure(figsize=(15,5))\n",
        "plt.plot(myhistory.history['loss'])\n",
        "plt.plot(myhistory.history['val_loss'])\n",
        "plt.title('Train loss')\n",
        "plt.ylabel('loss')\n",
        "plt.xlabel('epoch')\n",
        "plt.legend(['train','test'] ,loc='upper left')\n",
        "plt.grid()\n",
        "plt.show()"
      ],
      "metadata": {
        "colab": {
          "base_uri": "https://localhost:8080/",
          "height": 682
        },
        "id": "QaFJxjterbXs",
        "outputId": "301cca05-cd61-42df-84b9-2658afdad4ae"
      },
      "execution_count": null,
      "outputs": [
        {
          "output_type": "display_data",
          "data": {
            "image/png": "[encoded data removed]",
            "text/plain": [
              "<Figure size 1080x360 with 1 Axes>"
            ]
          },
          "metadata": {
            "needs_background": "light"
          }
        },
        {
          "output_type": "display_data",
          "data": {
            "image/png": "[encoded data removed]",
            "text/plain": [
              "<Figure size 1080x360 with 1 Axes>"
            ]
          },
          "metadata": {
            "needs_background": "light"
          }
        }
      ]
    },
    {
      "cell_type": "code",
      "source": [
        "#Evaluate\n",
        "myresults = mymodel.evaluate(x_test, y_test, batch_size=128)\n",
        "print(f\"{mymodel.metrics_names} = {myresults}\")"
      ],
      "metadata": {
        "colab": {
          "base_uri": "https://localhost:8080/"
        },
        "id": "T1I61yZ7rvH0",
        "outputId": "43804cf4-f85d-41b0-a0b2-f90c9b9c8793"
      },
      "execution_count": null,
      "outputs": [
        {
          "output_type": "stream",
          "name": "stdout",
          "text": [
            "16/16 [==============================] - 0s 2ms/step - loss: 2.5986 - acc: 0.1065\n",
            "['loss', 'acc'] = [2.5986335277557373, 0.10649999976158142]\n"
          ]
        }
      ]
    },
    {
      "cell_type": "code",
      "source": [
        "#Test using the model on x_test[i]\n",
        "i = 10\n",
        "y_pred = mymodel.predict(x_test[i].reshape(1,-1)) #Reshape x_test[i] form (n_festure, ) to (1,n_feature)\n",
        "\n",
        "print( f\"{'#'*10} Input: x_test[{i}] {'#'*10}\")\n",
        "print(f\"raw shape={x_test[i].shape} ==> reshape to {x_test[i].reshape(1,-1).shape}\\nvalue={x_test[i]}\\n\")\n",
        "\n",
        "print( f\"{'#'*10} Ground truth: y_test[{i}] {'#'*10}\")\n",
        "print(f\"shape={y_test[i].shape}\\nvalue={y_test[i]}\\n\")\n",
        "\n",
        "print( f\"{'#'*10} Prediction : y_pred {'#'*10}\")\n",
        "print( f\"type={type(y_pred)}\\ndtype]{y_pred.dtype}\\nshape={y_pred.shape}\")\n",
        "print(f\"value={y_pred}\")\n",
        "print(f\"np.argmax(y_pred)={np.argmax(y_pred)}\")"
      ],
      "metadata": {
        "colab": {
          "base_uri": "https://localhost:8080/"
        },
        "id": "Z4vFyxyhspzs",
        "outputId": "05ee3ab4-f168-4c98-8c82-b601715c7d3a"
      },
      "execution_count": null,
      "outputs": [
        {
          "output_type": "stream",
          "name": "stdout",
          "text": [
            "########## Input: x_test[10] ##########\n",
            "raw shape=(100,) ==> reshape to (1, 100)\n",
            "value=[-3.17959    -0.4369528   0.45370507  0.44151968  0.42437708  0.5261006\n",
            " -0.7363777   0.04711348  0.9378339  -1.3076552  -1.1024182   0.39609203\n",
            "  1.6338706  -1.6935779   1.7982523   0.6223167   0.6903476   0.22950219\n",
            "  1.3453071   1.1830628  -1.1431582  -0.3056663   1.2948122   0.06094379\n",
            " -0.44923595  0.31557265 -0.56754756  0.73481154  0.9224857  -0.36599284\n",
            " -0.40705913 -2.1895294  -0.05458339  1.8822081  -1.4580902   0.28339493\n",
            " -1.529695    0.16146515 -0.2206541   0.29314342  0.42341274 -0.4509745\n",
            "  0.259185    0.8984846  -0.4252893  -0.39286062 -0.64844704  1.0119461\n",
            "  0.43550205 -1.2437229  -0.46353015 -0.17078814 -0.16154137  0.21251133\n",
            "  0.5162162  -0.7536175  -1.0652348  -0.3495668   0.46527943 -0.8619703\n",
            "  0.19397739 -0.15483662 -0.69352365  2.3104594   0.8417036   0.6903964\n",
            "  0.46132287  0.66172427  3.538146   -1.5660497  -0.8713355   0.48834962\n",
            " -0.06055452  0.43200922  0.97029334 -0.01261954  0.49885446  0.4563328\n",
            "  1.696871   -1.1208875  -0.2023353   1.460215   -0.6639722  -0.01692978\n",
            " -0.3060529  -1.0343393  -0.48720586 -0.52098334 -0.05499018 -0.27112678\n",
            "  0.9855982  -1.2310082  -0.57457596  0.44709435 -0.97230387  1.3916724\n",
            " -0.62295705  0.3843587  -0.7078501  -1.4388493 ]\n",
            "\n",
            "########## Ground truth: y_test[10] ##########\n",
            "shape=()\n",
            "value=4\n",
            "\n",
            "########## Prediction : y_pred ##########\n",
            "type=<class 'numpy.ndarray'>\n",
            "dtype]float32\n",
            "shape=(1, 10)\n",
            "value=[[0.09242462 0.10224695 0.08438495 0.09641978 0.12099967 0.09716547\n",
            "  0.11897574 0.08568122 0.10855259 0.09314899]]\n",
            "np.argmax(y_pred)=4\n"
          ]
        }
      ]
    },
    {
      "cell_type": "code",
      "source": [
        ""
      ],
      "metadata": {
        "id": "iJEfytRVsxdq"
      },
      "execution_count": null,
      "outputs": []
    }
  ]
}